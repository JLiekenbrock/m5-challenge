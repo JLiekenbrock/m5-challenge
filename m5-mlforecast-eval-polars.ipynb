{
 "cells": [
  {
   "cell_type": "markdown",
   "id": "fe8906be",
   "metadata": {
    "papermill": {
     "duration": 0.005587,
     "end_time": "2024-12-06T20:04:15.573071",
     "exception": false,
     "start_time": "2024-12-06T20:04:15.567484",
     "status": "completed"
    },
    "tags": []
   },
   "source": [
    "## Libraries"
   ]
  },
  {
   "cell_type": "code",
   "execution_count": 1,
   "id": "4fe43556",
   "metadata": {
    "execution": {
     "iopub.execute_input": "2024-12-06T20:04:15.584840Z",
     "iopub.status.busy": "2024-12-06T20:04:15.584383Z",
     "iopub.status.idle": "2024-12-06T20:04:27.847799Z",
     "shell.execute_reply": "2024-12-06T20:04:27.846407Z"
    },
    "papermill": {
     "duration": 12.272093,
     "end_time": "2024-12-06T20:04:27.850183",
     "exception": false,
     "start_time": "2024-12-06T20:04:15.578090",
     "status": "completed"
    },
    "tags": []
   },
   "outputs": [
    {
     "name": "stdout",
     "output_type": "stream",
     "text": [
      "Note: you may need to restart the kernel to use updated packages.\n"
     ]
    }
   ],
   "source": [
    "%pip install -qqq mlforecast"
   ]
  },
  {
   "cell_type": "code",
   "execution_count": 2,
   "id": "6934a123",
   "metadata": {
    "_cell_guid": "b1076dfc-b9ad-4769-8c92-a6c4dae69d19",
    "_uuid": "8f2839f25d086af736a60e9eeb907d3b93b6e0e5",
    "execution": {
     "iopub.execute_input": "2024-12-06T20:04:27.863731Z",
     "iopub.status.busy": "2024-12-06T20:04:27.863315Z",
     "iopub.status.idle": "2024-12-06T20:04:32.719066Z",
     "shell.execute_reply": "2024-12-06T20:04:32.718060Z"
    },
    "papermill": {
     "duration": 4.865822,
     "end_time": "2024-12-06T20:04:32.721355",
     "exception": false,
     "start_time": "2024-12-06T20:04:27.855533",
     "status": "completed"
    },
    "tags": []
   },
   "outputs": [],
   "source": [
    "from pathlib import Path\n",
    "\n",
    "import lightgbm as lgb\n",
    "import mlforecast\n",
    "import numpy as np\n",
    "import polars as pl\n",
    "from mlforecast import MLForecast\n",
    "from mlforecast.lag_transforms import ExpandingMean, RollingMean, SeasonalRollingMean"
   ]
  },
  {
   "cell_type": "code",
   "execution_count": 3,
   "id": "77c8f740",
   "metadata": {
    "execution": {
     "iopub.execute_input": "2024-12-06T20:04:32.733493Z",
     "iopub.status.busy": "2024-12-06T20:04:32.732914Z",
     "iopub.status.idle": "2024-12-06T20:04:32.740523Z",
     "shell.execute_reply": "2024-12-06T20:04:32.739509Z"
    },
    "papermill": {
     "duration": 0.0158,
     "end_time": "2024-12-06T20:04:32.742398",
     "exception": false,
     "start_time": "2024-12-06T20:04:32.726598",
     "status": "completed"
    },
    "tags": []
   },
   "outputs": [
    {
     "data": {
      "text/plain": [
       "'1.0.0'"
      ]
     },
     "execution_count": 3,
     "metadata": {},
     "output_type": "execute_result"
    }
   ],
   "source": [
    "mlforecast.__version__"
   ]
  },
  {
   "cell_type": "code",
   "execution_count": 4,
   "id": "bb4eb63f",
   "metadata": {
    "execution": {
     "iopub.execute_input": "2024-12-06T20:04:32.754861Z",
     "iopub.status.busy": "2024-12-06T20:04:32.754101Z",
     "iopub.status.idle": "2024-12-06T20:04:32.760271Z",
     "shell.execute_reply": "2024-12-06T20:04:32.759164Z"
    },
    "papermill": {
     "duration": 0.014607,
     "end_time": "2024-12-06T20:04:32.762294",
     "exception": false,
     "start_time": "2024-12-06T20:04:32.747687",
     "status": "completed"
    },
    "tags": []
   },
   "outputs": [],
   "source": [
    "pl.enable_string_cache()"
   ]
  },
  {
   "cell_type": "markdown",
   "id": "422da9d8",
   "metadata": {
    "papermill": {
     "duration": 0.005026,
     "end_time": "2024-12-06T20:04:32.772680",
     "exception": false,
     "start_time": "2024-12-06T20:04:32.767654",
     "status": "completed"
    },
    "tags": []
   },
   "source": [
    "## Data setup"
   ]
  },
  {
   "cell_type": "code",
   "execution_count": 5,
   "id": "13707c27",
   "metadata": {
    "execution": {
     "iopub.execute_input": "2024-12-06T20:04:32.784424Z",
     "iopub.status.busy": "2024-12-06T20:04:32.784085Z",
     "iopub.status.idle": "2024-12-06T20:04:32.788529Z",
     "shell.execute_reply": "2024-12-06T20:04:32.787601Z"
    },
    "papermill": {
     "duration": 0.012654,
     "end_time": "2024-12-06T20:04:32.790439",
     "exception": false,
     "start_time": "2024-12-06T20:04:32.777785",
     "status": "completed"
    },
    "tags": []
   },
   "outputs": [],
   "source": [
    "input_path = Path('m5-forecasting-accuracy/')"
   ]
  },
  {
   "cell_type": "markdown",
   "id": "6b536074",
   "metadata": {
    "papermill": {
     "duration": 0.004953,
     "end_time": "2024-12-06T20:04:32.800556",
     "exception": false,
     "start_time": "2024-12-06T20:04:32.795603",
     "status": "completed"
    },
    "tags": []
   },
   "source": [
    "### Calendar"
   ]
  },
  {
   "cell_type": "code",
   "execution_count": 6,
   "id": "f00821f1",
   "metadata": {
    "execution": {
     "iopub.execute_input": "2024-12-06T20:04:32.812351Z",
     "iopub.status.busy": "2024-12-06T20:04:32.811996Z",
     "iopub.status.idle": "2024-12-06T20:04:32.966739Z",
     "shell.execute_reply": "2024-12-06T20:04:32.965680Z"
    },
    "papermill": {
     "duration": 0.163596,
     "end_time": "2024-12-06T20:04:32.969205",
     "exception": false,
     "start_time": "2024-12-06T20:04:32.805609",
     "status": "completed"
    },
    "tags": []
   },
   "outputs": [],
   "source": [
    "cal_dtypes = {\n",
    "    'date': pl.Datetime,\n",
    "    'd': pl.Categorical,\n",
    "    'wm_yr_wk': pl.Int32,\n",
    "    'event_name_1': pl.Categorical,\n",
    "    'event_type_1': pl.Categorical,\n",
    "    'event_name_2': pl.Categorical,\n",
    "    'event_type_2': pl.Categorical,\n",
    "    'snap_CA': pl.Int32,\n",
    "    'snap_TX': pl.Int32,\n",
    "    'snap_WI': pl.Int32,\n",
    "}\n",
    "cal = pl.read_csv(input_path / 'calendar.csv', schema_overrides=cal_dtypes, columns=list(cal_dtypes.keys()))\n",
    "event_cols = [k for k in cal_dtypes if k.startswith('event')]\n",
    "cal = cal.with_columns(pl.col(event_cols).fill_null('nan'))"
   ]
  },
  {
   "cell_type": "markdown",
   "id": "30e219a5",
   "metadata": {
    "papermill": {
     "duration": 0.005214,
     "end_time": "2024-12-06T20:04:32.979965",
     "exception": false,
     "start_time": "2024-12-06T20:04:32.974751",
     "status": "completed"
    },
    "tags": []
   },
   "source": [
    "### Prices"
   ]
  },
  {
   "cell_type": "code",
   "execution_count": 7,
   "id": "6539181a",
   "metadata": {
    "execution": {
     "iopub.execute_input": "2024-12-06T20:04:32.992029Z",
     "iopub.status.busy": "2024-12-06T20:04:32.991649Z",
     "iopub.status.idle": "2024-12-06T20:04:35.972081Z",
     "shell.execute_reply": "2024-12-06T20:04:35.971000Z"
    },
    "papermill": {
     "duration": 2.989409,
     "end_time": "2024-12-06T20:04:35.974583",
     "exception": false,
     "start_time": "2024-12-06T20:04:32.985174",
     "status": "completed"
    },
    "tags": []
   },
   "outputs": [],
   "source": [
    "prices_dtypes = {\n",
    "    'store_id': pl.Categorical,\n",
    "    'item_id': pl.Categorical,\n",
    "    'wm_yr_wk': pl.Int32,\n",
    "    'sell_price': pl.Float32,\n",
    "}\n",
    "prices = pl.read_csv(input_path / 'sell_prices.csv', schema_overrides=prices_dtypes)"
   ]
  },
  {
   "cell_type": "markdown",
   "id": "c17d3ee9",
   "metadata": {
    "papermill": {
     "duration": 0.00495,
     "end_time": "2024-12-06T20:04:35.984899",
     "exception": false,
     "start_time": "2024-12-06T20:04:35.979949",
     "status": "completed"
    },
    "tags": []
   },
   "source": [
    "### Sales"
   ]
  },
  {
   "cell_type": "code",
   "execution_count": 8,
   "id": "11044b27",
   "metadata": {
    "execution": {
     "iopub.execute_input": "2024-12-06T20:04:35.997325Z",
     "iopub.status.busy": "2024-12-06T20:04:35.996542Z",
     "iopub.status.idle": "2024-12-06T20:04:38.032852Z",
     "shell.execute_reply": "2024-12-06T20:04:38.031742Z"
    },
    "papermill": {
     "duration": 2.045142,
     "end_time": "2024-12-06T20:04:38.035238",
     "exception": false,
     "start_time": "2024-12-06T20:04:35.990096",
     "status": "completed"
    },
    "tags": []
   },
   "outputs": [],
   "source": [
    "sales_dtypes = {\n",
    "    'id': pl.Categorical,\n",
    "    'item_id': pl.Categorical,\n",
    "    'dept_id': pl.Categorical,\n",
    "    'cat_id': pl.Categorical,\n",
    "    'store_id': pl.Categorical,\n",
    "    'state_id': pl.Categorical,\n",
    "    **{f'd_{i}': pl.Float32 for i in range(1942)}\n",
    "}\n",
    "sales = pl.read_csv(input_path / 'sales_train_evaluation.csv', schema_overrides=sales_dtypes)"
   ]
  },
  {
   "cell_type": "code",
   "execution_count": 28,
   "id": "2a79b848",
   "metadata": {},
   "outputs": [],
   "source": [
    "sales_val = pl.read_csv(input_path / 'sales_train_validation.csv', schema_overrides=sales_dtypes)"
   ]
  },
  {
   "cell_type": "code",
   "execution_count": 9,
   "id": "b2683588",
   "metadata": {
    "execution": {
     "iopub.execute_input": "2024-12-06T20:04:38.048534Z",
     "iopub.status.busy": "2024-12-06T20:04:38.047732Z",
     "iopub.status.idle": "2024-12-06T20:05:53.207609Z",
     "shell.execute_reply": "2024-12-06T20:05:53.206633Z"
    },
    "papermill": {
     "duration": 75.169194,
     "end_time": "2024-12-06T20:05:53.210119",
     "exception": false,
     "start_time": "2024-12-06T20:04:38.040925",
     "status": "completed"
    },
    "tags": []
   },
   "outputs": [],
   "source": [
    "long = sales.unpivot(\n",
    "    index=['id', 'item_id', 'dept_id', 'cat_id', 'store_id', 'state_id'],\n",
    "    variable_name='d',\n",
    "    value_name='y',\n",
    ")"
   ]
  },
  {
   "cell_type": "code",
   "execution_count": 10,
   "id": "168c27ea",
   "metadata": {
    "execution": {
     "iopub.execute_input": "2024-12-06T20:05:53.222200Z",
     "iopub.status.busy": "2024-12-06T20:05:53.221774Z",
     "iopub.status.idle": "2024-12-06T20:06:30.768039Z",
     "shell.execute_reply": "2024-12-06T20:06:30.765045Z"
    },
    "papermill": {
     "duration": 37.59016,
     "end_time": "2024-12-06T20:06:30.805615",
     "exception": false,
     "start_time": "2024-12-06T20:05:53.215455",
     "status": "completed"
    },
    "tags": []
   },
   "outputs": [
    {
     "name": "stdout",
     "output_type": "stream",
     "text": [
      "59181090\n",
      "12159132\n",
      "CPU times: total: 23.5 s\n",
      "Wall time: 3.18 s\n"
     ]
    }
   ],
   "source": [
    "%%time\n",
    "print(long.shape[0])\n",
    "long = long.with_columns(pl.col('d').cast(pl.Categorical))\n",
    "long = long.join(cal, on=['d'])\n",
    "dates = sorted(long['date'].unique())\n",
    "long = long.sort(['id', 'date'])\n",
    "without_leading_zeros = pl.col('y').gt(0).cast(pl.Int64).cum_max().over('id').cast(pl.Boolean)\n",
    "above_min_date = pl.col('date') >= dates[-400]\n",
    "keep_mask = without_leading_zeros & above_min_date\n",
    "long = long.filter(keep_mask)\n",
    "print(long.shape[0])"
   ]
  },
  {
   "cell_type": "code",
   "execution_count": 40,
   "id": "34964c27",
   "metadata": {
    "execution": {
     "iopub.execute_input": "2024-12-06T20:06:30.865796Z",
     "iopub.status.busy": "2024-12-06T20:06:30.862885Z",
     "iopub.status.idle": "2024-12-06T20:06:37.920933Z",
     "shell.execute_reply": "2024-12-06T20:06:37.916429Z"
    },
    "papermill": {
     "duration": 7.101334,
     "end_time": "2024-12-06T20:06:37.933310",
     "exception": false,
     "start_time": "2024-12-06T20:06:30.831976",
     "status": "completed"
    },
    "tags": []
   },
   "outputs": [
    {
     "name": "stderr",
     "output_type": "stream",
     "text": [
      "C:\\Users\\janli\\AppData\\Local\\Temp\\ipykernel_2600\\2345641519.py:12: DeprecationWarning: `is_in` with a collection of the same datatype is ambiguous and deprecated.\n",
      "Please use `implode` to return to previous behavior.\n",
      "\n",
      "See https://github.com/pola-rs/polars/issues/22149 for more information.\n",
      "  future_prices = prices.filter(pl.col('wm_yr_wk').is_in(future_cal['wm_yr_wk'].unique()))\n"
     ]
    }
   ],
   "source": [
    "# Get max date from long (original train + prices merged)\n",
    "last_date_all = long['date'].max()\n",
    "valid_horizon = 28\n",
    "valid_start_date = last_date_all - pl.duration(days=valid_horizon)\n",
    "\n",
    "# Split long into train and validation (just like time-based CV)\n",
    "train_long = long.filter(pl.col(\"date\") < valid_start_date)\n",
    "valid_long = long.filter(pl.col(\"date\") >= valid_start_date)\n",
    "\n",
    "# Build calendar + prices (X_df) for the validation period only\n",
    "future_cal = cal.filter((pl.col('date') >= valid_start_date) & (pl.col('date') <= last_date_all))\n",
    "future_prices = prices.filter(pl.col('wm_yr_wk').is_in(future_cal['wm_yr_wk'].unique()))\n",
    "\n",
    "# Create IDs to match training IDs\n",
    "future_prices = future_prices.with_columns(\n",
    "    id = (pl.col('item_id') + '_' + pl.col('store_id') + '_evaluation')\n",
    ")\n",
    "\n",
    "X_df = future_prices.join(future_cal, on='wm_yr_wk')\n",
    "X_df = X_df.drop(['store_id', 'item_id', 'wm_yr_wk', 'd'])\n",
    "X_df = X_df.with_columns(pl.col('id').cast(pl.Categorical))\n"
   ]
  },
  {
   "cell_type": "markdown",
   "id": "375965fc",
   "metadata": {
    "papermill": {
     "duration": 0.029302,
     "end_time": "2024-12-06T20:06:37.990641",
     "exception": false,
     "start_time": "2024-12-06T20:06:37.961339",
     "status": "completed"
    },
    "tags": []
   },
   "source": [
    "## Training"
   ]
  },
  {
   "cell_type": "markdown",
   "id": "b2483cd0",
   "metadata": {
    "papermill": {
     "duration": 0.028604,
     "end_time": "2024-12-06T20:06:38.050060",
     "exception": false,
     "start_time": "2024-12-06T20:06:38.021456",
     "status": "completed"
    },
    "tags": []
   },
   "source": [
    "Since at the time of making this LightGBM can't handle polars dataframes with categorical features we'll build the features as numpy arrays as described [here](https://nixtla.github.io/mlforecast/docs/how-to-guides/training_with_numpy.html#preprocess-method)."
   ]
  },
  {
   "cell_type": "code",
   "execution_count": 12,
   "id": "8b83b7da",
   "metadata": {
    "execution": {
     "iopub.execute_input": "2024-12-06T20:06:38.117309Z",
     "iopub.status.busy": "2024-12-06T20:06:38.114925Z",
     "iopub.status.idle": "2024-12-06T20:06:38.147758Z",
     "shell.execute_reply": "2024-12-06T20:06:38.143678Z"
    },
    "papermill": {
     "duration": 0.071891,
     "end_time": "2024-12-06T20:06:38.152158",
     "exception": false,
     "start_time": "2024-12-06T20:06:38.080267",
     "status": "completed"
    },
    "tags": []
   },
   "outputs": [],
   "source": [
    "fcst = MLForecast(\n",
    "    models=[],\n",
    "    freq='1d',\n",
    "    lags=[7 * (i+1) for i in range(8)],\n",
    "    lag_transforms = {\n",
    "        1 :  [ExpandingMean()],\n",
    "        7 :  [RollingMean(7), RollingMean(14), RollingMean(28), SeasonalRollingMean(7, 4)],\n",
    "        14:  [RollingMean(7), RollingMean(14), RollingMean(28), SeasonalRollingMean(7, 4)],\n",
    "        28:  [RollingMean(7), RollingMean(14), RollingMean(28), SeasonalRollingMean(7, 4)],\n",
    "    },\n",
    "    date_features=['year', 'month', 'day', 'weekday', 'quarter', 'week'],    \n",
    "    num_threads=4,\n",
    ")"
   ]
  },
  {
   "cell_type": "code",
   "execution_count": 20,
   "id": "b4fcc5ae",
   "metadata": {},
   "outputs": [
    {
     "data": {
      "text/html": [
       "<div><style>\n",
       ".dataframe > thead > tr,\n",
       ".dataframe > tbody > tr {\n",
       "  text-align: right;\n",
       "  white-space: pre-wrap;\n",
       "}\n",
       "</style>\n",
       "<small>shape: (31, 2)</small><table border=\"1\" class=\"dataframe\"><thead><tr><th>event_name_1</th><th>count</th></tr><tr><td>cat</td><td>u32</td></tr></thead><tbody><tr><td>&quot;Purim End&quot;</td><td>30490</td></tr><tr><td>&quot;EidAlAdha&quot;</td><td>30404</td></tr><tr><td>&quot;MartinLutherKingDay&quot;</td><td>30477</td></tr><tr><td>&quot;StPatricksDay&quot;</td><td>30490</td></tr><tr><td>&quot;NBAFinalsStart&quot;</td><td>30303</td></tr><tr><td>&hellip;</td><td>&hellip;</td></tr><tr><td>&quot;LaborDay&quot;</td><td>30392</td></tr><tr><td>&quot;Mother&#x27;s day&quot;</td><td>60574</td></tr><tr><td>&quot;OrthodoxChristmas&quot;</td><td>30474</td></tr><tr><td>&quot;nan&quot;</td><td>11186101</td></tr><tr><td>&quot;OrthodoxEaster&quot;</td><td>30490</td></tr></tbody></table></div>"
      ],
      "text/plain": [
       "shape: (31, 2)\n",
       "┌─────────────────────┬──────────┐\n",
       "│ event_name_1        ┆ count    │\n",
       "│ ---                 ┆ ---      │\n",
       "│ cat                 ┆ u32      │\n",
       "╞═════════════════════╪══════════╡\n",
       "│ Purim End           ┆ 30490    │\n",
       "│ EidAlAdha           ┆ 30404    │\n",
       "│ MartinLutherKingDay ┆ 30477    │\n",
       "│ StPatricksDay       ┆ 30490    │\n",
       "│ NBAFinalsStart      ┆ 30303    │\n",
       "│ …                   ┆ …        │\n",
       "│ LaborDay            ┆ 30392    │\n",
       "│ Mother's day        ┆ 60574    │\n",
       "│ OrthodoxChristmas   ┆ 30474    │\n",
       "│ nan                 ┆ 11186101 │\n",
       "│ OrthodoxEaster      ┆ 30490    │\n",
       "└─────────────────────┴──────────┘"
      ]
     },
     "execution_count": 20,
     "metadata": {},
     "output_type": "execute_result"
    }
   ],
   "source": [
    "long[\"event_name_1\"].value_counts()"
   ]
  },
  {
   "cell_type": "code",
   "execution_count": 41,
   "id": "432f0064",
   "metadata": {
    "execution": {
     "iopub.execute_input": "2024-12-06T20:06:38.223125Z",
     "iopub.status.busy": "2024-12-06T20:06:38.219922Z",
     "iopub.status.idle": "2024-12-06T20:06:50.939566Z",
     "shell.execute_reply": "2024-12-06T20:06:50.938127Z"
    },
    "papermill": {
     "duration": 12.752824,
     "end_time": "2024-12-06T20:06:50.942085",
     "exception": false,
     "start_time": "2024-12-06T20:06:38.189261",
     "status": "completed"
    },
    "tags": []
   },
   "outputs": [
    {
     "name": "stdout",
     "output_type": "stream",
     "text": [
      "CPU times: total: 18.6 s\n",
      "Wall time: 1.85 s\n"
     ]
    }
   ],
   "source": [
    "%%time\n",
    "categoricals = ['id', 'item_id', 'dept_id', 'cat_id', 'store_id', 'state_id']\n",
    "X, y = fcst.preprocess(\n",
    "    train_long,\n",
    "    id_col='id',\n",
    "    time_col='date',\n",
    "    target_col='y',\n",
    "    static_features=categoricals,\n",
    "    return_X_y=True,    \n",
    "    as_numpy=True,\n",
    ")"
   ]
  },
  {
   "cell_type": "markdown",
   "id": "95969200",
   "metadata": {
    "papermill": {
     "duration": 0.005723,
     "end_time": "2024-12-06T20:06:50.953679",
     "exception": false,
     "start_time": "2024-12-06T20:06:50.947956",
     "status": "completed"
    },
    "tags": []
   },
   "source": [
    "We'll manually train the model here, which allows us to specify which features should be treated as categorical."
   ]
  },
  {
   "cell_type": "code",
   "execution_count": 42,
   "id": "719fb9cd",
   "metadata": {
    "execution": {
     "iopub.execute_input": "2024-12-06T20:06:50.966541Z",
     "iopub.status.busy": "2024-12-06T20:06:50.965646Z",
     "iopub.status.idle": "2024-12-06T20:08:26.402574Z",
     "shell.execute_reply": "2024-12-06T20:08:26.401560Z"
    },
    "papermill": {
     "duration": 95.451407,
     "end_time": "2024-12-06T20:08:26.410519",
     "exception": false,
     "start_time": "2024-12-06T20:06:50.959112",
     "status": "completed"
    },
    "tags": []
   },
   "outputs": [
    {
     "name": "stdout",
     "output_type": "stream",
     "text": [
      "CPU times: total: 3min 55s\n",
      "Wall time: 17.2 s\n"
     ]
    },
    {
     "data": {
      "text/html": [
       "<style>#sk-container-id-2 {\n",
       "  /* Definition of color scheme common for light and dark mode */\n",
       "  --sklearn-color-text: black;\n",
       "  --sklearn-color-line: gray;\n",
       "  /* Definition of color scheme for unfitted estimators */\n",
       "  --sklearn-color-unfitted-level-0: #fff5e6;\n",
       "  --sklearn-color-unfitted-level-1: #f6e4d2;\n",
       "  --sklearn-color-unfitted-level-2: #ffe0b3;\n",
       "  --sklearn-color-unfitted-level-3: chocolate;\n",
       "  /* Definition of color scheme for fitted estimators */\n",
       "  --sklearn-color-fitted-level-0: #f0f8ff;\n",
       "  --sklearn-color-fitted-level-1: #d4ebff;\n",
       "  --sklearn-color-fitted-level-2: #b3dbfd;\n",
       "  --sklearn-color-fitted-level-3: cornflowerblue;\n",
       "\n",
       "  /* Specific color for light theme */\n",
       "  --sklearn-color-text-on-default-background: var(--sg-text-color, var(--theme-code-foreground, var(--jp-content-font-color1, black)));\n",
       "  --sklearn-color-background: var(--sg-background-color, var(--theme-background, var(--jp-layout-color0, white)));\n",
       "  --sklearn-color-border-box: var(--sg-text-color, var(--theme-code-foreground, var(--jp-content-font-color1, black)));\n",
       "  --sklearn-color-icon: #696969;\n",
       "\n",
       "  @media (prefers-color-scheme: dark) {\n",
       "    /* Redefinition of color scheme for dark theme */\n",
       "    --sklearn-color-text-on-default-background: var(--sg-text-color, var(--theme-code-foreground, var(--jp-content-font-color1, white)));\n",
       "    --sklearn-color-background: var(--sg-background-color, var(--theme-background, var(--jp-layout-color0, #111)));\n",
       "    --sklearn-color-border-box: var(--sg-text-color, var(--theme-code-foreground, var(--jp-content-font-color1, white)));\n",
       "    --sklearn-color-icon: #878787;\n",
       "  }\n",
       "}\n",
       "\n",
       "#sk-container-id-2 {\n",
       "  color: var(--sklearn-color-text);\n",
       "}\n",
       "\n",
       "#sk-container-id-2 pre {\n",
       "  padding: 0;\n",
       "}\n",
       "\n",
       "#sk-container-id-2 input.sk-hidden--visually {\n",
       "  border: 0;\n",
       "  clip: rect(1px 1px 1px 1px);\n",
       "  clip: rect(1px, 1px, 1px, 1px);\n",
       "  height: 1px;\n",
       "  margin: -1px;\n",
       "  overflow: hidden;\n",
       "  padding: 0;\n",
       "  position: absolute;\n",
       "  width: 1px;\n",
       "}\n",
       "\n",
       "#sk-container-id-2 div.sk-dashed-wrapped {\n",
       "  border: 1px dashed var(--sklearn-color-line);\n",
       "  margin: 0 0.4em 0.5em 0.4em;\n",
       "  box-sizing: border-box;\n",
       "  padding-bottom: 0.4em;\n",
       "  background-color: var(--sklearn-color-background);\n",
       "}\n",
       "\n",
       "#sk-container-id-2 div.sk-container {\n",
       "  /* jupyter's `normalize.less` sets `[hidden] { display: none; }`\n",
       "     but bootstrap.min.css set `[hidden] { display: none !important; }`\n",
       "     so we also need the `!important` here to be able to override the\n",
       "     default hidden behavior on the sphinx rendered scikit-learn.org.\n",
       "     See: https://github.com/scikit-learn/scikit-learn/issues/21755 */\n",
       "  display: inline-block !important;\n",
       "  position: relative;\n",
       "}\n",
       "\n",
       "#sk-container-id-2 div.sk-text-repr-fallback {\n",
       "  display: none;\n",
       "}\n",
       "\n",
       "div.sk-parallel-item,\n",
       "div.sk-serial,\n",
       "div.sk-item {\n",
       "  /* draw centered vertical line to link estimators */\n",
       "  background-image: linear-gradient(var(--sklearn-color-text-on-default-background), var(--sklearn-color-text-on-default-background));\n",
       "  background-size: 2px 100%;\n",
       "  background-repeat: no-repeat;\n",
       "  background-position: center center;\n",
       "}\n",
       "\n",
       "/* Parallel-specific style estimator block */\n",
       "\n",
       "#sk-container-id-2 div.sk-parallel-item::after {\n",
       "  content: \"\";\n",
       "  width: 100%;\n",
       "  border-bottom: 2px solid var(--sklearn-color-text-on-default-background);\n",
       "  flex-grow: 1;\n",
       "}\n",
       "\n",
       "#sk-container-id-2 div.sk-parallel {\n",
       "  display: flex;\n",
       "  align-items: stretch;\n",
       "  justify-content: center;\n",
       "  background-color: var(--sklearn-color-background);\n",
       "  position: relative;\n",
       "}\n",
       "\n",
       "#sk-container-id-2 div.sk-parallel-item {\n",
       "  display: flex;\n",
       "  flex-direction: column;\n",
       "}\n",
       "\n",
       "#sk-container-id-2 div.sk-parallel-item:first-child::after {\n",
       "  align-self: flex-end;\n",
       "  width: 50%;\n",
       "}\n",
       "\n",
       "#sk-container-id-2 div.sk-parallel-item:last-child::after {\n",
       "  align-self: flex-start;\n",
       "  width: 50%;\n",
       "}\n",
       "\n",
       "#sk-container-id-2 div.sk-parallel-item:only-child::after {\n",
       "  width: 0;\n",
       "}\n",
       "\n",
       "/* Serial-specific style estimator block */\n",
       "\n",
       "#sk-container-id-2 div.sk-serial {\n",
       "  display: flex;\n",
       "  flex-direction: column;\n",
       "  align-items: center;\n",
       "  background-color: var(--sklearn-color-background);\n",
       "  padding-right: 1em;\n",
       "  padding-left: 1em;\n",
       "}\n",
       "\n",
       "\n",
       "/* Toggleable style: style used for estimator/Pipeline/ColumnTransformer box that is\n",
       "clickable and can be expanded/collapsed.\n",
       "- Pipeline and ColumnTransformer use this feature and define the default style\n",
       "- Estimators will overwrite some part of the style using the `sk-estimator` class\n",
       "*/\n",
       "\n",
       "/* Pipeline and ColumnTransformer style (default) */\n",
       "\n",
       "#sk-container-id-2 div.sk-toggleable {\n",
       "  /* Default theme specific background. It is overwritten whether we have a\n",
       "  specific estimator or a Pipeline/ColumnTransformer */\n",
       "  background-color: var(--sklearn-color-background);\n",
       "}\n",
       "\n",
       "/* Toggleable label */\n",
       "#sk-container-id-2 label.sk-toggleable__label {\n",
       "  cursor: pointer;\n",
       "  display: block;\n",
       "  width: 100%;\n",
       "  margin-bottom: 0;\n",
       "  padding: 0.5em;\n",
       "  box-sizing: border-box;\n",
       "  text-align: center;\n",
       "}\n",
       "\n",
       "#sk-container-id-2 label.sk-toggleable__label-arrow:before {\n",
       "  /* Arrow on the left of the label */\n",
       "  content: \"▸\";\n",
       "  float: left;\n",
       "  margin-right: 0.25em;\n",
       "  color: var(--sklearn-color-icon);\n",
       "}\n",
       "\n",
       "#sk-container-id-2 label.sk-toggleable__label-arrow:hover:before {\n",
       "  color: var(--sklearn-color-text);\n",
       "}\n",
       "\n",
       "/* Toggleable content - dropdown */\n",
       "\n",
       "#sk-container-id-2 div.sk-toggleable__content {\n",
       "  max-height: 0;\n",
       "  max-width: 0;\n",
       "  overflow: hidden;\n",
       "  text-align: left;\n",
       "  /* unfitted */\n",
       "  background-color: var(--sklearn-color-unfitted-level-0);\n",
       "}\n",
       "\n",
       "#sk-container-id-2 div.sk-toggleable__content.fitted {\n",
       "  /* fitted */\n",
       "  background-color: var(--sklearn-color-fitted-level-0);\n",
       "}\n",
       "\n",
       "#sk-container-id-2 div.sk-toggleable__content pre {\n",
       "  margin: 0.2em;\n",
       "  border-radius: 0.25em;\n",
       "  color: var(--sklearn-color-text);\n",
       "  /* unfitted */\n",
       "  background-color: var(--sklearn-color-unfitted-level-0);\n",
       "}\n",
       "\n",
       "#sk-container-id-2 div.sk-toggleable__content.fitted pre {\n",
       "  /* unfitted */\n",
       "  background-color: var(--sklearn-color-fitted-level-0);\n",
       "}\n",
       "\n",
       "#sk-container-id-2 input.sk-toggleable__control:checked~div.sk-toggleable__content {\n",
       "  /* Expand drop-down */\n",
       "  max-height: 200px;\n",
       "  max-width: 100%;\n",
       "  overflow: auto;\n",
       "}\n",
       "\n",
       "#sk-container-id-2 input.sk-toggleable__control:checked~label.sk-toggleable__label-arrow:before {\n",
       "  content: \"▾\";\n",
       "}\n",
       "\n",
       "/* Pipeline/ColumnTransformer-specific style */\n",
       "\n",
       "#sk-container-id-2 div.sk-label input.sk-toggleable__control:checked~label.sk-toggleable__label {\n",
       "  color: var(--sklearn-color-text);\n",
       "  background-color: var(--sklearn-color-unfitted-level-2);\n",
       "}\n",
       "\n",
       "#sk-container-id-2 div.sk-label.fitted input.sk-toggleable__control:checked~label.sk-toggleable__label {\n",
       "  background-color: var(--sklearn-color-fitted-level-2);\n",
       "}\n",
       "\n",
       "/* Estimator-specific style */\n",
       "\n",
       "/* Colorize estimator box */\n",
       "#sk-container-id-2 div.sk-estimator input.sk-toggleable__control:checked~label.sk-toggleable__label {\n",
       "  /* unfitted */\n",
       "  background-color: var(--sklearn-color-unfitted-level-2);\n",
       "}\n",
       "\n",
       "#sk-container-id-2 div.sk-estimator.fitted input.sk-toggleable__control:checked~label.sk-toggleable__label {\n",
       "  /* fitted */\n",
       "  background-color: var(--sklearn-color-fitted-level-2);\n",
       "}\n",
       "\n",
       "#sk-container-id-2 div.sk-label label.sk-toggleable__label,\n",
       "#sk-container-id-2 div.sk-label label {\n",
       "  /* The background is the default theme color */\n",
       "  color: var(--sklearn-color-text-on-default-background);\n",
       "}\n",
       "\n",
       "/* On hover, darken the color of the background */\n",
       "#sk-container-id-2 div.sk-label:hover label.sk-toggleable__label {\n",
       "  color: var(--sklearn-color-text);\n",
       "  background-color: var(--sklearn-color-unfitted-level-2);\n",
       "}\n",
       "\n",
       "/* Label box, darken color on hover, fitted */\n",
       "#sk-container-id-2 div.sk-label.fitted:hover label.sk-toggleable__label.fitted {\n",
       "  color: var(--sklearn-color-text);\n",
       "  background-color: var(--sklearn-color-fitted-level-2);\n",
       "}\n",
       "\n",
       "/* Estimator label */\n",
       "\n",
       "#sk-container-id-2 div.sk-label label {\n",
       "  font-family: monospace;\n",
       "  font-weight: bold;\n",
       "  display: inline-block;\n",
       "  line-height: 1.2em;\n",
       "}\n",
       "\n",
       "#sk-container-id-2 div.sk-label-container {\n",
       "  text-align: center;\n",
       "}\n",
       "\n",
       "/* Estimator-specific */\n",
       "#sk-container-id-2 div.sk-estimator {\n",
       "  font-family: monospace;\n",
       "  border: 1px dotted var(--sklearn-color-border-box);\n",
       "  border-radius: 0.25em;\n",
       "  box-sizing: border-box;\n",
       "  margin-bottom: 0.5em;\n",
       "  /* unfitted */\n",
       "  background-color: var(--sklearn-color-unfitted-level-0);\n",
       "}\n",
       "\n",
       "#sk-container-id-2 div.sk-estimator.fitted {\n",
       "  /* fitted */\n",
       "  background-color: var(--sklearn-color-fitted-level-0);\n",
       "}\n",
       "\n",
       "/* on hover */\n",
       "#sk-container-id-2 div.sk-estimator:hover {\n",
       "  /* unfitted */\n",
       "  background-color: var(--sklearn-color-unfitted-level-2);\n",
       "}\n",
       "\n",
       "#sk-container-id-2 div.sk-estimator.fitted:hover {\n",
       "  /* fitted */\n",
       "  background-color: var(--sklearn-color-fitted-level-2);\n",
       "}\n",
       "\n",
       "/* Specification for estimator info (e.g. \"i\" and \"?\") */\n",
       "\n",
       "/* Common style for \"i\" and \"?\" */\n",
       "\n",
       ".sk-estimator-doc-link,\n",
       "a:link.sk-estimator-doc-link,\n",
       "a:visited.sk-estimator-doc-link {\n",
       "  float: right;\n",
       "  font-size: smaller;\n",
       "  line-height: 1em;\n",
       "  font-family: monospace;\n",
       "  background-color: var(--sklearn-color-background);\n",
       "  border-radius: 1em;\n",
       "  height: 1em;\n",
       "  width: 1em;\n",
       "  text-decoration: none !important;\n",
       "  margin-left: 1ex;\n",
       "  /* unfitted */\n",
       "  border: var(--sklearn-color-unfitted-level-1) 1pt solid;\n",
       "  color: var(--sklearn-color-unfitted-level-1);\n",
       "}\n",
       "\n",
       ".sk-estimator-doc-link.fitted,\n",
       "a:link.sk-estimator-doc-link.fitted,\n",
       "a:visited.sk-estimator-doc-link.fitted {\n",
       "  /* fitted */\n",
       "  border: var(--sklearn-color-fitted-level-1) 1pt solid;\n",
       "  color: var(--sklearn-color-fitted-level-1);\n",
       "}\n",
       "\n",
       "/* On hover */\n",
       "div.sk-estimator:hover .sk-estimator-doc-link:hover,\n",
       ".sk-estimator-doc-link:hover,\n",
       "div.sk-label-container:hover .sk-estimator-doc-link:hover,\n",
       ".sk-estimator-doc-link:hover {\n",
       "  /* unfitted */\n",
       "  background-color: var(--sklearn-color-unfitted-level-3);\n",
       "  color: var(--sklearn-color-background);\n",
       "  text-decoration: none;\n",
       "}\n",
       "\n",
       "div.sk-estimator.fitted:hover .sk-estimator-doc-link.fitted:hover,\n",
       ".sk-estimator-doc-link.fitted:hover,\n",
       "div.sk-label-container:hover .sk-estimator-doc-link.fitted:hover,\n",
       ".sk-estimator-doc-link.fitted:hover {\n",
       "  /* fitted */\n",
       "  background-color: var(--sklearn-color-fitted-level-3);\n",
       "  color: var(--sklearn-color-background);\n",
       "  text-decoration: none;\n",
       "}\n",
       "\n",
       "/* Span, style for the box shown on hovering the info icon */\n",
       ".sk-estimator-doc-link span {\n",
       "  display: none;\n",
       "  z-index: 9999;\n",
       "  position: relative;\n",
       "  font-weight: normal;\n",
       "  right: .2ex;\n",
       "  padding: .5ex;\n",
       "  margin: .5ex;\n",
       "  width: min-content;\n",
       "  min-width: 20ex;\n",
       "  max-width: 50ex;\n",
       "  color: var(--sklearn-color-text);\n",
       "  box-shadow: 2pt 2pt 4pt #999;\n",
       "  /* unfitted */\n",
       "  background: var(--sklearn-color-unfitted-level-0);\n",
       "  border: .5pt solid var(--sklearn-color-unfitted-level-3);\n",
       "}\n",
       "\n",
       ".sk-estimator-doc-link.fitted span {\n",
       "  /* fitted */\n",
       "  background: var(--sklearn-color-fitted-level-0);\n",
       "  border: var(--sklearn-color-fitted-level-3);\n",
       "}\n",
       "\n",
       ".sk-estimator-doc-link:hover span {\n",
       "  display: block;\n",
       "}\n",
       "\n",
       "/* \"?\"-specific style due to the `<a>` HTML tag */\n",
       "\n",
       "#sk-container-id-2 a.estimator_doc_link {\n",
       "  float: right;\n",
       "  font-size: 1rem;\n",
       "  line-height: 1em;\n",
       "  font-family: monospace;\n",
       "  background-color: var(--sklearn-color-background);\n",
       "  border-radius: 1rem;\n",
       "  height: 1rem;\n",
       "  width: 1rem;\n",
       "  text-decoration: none;\n",
       "  /* unfitted */\n",
       "  color: var(--sklearn-color-unfitted-level-1);\n",
       "  border: var(--sklearn-color-unfitted-level-1) 1pt solid;\n",
       "}\n",
       "\n",
       "#sk-container-id-2 a.estimator_doc_link.fitted {\n",
       "  /* fitted */\n",
       "  border: var(--sklearn-color-fitted-level-1) 1pt solid;\n",
       "  color: var(--sklearn-color-fitted-level-1);\n",
       "}\n",
       "\n",
       "/* On hover */\n",
       "#sk-container-id-2 a.estimator_doc_link:hover {\n",
       "  /* unfitted */\n",
       "  background-color: var(--sklearn-color-unfitted-level-3);\n",
       "  color: var(--sklearn-color-background);\n",
       "  text-decoration: none;\n",
       "}\n",
       "\n",
       "#sk-container-id-2 a.estimator_doc_link.fitted:hover {\n",
       "  /* fitted */\n",
       "  background-color: var(--sklearn-color-fitted-level-3);\n",
       "}\n",
       "</style><div id=\"sk-container-id-2\" class=\"sk-top-container\"><div class=\"sk-text-repr-fallback\"><pre>LGBMRegressor(force_col_wise=True, n_estimators=50, num_leaves=256, verbose=-1)</pre><b>In a Jupyter environment, please rerun this cell to show the HTML representation or trust the notebook. <br />On GitHub, the HTML representation is unable to render, please try loading this page with nbviewer.org.</b></div><div class=\"sk-container\" hidden><div class=\"sk-item\"><div class=\"sk-estimator fitted sk-toggleable\"><input class=\"sk-toggleable__control sk-hidden--visually\" id=\"sk-estimator-id-2\" type=\"checkbox\" checked><label for=\"sk-estimator-id-2\" class=\"sk-toggleable__label fitted sk-toggleable__label-arrow fitted\">&nbsp;LGBMRegressor<span class=\"sk-estimator-doc-link fitted\">i<span>Fitted</span></span></label><div class=\"sk-toggleable__content fitted\"><pre>LGBMRegressor(force_col_wise=True, n_estimators=50, num_leaves=256, verbose=-1)</pre></div> </div></div></div></div>"
      ],
      "text/plain": [
       "LGBMRegressor(force_col_wise=True, n_estimators=50, num_leaves=256, verbose=-1)"
      ]
     },
     "execution_count": 42,
     "metadata": {},
     "output_type": "execute_result"
    }
   ],
   "source": [
    "model_params = {\n",
    "    'verbose': -1,\n",
    "    'force_col_wise': True,\n",
    "    'num_leaves': 256,\n",
    "    'n_estimators': 50,\n",
    "}\n",
    "model = lgb.LGBMRegressor(**model_params)\n",
    "%time model.fit(X, y, feature_name=fcst.ts.features_order_, categorical_feature=categoricals)"
   ]
  },
  {
   "cell_type": "markdown",
   "id": "4a1dbd6d",
   "metadata": {
    "papermill": {
     "duration": 0.00526,
     "end_time": "2024-12-06T20:08:26.421291",
     "exception": false,
     "start_time": "2024-12-06T20:08:26.416031",
     "status": "completed"
    },
    "tags": []
   },
   "source": [
    "## Forecasting"
   ]
  },
  {
   "cell_type": "markdown",
   "id": "66c4f76c",
   "metadata": {
    "papermill": {
     "duration": 0.005924,
     "end_time": "2024-12-06T20:08:26.432908",
     "exception": false,
     "start_time": "2024-12-06T20:08:26.426984",
     "status": "completed"
    },
    "tags": []
   },
   "source": [
    "We now override the `models_` attribute to generate predictions, as described [here](https://nixtla.github.io/mlforecast/docs/how-to-guides/custom_training.html#custom-training)."
   ]
  },
  {
   "cell_type": "code",
   "execution_count": 43,
   "id": "e6ae952b",
   "metadata": {
    "execution": {
     "iopub.execute_input": "2024-12-06T20:08:26.446325Z",
     "iopub.status.busy": "2024-12-06T20:08:26.445393Z",
     "iopub.status.idle": "2024-12-06T20:08:32.632117Z",
     "shell.execute_reply": "2024-12-06T20:08:32.630999Z"
    },
    "papermill": {
     "duration": 6.196005,
     "end_time": "2024-12-06T20:08:32.634538",
     "exception": false,
     "start_time": "2024-12-06T20:08:26.438533",
     "status": "completed"
    },
    "tags": []
   },
   "outputs": [
    {
     "name": "stdout",
     "output_type": "stream",
     "text": [
      "CPU times: total: 18.9 s\n",
      "Wall time: 1.49 s\n"
     ]
    }
   ],
   "source": [
    "fcst.models_ = {'LGBMRegressor': model}\n",
    "%time preds = fcst.predict(valid_horizon, X_df=X_df)"
   ]
  },
  {
   "cell_type": "code",
   "execution_count": 56,
   "id": "8dcdeef2",
   "metadata": {},
   "outputs": [
    {
     "data": {
      "text/html": [
       "<div><style>\n",
       ".dataframe > thead > tr,\n",
       ".dataframe > tbody > tr {\n",
       "  text-align: right;\n",
       "  white-space: pre-wrap;\n",
       "}\n",
       "</style>\n",
       "<small>shape: (884_210, 16)</small><table border=\"1\" class=\"dataframe\"><thead><tr><th>id</th><th>item_id</th><th>dept_id</th><th>cat_id</th><th>store_id</th><th>state_id</th><th>y</th><th>date</th><th>event_name_1</th><th>event_type_1</th><th>event_name_2</th><th>event_type_2</th><th>snap_CA</th><th>snap_TX</th><th>snap_WI</th><th>sell_price</th></tr><tr><td>cat</td><td>cat</td><td>cat</td><td>cat</td><td>cat</td><td>cat</td><td>f32</td><td>datetime[μs]</td><td>cat</td><td>cat</td><td>cat</td><td>cat</td><td>i32</td><td>i32</td><td>i32</td><td>f32</td></tr></thead><tbody><tr><td>&quot;HOBBIES_1_001_CA_1_evaluation&quot;</td><td>&quot;HOBBIES_1_001&quot;</td><td>&quot;HOBBIES_1&quot;</td><td>&quot;HOBBIES&quot;</td><td>&quot;CA_1&quot;</td><td>&quot;CA&quot;</td><td>1.0</td><td>2016-04-24 00:00:00</td><td>&quot;nan&quot;</td><td>&quot;nan&quot;</td><td>&quot;nan&quot;</td><td>&quot;nan&quot;</td><td>0</td><td>0</td><td>0</td><td>8.38</td></tr><tr><td>&quot;HOBBIES_1_001_CA_1_evaluation&quot;</td><td>&quot;HOBBIES_1_001&quot;</td><td>&quot;HOBBIES_1&quot;</td><td>&quot;HOBBIES&quot;</td><td>&quot;CA_1&quot;</td><td>&quot;CA&quot;</td><td>0.0</td><td>2016-04-25 00:00:00</td><td>&quot;nan&quot;</td><td>&quot;nan&quot;</td><td>&quot;nan&quot;</td><td>&quot;nan&quot;</td><td>0</td><td>0</td><td>0</td><td>8.38</td></tr><tr><td>&quot;HOBBIES_1_001_CA_1_evaluation&quot;</td><td>&quot;HOBBIES_1_001&quot;</td><td>&quot;HOBBIES_1&quot;</td><td>&quot;HOBBIES&quot;</td><td>&quot;CA_1&quot;</td><td>&quot;CA&quot;</td><td>0.0</td><td>2016-04-26 00:00:00</td><td>&quot;nan&quot;</td><td>&quot;nan&quot;</td><td>&quot;nan&quot;</td><td>&quot;nan&quot;</td><td>0</td><td>0</td><td>0</td><td>8.38</td></tr><tr><td>&quot;HOBBIES_1_001_CA_1_evaluation&quot;</td><td>&quot;HOBBIES_1_001&quot;</td><td>&quot;HOBBIES_1&quot;</td><td>&quot;HOBBIES&quot;</td><td>&quot;CA_1&quot;</td><td>&quot;CA&quot;</td><td>0.0</td><td>2016-04-27 00:00:00</td><td>&quot;nan&quot;</td><td>&quot;nan&quot;</td><td>&quot;nan&quot;</td><td>&quot;nan&quot;</td><td>0</td><td>0</td><td>0</td><td>8.38</td></tr><tr><td>&quot;HOBBIES_1_001_CA_1_evaluation&quot;</td><td>&quot;HOBBIES_1_001&quot;</td><td>&quot;HOBBIES_1&quot;</td><td>&quot;HOBBIES&quot;</td><td>&quot;CA_1&quot;</td><td>&quot;CA&quot;</td><td>2.0</td><td>2016-04-28 00:00:00</td><td>&quot;nan&quot;</td><td>&quot;nan&quot;</td><td>&quot;nan&quot;</td><td>&quot;nan&quot;</td><td>0</td><td>0</td><td>0</td><td>8.38</td></tr><tr><td>&hellip;</td><td>&hellip;</td><td>&hellip;</td><td>&hellip;</td><td>&hellip;</td><td>&hellip;</td><td>&hellip;</td><td>&hellip;</td><td>&hellip;</td><td>&hellip;</td><td>&hellip;</td><td>&hellip;</td><td>&hellip;</td><td>&hellip;</td><td>&hellip;</td><td>&hellip;</td></tr><tr><td>&quot;FOODS_3_583_WI_3_evaluation&quot;</td><td>&quot;FOODS_3_583&quot;</td><td>&quot;FOODS_3&quot;</td><td>&quot;FOODS&quot;</td><td>&quot;WI_3&quot;</td><td>&quot;WI&quot;</td><td>0.0</td><td>2016-05-18 00:00:00</td><td>&quot;nan&quot;</td><td>&quot;nan&quot;</td><td>&quot;nan&quot;</td><td>&quot;nan&quot;</td><td>0</td><td>0</td><td>0</td><td>1.45</td></tr><tr><td>&quot;FOODS_3_583_WI_3_evaluation&quot;</td><td>&quot;FOODS_3_583&quot;</td><td>&quot;FOODS_3&quot;</td><td>&quot;FOODS&quot;</td><td>&quot;WI_3&quot;</td><td>&quot;WI&quot;</td><td>1.0</td><td>2016-05-19 00:00:00</td><td>&quot;nan&quot;</td><td>&quot;nan&quot;</td><td>&quot;nan&quot;</td><td>&quot;nan&quot;</td><td>0</td><td>0</td><td>0</td><td>1.45</td></tr><tr><td>&quot;FOODS_3_583_WI_3_evaluation&quot;</td><td>&quot;FOODS_3_583&quot;</td><td>&quot;FOODS_3&quot;</td><td>&quot;FOODS&quot;</td><td>&quot;WI_3&quot;</td><td>&quot;WI&quot;</td><td>2.0</td><td>2016-05-20 00:00:00</td><td>&quot;nan&quot;</td><td>&quot;nan&quot;</td><td>&quot;nan&quot;</td><td>&quot;nan&quot;</td><td>0</td><td>0</td><td>0</td><td>1.45</td></tr><tr><td>&quot;FOODS_3_583_WI_3_evaluation&quot;</td><td>&quot;FOODS_3_583&quot;</td><td>&quot;FOODS_3&quot;</td><td>&quot;FOODS&quot;</td><td>&quot;WI_3&quot;</td><td>&quot;WI&quot;</td><td>1.0</td><td>2016-05-21 00:00:00</td><td>&quot;nan&quot;</td><td>&quot;nan&quot;</td><td>&quot;nan&quot;</td><td>&quot;nan&quot;</td><td>0</td><td>0</td><td>0</td><td>1.45</td></tr><tr><td>&quot;FOODS_3_583_WI_3_evaluation&quot;</td><td>&quot;FOODS_3_583&quot;</td><td>&quot;FOODS_3&quot;</td><td>&quot;FOODS&quot;</td><td>&quot;WI_3&quot;</td><td>&quot;WI&quot;</td><td>0.0</td><td>2016-05-22 00:00:00</td><td>&quot;nan&quot;</td><td>&quot;nan&quot;</td><td>&quot;nan&quot;</td><td>&quot;nan&quot;</td><td>0</td><td>0</td><td>0</td><td>1.45</td></tr></tbody></table></div>"
      ],
      "text/plain": [
       "shape: (884_210, 16)\n",
       "┌──────────────┬──────────────┬───────────┬─────────┬───┬─────────┬─────────┬─────────┬────────────┐\n",
       "│ id           ┆ item_id      ┆ dept_id   ┆ cat_id  ┆ … ┆ snap_CA ┆ snap_TX ┆ snap_WI ┆ sell_price │\n",
       "│ ---          ┆ ---          ┆ ---       ┆ ---     ┆   ┆ ---     ┆ ---     ┆ ---     ┆ ---        │\n",
       "│ cat          ┆ cat          ┆ cat       ┆ cat     ┆   ┆ i32     ┆ i32     ┆ i32     ┆ f32        │\n",
       "╞══════════════╪══════════════╪═══════════╪═════════╪═══╪═════════╪═════════╪═════════╪════════════╡\n",
       "│ HOBBIES_1_00 ┆ HOBBIES_1_00 ┆ HOBBIES_1 ┆ HOBBIES ┆ … ┆ 0       ┆ 0       ┆ 0       ┆ 8.38       │\n",
       "│ 1_CA_1_evalu ┆ 1            ┆           ┆         ┆   ┆         ┆         ┆         ┆            │\n",
       "│ ation        ┆              ┆           ┆         ┆   ┆         ┆         ┆         ┆            │\n",
       "│ HOBBIES_1_00 ┆ HOBBIES_1_00 ┆ HOBBIES_1 ┆ HOBBIES ┆ … ┆ 0       ┆ 0       ┆ 0       ┆ 8.38       │\n",
       "│ 1_CA_1_evalu ┆ 1            ┆           ┆         ┆   ┆         ┆         ┆         ┆            │\n",
       "│ ation        ┆              ┆           ┆         ┆   ┆         ┆         ┆         ┆            │\n",
       "│ HOBBIES_1_00 ┆ HOBBIES_1_00 ┆ HOBBIES_1 ┆ HOBBIES ┆ … ┆ 0       ┆ 0       ┆ 0       ┆ 8.38       │\n",
       "│ 1_CA_1_evalu ┆ 1            ┆           ┆         ┆   ┆         ┆         ┆         ┆            │\n",
       "│ ation        ┆              ┆           ┆         ┆   ┆         ┆         ┆         ┆            │\n",
       "│ HOBBIES_1_00 ┆ HOBBIES_1_00 ┆ HOBBIES_1 ┆ HOBBIES ┆ … ┆ 0       ┆ 0       ┆ 0       ┆ 8.38       │\n",
       "│ 1_CA_1_evalu ┆ 1            ┆           ┆         ┆   ┆         ┆         ┆         ┆            │\n",
       "│ ation        ┆              ┆           ┆         ┆   ┆         ┆         ┆         ┆            │\n",
       "│ HOBBIES_1_00 ┆ HOBBIES_1_00 ┆ HOBBIES_1 ┆ HOBBIES ┆ … ┆ 0       ┆ 0       ┆ 0       ┆ 8.38       │\n",
       "│ 1_CA_1_evalu ┆ 1            ┆           ┆         ┆   ┆         ┆         ┆         ┆            │\n",
       "│ ation        ┆              ┆           ┆         ┆   ┆         ┆         ┆         ┆            │\n",
       "│ …            ┆ …            ┆ …         ┆ …       ┆ … ┆ …       ┆ …       ┆ …       ┆ …          │\n",
       "│ FOODS_3_583_ ┆ FOODS_3_583  ┆ FOODS_3   ┆ FOODS   ┆ … ┆ 0       ┆ 0       ┆ 0       ┆ 1.45       │\n",
       "│ WI_3_evaluat ┆              ┆           ┆         ┆   ┆         ┆         ┆         ┆            │\n",
       "│ ion          ┆              ┆           ┆         ┆   ┆         ┆         ┆         ┆            │\n",
       "│ FOODS_3_583_ ┆ FOODS_3_583  ┆ FOODS_3   ┆ FOODS   ┆ … ┆ 0       ┆ 0       ┆ 0       ┆ 1.45       │\n",
       "│ WI_3_evaluat ┆              ┆           ┆         ┆   ┆         ┆         ┆         ┆            │\n",
       "│ ion          ┆              ┆           ┆         ┆   ┆         ┆         ┆         ┆            │\n",
       "│ FOODS_3_583_ ┆ FOODS_3_583  ┆ FOODS_3   ┆ FOODS   ┆ … ┆ 0       ┆ 0       ┆ 0       ┆ 1.45       │\n",
       "│ WI_3_evaluat ┆              ┆           ┆         ┆   ┆         ┆         ┆         ┆            │\n",
       "│ ion          ┆              ┆           ┆         ┆   ┆         ┆         ┆         ┆            │\n",
       "│ FOODS_3_583_ ┆ FOODS_3_583  ┆ FOODS_3   ┆ FOODS   ┆ … ┆ 0       ┆ 0       ┆ 0       ┆ 1.45       │\n",
       "│ WI_3_evaluat ┆              ┆           ┆         ┆   ┆         ┆         ┆         ┆            │\n",
       "│ ion          ┆              ┆           ┆         ┆   ┆         ┆         ┆         ┆            │\n",
       "│ FOODS_3_583_ ┆ FOODS_3_583  ┆ FOODS_3   ┆ FOODS   ┆ … ┆ 0       ┆ 0       ┆ 0       ┆ 1.45       │\n",
       "│ WI_3_evaluat ┆              ┆           ┆         ┆   ┆         ┆         ┆         ┆            │\n",
       "│ ion          ┆              ┆           ┆         ┆   ┆         ┆         ┆         ┆            │\n",
       "└──────────────┴──────────────┴───────────┴─────────┴───┴─────────┴─────────┴─────────┴────────────┘"
      ]
     },
     "execution_count": 56,
     "metadata": {},
     "output_type": "execute_result"
    }
   ],
   "source": [
    "valid_long"
   ]
  },
  {
   "cell_type": "code",
   "execution_count": 57,
   "id": "0d072aeb",
   "metadata": {},
   "outputs": [
    {
     "data": {
      "text/html": [
       "<div><style>\n",
       ".dataframe > thead > tr,\n",
       ".dataframe > tbody > tr {\n",
       "  text-align: right;\n",
       "  white-space: pre-wrap;\n",
       "}\n",
       "</style>\n",
       "<small>shape: (853_720, 4)</small><table border=\"1\" class=\"dataframe\"><thead><tr><th>id</th><th>date</th><th>LGBMRegressor</th><th>y</th></tr><tr><td>cat</td><td>datetime[μs]</td><td>f64</td><td>f32</td></tr></thead><tbody><tr><td>&quot;HOBBIES_1_001_CA_1_evaluation&quot;</td><td>2016-04-24 00:00:00</td><td>1.004026</td><td>1.0</td></tr><tr><td>&quot;HOBBIES_1_001_CA_1_evaluation&quot;</td><td>2016-04-25 00:00:00</td><td>0.725626</td><td>0.0</td></tr><tr><td>&quot;HOBBIES_1_001_CA_1_evaluation&quot;</td><td>2016-04-26 00:00:00</td><td>0.733981</td><td>0.0</td></tr><tr><td>&quot;HOBBIES_1_001_CA_1_evaluation&quot;</td><td>2016-04-27 00:00:00</td><td>0.694137</td><td>0.0</td></tr><tr><td>&quot;HOBBIES_1_001_CA_1_evaluation&quot;</td><td>2016-04-28 00:00:00</td><td>0.857808</td><td>2.0</td></tr><tr><td>&hellip;</td><td>&hellip;</td><td>&hellip;</td><td>&hellip;</td></tr><tr><td>&quot;FOODS_3_583_WI_3_evaluation&quot;</td><td>2016-05-17 00:00:00</td><td>0.841036</td><td>0.0</td></tr><tr><td>&quot;FOODS_3_583_WI_3_evaluation&quot;</td><td>2016-05-18 00:00:00</td><td>0.908861</td><td>0.0</td></tr><tr><td>&quot;FOODS_3_583_WI_3_evaluation&quot;</td><td>2016-05-19 00:00:00</td><td>0.835177</td><td>1.0</td></tr><tr><td>&quot;FOODS_3_583_WI_3_evaluation&quot;</td><td>2016-05-20 00:00:00</td><td>0.890161</td><td>2.0</td></tr><tr><td>&quot;FOODS_3_583_WI_3_evaluation&quot;</td><td>2016-05-21 00:00:00</td><td>1.206769</td><td>1.0</td></tr></tbody></table></div>"
      ],
      "text/plain": [
       "shape: (853_720, 4)\n",
       "┌───────────────────────────────┬─────────────────────┬───────────────┬─────┐\n",
       "│ id                            ┆ date                ┆ LGBMRegressor ┆ y   │\n",
       "│ ---                           ┆ ---                 ┆ ---           ┆ --- │\n",
       "│ cat                           ┆ datetime[μs]        ┆ f64           ┆ f32 │\n",
       "╞═══════════════════════════════╪═════════════════════╪═══════════════╪═════╡\n",
       "│ HOBBIES_1_001_CA_1_evaluation ┆ 2016-04-24 00:00:00 ┆ 1.004026      ┆ 1.0 │\n",
       "│ HOBBIES_1_001_CA_1_evaluation ┆ 2016-04-25 00:00:00 ┆ 0.725626      ┆ 0.0 │\n",
       "│ HOBBIES_1_001_CA_1_evaluation ┆ 2016-04-26 00:00:00 ┆ 0.733981      ┆ 0.0 │\n",
       "│ HOBBIES_1_001_CA_1_evaluation ┆ 2016-04-27 00:00:00 ┆ 0.694137      ┆ 0.0 │\n",
       "│ HOBBIES_1_001_CA_1_evaluation ┆ 2016-04-28 00:00:00 ┆ 0.857808      ┆ 2.0 │\n",
       "│ …                             ┆ …                   ┆ …             ┆ …   │\n",
       "│ FOODS_3_583_WI_3_evaluation   ┆ 2016-05-17 00:00:00 ┆ 0.841036      ┆ 0.0 │\n",
       "│ FOODS_3_583_WI_3_evaluation   ┆ 2016-05-18 00:00:00 ┆ 0.908861      ┆ 0.0 │\n",
       "│ FOODS_3_583_WI_3_evaluation   ┆ 2016-05-19 00:00:00 ┆ 0.835177      ┆ 1.0 │\n",
       "│ FOODS_3_583_WI_3_evaluation   ┆ 2016-05-20 00:00:00 ┆ 0.890161      ┆ 2.0 │\n",
       "│ FOODS_3_583_WI_3_evaluation   ┆ 2016-05-21 00:00:00 ┆ 1.206769      ┆ 1.0 │\n",
       "└───────────────────────────────┴─────────────────────┴───────────────┴─────┘"
      ]
     },
     "execution_count": 57,
     "metadata": {},
     "output_type": "execute_result"
    }
   ],
   "source": [
    "preds.join(valid_long[\"id\",\"date\",\"y\"],how=\"inner\",on=[\"id\",\"date\"])"
   ]
  },
  {
   "cell_type": "code",
   "execution_count": null,
   "id": "36ccedda",
   "metadata": {},
   "outputs": [
    {
     "data": {
      "text/html": [
       "<div><style>\n",
       ".dataframe > thead > tr,\n",
       ".dataframe > tbody > tr {\n",
       "  text-align: right;\n",
       "  white-space: pre-wrap;\n",
       "}\n",
       "</style>\n",
       "<small>shape: (853_720, 3)</small><table border=\"1\" class=\"dataframe\"><thead><tr><th>id</th><th>date</th><th>LGBMRegressor</th></tr><tr><td>cat</td><td>datetime[μs]</td><td>f64</td></tr></thead><tbody><tr><td>&quot;HOBBIES_1_001_CA_1_evaluation&quot;</td><td>2016-04-24 00:00:00</td><td>1.004026</td></tr><tr><td>&quot;HOBBIES_1_001_CA_1_evaluation&quot;</td><td>2016-04-25 00:00:00</td><td>0.725626</td></tr><tr><td>&quot;HOBBIES_1_001_CA_1_evaluation&quot;</td><td>2016-04-26 00:00:00</td><td>0.733981</td></tr><tr><td>&quot;HOBBIES_1_001_CA_1_evaluation&quot;</td><td>2016-04-27 00:00:00</td><td>0.694137</td></tr><tr><td>&quot;HOBBIES_1_001_CA_1_evaluation&quot;</td><td>2016-04-28 00:00:00</td><td>0.857808</td></tr><tr><td>&hellip;</td><td>&hellip;</td><td>&hellip;</td></tr><tr><td>&quot;FOODS_3_583_WI_3_evaluation&quot;</td><td>2016-05-17 00:00:00</td><td>0.841036</td></tr><tr><td>&quot;FOODS_3_583_WI_3_evaluation&quot;</td><td>2016-05-18 00:00:00</td><td>0.908861</td></tr><tr><td>&quot;FOODS_3_583_WI_3_evaluation&quot;</td><td>2016-05-19 00:00:00</td><td>0.835177</td></tr><tr><td>&quot;FOODS_3_583_WI_3_evaluation&quot;</td><td>2016-05-20 00:00:00</td><td>0.890161</td></tr><tr><td>&quot;FOODS_3_583_WI_3_evaluation&quot;</td><td>2016-05-21 00:00:00</td><td>1.206769</td></tr></tbody></table></div>"
      ],
      "text/plain": [
       "shape: (853_720, 3)\n",
       "┌───────────────────────────────┬─────────────────────┬───────────────┐\n",
       "│ id                            ┆ date                ┆ LGBMRegressor │\n",
       "│ ---                           ┆ ---                 ┆ ---           │\n",
       "│ cat                           ┆ datetime[μs]        ┆ f64           │\n",
       "╞═══════════════════════════════╪═════════════════════╪═══════════════╡\n",
       "│ HOBBIES_1_001_CA_1_evaluation ┆ 2016-04-24 00:00:00 ┆ 1.004026      │\n",
       "│ HOBBIES_1_001_CA_1_evaluation ┆ 2016-04-25 00:00:00 ┆ 0.725626      │\n",
       "│ HOBBIES_1_001_CA_1_evaluation ┆ 2016-04-26 00:00:00 ┆ 0.733981      │\n",
       "│ HOBBIES_1_001_CA_1_evaluation ┆ 2016-04-27 00:00:00 ┆ 0.694137      │\n",
       "│ HOBBIES_1_001_CA_1_evaluation ┆ 2016-04-28 00:00:00 ┆ 0.857808      │\n",
       "│ …                             ┆ …                   ┆ …             │\n",
       "│ FOODS_3_583_WI_3_evaluation   ┆ 2016-05-17 00:00:00 ┆ 0.841036      │\n",
       "│ FOODS_3_583_WI_3_evaluation   ┆ 2016-05-18 00:00:00 ┆ 0.908861      │\n",
       "│ FOODS_3_583_WI_3_evaluation   ┆ 2016-05-19 00:00:00 ┆ 0.835177      │\n",
       "│ FOODS_3_583_WI_3_evaluation   ┆ 2016-05-20 00:00:00 ┆ 0.890161      │\n",
       "│ FOODS_3_583_WI_3_evaluation   ┆ 2016-05-21 00:00:00 ┆ 1.206769      │\n",
       "└───────────────────────────────┴─────────────────────┴───────────────┘"
      ]
     },
     "execution_count": 55,
     "metadata": {},
     "output_type": "execute_result"
    }
   ],
   "source": [
    "preds.join(eval_long)"
   ]
  },
  {
   "cell_type": "code",
   "execution_count": 66,
   "id": "5696cf2a",
   "metadata": {},
   "outputs": [
    {
     "name": "stdout",
     "output_type": "stream",
     "text": [
      "shape: (121_960, 3)\n",
      "┌───────────────────────────────┬────────┬───────────────┐\n",
      "│ unique_id                     ┆ metric ┆ LGBMRegressor │\n",
      "│ ---                           ┆ ---    ┆ ---           │\n",
      "│ cat                           ┆ str    ┆ f64           │\n",
      "╞═══════════════════════════════╪════════╪═══════════════╡\n",
      "│ HOBBIES_1_001_CA_1_evaluation ┆ rmse   ┆ 1.365652      │\n",
      "│ HOBBIES_1_002_CA_1_evaluation ┆ rmse   ┆ 0.506787      │\n",
      "│ HOBBIES_1_003_CA_1_evaluation ┆ rmse   ┆ 0.933877      │\n",
      "│ HOBBIES_1_004_CA_1_evaluation ┆ rmse   ┆ 1.562539      │\n",
      "│ HOBBIES_1_005_CA_1_evaluation ┆ rmse   ┆ 1.217481      │\n",
      "│ …                             ┆ …      ┆ …             │\n",
      "│ FOODS_3_579_WI_3_evaluation   ┆ mape   ┆ 0.681225      │\n",
      "│ FOODS_3_580_WI_3_evaluation   ┆ mape   ┆ 0.794133      │\n",
      "│ FOODS_3_581_WI_3_evaluation   ┆ mape   ┆ 0.672644      │\n",
      "│ FOODS_3_582_WI_3_evaluation   ┆ mape   ┆ 0.608619      │\n",
      "│ FOODS_3_583_WI_3_evaluation   ┆ mape   ┆ 0.232426      │\n",
      "└───────────────────────────────┴────────┴───────────────┘\n"
     ]
    }
   ],
   "source": [
    "from utilsforecast.evaluation import evaluate\n",
    "from utilsforecast.losses import mse, mae, rmse, mape\n",
    "\n",
    "# Join predictions and ground truth\n",
    "df_eval = preds.join(\n",
    "    valid_long.select([\"id\", \"date\", \"y\"]),\n",
    "    how=\"inner\",\n",
    "    on=[\"id\", \"date\"]\n",
    ").rename({\"id\": \"unique_id\",\"date\":\"ds\"})  # required by utilsforecast\n",
    "\n",
    "# Evaluate using Nixtla's metrics\n",
    "metrics = evaluate(\n",
    "    df_eval,\n",
    "    metrics=[rmse, mae, mse, mape]\n",
    ")\n",
    "\n",
    "print(metrics)\n"
   ]
  },
  {
   "cell_type": "code",
   "execution_count": 67,
   "id": "4f5421c9",
   "metadata": {},
   "outputs": [
    {
     "data": {
      "text/html": [
       "<div><style>\n",
       ".dataframe > thead > tr,\n",
       ".dataframe > tbody > tr {\n",
       "  text-align: right;\n",
       "  white-space: pre-wrap;\n",
       "}\n",
       "</style>\n",
       "<small>shape: (9, 4)</small><table border=\"1\" class=\"dataframe\"><thead><tr><th>statistic</th><th>unique_id</th><th>metric</th><th>LGBMRegressor</th></tr><tr><td>str</td><td>str</td><td>str</td><td>f64</td></tr></thead><tbody><tr><td>&quot;count&quot;</td><td>&quot;121960&quot;</td><td>&quot;121960&quot;</td><td>121113.0</td></tr><tr><td>&quot;null_count&quot;</td><td>&quot;0&quot;</td><td>&quot;0&quot;</td><td>847.0</td></tr><tr><td>&quot;mean&quot;</td><td>null</td><td>null</td><td>1.868217</td></tr><tr><td>&quot;std&quot;</td><td>null</td><td>null</td><td>13.424169</td></tr><tr><td>&quot;min&quot;</td><td>null</td><td>&quot;mae&quot;</td><td>0.016103</td></tr><tr><td>&quot;25%&quot;</td><td>null</td><td>null</td><td>0.448177</td></tr><tr><td>&quot;50%&quot;</td><td>null</td><td>null</td><td>0.715504</td></tr><tr><td>&quot;75%&quot;</td><td>null</td><td>null</td><td>1.209434</td></tr><tr><td>&quot;max&quot;</td><td>null</td><td>&quot;rmse&quot;</td><td>1565.380037</td></tr></tbody></table></div>"
      ],
      "text/plain": [
       "shape: (9, 4)\n",
       "┌────────────┬───────────┬────────┬───────────────┐\n",
       "│ statistic  ┆ unique_id ┆ metric ┆ LGBMRegressor │\n",
       "│ ---        ┆ ---       ┆ ---    ┆ ---           │\n",
       "│ str        ┆ str       ┆ str    ┆ f64           │\n",
       "╞════════════╪═══════════╪════════╪═══════════════╡\n",
       "│ count      ┆ 121960    ┆ 121960 ┆ 121113.0      │\n",
       "│ null_count ┆ 0         ┆ 0      ┆ 847.0         │\n",
       "│ mean       ┆ null      ┆ null   ┆ 1.868217      │\n",
       "│ std        ┆ null      ┆ null   ┆ 13.424169     │\n",
       "│ min        ┆ null      ┆ mae    ┆ 0.016103      │\n",
       "│ 25%        ┆ null      ┆ null   ┆ 0.448177      │\n",
       "│ 50%        ┆ null      ┆ null   ┆ 0.715504      │\n",
       "│ 75%        ┆ null      ┆ null   ┆ 1.209434      │\n",
       "│ max        ┆ null      ┆ rmse   ┆ 1565.380037   │\n",
       "└────────────┴───────────┴────────┴───────────────┘"
      ]
     },
     "execution_count": 67,
     "metadata": {},
     "output_type": "execute_result"
    }
   ],
   "source": [
    "metrics.describe()"
   ]
  },
  {
   "cell_type": "code",
   "execution_count": 62,
   "id": "5fbc4a47",
   "metadata": {},
   "outputs": [
    {
     "data": {
      "text/html": [
       "<div><style>\n",
       ".dataframe > thead > tr,\n",
       ".dataframe > tbody > tr {\n",
       "  text-align: right;\n",
       "  white-space: pre-wrap;\n",
       "}\n",
       "</style>\n",
       "<small>shape: (853_720, 4)</small><table border=\"1\" class=\"dataframe\"><thead><tr><th>unique_id</th><th>date</th><th>LGBMRegressor</th><th>y</th></tr><tr><td>cat</td><td>datetime[μs]</td><td>f64</td><td>f32</td></tr></thead><tbody><tr><td>&quot;HOBBIES_1_001_CA_1_evaluation&quot;</td><td>2016-04-24 00:00:00</td><td>1.004026</td><td>1.0</td></tr><tr><td>&quot;HOBBIES_1_001_CA_1_evaluation&quot;</td><td>2016-04-25 00:00:00</td><td>0.725626</td><td>0.0</td></tr><tr><td>&quot;HOBBIES_1_001_CA_1_evaluation&quot;</td><td>2016-04-26 00:00:00</td><td>0.733981</td><td>0.0</td></tr><tr><td>&quot;HOBBIES_1_001_CA_1_evaluation&quot;</td><td>2016-04-27 00:00:00</td><td>0.694137</td><td>0.0</td></tr><tr><td>&quot;HOBBIES_1_001_CA_1_evaluation&quot;</td><td>2016-04-28 00:00:00</td><td>0.857808</td><td>2.0</td></tr><tr><td>&hellip;</td><td>&hellip;</td><td>&hellip;</td><td>&hellip;</td></tr><tr><td>&quot;FOODS_3_583_WI_3_evaluation&quot;</td><td>2016-05-17 00:00:00</td><td>0.841036</td><td>0.0</td></tr><tr><td>&quot;FOODS_3_583_WI_3_evaluation&quot;</td><td>2016-05-18 00:00:00</td><td>0.908861</td><td>0.0</td></tr><tr><td>&quot;FOODS_3_583_WI_3_evaluation&quot;</td><td>2016-05-19 00:00:00</td><td>0.835177</td><td>1.0</td></tr><tr><td>&quot;FOODS_3_583_WI_3_evaluation&quot;</td><td>2016-05-20 00:00:00</td><td>0.890161</td><td>2.0</td></tr><tr><td>&quot;FOODS_3_583_WI_3_evaluation&quot;</td><td>2016-05-21 00:00:00</td><td>1.206769</td><td>1.0</td></tr></tbody></table></div>"
      ],
      "text/plain": [
       "shape: (853_720, 4)\n",
       "┌───────────────────────────────┬─────────────────────┬───────────────┬─────┐\n",
       "│ unique_id                     ┆ date                ┆ LGBMRegressor ┆ y   │\n",
       "│ ---                           ┆ ---                 ┆ ---           ┆ --- │\n",
       "│ cat                           ┆ datetime[μs]        ┆ f64           ┆ f32 │\n",
       "╞═══════════════════════════════╪═════════════════════╪═══════════════╪═════╡\n",
       "│ HOBBIES_1_001_CA_1_evaluation ┆ 2016-04-24 00:00:00 ┆ 1.004026      ┆ 1.0 │\n",
       "│ HOBBIES_1_001_CA_1_evaluation ┆ 2016-04-25 00:00:00 ┆ 0.725626      ┆ 0.0 │\n",
       "│ HOBBIES_1_001_CA_1_evaluation ┆ 2016-04-26 00:00:00 ┆ 0.733981      ┆ 0.0 │\n",
       "│ HOBBIES_1_001_CA_1_evaluation ┆ 2016-04-27 00:00:00 ┆ 0.694137      ┆ 0.0 │\n",
       "│ HOBBIES_1_001_CA_1_evaluation ┆ 2016-04-28 00:00:00 ┆ 0.857808      ┆ 2.0 │\n",
       "│ …                             ┆ …                   ┆ …             ┆ …   │\n",
       "│ FOODS_3_583_WI_3_evaluation   ┆ 2016-05-17 00:00:00 ┆ 0.841036      ┆ 0.0 │\n",
       "│ FOODS_3_583_WI_3_evaluation   ┆ 2016-05-18 00:00:00 ┆ 0.908861      ┆ 0.0 │\n",
       "│ FOODS_3_583_WI_3_evaluation   ┆ 2016-05-19 00:00:00 ┆ 0.835177      ┆ 1.0 │\n",
       "│ FOODS_3_583_WI_3_evaluation   ┆ 2016-05-20 00:00:00 ┆ 0.890161      ┆ 2.0 │\n",
       "│ FOODS_3_583_WI_3_evaluation   ┆ 2016-05-21 00:00:00 ┆ 1.206769      ┆ 1.0 │\n",
       "└───────────────────────────────┴─────────────────────┴───────────────┴─────┘"
      ]
     },
     "execution_count": 62,
     "metadata": {},
     "output_type": "execute_result"
    }
   ],
   "source": [
    "df_eval"
   ]
  },
  {
   "cell_type": "code",
   "execution_count": 51,
   "id": "ccb6d58b",
   "metadata": {},
   "outputs": [
    {
     "data": {
      "text/plain": [
       "2.1082259474118947"
      ]
     },
     "execution_count": 51,
     "metadata": {},
     "output_type": "execute_result"
    }
   ],
   "source": [
    "rmse"
   ]
  },
  {
   "cell_type": "markdown",
   "id": "2d67e7f9",
   "metadata": {
    "papermill": {
     "duration": 0.005556,
     "end_time": "2024-12-06T20:08:32.645951",
     "exception": false,
     "start_time": "2024-12-06T20:08:32.640395",
     "status": "completed"
    },
    "tags": []
   },
   "source": [
    "## Submission"
   ]
  },
  {
   "cell_type": "code",
   "execution_count": 16,
   "id": "91aa69ae",
   "metadata": {
    "execution": {
     "iopub.execute_input": "2024-12-06T20:08:32.659035Z",
     "iopub.status.busy": "2024-12-06T20:08:32.658635Z",
     "iopub.status.idle": "2024-12-06T20:08:32.873346Z",
     "shell.execute_reply": "2024-12-06T20:08:32.872286Z"
    },
    "papermill": {
     "duration": 0.224214,
     "end_time": "2024-12-06T20:08:32.875848",
     "exception": false,
     "start_time": "2024-12-06T20:08:32.651634",
     "status": "completed"
    },
    "tags": []
   },
   "outputs": [
    {
     "data": {
      "text/html": [
       "<div><style>\n",
       ".dataframe > thead > tr,\n",
       ".dataframe > tbody > tr {\n",
       "  text-align: right;\n",
       "  white-space: pre-wrap;\n",
       "}\n",
       "</style>\n",
       "<small>shape: (30_490, 29)</small><table border=\"1\" class=\"dataframe\"><thead><tr><th>id</th><th>F1</th><th>F2</th><th>F3</th><th>F4</th><th>F5</th><th>F6</th><th>F7</th><th>F8</th><th>F9</th><th>F10</th><th>F11</th><th>F12</th><th>F13</th><th>F14</th><th>F15</th><th>F16</th><th>F17</th><th>F18</th><th>F19</th><th>F20</th><th>F21</th><th>F22</th><th>F23</th><th>F24</th><th>F25</th><th>F26</th><th>F27</th><th>F28</th></tr><tr><td>str</td><td>f64</td><td>f64</td><td>f64</td><td>f64</td><td>f64</td><td>f64</td><td>f64</td><td>f64</td><td>f64</td><td>f64</td><td>f64</td><td>f64</td><td>f64</td><td>f64</td><td>f64</td><td>f64</td><td>f64</td><td>f64</td><td>f64</td><td>f64</td><td>f64</td><td>f64</td><td>f64</td><td>f64</td><td>f64</td><td>f64</td><td>f64</td><td>f64</td></tr></thead><tbody><tr><td>&quot;HOBBIES_1_001_CA_1_evaluation&quot;</td><td>0.833897</td><td>0.840057</td><td>0.797003</td><td>0.981697</td><td>1.001909</td><td>1.354826</td><td>1.353887</td><td>0.81619</td><td>0.921808</td><td>0.951556</td><td>0.967182</td><td>1.01913</td><td>1.361474</td><td>1.169812</td><td>0.863993</td><td>0.881578</td><td>0.860041</td><td>0.922818</td><td>0.996496</td><td>1.349537</td><td>1.227884</td><td>0.80713</td><td>0.778652</td><td>0.80238</td><td>0.89425</td><td>0.927711</td><td>1.159154</td><td>1.094949</td></tr><tr><td>&quot;HOBBIES_1_002_CA_1_evaluation&quot;</td><td>0.301608</td><td>0.337076</td><td>0.30109</td><td>0.29595</td><td>0.351041</td><td>0.404711</td><td>0.380121</td><td>0.224811</td><td>0.2927</td><td>0.307221</td><td>0.290396</td><td>0.361029</td><td>0.403829</td><td>0.398394</td><td>0.328379</td><td>0.325858</td><td>0.296514</td><td>0.300414</td><td>0.358873</td><td>0.405415</td><td>0.415314</td><td>0.328379</td><td>0.321958</td><td>0.3319</td><td>0.328</td><td>0.377666</td><td>0.433479</td><td>0.392115</td></tr><tr><td>&quot;HOBBIES_1_003_CA_1_evaluation&quot;</td><td>0.525617</td><td>0.507423</td><td>0.523173</td><td>0.575457</td><td>0.773517</td><td>0.806967</td><td>0.852567</td><td>0.534406</td><td>0.596685</td><td>0.653209</td><td>0.601299</td><td>0.727181</td><td>0.842056</td><td>0.906656</td><td>0.570054</td><td>0.582903</td><td>0.600682</td><td>0.627493</td><td>0.716215</td><td>0.792254</td><td>0.843897</td><td>0.553248</td><td>0.562246</td><td>0.550727</td><td>0.592842</td><td>0.717597</td><td>0.769499</td><td>0.806967</td></tr><tr><td>&quot;HOBBIES_1_004_CA_1_evaluation&quot;</td><td>1.669314</td><td>1.408619</td><td>1.46908</td><td>1.55035</td><td>1.562228</td><td>2.026032</td><td>2.472441</td><td>1.166942</td><td>1.599797</td><td>1.691126</td><td>1.662757</td><td>1.92003</td><td>2.279371</td><td>2.510155</td><td>1.762801</td><td>1.578394</td><td>1.597008</td><td>1.621594</td><td>1.846485</td><td>2.145817</td><td>2.458724</td><td>1.855348</td><td>1.596231</td><td>1.636001</td><td>1.588729</td><td>1.724641</td><td>2.110413</td><td>2.31892</td></tr><tr><td>&quot;HOBBIES_1_005_CA_1_evaluation&quot;</td><td>1.243967</td><td>1.175488</td><td>1.119334</td><td>1.101344</td><td>1.186044</td><td>1.419581</td><td>1.408517</td><td>0.953076</td><td>1.022751</td><td>1.09324</td><td>1.108721</td><td>1.256097</td><td>1.40743</td><td>1.544462</td><td>1.133089</td><td>1.114874</td><td>1.114592</td><td>1.161211</td><td>1.190928</td><td>1.363148</td><td>1.458089</td><td>1.107447</td><td>1.066974</td><td>1.027533</td><td>1.004561</td><td>1.1528</td><td>1.285675</td><td>1.333709</td></tr><tr><td>&hellip;</td><td>&hellip;</td><td>&hellip;</td><td>&hellip;</td><td>&hellip;</td><td>&hellip;</td><td>&hellip;</td><td>&hellip;</td><td>&hellip;</td><td>&hellip;</td><td>&hellip;</td><td>&hellip;</td><td>&hellip;</td><td>&hellip;</td><td>&hellip;</td><td>&hellip;</td><td>&hellip;</td><td>&hellip;</td><td>&hellip;</td><td>&hellip;</td><td>&hellip;</td><td>&hellip;</td><td>&hellip;</td><td>&hellip;</td><td>&hellip;</td><td>&hellip;</td><td>&hellip;</td><td>&hellip;</td><td>&hellip;</td></tr><tr><td>&quot;FOODS_3_579_WI_3_evaluation&quot;</td><td>0.240898</td><td>0.256534</td><td>0.23278</td><td>0.215711</td><td>0.227391</td><td>0.241789</td><td>0.241789</td><td>0.159824</td><td>0.215166</td><td>0.257338</td><td>0.242633</td><td>0.303502</td><td>0.266146</td><td>0.34995</td><td>0.328606</td><td>0.250371</td><td>0.230068</td><td>0.308539</td><td>0.289797</td><td>0.349088</td><td>0.349088</td><td>0.298956</td><td>0.271631</td><td>0.292644</td><td>0.242351</td><td>0.246009</td><td>0.264338</td><td>0.258524</td></tr><tr><td>&quot;FOODS_3_580_WI_3_evaluation&quot;</td><td>6.80407</td><td>5.391587</td><td>4.988874</td><td>5.805819</td><td>5.531085</td><td>6.623079</td><td>9.018246</td><td>6.10223</td><td>4.628618</td><td>9.278724</td><td>11.11929</td><td>9.949909</td><td>8.079201</td><td>13.477679</td><td>10.683496</td><td>8.373447</td><td>9.313737</td><td>11.042063</td><td>6.592893</td><td>12.691774</td><td>10.939248</td><td>7.593142</td><td>9.59427</td><td>10.841804</td><td>5.633552</td><td>6.039898</td><td>7.073972</td><td>7.313361</td></tr><tr><td>&quot;FOODS_3_581_WI_3_evaluation&quot;</td><td>0.220488</td><td>0.20723</td><td>0.20723</td><td>0.21237</td><td>0.230425</td><td>0.238449</td><td>0.205814</td><td>0.135448</td><td>0.185589</td><td>0.265597</td><td>0.234152</td><td>0.300215</td><td>0.257665</td><td>0.341469</td><td>0.308196</td><td>0.248857</td><td>0.237482</td><td>0.283318</td><td>0.268566</td><td>0.340607</td><td>0.324712</td><td>0.290475</td><td>0.254222</td><td>0.300058</td><td>0.217975</td><td>0.253423</td><td>0.255857</td><td>0.234148</td></tr><tr><td>&quot;FOODS_3_582_WI_3_evaluation&quot;</td><td>2.700242</td><td>2.632899</td><td>2.294907</td><td>2.426135</td><td>2.789663</td><td>3.302588</td><td>3.811948</td><td>2.499263</td><td>2.589231</td><td>2.481936</td><td>2.678291</td><td>3.274891</td><td>3.226891</td><td>4.092828</td><td>2.964795</td><td>2.805928</td><td>2.488012</td><td>2.94113</td><td>2.928715</td><td>3.645687</td><td>4.292225</td><td>2.639021</td><td>2.853514</td><td>2.595108</td><td>2.54386</td><td>2.783921</td><td>3.286068</td><td>3.22004</td></tr><tr><td>&quot;FOODS_3_583_WI_3_evaluation&quot;</td><td>0.809582</td><td>0.771522</td><td>0.70519</td><td>0.766134</td><td>0.817113</td><td>1.122014</td><td>0.979396</td><td>0.634659</td><td>0.807945</td><td>0.809682</td><td>0.76196</td><td>0.908326</td><td>1.055229</td><td>1.051092</td><td>0.843787</td><td>0.81084</td><td>0.783452</td><td>0.817468</td><td>0.833272</td><td>1.033565</td><td>1.070656</td><td>0.823623</td><td>0.793227</td><td>0.816018</td><td>0.75809</td><td>0.831252</td><td>1.009186</td><td>0.930999</td></tr></tbody></table></div>"
      ],
      "text/plain": [
       "shape: (30_490, 29)\n",
       "┌─────────────────┬──────────┬──────────┬──────────┬───┬──────────┬──────────┬──────────┬──────────┐\n",
       "│ id              ┆ F1       ┆ F2       ┆ F3       ┆ … ┆ F25      ┆ F26      ┆ F27      ┆ F28      │\n",
       "│ ---             ┆ ---      ┆ ---      ┆ ---      ┆   ┆ ---      ┆ ---      ┆ ---      ┆ ---      │\n",
       "│ str             ┆ f64      ┆ f64      ┆ f64      ┆   ┆ f64      ┆ f64      ┆ f64      ┆ f64      │\n",
       "╞═════════════════╪══════════╪══════════╪══════════╪═══╪══════════╪══════════╪══════════╪══════════╡\n",
       "│ HOBBIES_1_001_C ┆ 0.833897 ┆ 0.840057 ┆ 0.797003 ┆ … ┆ 0.89425  ┆ 0.927711 ┆ 1.159154 ┆ 1.094949 │\n",
       "│ A_1_evaluation  ┆          ┆          ┆          ┆   ┆          ┆          ┆          ┆          │\n",
       "│ HOBBIES_1_002_C ┆ 0.301608 ┆ 0.337076 ┆ 0.30109  ┆ … ┆ 0.328    ┆ 0.377666 ┆ 0.433479 ┆ 0.392115 │\n",
       "│ A_1_evaluation  ┆          ┆          ┆          ┆   ┆          ┆          ┆          ┆          │\n",
       "│ HOBBIES_1_003_C ┆ 0.525617 ┆ 0.507423 ┆ 0.523173 ┆ … ┆ 0.592842 ┆ 0.717597 ┆ 0.769499 ┆ 0.806967 │\n",
       "│ A_1_evaluation  ┆          ┆          ┆          ┆   ┆          ┆          ┆          ┆          │\n",
       "│ HOBBIES_1_004_C ┆ 1.669314 ┆ 1.408619 ┆ 1.46908  ┆ … ┆ 1.588729 ┆ 1.724641 ┆ 2.110413 ┆ 2.31892  │\n",
       "│ A_1_evaluation  ┆          ┆          ┆          ┆   ┆          ┆          ┆          ┆          │\n",
       "│ HOBBIES_1_005_C ┆ 1.243967 ┆ 1.175488 ┆ 1.119334 ┆ … ┆ 1.004561 ┆ 1.1528   ┆ 1.285675 ┆ 1.333709 │\n",
       "│ A_1_evaluation  ┆          ┆          ┆          ┆   ┆          ┆          ┆          ┆          │\n",
       "│ …               ┆ …        ┆ …        ┆ …        ┆ … ┆ …        ┆ …        ┆ …        ┆ …        │\n",
       "│ FOODS_3_579_WI_ ┆ 0.240898 ┆ 0.256534 ┆ 0.23278  ┆ … ┆ 0.242351 ┆ 0.246009 ┆ 0.264338 ┆ 0.258524 │\n",
       "│ 3_evaluation    ┆          ┆          ┆          ┆   ┆          ┆          ┆          ┆          │\n",
       "│ FOODS_3_580_WI_ ┆ 6.80407  ┆ 5.391587 ┆ 4.988874 ┆ … ┆ 5.633552 ┆ 6.039898 ┆ 7.073972 ┆ 7.313361 │\n",
       "│ 3_evaluation    ┆          ┆          ┆          ┆   ┆          ┆          ┆          ┆          │\n",
       "│ FOODS_3_581_WI_ ┆ 0.220488 ┆ 0.20723  ┆ 0.20723  ┆ … ┆ 0.217975 ┆ 0.253423 ┆ 0.255857 ┆ 0.234148 │\n",
       "│ 3_evaluation    ┆          ┆          ┆          ┆   ┆          ┆          ┆          ┆          │\n",
       "│ FOODS_3_582_WI_ ┆ 2.700242 ┆ 2.632899 ┆ 2.294907 ┆ … ┆ 2.54386  ┆ 2.783921 ┆ 3.286068 ┆ 3.22004  │\n",
       "│ 3_evaluation    ┆          ┆          ┆          ┆   ┆          ┆          ┆          ┆          │\n",
       "│ FOODS_3_583_WI_ ┆ 0.809582 ┆ 0.771522 ┆ 0.70519  ┆ … ┆ 0.75809  ┆ 0.831252 ┆ 1.009186 ┆ 0.930999 │\n",
       "│ 3_evaluation    ┆          ┆          ┆          ┆   ┆          ┆          ┆          ┆          │\n",
       "└─────────────────┴──────────┴──────────┴──────────┴───┴──────────┴──────────┴──────────┴──────────┘"
      ]
     },
     "execution_count": 16,
     "metadata": {},
     "output_type": "execute_result"
    }
   ],
   "source": [
    "wide = preds.pivot(values='LGBMRegressor', index='id', on='date')\n",
    "wide.columns = ['id'] + [f'F{i+1}' for i in range(28)]\n",
    "wide = wide.with_columns(pl.col('id').cast(pl.Utf8))\n",
    "wide"
   ]
  },
  {
   "cell_type": "code",
   "execution_count": 17,
   "id": "e499d9f1",
   "metadata": {
    "execution": {
     "iopub.execute_input": "2024-12-06T20:08:32.889351Z",
     "iopub.status.busy": "2024-12-06T20:08:32.888993Z",
     "iopub.status.idle": "2024-12-06T20:08:32.994627Z",
     "shell.execute_reply": "2024-12-06T20:08:32.993802Z"
    },
    "papermill": {
     "duration": 0.115299,
     "end_time": "2024-12-06T20:08:32.997019",
     "exception": false,
     "start_time": "2024-12-06T20:08:32.881720",
     "status": "completed"
    },
    "tags": []
   },
   "outputs": [],
   "source": [
    "subm = pl.concat([wide, wide.with_columns(pl.col('id').str.replace('evaluation', 'validation'))])\n",
    "subm.write_csv('submission.csv')"
   ]
  }
 ],
 "metadata": {
  "kaggle": {
   "accelerator": "none",
   "dataSources": [
    {
     "databundleVersionId": 1236839,
     "sourceId": 18599,
     "sourceType": "competition"
    }
   ],
   "isGpuEnabled": false,
   "isInternetEnabled": true,
   "language": "python",
   "sourceType": "notebook"
  },
  "kernelspec": {
   "display_name": "Python 3",
   "language": "python",
   "name": "python3"
  },
  "language_info": {
   "codemirror_mode": {
    "name": "ipython",
    "version": 3
   },
   "file_extension": ".py",
   "mimetype": "text/x-python",
   "name": "python",
   "nbconvert_exporter": "python",
   "pygments_lexer": "ipython3",
   "version": "3.11.9"
  },
  "papermill": {
   "default_parameters": {},
   "duration": 261.454904,
   "end_time": "2024-12-06T20:08:34.427520",
   "environment_variables": {},
   "exception": null,
   "input_path": "__notebook__.ipynb",
   "output_path": "__notebook__.ipynb",
   "parameters": {},
   "start_time": "2024-12-06T20:04:12.972616",
   "version": "2.6.0"
  }
 },
 "nbformat": 4,
 "nbformat_minor": 5
}
