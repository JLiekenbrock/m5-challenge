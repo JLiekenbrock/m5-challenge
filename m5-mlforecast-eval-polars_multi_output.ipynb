{
 "cells": [
  {
   "cell_type": "markdown",
   "id": "fe8906be",
   "metadata": {
    "papermill": {
     "duration": 0.005587,
     "end_time": "2024-12-06T20:04:15.573071",
     "exception": false,
     "start_time": "2024-12-06T20:04:15.567484",
     "status": "completed"
    },
    "tags": []
   },
   "source": [
    "## Libraries"
   ]
  },
  {
   "cell_type": "code",
   "execution_count": 1,
   "id": "4fe43556",
   "metadata": {
    "execution": {
     "iopub.execute_input": "2024-12-06T20:04:15.584840Z",
     "iopub.status.busy": "2024-12-06T20:04:15.584383Z",
     "iopub.status.idle": "2024-12-06T20:04:27.847799Z",
     "shell.execute_reply": "2024-12-06T20:04:27.846407Z"
    },
    "papermill": {
     "duration": 12.272093,
     "end_time": "2024-12-06T20:04:27.850183",
     "exception": false,
     "start_time": "2024-12-06T20:04:15.578090",
     "status": "completed"
    },
    "tags": []
   },
   "outputs": [
    {
     "name": "stdout",
     "output_type": "stream",
     "text": [
      "Note: you may need to restart the kernel to use updated packages.\n"
     ]
    }
   ],
   "source": [
    "%pip install -qqq mlforecast"
   ]
  },
  {
   "cell_type": "code",
   "execution_count": 2,
   "id": "6934a123",
   "metadata": {
    "_cell_guid": "b1076dfc-b9ad-4769-8c92-a6c4dae69d19",
    "_uuid": "8f2839f25d086af736a60e9eeb907d3b93b6e0e5",
    "execution": {
     "iopub.execute_input": "2024-12-06T20:04:27.863731Z",
     "iopub.status.busy": "2024-12-06T20:04:27.863315Z",
     "iopub.status.idle": "2024-12-06T20:04:32.719066Z",
     "shell.execute_reply": "2024-12-06T20:04:32.718060Z"
    },
    "papermill": {
     "duration": 4.865822,
     "end_time": "2024-12-06T20:04:32.721355",
     "exception": false,
     "start_time": "2024-12-06T20:04:27.855533",
     "status": "completed"
    },
    "tags": []
   },
   "outputs": [],
   "source": [
    "from pathlib import Path\n",
    "\n",
    "import lightgbm as lgb\n",
    "import mlforecast\n",
    "import numpy as np\n",
    "import polars as pl\n",
    "from mlforecast import MLForecast\n",
    "from mlforecast.lag_transforms import ExpandingMean, RollingMean, SeasonalRollingMean"
   ]
  },
  {
   "cell_type": "code",
   "execution_count": 3,
   "id": "77c8f740",
   "metadata": {
    "execution": {
     "iopub.execute_input": "2024-12-06T20:04:32.733493Z",
     "iopub.status.busy": "2024-12-06T20:04:32.732914Z",
     "iopub.status.idle": "2024-12-06T20:04:32.740523Z",
     "shell.execute_reply": "2024-12-06T20:04:32.739509Z"
    },
    "papermill": {
     "duration": 0.0158,
     "end_time": "2024-12-06T20:04:32.742398",
     "exception": false,
     "start_time": "2024-12-06T20:04:32.726598",
     "status": "completed"
    },
    "tags": []
   },
   "outputs": [
    {
     "data": {
      "text/plain": [
       "'1.0.1'"
      ]
     },
     "execution_count": 3,
     "metadata": {},
     "output_type": "execute_result"
    }
   ],
   "source": [
    "mlforecast.__version__"
   ]
  },
  {
   "cell_type": "code",
   "execution_count": 4,
   "id": "bb4eb63f",
   "metadata": {
    "execution": {
     "iopub.execute_input": "2024-12-06T20:04:32.754861Z",
     "iopub.status.busy": "2024-12-06T20:04:32.754101Z",
     "iopub.status.idle": "2024-12-06T20:04:32.760271Z",
     "shell.execute_reply": "2024-12-06T20:04:32.759164Z"
    },
    "papermill": {
     "duration": 0.014607,
     "end_time": "2024-12-06T20:04:32.762294",
     "exception": false,
     "start_time": "2024-12-06T20:04:32.747687",
     "status": "completed"
    },
    "tags": []
   },
   "outputs": [],
   "source": [
    "pl.enable_string_cache()"
   ]
  },
  {
   "cell_type": "markdown",
   "id": "422da9d8",
   "metadata": {
    "papermill": {
     "duration": 0.005026,
     "end_time": "2024-12-06T20:04:32.772680",
     "exception": false,
     "start_time": "2024-12-06T20:04:32.767654",
     "status": "completed"
    },
    "tags": []
   },
   "source": [
    "## Data setup"
   ]
  },
  {
   "cell_type": "code",
   "execution_count": 5,
   "id": "13707c27",
   "metadata": {
    "execution": {
     "iopub.execute_input": "2024-12-06T20:04:32.784424Z",
     "iopub.status.busy": "2024-12-06T20:04:32.784085Z",
     "iopub.status.idle": "2024-12-06T20:04:32.788529Z",
     "shell.execute_reply": "2024-12-06T20:04:32.787601Z"
    },
    "papermill": {
     "duration": 0.012654,
     "end_time": "2024-12-06T20:04:32.790439",
     "exception": false,
     "start_time": "2024-12-06T20:04:32.777785",
     "status": "completed"
    },
    "tags": []
   },
   "outputs": [],
   "source": [
    "input_path = Path('m5-forecasting-accuracy/')"
   ]
  },
  {
   "cell_type": "markdown",
   "id": "6b536074",
   "metadata": {
    "papermill": {
     "duration": 0.004953,
     "end_time": "2024-12-06T20:04:32.800556",
     "exception": false,
     "start_time": "2024-12-06T20:04:32.795603",
     "status": "completed"
    },
    "tags": []
   },
   "source": [
    "### Calendar"
   ]
  },
  {
   "cell_type": "code",
   "execution_count": 6,
   "id": "f00821f1",
   "metadata": {
    "execution": {
     "iopub.execute_input": "2024-12-06T20:04:32.812351Z",
     "iopub.status.busy": "2024-12-06T20:04:32.811996Z",
     "iopub.status.idle": "2024-12-06T20:04:32.966739Z",
     "shell.execute_reply": "2024-12-06T20:04:32.965680Z"
    },
    "papermill": {
     "duration": 0.163596,
     "end_time": "2024-12-06T20:04:32.969205",
     "exception": false,
     "start_time": "2024-12-06T20:04:32.805609",
     "status": "completed"
    },
    "tags": []
   },
   "outputs": [],
   "source": [
    "cal_dtypes = {\n",
    "    'date': pl.Datetime,\n",
    "    'd': pl.Categorical,\n",
    "    'wm_yr_wk': pl.Int32,\n",
    "    'event_name_1': pl.Categorical,\n",
    "    'event_type_1': pl.Categorical,\n",
    "    'event_name_2': pl.Categorical,\n",
    "    'event_type_2': pl.Categorical,\n",
    "    'snap_CA': pl.Int32,\n",
    "    'snap_TX': pl.Int32,\n",
    "    'snap_WI': pl.Int32,\n",
    "}\n",
    "cal = pl.read_csv(input_path / 'calendar.csv', schema_overrides=cal_dtypes, columns=list(cal_dtypes.keys()))\n",
    "event_cols = [k for k in cal_dtypes if k.startswith('event')]\n",
    "cal = cal.with_columns(pl.col(event_cols).fill_null('nan'))"
   ]
  },
  {
   "cell_type": "markdown",
   "id": "30e219a5",
   "metadata": {
    "papermill": {
     "duration": 0.005214,
     "end_time": "2024-12-06T20:04:32.979965",
     "exception": false,
     "start_time": "2024-12-06T20:04:32.974751",
     "status": "completed"
    },
    "tags": []
   },
   "source": [
    "### Prices"
   ]
  },
  {
   "cell_type": "code",
   "execution_count": 7,
   "id": "6539181a",
   "metadata": {
    "execution": {
     "iopub.execute_input": "2024-12-06T20:04:32.992029Z",
     "iopub.status.busy": "2024-12-06T20:04:32.991649Z",
     "iopub.status.idle": "2024-12-06T20:04:35.972081Z",
     "shell.execute_reply": "2024-12-06T20:04:35.971000Z"
    },
    "papermill": {
     "duration": 2.989409,
     "end_time": "2024-12-06T20:04:35.974583",
     "exception": false,
     "start_time": "2024-12-06T20:04:32.985174",
     "status": "completed"
    },
    "tags": []
   },
   "outputs": [],
   "source": [
    "prices_dtypes = {\n",
    "    'store_id': pl.Categorical,\n",
    "    'item_id': pl.Categorical,\n",
    "    'wm_yr_wk': pl.Int32,\n",
    "    'sell_price': pl.Float32,\n",
    "}\n",
    "prices = pl.read_csv(input_path / 'sell_prices.csv', schema_overrides=prices_dtypes)"
   ]
  },
  {
   "cell_type": "markdown",
   "id": "c17d3ee9",
   "metadata": {
    "papermill": {
     "duration": 0.00495,
     "end_time": "2024-12-06T20:04:35.984899",
     "exception": false,
     "start_time": "2024-12-06T20:04:35.979949",
     "status": "completed"
    },
    "tags": []
   },
   "source": [
    "### Sales"
   ]
  },
  {
   "cell_type": "code",
   "execution_count": 8,
   "id": "11044b27",
   "metadata": {
    "execution": {
     "iopub.execute_input": "2024-12-06T20:04:35.997325Z",
     "iopub.status.busy": "2024-12-06T20:04:35.996542Z",
     "iopub.status.idle": "2024-12-06T20:04:38.032852Z",
     "shell.execute_reply": "2024-12-06T20:04:38.031742Z"
    },
    "papermill": {
     "duration": 2.045142,
     "end_time": "2024-12-06T20:04:38.035238",
     "exception": false,
     "start_time": "2024-12-06T20:04:35.990096",
     "status": "completed"
    },
    "tags": []
   },
   "outputs": [],
   "source": [
    "sales_dtypes = {\n",
    "    'id': pl.Categorical,\n",
    "    'item_id': pl.Categorical,\n",
    "    'dept_id': pl.Categorical,\n",
    "    'cat_id': pl.Categorical,\n",
    "    'store_id': pl.Categorical,\n",
    "    'state_id': pl.Categorical,\n",
    "    **{f'd_{i}': pl.Float32 for i in range(1942)}\n",
    "}\n",
    "sales = pl.read_csv(input_path / 'sales_train_evaluation.csv', schema_overrides=sales_dtypes)"
   ]
  },
  {
   "cell_type": "code",
   "execution_count": 9,
   "id": "5456e7e6",
   "metadata": {},
   "outputs": [
    {
     "name": "stderr",
     "output_type": "stream",
     "text": [
      "C:\\Users\\janli\\AppData\\Local\\Temp\\ipykernel_22260\\635532964.py:8: DeprecationWarning: `LazyFrame.melt` is deprecated; use `LazyFrame.unpivot` instead, with `index` instead of `id_vars` and `on` instead of `value_vars`\n",
      "  .melt(id_vars=id_vars, value_vars=value_vars, variable_name=\"d\", value_name=\"y\")\n"
     ]
    }
   ],
   "source": [
    "import polars as pl\n",
    "\n",
    "id_vars = ['id', 'item_id', 'dept_id', 'cat_id', 'store_id', 'state_id']\n",
    "value_vars = [col for col in sales.columns if col.startswith(\"d_\")]\n",
    "\n",
    "long = (\n",
    "    sales.lazy()\n",
    "    .melt(id_vars=id_vars, value_vars=value_vars, variable_name=\"d\", value_name=\"y\")\n",
    "    .collect()\n",
    ")\n"
   ]
  },
  {
   "cell_type": "code",
   "execution_count": 10,
   "id": "168c27ea",
   "metadata": {
    "execution": {
     "iopub.execute_input": "2024-12-06T20:05:53.222200Z",
     "iopub.status.busy": "2024-12-06T20:05:53.221774Z",
     "iopub.status.idle": "2024-12-06T20:06:30.768039Z",
     "shell.execute_reply": "2024-12-06T20:06:30.765045Z"
    },
    "papermill": {
     "duration": 37.59016,
     "end_time": "2024-12-06T20:06:30.805615",
     "exception": false,
     "start_time": "2024-12-06T20:05:53.215455",
     "status": "completed"
    },
    "tags": []
   },
   "outputs": [
    {
     "name": "stdout",
     "output_type": "stream",
     "text": [
      "59181090\n",
      "12159132\n",
      "CPU times: total: 22.8 s\n",
      "Wall time: 2.76 s\n"
     ]
    }
   ],
   "source": [
    "%%time\n",
    "print(long.shape[0])\n",
    "long = long.with_columns(pl.col('d').cast(pl.Categorical))\n",
    "long = long.join(cal, on=['d'])\n",
    "dates = sorted(long['date'].unique())\n",
    "long = long.sort(['id', 'date'])\n",
    "without_leading_zeros = pl.col('y').gt(0).cast(pl.Int64).cum_max().over('id').cast(pl.Boolean)\n",
    "above_min_date = pl.col('date') >= dates[-400]\n",
    "keep_mask = without_leading_zeros & above_min_date\n",
    "long = long.filter(keep_mask)\n",
    "print(long.shape[0])"
   ]
  },
  {
   "cell_type": "code",
   "execution_count": 11,
   "id": "b2b623ee",
   "metadata": {},
   "outputs": [],
   "source": [
    "long = long.join(prices, on=['store_id', 'item_id', 'wm_yr_wk'])\n"
   ]
  },
  {
   "cell_type": "code",
   "execution_count": 59,
   "id": "c38b866d",
   "metadata": {},
   "outputs": [],
   "source": [
    "import polars as pl\n",
    "\n",
    "categoricals2 = [\n",
    "    'id', 'item_id', 'dept_id', 'cat_id', 'store_id', 'state_id',\n",
    "    'event_name_1', 'event_type_1', 'event_name_2', 'event_type_2'\n",
    "]\n",
    "\n",
    "mapping_dict = {}\n",
    "\n",
    "# Step 1: Cast columns to categorical\n",
    "df = long.with_columns([\n",
    "    pl.col(col).cast(pl.Categorical).alias(col) for col in categoricals2\n",
    "])\n",
    "\n",
    "# Step 2: Build mapping and convert to physical ints\n",
    "for col in categoricals2:\n",
    "    # Extract unique categories\n",
    "    categories = df.select(pl.col(col)).unique().sort(by=col).to_series().to_list()\n",
    "    mapping_dict[col] = {cat: i for i, cat in enumerate(categories)}\n",
    "\n",
    "    # Convert to physical integer codes\n",
    "    df = df.with_columns(pl.col(col).to_physical().alias(col))\n"
   ]
  },
  {
   "cell_type": "code",
   "execution_count": 207,
   "id": "4e6bfc6e",
   "metadata": {},
   "outputs": [],
   "source": [
    "import datetime"
   ]
  },
  {
   "cell_type": "code",
   "execution_count": 209,
   "id": "34964c27",
   "metadata": {
    "execution": {
     "iopub.execute_input": "2024-12-06T20:06:30.865796Z",
     "iopub.status.busy": "2024-12-06T20:06:30.862885Z",
     "iopub.status.idle": "2024-12-06T20:06:37.920933Z",
     "shell.execute_reply": "2024-12-06T20:06:37.916429Z"
    },
    "papermill": {
     "duration": 7.101334,
     "end_time": "2024-12-06T20:06:37.933310",
     "exception": false,
     "start_time": "2024-12-06T20:06:30.831976",
     "status": "completed"
    },
    "tags": []
   },
   "outputs": [
    {
     "name": "stderr",
     "output_type": "stream",
     "text": [
      "C:\\Users\\janli\\AppData\\Local\\Temp\\ipykernel_22260\\2110534888.py:14: DeprecationWarning: `is_in` with a collection of the same datatype is ambiguous and deprecated.\n",
      "Please use `implode` to return to previous behavior.\n",
      "\n",
      "See https://github.com/pola-rs/polars/issues/22149 for more information.\n",
      "  future_prices = prices.filter(pl.col('wm_yr_wk').is_in(future_cal['wm_yr_wk'].unique()))\n"
     ]
    }
   ],
   "source": [
    "# Get max date from long (original train + prices merged)\n",
    "last_date_all = df['date'].max()\n",
    "valid_horizon = 28\n",
    "\n",
    "valid_start_date = last_date_all - datetime.timedelta(days=valid_horizon)\n",
    "train_end = valid_start_date - datetime.timedelta(days=valid_horizon)\n",
    "\n",
    "# Split long into train and validation (just like time-based CV)\n",
    "train_long = df.filter(pl.col(\"date\") < valid_start_date)\n",
    "valid_long = df.filter(pl.col(\"date\") >= valid_start_date)\n",
    "\n",
    "# Build calendar + prices (X_df) for the validation period only\n",
    "future_cal = cal.filter((pl.col('date') >= valid_start_date) & (pl.col('date') <= last_date_all))\n",
    "future_prices = prices.filter(pl.col('wm_yr_wk').is_in(future_cal['wm_yr_wk'].unique()))\n",
    "\n",
    "# Create IDs to match training IDs\n",
    "future_prices = future_prices.with_columns(\n",
    "    id = (pl.col('item_id') + '_' + pl.col('store_id') + '_evaluation')\n",
    ")\n",
    "\n",
    "X_df = future_prices.join(future_cal, on='wm_yr_wk')\n",
    "X_df = X_df.drop(['store_id', 'item_id', 'wm_yr_wk', 'd'])\n",
    "X_df = X_df.with_columns(pl.col('id').cast(pl.Categorical))\n"
   ]
  },
  {
   "cell_type": "code",
   "execution_count": 61,
   "id": "18ec41b5",
   "metadata": {},
   "outputs": [],
   "source": [
    "for h in range(0, 28 + 1):\n",
    "    train_long = train_long.with_columns(\n",
    "        pl.col('y').shift(-h).over('id').alias(f'y_t+{h}')\n",
    "    )"
   ]
  },
  {
   "cell_type": "code",
   "execution_count": 62,
   "id": "24caf8a3",
   "metadata": {},
   "outputs": [],
   "source": [
    "df_clean = train_long.drop_nulls()"
   ]
  },
  {
   "cell_type": "code",
   "execution_count": 63,
   "id": "6067514e",
   "metadata": {},
   "outputs": [],
   "source": [
    "df_clean = df_clean.with_columns(\n",
    "    pl.arange(0, df_clean.height).alias(\"row_number\")\n",
    ")"
   ]
  },
  {
   "cell_type": "code",
   "execution_count": 64,
   "id": "c5943d5b",
   "metadata": {},
   "outputs": [],
   "source": [
    "y_cols = [f'y_t+{h}' for h in range(0, 28 + 1)]\n",
    "X_train = df_clean.drop(y_cols + ['date', 'id'])\n",
    "y_train = df_clean"
   ]
  },
  {
   "cell_type": "markdown",
   "id": "375965fc",
   "metadata": {
    "papermill": {
     "duration": 0.029302,
     "end_time": "2024-12-06T20:06:37.990641",
     "exception": false,
     "start_time": "2024-12-06T20:06:37.961339",
     "status": "completed"
    },
    "tags": []
   },
   "source": [
    "## Training"
   ]
  },
  {
   "cell_type": "markdown",
   "id": "b2483cd0",
   "metadata": {
    "papermill": {
     "duration": 0.028604,
     "end_time": "2024-12-06T20:06:38.050060",
     "exception": false,
     "start_time": "2024-12-06T20:06:38.021456",
     "status": "completed"
    },
    "tags": []
   },
   "source": [
    "Since at the time of making this LightGBM can't handle polars dataframes with categorical features we'll build the features as numpy arrays as described [here](https://nixtla.github.io/mlforecast/docs/how-to-guides/training_with_numpy.html#preprocess-method)."
   ]
  },
  {
   "cell_type": "code",
   "execution_count": 91,
   "id": "8b83b7da",
   "metadata": {
    "execution": {
     "iopub.execute_input": "2024-12-06T20:06:38.117309Z",
     "iopub.status.busy": "2024-12-06T20:06:38.114925Z",
     "iopub.status.idle": "2024-12-06T20:06:38.147758Z",
     "shell.execute_reply": "2024-12-06T20:06:38.143678Z"
    },
    "papermill": {
     "duration": 0.071891,
     "end_time": "2024-12-06T20:06:38.152158",
     "exception": false,
     "start_time": "2024-12-06T20:06:38.080267",
     "status": "completed"
    },
    "tags": []
   },
   "outputs": [],
   "source": [
    "fcst = MLForecast(\n",
    "    models=[],\n",
    "    freq='1d',\n",
    "    lags=[7 * (i+1) for i in range(8)],\n",
    "    lag_transforms = {\n",
    "        1 :  [ExpandingMean()],\n",
    "        7 :  [RollingMean(7), RollingMean(14), RollingMean(28), SeasonalRollingMean(7, 4)],\n",
    "        14:  [RollingMean(7), RollingMean(14), RollingMean(28), SeasonalRollingMean(7, 4)],\n",
    "        28:  [RollingMean(7), RollingMean(14), RollingMean(28), SeasonalRollingMean(7, 4)],\n",
    "    },\n",
    "    date_features=['year', 'month', 'day', 'weekday', 'quarter', 'week'],    \n",
    "    num_threads=4,\n",
    ")"
   ]
  },
  {
   "cell_type": "code",
   "execution_count": 123,
   "id": "546e60dc",
   "metadata": {},
   "outputs": [
    {
     "name": "stdout",
     "output_type": "stream",
     "text": [
      "CPU times: total: 3.97 s\n",
      "Wall time: 867 ms\n"
     ]
    }
   ],
   "source": [
    "%%time\n",
    "categoricals = ['id', 'item_id', 'dept_id', 'cat_id', 'store_id', 'state_id']\n",
    "X_train, y = fcst.preprocess(\n",
    "    train_long.drop([\"d\", \"wm_yr_wk\"]),\n",
    "    id_col='id',\n",
    "    time_col='date',\n",
    "    target_col='y',\n",
    "    static_features=categoricals,\n",
    "    return_X_y=True,    \n",
    "    as_numpy=False,\n",
    ")"
   ]
  },
  {
   "cell_type": "code",
   "execution_count": 124,
   "id": "1c0115ac",
   "metadata": {},
   "outputs": [
    {
     "name": "stdout",
     "output_type": "stream",
     "text": [
      "CPU times: total: 3 s\n",
      "Wall time: 2.41 s\n"
     ]
    }
   ],
   "source": [
    "%%time\n",
    "categoricals = ['id', 'item_id', 'dept_id', 'cat_id', 'store_id', 'state_id']\n",
    "_, y = fcst.preprocess(\n",
    "    train_long.drop([\"d\", \"wm_yr_wk\"]+y_cols).to_pandas(),\n",
    "    id_col='id',\n",
    "    time_col='date',\n",
    "    target_col='y',\n",
    "    static_features=categoricals,\n",
    "    return_X_y=True,    \n",
    "    as_numpy=False,\n",
    ")"
   ]
  },
  {
   "cell_type": "code",
   "execution_count": 125,
   "id": "cf99ccdd",
   "metadata": {},
   "outputs": [
    {
     "data": {
      "text/html": [
       "<div><style>\n",
       ".dataframe > thead > tr,\n",
       ".dataframe > tbody > tr {\n",
       "  text-align: right;\n",
       "  white-space: pre-wrap;\n",
       "}\n",
       "</style>\n",
       "<small>shape: (9_567_482, 70)</small><table border=\"1\" class=\"dataframe\"><thead><tr><th>id</th><th>item_id</th><th>dept_id</th><th>cat_id</th><th>store_id</th><th>state_id</th><th>event_name_1</th><th>event_type_1</th><th>event_name_2</th><th>event_type_2</th><th>snap_CA</th><th>snap_TX</th><th>snap_WI</th><th>sell_price</th><th>y_t+0</th><th>y_t+1</th><th>y_t+2</th><th>y_t+3</th><th>y_t+4</th><th>y_t+5</th><th>y_t+6</th><th>y_t+7</th><th>y_t+8</th><th>y_t+9</th><th>y_t+10</th><th>y_t+11</th><th>y_t+12</th><th>y_t+13</th><th>y_t+14</th><th>y_t+15</th><th>y_t+16</th><th>y_t+17</th><th>y_t+18</th><th>y_t+19</th><th>y_t+20</th><th>y_t+21</th><th>y_t+22</th><th>y_t+23</th><th>y_t+24</th><th>y_t+25</th><th>y_t+26</th><th>y_t+27</th><th>y_t+28</th><th>lag7</th><th>lag14</th><th>lag21</th><th>lag28</th><th>lag35</th><th>lag42</th><th>lag49</th><th>lag56</th><th>expanding_mean_lag1</th><th>rolling_mean_lag7_window_size7</th><th>rolling_mean_lag7_window_size14</th><th>rolling_mean_lag7_window_size28</th><th>seasonal_rolling_mean_lag7_season_length7_window_size4</th><th>rolling_mean_lag14_window_size7</th><th>rolling_mean_lag14_window_size14</th><th>rolling_mean_lag14_window_size28</th><th>seasonal_rolling_mean_lag14_season_length7_window_size4</th><th>rolling_mean_lag28_window_size7</th><th>rolling_mean_lag28_window_size14</th><th>rolling_mean_lag28_window_size28</th><th>seasonal_rolling_mean_lag28_season_length7_window_size4</th><th>year</th><th>month</th><th>day</th><th>weekday</th><th>quarter</th><th>week</th></tr><tr><td>u32</td><td>u32</td><td>u32</td><td>u32</td><td>u32</td><td>u32</td><td>u32</td><td>u32</td><td>u32</td><td>u32</td><td>i32</td><td>i32</td><td>i32</td><td>f32</td><td>f32</td><td>f32</td><td>f32</td><td>f32</td><td>f32</td><td>f32</td><td>f32</td><td>f32</td><td>f32</td><td>f32</td><td>f32</td><td>f32</td><td>f32</td><td>f32</td><td>f32</td><td>f32</td><td>f32</td><td>f32</td><td>f32</td><td>f32</td><td>f32</td><td>f32</td><td>f32</td><td>f32</td><td>f32</td><td>f32</td><td>f32</td><td>f32</td><td>f32</td><td>f32</td><td>f32</td><td>f32</td><td>f32</td><td>f32</td><td>f32</td><td>f32</td><td>f32</td><td>f32</td><td>f32</td><td>f32</td><td>f32</td><td>f32</td><td>f32</td><td>f32</td><td>f32</td><td>f32</td><td>f32</td><td>f32</td><td>f32</td><td>f32</td><td>i32</td><td>i8</td><td>i8</td><td>i8</td><td>i8</td><td>i8</td></tr></thead><tbody><tr><td>5063</td><td>2100</td><td>5158</td><td>5159</td><td>2004</td><td>5160</td><td>2003</td><td>2003</td><td>2003</td><td>2003</td><td>0</td><td>0</td><td>1</td><td>13.98</td><td>0.0</td><td>2.0</td><td>1.0</td><td>1.0</td><td>1.0</td><td>0.0</td><td>0.0</td><td>1.0</td><td>0.0</td><td>2.0</td><td>0.0</td><td>2.0</td><td>0.0</td><td>0.0</td><td>2.0</td><td>2.0</td><td>2.0</td><td>0.0</td><td>1.0</td><td>2.0</td><td>0.0</td><td>1.0</td><td>1.0</td><td>1.0</td><td>0.0</td><td>0.0</td><td>0.0</td><td>2.0</td><td>5.0</td><td>0.0</td><td>0.0</td><td>3.0</td><td>1.0</td><td>4.0</td><td>0.0</td><td>0.0</td><td>2.0</td><td>0.732143</td><td>0.714286</td><td>0.714286</td><td>0.857143</td><td>1.0</td><td>0.714286</td><td>1.0</td><td>0.928571</td><td>2.0</td><td>0.714286</td><td>0.857143</td><td>0.678571</td><td>1.25</td><td>2015</td><td>6</td><td>14</td><td>7</td><td>2</td><td>24</td></tr><tr><td>5063</td><td>2100</td><td>5158</td><td>5159</td><td>2004</td><td>5160</td><td>2003</td><td>2003</td><td>2003</td><td>2003</td><td>0</td><td>1</td><td>1</td><td>13.98</td><td>2.0</td><td>1.0</td><td>1.0</td><td>1.0</td><td>0.0</td><td>0.0</td><td>1.0</td><td>0.0</td><td>2.0</td><td>0.0</td><td>2.0</td><td>0.0</td><td>0.0</td><td>2.0</td><td>2.0</td><td>2.0</td><td>0.0</td><td>1.0</td><td>2.0</td><td>0.0</td><td>1.0</td><td>1.0</td><td>1.0</td><td>0.0</td><td>0.0</td><td>0.0</td><td>2.0</td><td>5.0</td><td>1.0</td><td>0.0</td><td>1.0</td><td>2.0</td><td>1.0</td><td>0.0</td><td>1.0</td><td>1.0</td><td>0.0</td><td>0.719298</td><td>0.571429</td><td>0.571429</td><td>0.857143</td><td>1.0</td><td>0.571429</td><td>1.0</td><td>0.928571</td><td>1.0</td><td>0.857143</td><td>0.857143</td><td>0.714286</td><td>0.75</td><td>2015</td><td>6</td><td>15</td><td>1</td><td>2</td><td>25</td></tr><tr><td>5063</td><td>2100</td><td>5158</td><td>5159</td><td>2004</td><td>5160</td><td>1538</td><td>1540</td><td>2003</td><td>2003</td><td>0</td><td>0</td><td>0</td><td>13.98</td><td>1.0</td><td>1.0</td><td>1.0</td><td>0.0</td><td>0.0</td><td>1.0</td><td>0.0</td><td>2.0</td><td>0.0</td><td>2.0</td><td>0.0</td><td>0.0</td><td>2.0</td><td>2.0</td><td>2.0</td><td>0.0</td><td>1.0</td><td>2.0</td><td>0.0</td><td>1.0</td><td>1.0</td><td>1.0</td><td>0.0</td><td>0.0</td><td>0.0</td><td>2.0</td><td>5.0</td><td>1.0</td><td>0.0</td><td>0.0</td><td>1.0</td><td>0.0</td><td>0.0</td><td>1.0</td><td>0.0</td><td>2.0</td><td>0.0</td><td>0.741379</td><td>0.428571</td><td>0.571429</td><td>0.821429</td><td>0.25</td><td>0.714286</td><td>1.071429</td><td>0.964286</td><td>0.5</td><td>0.714286</td><td>0.857143</td><td>0.714286</td><td>0.75</td><td>2015</td><td>6</td><td>16</td><td>2</td><td>2</td><td>25</td></tr><tr><td>5063</td><td>2100</td><td>5158</td><td>5159</td><td>2004</td><td>5160</td><td>2003</td><td>2003</td><td>2003</td><td>2003</td><td>0</td><td>0</td><td>0</td><td>13.98</td><td>1.0</td><td>1.0</td><td>0.0</td><td>0.0</td><td>1.0</td><td>0.0</td><td>2.0</td><td>0.0</td><td>2.0</td><td>0.0</td><td>0.0</td><td>2.0</td><td>2.0</td><td>2.0</td><td>0.0</td><td>1.0</td><td>2.0</td><td>0.0</td><td>1.0</td><td>1.0</td><td>1.0</td><td>0.0</td><td>0.0</td><td>0.0</td><td>2.0</td><td>5.0</td><td>1.0</td><td>0.0</td><td>2.0</td><td>1.0</td><td>1.0</td><td>0.0</td><td>0.0</td><td>1.0</td><td>1.0</td><td>0.0</td><td>0.0</td><td>0.745763</td><td>0.428571</td><td>0.642857</td><td>0.821429</td><td>0.5</td><td>0.857143</td><td>1.142857</td><td>0.964286</td><td>0.5</td><td>0.571429</td><td>0.785714</td><td>0.714286</td><td>0.5</td><td>2015</td><td>6</td><td>17</td><td>3</td><td>2</td><td>25</td></tr><tr><td>5063</td><td>2100</td><td>5158</td><td>5159</td><td>2004</td><td>5160</td><td>1539</td><td>1536</td><td>2003</td><td>2003</td><td>0</td><td>0</td><td>0</td><td>13.98</td><td>1.0</td><td>0.0</td><td>0.0</td><td>1.0</td><td>0.0</td><td>2.0</td><td>0.0</td><td>2.0</td><td>0.0</td><td>0.0</td><td>2.0</td><td>2.0</td><td>2.0</td><td>0.0</td><td>1.0</td><td>2.0</td><td>0.0</td><td>1.0</td><td>1.0</td><td>1.0</td><td>0.0</td><td>0.0</td><td>0.0</td><td>2.0</td><td>5.0</td><td>1.0</td><td>0.0</td><td>2.0</td><td>2.0</td><td>0.0</td><td>0.0</td><td>0.0</td><td>0.0</td><td>2.0</td><td>0.0</td><td>1.0</td><td>0.0</td><td>0.75</td><td>0.428571</td><td>0.642857</td><td>0.75</td><td>0.0</td><td>0.857143</td><td>1.142857</td><td>0.964286</td><td>0.5</td><td>0.285714</td><td>0.785714</td><td>0.714286</td><td>0.75</td><td>2015</td><td>6</td><td>18</td><td>4</td><td>2</td><td>25</td></tr><tr><td>&hellip;</td><td>&hellip;</td><td>&hellip;</td><td>&hellip;</td><td>&hellip;</td><td>&hellip;</td><td>&hellip;</td><td>&hellip;</td><td>&hellip;</td><td>&hellip;</td><td>&hellip;</td><td>&hellip;</td><td>&hellip;</td><td>&hellip;</td><td>&hellip;</td><td>&hellip;</td><td>&hellip;</td><td>&hellip;</td><td>&hellip;</td><td>&hellip;</td><td>&hellip;</td><td>&hellip;</td><td>&hellip;</td><td>&hellip;</td><td>&hellip;</td><td>&hellip;</td><td>&hellip;</td><td>&hellip;</td><td>&hellip;</td><td>&hellip;</td><td>&hellip;</td><td>&hellip;</td><td>&hellip;</td><td>&hellip;</td><td>&hellip;</td><td>&hellip;</td><td>&hellip;</td><td>&hellip;</td><td>&hellip;</td><td>&hellip;</td><td>&hellip;</td><td>&hellip;</td><td>&hellip;</td><td>&hellip;</td><td>&hellip;</td><td>&hellip;</td><td>&hellip;</td><td>&hellip;</td><td>&hellip;</td><td>&hellip;</td><td>&hellip;</td><td>&hellip;</td><td>&hellip;</td><td>&hellip;</td><td>&hellip;</td><td>&hellip;</td><td>&hellip;</td><td>&hellip;</td><td>&hellip;</td><td>&hellip;</td><td>&hellip;</td><td>&hellip;</td><td>&hellip;</td><td>&hellip;</td><td>&hellip;</td><td>&hellip;</td><td>&hellip;</td><td>&hellip;</td><td>&hellip;</td><td>&hellip;</td></tr><tr><td>35565</td><td>5000</td><td>7262</td><td>6691</td><td>5062</td><td>26311</td><td>2003</td><td>2003</td><td>2003</td><td>2003</td><td>0</td><td>0</td><td>0</td><td>4.98</td><td>0.0</td><td>1.0</td><td>0.0</td><td>0.0</td><td>0.0</td><td>null</td><td>null</td><td>null</td><td>null</td><td>null</td><td>null</td><td>null</td><td>null</td><td>null</td><td>null</td><td>null</td><td>null</td><td>null</td><td>null</td><td>null</td><td>null</td><td>null</td><td>null</td><td>null</td><td>null</td><td>null</td><td>null</td><td>null</td><td>null</td><td>2.0</td><td>3.0</td><td>0.0</td><td>1.0</td><td>3.0</td><td>3.0</td><td>0.0</td><td>0.0</td><td>0.437158</td><td>0.714286</td><td>0.714286</td><td>0.678571</td><td>1.5</td><td>0.714286</td><td>0.785714</td><td>0.75</td><td>1.75</td><td>0.428571</td><td>0.714286</td><td>0.678571</td><td>1.75</td><td>2016</td><td>4</td><td>19</td><td>2</td><td>2</td><td>16</td></tr><tr><td>35565</td><td>5000</td><td>7262</td><td>6691</td><td>5062</td><td>26311</td><td>2003</td><td>2003</td><td>2003</td><td>2003</td><td>0</td><td>0</td><td>0</td><td>4.98</td><td>1.0</td><td>0.0</td><td>0.0</td><td>0.0</td><td>null</td><td>null</td><td>null</td><td>null</td><td>null</td><td>null</td><td>null</td><td>null</td><td>null</td><td>null</td><td>null</td><td>null</td><td>null</td><td>null</td><td>null</td><td>null</td><td>null</td><td>null</td><td>null</td><td>null</td><td>null</td><td>null</td><td>null</td><td>null</td><td>null</td><td>0.0</td><td>2.0</td><td>1.0</td><td>0.0</td><td>0.0</td><td>1.0</td><td>0.0</td><td>1.0</td><td>0.435967</td><td>0.428571</td><td>0.642857</td><td>0.678571</td><td>0.75</td><td>0.857143</td><td>0.928571</td><td>0.785714</td><td>0.75</td><td>0.428571</td><td>0.642857</td><td>0.642857</td><td>0.25</td><td>2016</td><td>4</td><td>20</td><td>3</td><td>2</td><td>16</td></tr><tr><td>35565</td><td>5000</td><td>7262</td><td>6691</td><td>5062</td><td>26311</td><td>2003</td><td>2003</td><td>2003</td><td>2003</td><td>0</td><td>0</td><td>0</td><td>4.98</td><td>0.0</td><td>0.0</td><td>0.0</td><td>null</td><td>null</td><td>null</td><td>null</td><td>null</td><td>null</td><td>null</td><td>null</td><td>null</td><td>null</td><td>null</td><td>null</td><td>null</td><td>null</td><td>null</td><td>null</td><td>null</td><td>null</td><td>null</td><td>null</td><td>null</td><td>null</td><td>null</td><td>null</td><td>null</td><td>null</td><td>1.0</td><td>0.0</td><td>0.0</td><td>2.0</td><td>0.0</td><td>0.0</td><td>0.0</td><td>0.0</td><td>0.4375</td><td>0.571429</td><td>0.714286</td><td>0.714286</td><td>0.75</td><td>0.857143</td><td>0.785714</td><td>0.785714</td><td>0.5</td><td>0.714286</td><td>0.785714</td><td>0.714286</td><td>0.5</td><td>2016</td><td>4</td><td>21</td><td>4</td><td>2</td><td>16</td></tr><tr><td>35565</td><td>5000</td><td>7262</td><td>6691</td><td>5062</td><td>26311</td><td>2003</td><td>2003</td><td>2003</td><td>2003</td><td>0</td><td>0</td><td>0</td><td>4.98</td><td>0.0</td><td>0.0</td><td>null</td><td>null</td><td>null</td><td>null</td><td>null</td><td>null</td><td>null</td><td>null</td><td>null</td><td>null</td><td>null</td><td>null</td><td>null</td><td>null</td><td>null</td><td>null</td><td>null</td><td>null</td><td>null</td><td>null</td><td>null</td><td>null</td><td>null</td><td>null</td><td>null</td><td>null</td><td>null</td><td>2.0</td><td>0.0</td><td>0.0</td><td>1.0</td><td>0.0</td><td>0.0</td><td>0.0</td><td>0.0</td><td>0.436314</td><td>0.857143</td><td>0.857143</td><td>0.785714</td><td>0.75</td><td>0.857143</td><td>0.714286</td><td>0.785714</td><td>0.25</td><td>0.857143</td><td>0.857143</td><td>0.75</td><td>0.25</td><td>2016</td><td>4</td><td>22</td><td>5</td><td>2</td><td>16</td></tr><tr><td>35565</td><td>5000</td><td>7262</td><td>6691</td><td>5062</td><td>26311</td><td>2003</td><td>2003</td><td>2003</td><td>2003</td><td>0</td><td>0</td><td>0</td><td>4.98</td><td>0.0</td><td>null</td><td>null</td><td>null</td><td>null</td><td>null</td><td>null</td><td>null</td><td>null</td><td>null</td><td>null</td><td>null</td><td>null</td><td>null</td><td>null</td><td>null</td><td>null</td><td>null</td><td>null</td><td>null</td><td>null</td><td>null</td><td>null</td><td>null</td><td>null</td><td>null</td><td>null</td><td>null</td><td>null</td><td>0.0</td><td>0.0</td><td>1.0</td><td>0.0</td><td>1.0</td><td>1.0</td><td>2.0</td><td>0.0</td><td>0.435135</td><td>0.857143</td><td>0.785714</td><td>0.75</td><td>0.25</td><td>0.714286</td><td>0.714286</td><td>0.75</td><td>0.5</td><td>0.714286</td><td>0.785714</td><td>0.75</td><td>1.0</td><td>2016</td><td>4</td><td>23</td><td>6</td><td>2</td><td>16</td></tr></tbody></table></div>"
      ],
      "text/plain": [
       "shape: (9_567_482, 70)\n",
       "┌───────┬─────────┬─────────┬────────┬───┬─────┬─────────┬─────────┬──────┐\n",
       "│ id    ┆ item_id ┆ dept_id ┆ cat_id ┆ … ┆ day ┆ weekday ┆ quarter ┆ week │\n",
       "│ ---   ┆ ---     ┆ ---     ┆ ---    ┆   ┆ --- ┆ ---     ┆ ---     ┆ ---  │\n",
       "│ u32   ┆ u32     ┆ u32     ┆ u32    ┆   ┆ i8  ┆ i8      ┆ i8      ┆ i8   │\n",
       "╞═══════╪═════════╪═════════╪════════╪═══╪═════╪═════════╪═════════╪══════╡\n",
       "│ 5063  ┆ 2100    ┆ 5158    ┆ 5159   ┆ … ┆ 14  ┆ 7       ┆ 2       ┆ 24   │\n",
       "│ 5063  ┆ 2100    ┆ 5158    ┆ 5159   ┆ … ┆ 15  ┆ 1       ┆ 2       ┆ 25   │\n",
       "│ 5063  ┆ 2100    ┆ 5158    ┆ 5159   ┆ … ┆ 16  ┆ 2       ┆ 2       ┆ 25   │\n",
       "│ 5063  ┆ 2100    ┆ 5158    ┆ 5159   ┆ … ┆ 17  ┆ 3       ┆ 2       ┆ 25   │\n",
       "│ 5063  ┆ 2100    ┆ 5158    ┆ 5159   ┆ … ┆ 18  ┆ 4       ┆ 2       ┆ 25   │\n",
       "│ …     ┆ …       ┆ …       ┆ …      ┆ … ┆ …   ┆ …       ┆ …       ┆ …    │\n",
       "│ 35565 ┆ 5000    ┆ 7262    ┆ 6691   ┆ … ┆ 19  ┆ 2       ┆ 2       ┆ 16   │\n",
       "│ 35565 ┆ 5000    ┆ 7262    ┆ 6691   ┆ … ┆ 20  ┆ 3       ┆ 2       ┆ 16   │\n",
       "│ 35565 ┆ 5000    ┆ 7262    ┆ 6691   ┆ … ┆ 21  ┆ 4       ┆ 2       ┆ 16   │\n",
       "│ 35565 ┆ 5000    ┆ 7262    ┆ 6691   ┆ … ┆ 22  ┆ 5       ┆ 2       ┆ 16   │\n",
       "│ 35565 ┆ 5000    ┆ 7262    ┆ 6691   ┆ … ┆ 23  ┆ 6       ┆ 2       ┆ 16   │\n",
       "└───────┴─────────┴─────────┴────────┴───┴─────┴─────────┴─────────┴──────┘"
      ]
     },
     "execution_count": 125,
     "metadata": {},
     "output_type": "execute_result"
    }
   ],
   "source": [
    "X_train"
   ]
  },
  {
   "cell_type": "code",
   "execution_count": null,
   "id": "76923eae",
   "metadata": {},
   "outputs": [],
   "source": [
    "X_train = X_train.drop_nulls()\n",
    "y_train = X_train.select(y_cols)\n",
    "X_train = X_train.drop(y_cols)\n"
   ]
  },
  {
   "cell_type": "code",
   "execution_count": 128,
   "id": "62d3c626",
   "metadata": {},
   "outputs": [
    {
     "data": {
      "text/html": [
       "<div><style>\n",
       ".dataframe > thead > tr,\n",
       ".dataframe > tbody > tr {\n",
       "  text-align: right;\n",
       "  white-space: pre-wrap;\n",
       "}\n",
       "</style>\n",
       "<small>shape: (8_713_889, 41)</small><table border=\"1\" class=\"dataframe\"><thead><tr><th>id</th><th>item_id</th><th>dept_id</th><th>cat_id</th><th>store_id</th><th>state_id</th><th>event_name_1</th><th>event_type_1</th><th>event_name_2</th><th>event_type_2</th><th>snap_CA</th><th>snap_TX</th><th>snap_WI</th><th>sell_price</th><th>lag7</th><th>lag14</th><th>lag21</th><th>lag28</th><th>lag35</th><th>lag42</th><th>lag49</th><th>lag56</th><th>expanding_mean_lag1</th><th>rolling_mean_lag7_window_size7</th><th>rolling_mean_lag7_window_size14</th><th>rolling_mean_lag7_window_size28</th><th>seasonal_rolling_mean_lag7_season_length7_window_size4</th><th>rolling_mean_lag14_window_size7</th><th>rolling_mean_lag14_window_size14</th><th>rolling_mean_lag14_window_size28</th><th>seasonal_rolling_mean_lag14_season_length7_window_size4</th><th>rolling_mean_lag28_window_size7</th><th>rolling_mean_lag28_window_size14</th><th>rolling_mean_lag28_window_size28</th><th>seasonal_rolling_mean_lag28_season_length7_window_size4</th><th>year</th><th>month</th><th>day</th><th>weekday</th><th>quarter</th><th>week</th></tr><tr><td>u32</td><td>u32</td><td>u32</td><td>u32</td><td>u32</td><td>u32</td><td>u32</td><td>u32</td><td>u32</td><td>u32</td><td>i32</td><td>i32</td><td>i32</td><td>f32</td><td>f32</td><td>f32</td><td>f32</td><td>f32</td><td>f32</td><td>f32</td><td>f32</td><td>f32</td><td>f32</td><td>f32</td><td>f32</td><td>f32</td><td>f32</td><td>f32</td><td>f32</td><td>f32</td><td>f32</td><td>f32</td><td>f32</td><td>f32</td><td>f32</td><td>i32</td><td>i8</td><td>i8</td><td>i8</td><td>i8</td><td>i8</td></tr></thead><tbody><tr><td>5063</td><td>2100</td><td>5158</td><td>5159</td><td>2004</td><td>5160</td><td>2003</td><td>2003</td><td>2003</td><td>2003</td><td>0</td><td>0</td><td>1</td><td>13.98</td><td>0.0</td><td>0.0</td><td>3.0</td><td>1.0</td><td>4.0</td><td>0.0</td><td>0.0</td><td>2.0</td><td>0.732143</td><td>0.714286</td><td>0.714286</td><td>0.857143</td><td>1.0</td><td>0.714286</td><td>1.0</td><td>0.928571</td><td>2.0</td><td>0.714286</td><td>0.857143</td><td>0.678571</td><td>1.25</td><td>2015</td><td>6</td><td>14</td><td>7</td><td>2</td><td>24</td></tr><tr><td>5063</td><td>2100</td><td>5158</td><td>5159</td><td>2004</td><td>5160</td><td>2003</td><td>2003</td><td>2003</td><td>2003</td><td>0</td><td>1</td><td>1</td><td>13.98</td><td>0.0</td><td>1.0</td><td>2.0</td><td>1.0</td><td>0.0</td><td>1.0</td><td>1.0</td><td>0.0</td><td>0.719298</td><td>0.571429</td><td>0.571429</td><td>0.857143</td><td>1.0</td><td>0.571429</td><td>1.0</td><td>0.928571</td><td>1.0</td><td>0.857143</td><td>0.857143</td><td>0.714286</td><td>0.75</td><td>2015</td><td>6</td><td>15</td><td>1</td><td>2</td><td>25</td></tr><tr><td>5063</td><td>2100</td><td>5158</td><td>5159</td><td>2004</td><td>5160</td><td>1538</td><td>1540</td><td>2003</td><td>2003</td><td>0</td><td>0</td><td>0</td><td>13.98</td><td>0.0</td><td>1.0</td><td>0.0</td><td>0.0</td><td>1.0</td><td>0.0</td><td>2.0</td><td>0.0</td><td>0.741379</td><td>0.428571</td><td>0.571429</td><td>0.821429</td><td>0.25</td><td>0.714286</td><td>1.071429</td><td>0.964286</td><td>0.5</td><td>0.714286</td><td>0.857143</td><td>0.714286</td><td>0.75</td><td>2015</td><td>6</td><td>16</td><td>2</td><td>2</td><td>25</td></tr><tr><td>5063</td><td>2100</td><td>5158</td><td>5159</td><td>2004</td><td>5160</td><td>2003</td><td>2003</td><td>2003</td><td>2003</td><td>0</td><td>0</td><td>0</td><td>13.98</td><td>1.0</td><td>1.0</td><td>0.0</td><td>0.0</td><td>1.0</td><td>1.0</td><td>0.0</td><td>0.0</td><td>0.745763</td><td>0.428571</td><td>0.642857</td><td>0.821429</td><td>0.5</td><td>0.857143</td><td>1.142857</td><td>0.964286</td><td>0.5</td><td>0.571429</td><td>0.785714</td><td>0.714286</td><td>0.5</td><td>2015</td><td>6</td><td>17</td><td>3</td><td>2</td><td>25</td></tr><tr><td>5063</td><td>2100</td><td>5158</td><td>5159</td><td>2004</td><td>5160</td><td>1539</td><td>1536</td><td>2003</td><td>2003</td><td>0</td><td>0</td><td>0</td><td>13.98</td><td>0.0</td><td>0.0</td><td>0.0</td><td>0.0</td><td>2.0</td><td>0.0</td><td>1.0</td><td>0.0</td><td>0.75</td><td>0.428571</td><td>0.642857</td><td>0.75</td><td>0.0</td><td>0.857143</td><td>1.142857</td><td>0.964286</td><td>0.5</td><td>0.285714</td><td>0.785714</td><td>0.714286</td><td>0.75</td><td>2015</td><td>6</td><td>18</td><td>4</td><td>2</td><td>25</td></tr><tr><td>&hellip;</td><td>&hellip;</td><td>&hellip;</td><td>&hellip;</td><td>&hellip;</td><td>&hellip;</td><td>&hellip;</td><td>&hellip;</td><td>&hellip;</td><td>&hellip;</td><td>&hellip;</td><td>&hellip;</td><td>&hellip;</td><td>&hellip;</td><td>&hellip;</td><td>&hellip;</td><td>&hellip;</td><td>&hellip;</td><td>&hellip;</td><td>&hellip;</td><td>&hellip;</td><td>&hellip;</td><td>&hellip;</td><td>&hellip;</td><td>&hellip;</td><td>&hellip;</td><td>&hellip;</td><td>&hellip;</td><td>&hellip;</td><td>&hellip;</td><td>&hellip;</td><td>&hellip;</td><td>&hellip;</td><td>&hellip;</td><td>&hellip;</td><td>&hellip;</td><td>&hellip;</td><td>&hellip;</td><td>&hellip;</td><td>&hellip;</td><td>&hellip;</td></tr><tr><td>35565</td><td>5000</td><td>7262</td><td>6691</td><td>5062</td><td>26311</td><td>2003</td><td>2003</td><td>2003</td><td>2003</td><td>0</td><td>0</td><td>0</td><td>4.98</td><td>3.0</td><td>3.0</td><td>0.0</td><td>0.0</td><td>1.0</td><td>1.0</td><td>0.0</td><td>0.0</td><td>0.414201</td><td>1.0</td><td>0.857143</td><td>0.642857</td><td>1.5</td><td>0.714286</td><td>0.642857</td><td>0.642857</td><td>1.0</td><td>0.285714</td><td>0.642857</td><td>0.5</td><td>0.5</td><td>2016</td><td>3</td><td>22</td><td>2</td><td>1</td><td>12</td></tr><tr><td>35565</td><td>5000</td><td>7262</td><td>6691</td><td>5062</td><td>26311</td><td>2003</td><td>2003</td><td>2003</td><td>2003</td><td>0</td><td>0</td><td>0</td><td>4.98</td><td>0.0</td><td>1.0</td><td>0.0</td><td>1.0</td><td>0.0</td><td>2.0</td><td>0.0</td><td>0.0</td><td>0.415929</td><td>0.857143</td><td>0.857143</td><td>0.642857</td><td>0.5</td><td>0.857143</td><td>0.642857</td><td>0.607143</td><td>0.5</td><td>0.428571</td><td>0.571429</td><td>0.535714</td><td>0.75</td><td>2016</td><td>3</td><td>23</td><td>3</td><td>1</td><td>12</td></tr><tr><td>35565</td><td>5000</td><td>7262</td><td>6691</td><td>5062</td><td>26311</td><td>1527</td><td>1536</td><td>2003</td><td>2003</td><td>0</td><td>0</td><td>0</td><td>4.98</td><td>0.0</td><td>0.0</td><td>0.0</td><td>0.0</td><td>0.0</td><td>0.0</td><td>0.0</td><td>0.0</td><td>0.414706</td><td>0.857143</td><td>0.857143</td><td>0.642857</td><td>0.0</td><td>0.857143</td><td>0.642857</td><td>0.607143</td><td>0.0</td><td>0.428571</td><td>0.571429</td><td>0.535714</td><td>0.0</td><td>2016</td><td>3</td><td>24</td><td>4</td><td>1</td><td>12</td></tr><tr><td>35565</td><td>5000</td><td>7262</td><td>6691</td><td>5062</td><td>26311</td><td>2003</td><td>2003</td><td>2003</td><td>2003</td><td>0</td><td>0</td><td>0</td><td>4.98</td><td>0.0</td><td>0.0</td><td>0.0</td><td>0.0</td><td>0.0</td><td>2.0</td><td>0.0</td><td>0.0</td><td>0.419355</td><td>0.857143</td><td>0.857143</td><td>0.642857</td><td>0.0</td><td>0.857143</td><td>0.642857</td><td>0.535714</td><td>0.0</td><td>0.428571</td><td>0.428571</td><td>0.535714</td><td>0.5</td><td>2016</td><td>3</td><td>25</td><td>5</td><td>1</td><td>12</td></tr><tr><td>35565</td><td>5000</td><td>7262</td><td>6691</td><td>5062</td><td>26311</td><td>2003</td><td>2003</td><td>2003</td><td>2003</td><td>0</td><td>0</td><td>0</td><td>4.98</td><td>1.0</td><td>1.0</td><td>2.0</td><td>0.0</td><td>2.0</td><td>0.0</td><td>0.0</td><td>0.0</td><td>0.421053</td><td>0.857143</td><td>0.785714</td><td>0.607143</td><td>1.0</td><td>0.714286</td><td>0.714286</td><td>0.571429</td><td>1.25</td><td>0.142857</td><td>0.428571</td><td>0.535714</td><td>0.5</td><td>2016</td><td>3</td><td>26</td><td>6</td><td>1</td><td>12</td></tr></tbody></table></div>"
      ],
      "text/plain": [
       "shape: (8_713_889, 41)\n",
       "┌───────┬─────────┬─────────┬────────┬───┬─────┬─────────┬─────────┬──────┐\n",
       "│ id    ┆ item_id ┆ dept_id ┆ cat_id ┆ … ┆ day ┆ weekday ┆ quarter ┆ week │\n",
       "│ ---   ┆ ---     ┆ ---     ┆ ---    ┆   ┆ --- ┆ ---     ┆ ---     ┆ ---  │\n",
       "│ u32   ┆ u32     ┆ u32     ┆ u32    ┆   ┆ i8  ┆ i8      ┆ i8      ┆ i8   │\n",
       "╞═══════╪═════════╪═════════╪════════╪═══╪═════╪═════════╪═════════╪══════╡\n",
       "│ 5063  ┆ 2100    ┆ 5158    ┆ 5159   ┆ … ┆ 14  ┆ 7       ┆ 2       ┆ 24   │\n",
       "│ 5063  ┆ 2100    ┆ 5158    ┆ 5159   ┆ … ┆ 15  ┆ 1       ┆ 2       ┆ 25   │\n",
       "│ 5063  ┆ 2100    ┆ 5158    ┆ 5159   ┆ … ┆ 16  ┆ 2       ┆ 2       ┆ 25   │\n",
       "│ 5063  ┆ 2100    ┆ 5158    ┆ 5159   ┆ … ┆ 17  ┆ 3       ┆ 2       ┆ 25   │\n",
       "│ 5063  ┆ 2100    ┆ 5158    ┆ 5159   ┆ … ┆ 18  ┆ 4       ┆ 2       ┆ 25   │\n",
       "│ …     ┆ …       ┆ …       ┆ …      ┆ … ┆ …   ┆ …       ┆ …       ┆ …    │\n",
       "│ 35565 ┆ 5000    ┆ 7262    ┆ 6691   ┆ … ┆ 22  ┆ 2       ┆ 1       ┆ 12   │\n",
       "│ 35565 ┆ 5000    ┆ 7262    ┆ 6691   ┆ … ┆ 23  ┆ 3       ┆ 1       ┆ 12   │\n",
       "│ 35565 ┆ 5000    ┆ 7262    ┆ 6691   ┆ … ┆ 24  ┆ 4       ┆ 1       ┆ 12   │\n",
       "│ 35565 ┆ 5000    ┆ 7262    ┆ 6691   ┆ … ┆ 25  ┆ 5       ┆ 1       ┆ 12   │\n",
       "│ 35565 ┆ 5000    ┆ 7262    ┆ 6691   ┆ … ┆ 26  ┆ 6       ┆ 1       ┆ 12   │\n",
       "└───────┴─────────┴─────────┴────────┴───┴─────┴─────────┴─────────┴──────┘"
      ]
     },
     "execution_count": 128,
     "metadata": {},
     "output_type": "execute_result"
    }
   ],
   "source": [
    "X_train"
   ]
  },
  {
   "cell_type": "code",
   "execution_count": 129,
   "id": "a9eafc00",
   "metadata": {},
   "outputs": [],
   "source": [
    "from sklearn.multioutput import MultiOutputRegressor\n",
    "from sklearn.base import clone\n",
    "from joblib import Parallel, delayed\n",
    "\n",
    "class MultiOutputLGBMRegressor(MultiOutputRegressor):\n",
    "    def __init__(self, estimator, n_jobs=None, feature_name=None, categorical_feature=None):\n",
    "        super().__init__(estimator, n_jobs=n_jobs)\n",
    "        self.feature_name = feature_name\n",
    "        self.categorical_feature = categorical_feature\n",
    "\n",
    "    def fit(self, X, Y, **fit_params):\n",
    "        if len(Y.shape) != 2:\n",
    "            raise ValueError(\"Y must be 2D for multi-output regression.\")\n",
    "        \n",
    "        self.estimators_ = Parallel(n_jobs=self.n_jobs)(\n",
    "            delayed(self._fit_single)(\n",
    "                i, X, Y[:, i]\n",
    "            ) for i in range(Y.shape[1])\n",
    "        )\n",
    "        return self\n",
    "\n",
    "    def _fit_single(self, i, X, y):\n",
    "        estimator = clone(self.estimator)\n",
    "        estimator.fit(\n",
    "            X, y,\n",
    "            feature_name=self.feature_name,\n",
    "            categorical_feature=self.categorical_feature\n",
    "        )\n",
    "        return estimator\n",
    "\n",
    "    def predict(self, X):\n",
    "        return super().predict(X)\n"
   ]
  },
  {
   "cell_type": "code",
   "execution_count": 130,
   "id": "ba7f1b40",
   "metadata": {},
   "outputs": [
    {
     "data": {
      "text/plain": [
       "['id',\n",
       " 'item_id',\n",
       " 'dept_id',\n",
       " 'cat_id',\n",
       " 'store_id',\n",
       " 'state_id',\n",
       " 'event_name_1',\n",
       " 'event_type_1',\n",
       " 'event_name_2',\n",
       " 'event_type_2',\n",
       " 'snap_CA',\n",
       " 'snap_TX',\n",
       " 'snap_WI',\n",
       " 'sell_price',\n",
       " 'lag7',\n",
       " 'lag14',\n",
       " 'lag21',\n",
       " 'lag28',\n",
       " 'lag35',\n",
       " 'lag42',\n",
       " 'lag49',\n",
       " 'lag56',\n",
       " 'expanding_mean_lag1',\n",
       " 'rolling_mean_lag7_window_size7',\n",
       " 'rolling_mean_lag7_window_size14',\n",
       " 'rolling_mean_lag7_window_size28',\n",
       " 'seasonal_rolling_mean_lag7_season_length7_window_size4',\n",
       " 'rolling_mean_lag14_window_size7',\n",
       " 'rolling_mean_lag14_window_size14',\n",
       " 'rolling_mean_lag14_window_size28',\n",
       " 'seasonal_rolling_mean_lag14_season_length7_window_size4',\n",
       " 'rolling_mean_lag28_window_size7',\n",
       " 'rolling_mean_lag28_window_size14',\n",
       " 'rolling_mean_lag28_window_size28',\n",
       " 'seasonal_rolling_mean_lag28_season_length7_window_size4',\n",
       " 'year',\n",
       " 'month',\n",
       " 'day',\n",
       " 'weekday',\n",
       " 'quarter',\n",
       " 'week']"
      ]
     },
     "execution_count": 130,
     "metadata": {},
     "output_type": "execute_result"
    }
   ],
   "source": [
    "fcst.ts.features_order_"
   ]
  },
  {
   "cell_type": "code",
   "execution_count": 131,
   "id": "bed02c7f",
   "metadata": {},
   "outputs": [
    {
     "data": {
      "text/html": [
       "<div><style>\n",
       ".dataframe > thead > tr,\n",
       ".dataframe > tbody > tr {\n",
       "  text-align: right;\n",
       "  white-space: pre-wrap;\n",
       "}\n",
       "</style>\n",
       "<small>shape: (8_713_889, 41)</small><table border=\"1\" class=\"dataframe\"><thead><tr><th>id</th><th>item_id</th><th>dept_id</th><th>cat_id</th><th>store_id</th><th>state_id</th><th>event_name_1</th><th>event_type_1</th><th>event_name_2</th><th>event_type_2</th><th>snap_CA</th><th>snap_TX</th><th>snap_WI</th><th>sell_price</th><th>lag7</th><th>lag14</th><th>lag21</th><th>lag28</th><th>lag35</th><th>lag42</th><th>lag49</th><th>lag56</th><th>expanding_mean_lag1</th><th>rolling_mean_lag7_window_size7</th><th>rolling_mean_lag7_window_size14</th><th>rolling_mean_lag7_window_size28</th><th>seasonal_rolling_mean_lag7_season_length7_window_size4</th><th>rolling_mean_lag14_window_size7</th><th>rolling_mean_lag14_window_size14</th><th>rolling_mean_lag14_window_size28</th><th>seasonal_rolling_mean_lag14_season_length7_window_size4</th><th>rolling_mean_lag28_window_size7</th><th>rolling_mean_lag28_window_size14</th><th>rolling_mean_lag28_window_size28</th><th>seasonal_rolling_mean_lag28_season_length7_window_size4</th><th>year</th><th>month</th><th>day</th><th>weekday</th><th>quarter</th><th>week</th></tr><tr><td>u32</td><td>u32</td><td>u32</td><td>u32</td><td>u32</td><td>u32</td><td>u32</td><td>u32</td><td>u32</td><td>u32</td><td>i32</td><td>i32</td><td>i32</td><td>f32</td><td>f32</td><td>f32</td><td>f32</td><td>f32</td><td>f32</td><td>f32</td><td>f32</td><td>f32</td><td>f32</td><td>f32</td><td>f32</td><td>f32</td><td>f32</td><td>f32</td><td>f32</td><td>f32</td><td>f32</td><td>f32</td><td>f32</td><td>f32</td><td>f32</td><td>i32</td><td>i8</td><td>i8</td><td>i8</td><td>i8</td><td>i8</td></tr></thead><tbody><tr><td>5063</td><td>2100</td><td>5158</td><td>5159</td><td>2004</td><td>5160</td><td>2003</td><td>2003</td><td>2003</td><td>2003</td><td>0</td><td>0</td><td>1</td><td>13.98</td><td>0.0</td><td>0.0</td><td>3.0</td><td>1.0</td><td>4.0</td><td>0.0</td><td>0.0</td><td>2.0</td><td>0.732143</td><td>0.714286</td><td>0.714286</td><td>0.857143</td><td>1.0</td><td>0.714286</td><td>1.0</td><td>0.928571</td><td>2.0</td><td>0.714286</td><td>0.857143</td><td>0.678571</td><td>1.25</td><td>2015</td><td>6</td><td>14</td><td>7</td><td>2</td><td>24</td></tr><tr><td>5063</td><td>2100</td><td>5158</td><td>5159</td><td>2004</td><td>5160</td><td>2003</td><td>2003</td><td>2003</td><td>2003</td><td>0</td><td>1</td><td>1</td><td>13.98</td><td>0.0</td><td>1.0</td><td>2.0</td><td>1.0</td><td>0.0</td><td>1.0</td><td>1.0</td><td>0.0</td><td>0.719298</td><td>0.571429</td><td>0.571429</td><td>0.857143</td><td>1.0</td><td>0.571429</td><td>1.0</td><td>0.928571</td><td>1.0</td><td>0.857143</td><td>0.857143</td><td>0.714286</td><td>0.75</td><td>2015</td><td>6</td><td>15</td><td>1</td><td>2</td><td>25</td></tr><tr><td>5063</td><td>2100</td><td>5158</td><td>5159</td><td>2004</td><td>5160</td><td>1538</td><td>1540</td><td>2003</td><td>2003</td><td>0</td><td>0</td><td>0</td><td>13.98</td><td>0.0</td><td>1.0</td><td>0.0</td><td>0.0</td><td>1.0</td><td>0.0</td><td>2.0</td><td>0.0</td><td>0.741379</td><td>0.428571</td><td>0.571429</td><td>0.821429</td><td>0.25</td><td>0.714286</td><td>1.071429</td><td>0.964286</td><td>0.5</td><td>0.714286</td><td>0.857143</td><td>0.714286</td><td>0.75</td><td>2015</td><td>6</td><td>16</td><td>2</td><td>2</td><td>25</td></tr><tr><td>5063</td><td>2100</td><td>5158</td><td>5159</td><td>2004</td><td>5160</td><td>2003</td><td>2003</td><td>2003</td><td>2003</td><td>0</td><td>0</td><td>0</td><td>13.98</td><td>1.0</td><td>1.0</td><td>0.0</td><td>0.0</td><td>1.0</td><td>1.0</td><td>0.0</td><td>0.0</td><td>0.745763</td><td>0.428571</td><td>0.642857</td><td>0.821429</td><td>0.5</td><td>0.857143</td><td>1.142857</td><td>0.964286</td><td>0.5</td><td>0.571429</td><td>0.785714</td><td>0.714286</td><td>0.5</td><td>2015</td><td>6</td><td>17</td><td>3</td><td>2</td><td>25</td></tr><tr><td>5063</td><td>2100</td><td>5158</td><td>5159</td><td>2004</td><td>5160</td><td>1539</td><td>1536</td><td>2003</td><td>2003</td><td>0</td><td>0</td><td>0</td><td>13.98</td><td>0.0</td><td>0.0</td><td>0.0</td><td>0.0</td><td>2.0</td><td>0.0</td><td>1.0</td><td>0.0</td><td>0.75</td><td>0.428571</td><td>0.642857</td><td>0.75</td><td>0.0</td><td>0.857143</td><td>1.142857</td><td>0.964286</td><td>0.5</td><td>0.285714</td><td>0.785714</td><td>0.714286</td><td>0.75</td><td>2015</td><td>6</td><td>18</td><td>4</td><td>2</td><td>25</td></tr><tr><td>&hellip;</td><td>&hellip;</td><td>&hellip;</td><td>&hellip;</td><td>&hellip;</td><td>&hellip;</td><td>&hellip;</td><td>&hellip;</td><td>&hellip;</td><td>&hellip;</td><td>&hellip;</td><td>&hellip;</td><td>&hellip;</td><td>&hellip;</td><td>&hellip;</td><td>&hellip;</td><td>&hellip;</td><td>&hellip;</td><td>&hellip;</td><td>&hellip;</td><td>&hellip;</td><td>&hellip;</td><td>&hellip;</td><td>&hellip;</td><td>&hellip;</td><td>&hellip;</td><td>&hellip;</td><td>&hellip;</td><td>&hellip;</td><td>&hellip;</td><td>&hellip;</td><td>&hellip;</td><td>&hellip;</td><td>&hellip;</td><td>&hellip;</td><td>&hellip;</td><td>&hellip;</td><td>&hellip;</td><td>&hellip;</td><td>&hellip;</td><td>&hellip;</td></tr><tr><td>35565</td><td>5000</td><td>7262</td><td>6691</td><td>5062</td><td>26311</td><td>2003</td><td>2003</td><td>2003</td><td>2003</td><td>0</td><td>0</td><td>0</td><td>4.98</td><td>3.0</td><td>3.0</td><td>0.0</td><td>0.0</td><td>1.0</td><td>1.0</td><td>0.0</td><td>0.0</td><td>0.414201</td><td>1.0</td><td>0.857143</td><td>0.642857</td><td>1.5</td><td>0.714286</td><td>0.642857</td><td>0.642857</td><td>1.0</td><td>0.285714</td><td>0.642857</td><td>0.5</td><td>0.5</td><td>2016</td><td>3</td><td>22</td><td>2</td><td>1</td><td>12</td></tr><tr><td>35565</td><td>5000</td><td>7262</td><td>6691</td><td>5062</td><td>26311</td><td>2003</td><td>2003</td><td>2003</td><td>2003</td><td>0</td><td>0</td><td>0</td><td>4.98</td><td>0.0</td><td>1.0</td><td>0.0</td><td>1.0</td><td>0.0</td><td>2.0</td><td>0.0</td><td>0.0</td><td>0.415929</td><td>0.857143</td><td>0.857143</td><td>0.642857</td><td>0.5</td><td>0.857143</td><td>0.642857</td><td>0.607143</td><td>0.5</td><td>0.428571</td><td>0.571429</td><td>0.535714</td><td>0.75</td><td>2016</td><td>3</td><td>23</td><td>3</td><td>1</td><td>12</td></tr><tr><td>35565</td><td>5000</td><td>7262</td><td>6691</td><td>5062</td><td>26311</td><td>1527</td><td>1536</td><td>2003</td><td>2003</td><td>0</td><td>0</td><td>0</td><td>4.98</td><td>0.0</td><td>0.0</td><td>0.0</td><td>0.0</td><td>0.0</td><td>0.0</td><td>0.0</td><td>0.0</td><td>0.414706</td><td>0.857143</td><td>0.857143</td><td>0.642857</td><td>0.0</td><td>0.857143</td><td>0.642857</td><td>0.607143</td><td>0.0</td><td>0.428571</td><td>0.571429</td><td>0.535714</td><td>0.0</td><td>2016</td><td>3</td><td>24</td><td>4</td><td>1</td><td>12</td></tr><tr><td>35565</td><td>5000</td><td>7262</td><td>6691</td><td>5062</td><td>26311</td><td>2003</td><td>2003</td><td>2003</td><td>2003</td><td>0</td><td>0</td><td>0</td><td>4.98</td><td>0.0</td><td>0.0</td><td>0.0</td><td>0.0</td><td>0.0</td><td>2.0</td><td>0.0</td><td>0.0</td><td>0.419355</td><td>0.857143</td><td>0.857143</td><td>0.642857</td><td>0.0</td><td>0.857143</td><td>0.642857</td><td>0.535714</td><td>0.0</td><td>0.428571</td><td>0.428571</td><td>0.535714</td><td>0.5</td><td>2016</td><td>3</td><td>25</td><td>5</td><td>1</td><td>12</td></tr><tr><td>35565</td><td>5000</td><td>7262</td><td>6691</td><td>5062</td><td>26311</td><td>2003</td><td>2003</td><td>2003</td><td>2003</td><td>0</td><td>0</td><td>0</td><td>4.98</td><td>1.0</td><td>1.0</td><td>2.0</td><td>0.0</td><td>2.0</td><td>0.0</td><td>0.0</td><td>0.0</td><td>0.421053</td><td>0.857143</td><td>0.785714</td><td>0.607143</td><td>1.0</td><td>0.714286</td><td>0.714286</td><td>0.571429</td><td>1.25</td><td>0.142857</td><td>0.428571</td><td>0.535714</td><td>0.5</td><td>2016</td><td>3</td><td>26</td><td>6</td><td>1</td><td>12</td></tr></tbody></table></div>"
      ],
      "text/plain": [
       "shape: (8_713_889, 41)\n",
       "┌───────┬─────────┬─────────┬────────┬───┬─────┬─────────┬─────────┬──────┐\n",
       "│ id    ┆ item_id ┆ dept_id ┆ cat_id ┆ … ┆ day ┆ weekday ┆ quarter ┆ week │\n",
       "│ ---   ┆ ---     ┆ ---     ┆ ---    ┆   ┆ --- ┆ ---     ┆ ---     ┆ ---  │\n",
       "│ u32   ┆ u32     ┆ u32     ┆ u32    ┆   ┆ i8  ┆ i8      ┆ i8      ┆ i8   │\n",
       "╞═══════╪═════════╪═════════╪════════╪═══╪═════╪═════════╪═════════╪══════╡\n",
       "│ 5063  ┆ 2100    ┆ 5158    ┆ 5159   ┆ … ┆ 14  ┆ 7       ┆ 2       ┆ 24   │\n",
       "│ 5063  ┆ 2100    ┆ 5158    ┆ 5159   ┆ … ┆ 15  ┆ 1       ┆ 2       ┆ 25   │\n",
       "│ 5063  ┆ 2100    ┆ 5158    ┆ 5159   ┆ … ┆ 16  ┆ 2       ┆ 2       ┆ 25   │\n",
       "│ 5063  ┆ 2100    ┆ 5158    ┆ 5159   ┆ … ┆ 17  ┆ 3       ┆ 2       ┆ 25   │\n",
       "│ 5063  ┆ 2100    ┆ 5158    ┆ 5159   ┆ … ┆ 18  ┆ 4       ┆ 2       ┆ 25   │\n",
       "│ …     ┆ …       ┆ …       ┆ …      ┆ … ┆ …   ┆ …       ┆ …       ┆ …    │\n",
       "│ 35565 ┆ 5000    ┆ 7262    ┆ 6691   ┆ … ┆ 22  ┆ 2       ┆ 1       ┆ 12   │\n",
       "│ 35565 ┆ 5000    ┆ 7262    ┆ 6691   ┆ … ┆ 23  ┆ 3       ┆ 1       ┆ 12   │\n",
       "│ 35565 ┆ 5000    ┆ 7262    ┆ 6691   ┆ … ┆ 24  ┆ 4       ┆ 1       ┆ 12   │\n",
       "│ 35565 ┆ 5000    ┆ 7262    ┆ 6691   ┆ … ┆ 25  ┆ 5       ┆ 1       ┆ 12   │\n",
       "│ 35565 ┆ 5000    ┆ 7262    ┆ 6691   ┆ … ┆ 26  ┆ 6       ┆ 1       ┆ 12   │\n",
       "└───────┴─────────┴─────────┴────────┴───┴─────┴─────────┴─────────┴──────┘"
      ]
     },
     "execution_count": 131,
     "metadata": {},
     "output_type": "execute_result"
    }
   ],
   "source": [
    "X_train"
   ]
  },
  {
   "cell_type": "code",
   "execution_count": 134,
   "id": "c7d4863c",
   "metadata": {},
   "outputs": [
    {
     "name": "stdout",
     "output_type": "stream",
     "text": [
      "CPU times: total: 16.3 s\n",
      "Wall time: 5min 4s\n"
     ]
    },
    {
     "data": {
      "text/html": [
       "<style>#sk-container-id-1 {\n",
       "  /* Definition of color scheme common for light and dark mode */\n",
       "  --sklearn-color-text: black;\n",
       "  --sklearn-color-line: gray;\n",
       "  /* Definition of color scheme for unfitted estimators */\n",
       "  --sklearn-color-unfitted-level-0: #fff5e6;\n",
       "  --sklearn-color-unfitted-level-1: #f6e4d2;\n",
       "  --sklearn-color-unfitted-level-2: #ffe0b3;\n",
       "  --sklearn-color-unfitted-level-3: chocolate;\n",
       "  /* Definition of color scheme for fitted estimators */\n",
       "  --sklearn-color-fitted-level-0: #f0f8ff;\n",
       "  --sklearn-color-fitted-level-1: #d4ebff;\n",
       "  --sklearn-color-fitted-level-2: #b3dbfd;\n",
       "  --sklearn-color-fitted-level-3: cornflowerblue;\n",
       "\n",
       "  /* Specific color for light theme */\n",
       "  --sklearn-color-text-on-default-background: var(--sg-text-color, var(--theme-code-foreground, var(--jp-content-font-color1, black)));\n",
       "  --sklearn-color-background: var(--sg-background-color, var(--theme-background, var(--jp-layout-color0, white)));\n",
       "  --sklearn-color-border-box: var(--sg-text-color, var(--theme-code-foreground, var(--jp-content-font-color1, black)));\n",
       "  --sklearn-color-icon: #696969;\n",
       "\n",
       "  @media (prefers-color-scheme: dark) {\n",
       "    /* Redefinition of color scheme for dark theme */\n",
       "    --sklearn-color-text-on-default-background: var(--sg-text-color, var(--theme-code-foreground, var(--jp-content-font-color1, white)));\n",
       "    --sklearn-color-background: var(--sg-background-color, var(--theme-background, var(--jp-layout-color0, #111)));\n",
       "    --sklearn-color-border-box: var(--sg-text-color, var(--theme-code-foreground, var(--jp-content-font-color1, white)));\n",
       "    --sklearn-color-icon: #878787;\n",
       "  }\n",
       "}\n",
       "\n",
       "#sk-container-id-1 {\n",
       "  color: var(--sklearn-color-text);\n",
       "}\n",
       "\n",
       "#sk-container-id-1 pre {\n",
       "  padding: 0;\n",
       "}\n",
       "\n",
       "#sk-container-id-1 input.sk-hidden--visually {\n",
       "  border: 0;\n",
       "  clip: rect(1px 1px 1px 1px);\n",
       "  clip: rect(1px, 1px, 1px, 1px);\n",
       "  height: 1px;\n",
       "  margin: -1px;\n",
       "  overflow: hidden;\n",
       "  padding: 0;\n",
       "  position: absolute;\n",
       "  width: 1px;\n",
       "}\n",
       "\n",
       "#sk-container-id-1 div.sk-dashed-wrapped {\n",
       "  border: 1px dashed var(--sklearn-color-line);\n",
       "  margin: 0 0.4em 0.5em 0.4em;\n",
       "  box-sizing: border-box;\n",
       "  padding-bottom: 0.4em;\n",
       "  background-color: var(--sklearn-color-background);\n",
       "}\n",
       "\n",
       "#sk-container-id-1 div.sk-container {\n",
       "  /* jupyter's `normalize.less` sets `[hidden] { display: none; }`\n",
       "     but bootstrap.min.css set `[hidden] { display: none !important; }`\n",
       "     so we also need the `!important` here to be able to override the\n",
       "     default hidden behavior on the sphinx rendered scikit-learn.org.\n",
       "     See: https://github.com/scikit-learn/scikit-learn/issues/21755 */\n",
       "  display: inline-block !important;\n",
       "  position: relative;\n",
       "}\n",
       "\n",
       "#sk-container-id-1 div.sk-text-repr-fallback {\n",
       "  display: none;\n",
       "}\n",
       "\n",
       "div.sk-parallel-item,\n",
       "div.sk-serial,\n",
       "div.sk-item {\n",
       "  /* draw centered vertical line to link estimators */\n",
       "  background-image: linear-gradient(var(--sklearn-color-text-on-default-background), var(--sklearn-color-text-on-default-background));\n",
       "  background-size: 2px 100%;\n",
       "  background-repeat: no-repeat;\n",
       "  background-position: center center;\n",
       "}\n",
       "\n",
       "/* Parallel-specific style estimator block */\n",
       "\n",
       "#sk-container-id-1 div.sk-parallel-item::after {\n",
       "  content: \"\";\n",
       "  width: 100%;\n",
       "  border-bottom: 2px solid var(--sklearn-color-text-on-default-background);\n",
       "  flex-grow: 1;\n",
       "}\n",
       "\n",
       "#sk-container-id-1 div.sk-parallel {\n",
       "  display: flex;\n",
       "  align-items: stretch;\n",
       "  justify-content: center;\n",
       "  background-color: var(--sklearn-color-background);\n",
       "  position: relative;\n",
       "}\n",
       "\n",
       "#sk-container-id-1 div.sk-parallel-item {\n",
       "  display: flex;\n",
       "  flex-direction: column;\n",
       "}\n",
       "\n",
       "#sk-container-id-1 div.sk-parallel-item:first-child::after {\n",
       "  align-self: flex-end;\n",
       "  width: 50%;\n",
       "}\n",
       "\n",
       "#sk-container-id-1 div.sk-parallel-item:last-child::after {\n",
       "  align-self: flex-start;\n",
       "  width: 50%;\n",
       "}\n",
       "\n",
       "#sk-container-id-1 div.sk-parallel-item:only-child::after {\n",
       "  width: 0;\n",
       "}\n",
       "\n",
       "/* Serial-specific style estimator block */\n",
       "\n",
       "#sk-container-id-1 div.sk-serial {\n",
       "  display: flex;\n",
       "  flex-direction: column;\n",
       "  align-items: center;\n",
       "  background-color: var(--sklearn-color-background);\n",
       "  padding-right: 1em;\n",
       "  padding-left: 1em;\n",
       "}\n",
       "\n",
       "\n",
       "/* Toggleable style: style used for estimator/Pipeline/ColumnTransformer box that is\n",
       "clickable and can be expanded/collapsed.\n",
       "- Pipeline and ColumnTransformer use this feature and define the default style\n",
       "- Estimators will overwrite some part of the style using the `sk-estimator` class\n",
       "*/\n",
       "\n",
       "/* Pipeline and ColumnTransformer style (default) */\n",
       "\n",
       "#sk-container-id-1 div.sk-toggleable {\n",
       "  /* Default theme specific background. It is overwritten whether we have a\n",
       "  specific estimator or a Pipeline/ColumnTransformer */\n",
       "  background-color: var(--sklearn-color-background);\n",
       "}\n",
       "\n",
       "/* Toggleable label */\n",
       "#sk-container-id-1 label.sk-toggleable__label {\n",
       "  cursor: pointer;\n",
       "  display: block;\n",
       "  width: 100%;\n",
       "  margin-bottom: 0;\n",
       "  padding: 0.5em;\n",
       "  box-sizing: border-box;\n",
       "  text-align: center;\n",
       "}\n",
       "\n",
       "#sk-container-id-1 label.sk-toggleable__label-arrow:before {\n",
       "  /* Arrow on the left of the label */\n",
       "  content: \"▸\";\n",
       "  float: left;\n",
       "  margin-right: 0.25em;\n",
       "  color: var(--sklearn-color-icon);\n",
       "}\n",
       "\n",
       "#sk-container-id-1 label.sk-toggleable__label-arrow:hover:before {\n",
       "  color: var(--sklearn-color-text);\n",
       "}\n",
       "\n",
       "/* Toggleable content - dropdown */\n",
       "\n",
       "#sk-container-id-1 div.sk-toggleable__content {\n",
       "  max-height: 0;\n",
       "  max-width: 0;\n",
       "  overflow: hidden;\n",
       "  text-align: left;\n",
       "  /* unfitted */\n",
       "  background-color: var(--sklearn-color-unfitted-level-0);\n",
       "}\n",
       "\n",
       "#sk-container-id-1 div.sk-toggleable__content.fitted {\n",
       "  /* fitted */\n",
       "  background-color: var(--sklearn-color-fitted-level-0);\n",
       "}\n",
       "\n",
       "#sk-container-id-1 div.sk-toggleable__content pre {\n",
       "  margin: 0.2em;\n",
       "  border-radius: 0.25em;\n",
       "  color: var(--sklearn-color-text);\n",
       "  /* unfitted */\n",
       "  background-color: var(--sklearn-color-unfitted-level-0);\n",
       "}\n",
       "\n",
       "#sk-container-id-1 div.sk-toggleable__content.fitted pre {\n",
       "  /* unfitted */\n",
       "  background-color: var(--sklearn-color-fitted-level-0);\n",
       "}\n",
       "\n",
       "#sk-container-id-1 input.sk-toggleable__control:checked~div.sk-toggleable__content {\n",
       "  /* Expand drop-down */\n",
       "  max-height: 200px;\n",
       "  max-width: 100%;\n",
       "  overflow: auto;\n",
       "}\n",
       "\n",
       "#sk-container-id-1 input.sk-toggleable__control:checked~label.sk-toggleable__label-arrow:before {\n",
       "  content: \"▾\";\n",
       "}\n",
       "\n",
       "/* Pipeline/ColumnTransformer-specific style */\n",
       "\n",
       "#sk-container-id-1 div.sk-label input.sk-toggleable__control:checked~label.sk-toggleable__label {\n",
       "  color: var(--sklearn-color-text);\n",
       "  background-color: var(--sklearn-color-unfitted-level-2);\n",
       "}\n",
       "\n",
       "#sk-container-id-1 div.sk-label.fitted input.sk-toggleable__control:checked~label.sk-toggleable__label {\n",
       "  background-color: var(--sklearn-color-fitted-level-2);\n",
       "}\n",
       "\n",
       "/* Estimator-specific style */\n",
       "\n",
       "/* Colorize estimator box */\n",
       "#sk-container-id-1 div.sk-estimator input.sk-toggleable__control:checked~label.sk-toggleable__label {\n",
       "  /* unfitted */\n",
       "  background-color: var(--sklearn-color-unfitted-level-2);\n",
       "}\n",
       "\n",
       "#sk-container-id-1 div.sk-estimator.fitted input.sk-toggleable__control:checked~label.sk-toggleable__label {\n",
       "  /* fitted */\n",
       "  background-color: var(--sklearn-color-fitted-level-2);\n",
       "}\n",
       "\n",
       "#sk-container-id-1 div.sk-label label.sk-toggleable__label,\n",
       "#sk-container-id-1 div.sk-label label {\n",
       "  /* The background is the default theme color */\n",
       "  color: var(--sklearn-color-text-on-default-background);\n",
       "}\n",
       "\n",
       "/* On hover, darken the color of the background */\n",
       "#sk-container-id-1 div.sk-label:hover label.sk-toggleable__label {\n",
       "  color: var(--sklearn-color-text);\n",
       "  background-color: var(--sklearn-color-unfitted-level-2);\n",
       "}\n",
       "\n",
       "/* Label box, darken color on hover, fitted */\n",
       "#sk-container-id-1 div.sk-label.fitted:hover label.sk-toggleable__label.fitted {\n",
       "  color: var(--sklearn-color-text);\n",
       "  background-color: var(--sklearn-color-fitted-level-2);\n",
       "}\n",
       "\n",
       "/* Estimator label */\n",
       "\n",
       "#sk-container-id-1 div.sk-label label {\n",
       "  font-family: monospace;\n",
       "  font-weight: bold;\n",
       "  display: inline-block;\n",
       "  line-height: 1.2em;\n",
       "}\n",
       "\n",
       "#sk-container-id-1 div.sk-label-container {\n",
       "  text-align: center;\n",
       "}\n",
       "\n",
       "/* Estimator-specific */\n",
       "#sk-container-id-1 div.sk-estimator {\n",
       "  font-family: monospace;\n",
       "  border: 1px dotted var(--sklearn-color-border-box);\n",
       "  border-radius: 0.25em;\n",
       "  box-sizing: border-box;\n",
       "  margin-bottom: 0.5em;\n",
       "  /* unfitted */\n",
       "  background-color: var(--sklearn-color-unfitted-level-0);\n",
       "}\n",
       "\n",
       "#sk-container-id-1 div.sk-estimator.fitted {\n",
       "  /* fitted */\n",
       "  background-color: var(--sklearn-color-fitted-level-0);\n",
       "}\n",
       "\n",
       "/* on hover */\n",
       "#sk-container-id-1 div.sk-estimator:hover {\n",
       "  /* unfitted */\n",
       "  background-color: var(--sklearn-color-unfitted-level-2);\n",
       "}\n",
       "\n",
       "#sk-container-id-1 div.sk-estimator.fitted:hover {\n",
       "  /* fitted */\n",
       "  background-color: var(--sklearn-color-fitted-level-2);\n",
       "}\n",
       "\n",
       "/* Specification for estimator info (e.g. \"i\" and \"?\") */\n",
       "\n",
       "/* Common style for \"i\" and \"?\" */\n",
       "\n",
       ".sk-estimator-doc-link,\n",
       "a:link.sk-estimator-doc-link,\n",
       "a:visited.sk-estimator-doc-link {\n",
       "  float: right;\n",
       "  font-size: smaller;\n",
       "  line-height: 1em;\n",
       "  font-family: monospace;\n",
       "  background-color: var(--sklearn-color-background);\n",
       "  border-radius: 1em;\n",
       "  height: 1em;\n",
       "  width: 1em;\n",
       "  text-decoration: none !important;\n",
       "  margin-left: 1ex;\n",
       "  /* unfitted */\n",
       "  border: var(--sklearn-color-unfitted-level-1) 1pt solid;\n",
       "  color: var(--sklearn-color-unfitted-level-1);\n",
       "}\n",
       "\n",
       ".sk-estimator-doc-link.fitted,\n",
       "a:link.sk-estimator-doc-link.fitted,\n",
       "a:visited.sk-estimator-doc-link.fitted {\n",
       "  /* fitted */\n",
       "  border: var(--sklearn-color-fitted-level-1) 1pt solid;\n",
       "  color: var(--sklearn-color-fitted-level-1);\n",
       "}\n",
       "\n",
       "/* On hover */\n",
       "div.sk-estimator:hover .sk-estimator-doc-link:hover,\n",
       ".sk-estimator-doc-link:hover,\n",
       "div.sk-label-container:hover .sk-estimator-doc-link:hover,\n",
       ".sk-estimator-doc-link:hover {\n",
       "  /* unfitted */\n",
       "  background-color: var(--sklearn-color-unfitted-level-3);\n",
       "  color: var(--sklearn-color-background);\n",
       "  text-decoration: none;\n",
       "}\n",
       "\n",
       "div.sk-estimator.fitted:hover .sk-estimator-doc-link.fitted:hover,\n",
       ".sk-estimator-doc-link.fitted:hover,\n",
       "div.sk-label-container:hover .sk-estimator-doc-link.fitted:hover,\n",
       ".sk-estimator-doc-link.fitted:hover {\n",
       "  /* fitted */\n",
       "  background-color: var(--sklearn-color-fitted-level-3);\n",
       "  color: var(--sklearn-color-background);\n",
       "  text-decoration: none;\n",
       "}\n",
       "\n",
       "/* Span, style for the box shown on hovering the info icon */\n",
       ".sk-estimator-doc-link span {\n",
       "  display: none;\n",
       "  z-index: 9999;\n",
       "  position: relative;\n",
       "  font-weight: normal;\n",
       "  right: .2ex;\n",
       "  padding: .5ex;\n",
       "  margin: .5ex;\n",
       "  width: min-content;\n",
       "  min-width: 20ex;\n",
       "  max-width: 50ex;\n",
       "  color: var(--sklearn-color-text);\n",
       "  box-shadow: 2pt 2pt 4pt #999;\n",
       "  /* unfitted */\n",
       "  background: var(--sklearn-color-unfitted-level-0);\n",
       "  border: .5pt solid var(--sklearn-color-unfitted-level-3);\n",
       "}\n",
       "\n",
       ".sk-estimator-doc-link.fitted span {\n",
       "  /* fitted */\n",
       "  background: var(--sklearn-color-fitted-level-0);\n",
       "  border: var(--sklearn-color-fitted-level-3);\n",
       "}\n",
       "\n",
       ".sk-estimator-doc-link:hover span {\n",
       "  display: block;\n",
       "}\n",
       "\n",
       "/* \"?\"-specific style due to the `<a>` HTML tag */\n",
       "\n",
       "#sk-container-id-1 a.estimator_doc_link {\n",
       "  float: right;\n",
       "  font-size: 1rem;\n",
       "  line-height: 1em;\n",
       "  font-family: monospace;\n",
       "  background-color: var(--sklearn-color-background);\n",
       "  border-radius: 1rem;\n",
       "  height: 1rem;\n",
       "  width: 1rem;\n",
       "  text-decoration: none;\n",
       "  /* unfitted */\n",
       "  color: var(--sklearn-color-unfitted-level-1);\n",
       "  border: var(--sklearn-color-unfitted-level-1) 1pt solid;\n",
       "}\n",
       "\n",
       "#sk-container-id-1 a.estimator_doc_link.fitted {\n",
       "  /* fitted */\n",
       "  border: var(--sklearn-color-fitted-level-1) 1pt solid;\n",
       "  color: var(--sklearn-color-fitted-level-1);\n",
       "}\n",
       "\n",
       "/* On hover */\n",
       "#sk-container-id-1 a.estimator_doc_link:hover {\n",
       "  /* unfitted */\n",
       "  background-color: var(--sklearn-color-unfitted-level-3);\n",
       "  color: var(--sklearn-color-background);\n",
       "  text-decoration: none;\n",
       "}\n",
       "\n",
       "#sk-container-id-1 a.estimator_doc_link.fitted:hover {\n",
       "  /* fitted */\n",
       "  background-color: var(--sklearn-color-fitted-level-3);\n",
       "}\n",
       "</style><div id=\"sk-container-id-1\" class=\"sk-top-container\"><div class=\"sk-text-repr-fallback\"><pre>MultiOutputLGBMRegressor(categorical_feature=[&#x27;id&#x27;, &#x27;item_id&#x27;, &#x27;dept_id&#x27;,\n",
       "                                              &#x27;cat_id&#x27;, &#x27;store_id&#x27;,\n",
       "                                              &#x27;state_id&#x27;],\n",
       "                         estimator=LGBMRegressor(force_col_wise=True,\n",
       "                                                 n_estimators=50,\n",
       "                                                 num_leaves=256, verbose=-1),\n",
       "                         feature_name=[&#x27;id&#x27;, &#x27;item_id&#x27;, &#x27;dept_id&#x27;, &#x27;cat_id&#x27;,\n",
       "                                       &#x27;store_id&#x27;, &#x27;state_id&#x27;, &#x27;event_name_1&#x27;,\n",
       "                                       &#x27;event_type_1&#x27;, &#x27;event_name_2&#x27;,\n",
       "                                       &#x27;event_type_2&#x27;, &#x27;snap_CA&#x27;, &#x27;snap_TX&#x27;,\n",
       "                                       &#x27;snap_WI&#x27;,...14&#x27;,\n",
       "                                       &#x27;lag21&#x27;, &#x27;lag28&#x27;, &#x27;lag35&#x27;, &#x27;lag42&#x27;,\n",
       "                                       &#x27;lag49&#x27;, &#x27;lag56&#x27;, &#x27;expanding_mean_lag1&#x27;,\n",
       "                                       &#x27;rolling_mean_lag7_window_size7&#x27;,\n",
       "                                       &#x27;rolling_mean_lag7_window_size14&#x27;,\n",
       "                                       &#x27;rolling_mean_lag7_window_size28&#x27;,\n",
       "                                       &#x27;seasonal_rolling_mean_lag7_season_length7_window_size4&#x27;,\n",
       "                                       &#x27;rolling_mean_lag14_window_size7&#x27;,\n",
       "                                       &#x27;rolling_mean_lag14_window_size14&#x27;,\n",
       "                                       &#x27;rolling_mean_lag14_window_size28&#x27;, ...],\n",
       "                         n_jobs=4)</pre><b>In a Jupyter environment, please rerun this cell to show the HTML representation or trust the notebook. <br />On GitHub, the HTML representation is unable to render, please try loading this page with nbviewer.org.</b></div><div class=\"sk-container\" hidden><div class=\"sk-item sk-dashed-wrapped\"><div class=\"sk-label-container\"><div class=\"sk-label fitted sk-toggleable\"><input class=\"sk-toggleable__control sk-hidden--visually\" id=\"sk-estimator-id-1\" type=\"checkbox\" ><label for=\"sk-estimator-id-1\" class=\"sk-toggleable__label fitted sk-toggleable__label-arrow fitted\">&nbsp;MultiOutputLGBMRegressor<span class=\"sk-estimator-doc-link fitted\">i<span>Fitted</span></span></label><div class=\"sk-toggleable__content fitted\"><pre>MultiOutputLGBMRegressor(categorical_feature=[&#x27;id&#x27;, &#x27;item_id&#x27;, &#x27;dept_id&#x27;,\n",
       "                                              &#x27;cat_id&#x27;, &#x27;store_id&#x27;,\n",
       "                                              &#x27;state_id&#x27;],\n",
       "                         estimator=LGBMRegressor(force_col_wise=True,\n",
       "                                                 n_estimators=50,\n",
       "                                                 num_leaves=256, verbose=-1),\n",
       "                         feature_name=[&#x27;id&#x27;, &#x27;item_id&#x27;, &#x27;dept_id&#x27;, &#x27;cat_id&#x27;,\n",
       "                                       &#x27;store_id&#x27;, &#x27;state_id&#x27;, &#x27;event_name_1&#x27;,\n",
       "                                       &#x27;event_type_1&#x27;, &#x27;event_name_2&#x27;,\n",
       "                                       &#x27;event_type_2&#x27;, &#x27;snap_CA&#x27;, &#x27;snap_TX&#x27;,\n",
       "                                       &#x27;snap_WI&#x27;,...14&#x27;,\n",
       "                                       &#x27;lag21&#x27;, &#x27;lag28&#x27;, &#x27;lag35&#x27;, &#x27;lag42&#x27;,\n",
       "                                       &#x27;lag49&#x27;, &#x27;lag56&#x27;, &#x27;expanding_mean_lag1&#x27;,\n",
       "                                       &#x27;rolling_mean_lag7_window_size7&#x27;,\n",
       "                                       &#x27;rolling_mean_lag7_window_size14&#x27;,\n",
       "                                       &#x27;rolling_mean_lag7_window_size28&#x27;,\n",
       "                                       &#x27;seasonal_rolling_mean_lag7_season_length7_window_size4&#x27;,\n",
       "                                       &#x27;rolling_mean_lag14_window_size7&#x27;,\n",
       "                                       &#x27;rolling_mean_lag14_window_size14&#x27;,\n",
       "                                       &#x27;rolling_mean_lag14_window_size28&#x27;, ...],\n",
       "                         n_jobs=4)</pre></div> </div></div><div class=\"sk-parallel\"><div class=\"sk-parallel-item\"><div class=\"sk-item\"><div class=\"sk-label-container\"><div class=\"sk-label fitted sk-toggleable\"><input class=\"sk-toggleable__control sk-hidden--visually\" id=\"sk-estimator-id-2\" type=\"checkbox\" ><label for=\"sk-estimator-id-2\" class=\"sk-toggleable__label fitted sk-toggleable__label-arrow fitted\">estimator: LGBMRegressor</label><div class=\"sk-toggleable__content fitted\"><pre>LGBMRegressor(force_col_wise=True, n_estimators=50, num_leaves=256, verbose=-1)</pre></div> </div></div><div class=\"sk-serial\"><div class=\"sk-item\"><div class=\"sk-estimator fitted sk-toggleable\"><input class=\"sk-toggleable__control sk-hidden--visually\" id=\"sk-estimator-id-3\" type=\"checkbox\" ><label for=\"sk-estimator-id-3\" class=\"sk-toggleable__label fitted sk-toggleable__label-arrow fitted\">LGBMRegressor</label><div class=\"sk-toggleable__content fitted\"><pre>LGBMRegressor(force_col_wise=True, n_estimators=50, num_leaves=256, verbose=-1)</pre></div> </div></div></div></div></div></div></div></div></div>"
      ],
      "text/plain": [
       "MultiOutputLGBMRegressor(categorical_feature=['id', 'item_id', 'dept_id',\n",
       "                                              'cat_id', 'store_id',\n",
       "                                              'state_id'],\n",
       "                         estimator=LGBMRegressor(force_col_wise=True,\n",
       "                                                 n_estimators=50,\n",
       "                                                 num_leaves=256, verbose=-1),\n",
       "                         feature_name=['id', 'item_id', 'dept_id', 'cat_id',\n",
       "                                       'store_id', 'state_id', 'event_name_1',\n",
       "                                       'event_type_1', 'event_name_2',\n",
       "                                       'event_type_2', 'snap_CA', 'snap_TX',\n",
       "                                       'snap_WI',...14',\n",
       "                                       'lag21', 'lag28', 'lag35', 'lag42',\n",
       "                                       'lag49', 'lag56', 'expanding_mean_lag1',\n",
       "                                       'rolling_mean_lag7_window_size7',\n",
       "                                       'rolling_mean_lag7_window_size14',\n",
       "                                       'rolling_mean_lag7_window_size28',\n",
       "                                       'seasonal_rolling_mean_lag7_season_length7_window_size4',\n",
       "                                       'rolling_mean_lag14_window_size7',\n",
       "                                       'rolling_mean_lag14_window_size14',\n",
       "                                       'rolling_mean_lag14_window_size28', ...],\n",
       "                         n_jobs=4)"
      ]
     },
     "execution_count": 134,
     "metadata": {},
     "output_type": "execute_result"
    }
   ],
   "source": [
    "import lightgbm as lgb\n",
    "\n",
    "model_params = {\n",
    "    'verbose': -1,\n",
    "    'force_col_wise': True,\n",
    "    'num_leaves': 256,\n",
    "    'n_estimators': 50,\n",
    "}\n",
    "\n",
    "base_model = lgb.LGBMRegressor(**model_params)\n",
    "\n",
    "multi_model = MultiOutputLGBMRegressor(\n",
    "    estimator=base_model,\n",
    "    feature_name=fcst.ts.features_order_,\n",
    "    categorical_feature=categoricals,\n",
    "    n_jobs=4\n",
    ")\n",
    "\n",
    "%time multi_model.fit(X_train.to_pandas(), y_train.to_numpy())\n"
   ]
  },
  {
   "cell_type": "code",
   "execution_count": 135,
   "id": "92081064",
   "metadata": {},
   "outputs": [],
   "source": [
    "fcst.models_ = {'LGBMRegressor': multi_model}"
   ]
  },
  {
   "cell_type": "markdown",
   "id": "95969200",
   "metadata": {
    "papermill": {
     "duration": 0.005723,
     "end_time": "2024-12-06T20:06:50.953679",
     "exception": false,
     "start_time": "2024-12-06T20:06:50.947956",
     "status": "completed"
    },
    "tags": []
   },
   "source": [
    "We'll manually train the model here, which allows us to specify which features should be treated as categorical."
   ]
  },
  {
   "cell_type": "markdown",
   "id": "4a1dbd6d",
   "metadata": {
    "papermill": {
     "duration": 0.00526,
     "end_time": "2024-12-06T20:08:26.421291",
     "exception": false,
     "start_time": "2024-12-06T20:08:26.416031",
     "status": "completed"
    },
    "tags": []
   },
   "source": [
    "## Forecasting"
   ]
  },
  {
   "cell_type": "markdown",
   "id": "66c4f76c",
   "metadata": {
    "papermill": {
     "duration": 0.005924,
     "end_time": "2024-12-06T20:08:26.432908",
     "exception": false,
     "start_time": "2024-12-06T20:08:26.426984",
     "status": "completed"
    },
    "tags": []
   },
   "source": [
    "We now override the `models_` attribute to generate predictions, as described [here](https://nixtla.github.io/mlforecast/docs/how-to-guides/custom_training.html#custom-training)."
   ]
  },
  {
   "cell_type": "code",
   "execution_count": 137,
   "id": "57dc2066",
   "metadata": {},
   "outputs": [],
   "source": [
    "from datetime import datetime, timedelta\n"
   ]
  },
  {
   "cell_type": "code",
   "execution_count": 136,
   "id": "f045ea6e",
   "metadata": {},
   "outputs": [
    {
     "data": {
      "text/html": [
       "<div><style>\n",
       ".dataframe > thead > tr,\n",
       ".dataframe > tbody > tr {\n",
       "  text-align: right;\n",
       "  white-space: pre-wrap;\n",
       "}\n",
       "</style>\n",
       "<small>shape: (884_210, 10)</small><table border=\"1\" class=\"dataframe\"><thead><tr><th>sell_price</th><th>id</th><th>date</th><th>event_name_1</th><th>event_type_1</th><th>event_name_2</th><th>event_type_2</th><th>snap_CA</th><th>snap_TX</th><th>snap_WI</th></tr><tr><td>f32</td><td>cat</td><td>datetime[μs]</td><td>cat</td><td>cat</td><td>cat</td><td>cat</td><td>i32</td><td>i32</td><td>i32</td></tr></thead><tbody><tr><td>8.38</td><td>&quot;HOBBIES_1_001_CA_1_evaluation&quot;</td><td>2016-04-24 00:00:00</td><td>&quot;nan&quot;</td><td>&quot;nan&quot;</td><td>&quot;nan&quot;</td><td>&quot;nan&quot;</td><td>0</td><td>0</td><td>0</td></tr><tr><td>8.38</td><td>&quot;HOBBIES_1_001_CA_1_evaluation&quot;</td><td>2016-04-25 00:00:00</td><td>&quot;nan&quot;</td><td>&quot;nan&quot;</td><td>&quot;nan&quot;</td><td>&quot;nan&quot;</td><td>0</td><td>0</td><td>0</td></tr><tr><td>8.38</td><td>&quot;HOBBIES_1_001_CA_1_evaluation&quot;</td><td>2016-04-26 00:00:00</td><td>&quot;nan&quot;</td><td>&quot;nan&quot;</td><td>&quot;nan&quot;</td><td>&quot;nan&quot;</td><td>0</td><td>0</td><td>0</td></tr><tr><td>8.38</td><td>&quot;HOBBIES_1_001_CA_1_evaluation&quot;</td><td>2016-04-27 00:00:00</td><td>&quot;nan&quot;</td><td>&quot;nan&quot;</td><td>&quot;nan&quot;</td><td>&quot;nan&quot;</td><td>0</td><td>0</td><td>0</td></tr><tr><td>8.38</td><td>&quot;HOBBIES_1_001_CA_1_evaluation&quot;</td><td>2016-04-28 00:00:00</td><td>&quot;nan&quot;</td><td>&quot;nan&quot;</td><td>&quot;nan&quot;</td><td>&quot;nan&quot;</td><td>0</td><td>0</td><td>0</td></tr><tr><td>&hellip;</td><td>&hellip;</td><td>&hellip;</td><td>&hellip;</td><td>&hellip;</td><td>&hellip;</td><td>&hellip;</td><td>&hellip;</td><td>&hellip;</td><td>&hellip;</td></tr><tr><td>1.0</td><td>&quot;FOODS_3_827_WI_3_evaluation&quot;</td><td>2016-05-18 00:00:00</td><td>&quot;nan&quot;</td><td>&quot;nan&quot;</td><td>&quot;nan&quot;</td><td>&quot;nan&quot;</td><td>0</td><td>0</td><td>0</td></tr><tr><td>1.0</td><td>&quot;FOODS_3_827_WI_3_evaluation&quot;</td><td>2016-05-19 00:00:00</td><td>&quot;nan&quot;</td><td>&quot;nan&quot;</td><td>&quot;nan&quot;</td><td>&quot;nan&quot;</td><td>0</td><td>0</td><td>0</td></tr><tr><td>1.0</td><td>&quot;FOODS_3_827_WI_3_evaluation&quot;</td><td>2016-05-20 00:00:00</td><td>&quot;nan&quot;</td><td>&quot;nan&quot;</td><td>&quot;nan&quot;</td><td>&quot;nan&quot;</td><td>0</td><td>0</td><td>0</td></tr><tr><td>1.0</td><td>&quot;FOODS_3_827_WI_3_evaluation&quot;</td><td>2016-05-21 00:00:00</td><td>&quot;nan&quot;</td><td>&quot;nan&quot;</td><td>&quot;nan&quot;</td><td>&quot;nan&quot;</td><td>0</td><td>0</td><td>0</td></tr><tr><td>1.0</td><td>&quot;FOODS_3_827_WI_3_evaluation&quot;</td><td>2016-05-22 00:00:00</td><td>&quot;nan&quot;</td><td>&quot;nan&quot;</td><td>&quot;nan&quot;</td><td>&quot;nan&quot;</td><td>0</td><td>0</td><td>0</td></tr></tbody></table></div>"
      ],
      "text/plain": [
       "shape: (884_210, 10)\n",
       "┌────────────┬────────────┬────────────┬────────────┬───┬────────────┬─────────┬─────────┬─────────┐\n",
       "│ sell_price ┆ id         ┆ date       ┆ event_name ┆ … ┆ event_type ┆ snap_CA ┆ snap_TX ┆ snap_WI │\n",
       "│ ---        ┆ ---        ┆ ---        ┆ _1         ┆   ┆ _2         ┆ ---     ┆ ---     ┆ ---     │\n",
       "│ f32        ┆ cat        ┆ datetime[μ ┆ ---        ┆   ┆ ---        ┆ i32     ┆ i32     ┆ i32     │\n",
       "│            ┆            ┆ s]         ┆ cat        ┆   ┆ cat        ┆         ┆         ┆         │\n",
       "╞════════════╪════════════╪════════════╪════════════╪═══╪════════════╪═════════╪═════════╪═════════╡\n",
       "│ 8.38       ┆ HOBBIES_1_ ┆ 2016-04-24 ┆ nan        ┆ … ┆ nan        ┆ 0       ┆ 0       ┆ 0       │\n",
       "│            ┆ 001_CA_1_e ┆ 00:00:00   ┆            ┆   ┆            ┆         ┆         ┆         │\n",
       "│            ┆ valuation  ┆            ┆            ┆   ┆            ┆         ┆         ┆         │\n",
       "│ 8.38       ┆ HOBBIES_1_ ┆ 2016-04-25 ┆ nan        ┆ … ┆ nan        ┆ 0       ┆ 0       ┆ 0       │\n",
       "│            ┆ 001_CA_1_e ┆ 00:00:00   ┆            ┆   ┆            ┆         ┆         ┆         │\n",
       "│            ┆ valuation  ┆            ┆            ┆   ┆            ┆         ┆         ┆         │\n",
       "│ 8.38       ┆ HOBBIES_1_ ┆ 2016-04-26 ┆ nan        ┆ … ┆ nan        ┆ 0       ┆ 0       ┆ 0       │\n",
       "│            ┆ 001_CA_1_e ┆ 00:00:00   ┆            ┆   ┆            ┆         ┆         ┆         │\n",
       "│            ┆ valuation  ┆            ┆            ┆   ┆            ┆         ┆         ┆         │\n",
       "│ 8.38       ┆ HOBBIES_1_ ┆ 2016-04-27 ┆ nan        ┆ … ┆ nan        ┆ 0       ┆ 0       ┆ 0       │\n",
       "│            ┆ 001_CA_1_e ┆ 00:00:00   ┆            ┆   ┆            ┆         ┆         ┆         │\n",
       "│            ┆ valuation  ┆            ┆            ┆   ┆            ┆         ┆         ┆         │\n",
       "│ 8.38       ┆ HOBBIES_1_ ┆ 2016-04-28 ┆ nan        ┆ … ┆ nan        ┆ 0       ┆ 0       ┆ 0       │\n",
       "│            ┆ 001_CA_1_e ┆ 00:00:00   ┆            ┆   ┆            ┆         ┆         ┆         │\n",
       "│            ┆ valuation  ┆            ┆            ┆   ┆            ┆         ┆         ┆         │\n",
       "│ …          ┆ …          ┆ …          ┆ …          ┆ … ┆ …          ┆ …       ┆ …       ┆ …       │\n",
       "│ 1.0        ┆ FOODS_3_82 ┆ 2016-05-18 ┆ nan        ┆ … ┆ nan        ┆ 0       ┆ 0       ┆ 0       │\n",
       "│            ┆ 7_WI_3_eva ┆ 00:00:00   ┆            ┆   ┆            ┆         ┆         ┆         │\n",
       "│            ┆ luation    ┆            ┆            ┆   ┆            ┆         ┆         ┆         │\n",
       "│ 1.0        ┆ FOODS_3_82 ┆ 2016-05-19 ┆ nan        ┆ … ┆ nan        ┆ 0       ┆ 0       ┆ 0       │\n",
       "│            ┆ 7_WI_3_eva ┆ 00:00:00   ┆            ┆   ┆            ┆         ┆         ┆         │\n",
       "│            ┆ luation    ┆            ┆            ┆   ┆            ┆         ┆         ┆         │\n",
       "│ 1.0        ┆ FOODS_3_82 ┆ 2016-05-20 ┆ nan        ┆ … ┆ nan        ┆ 0       ┆ 0       ┆ 0       │\n",
       "│            ┆ 7_WI_3_eva ┆ 00:00:00   ┆            ┆   ┆            ┆         ┆         ┆         │\n",
       "│            ┆ luation    ┆            ┆            ┆   ┆            ┆         ┆         ┆         │\n",
       "│ 1.0        ┆ FOODS_3_82 ┆ 2016-05-21 ┆ nan        ┆ … ┆ nan        ┆ 0       ┆ 0       ┆ 0       │\n",
       "│            ┆ 7_WI_3_eva ┆ 00:00:00   ┆            ┆   ┆            ┆         ┆         ┆         │\n",
       "│            ┆ luation    ┆            ┆            ┆   ┆            ┆         ┆         ┆         │\n",
       "│ 1.0        ┆ FOODS_3_82 ┆ 2016-05-22 ┆ nan        ┆ … ┆ nan        ┆ 0       ┆ 0       ┆ 0       │\n",
       "│            ┆ 7_WI_3_eva ┆ 00:00:00   ┆            ┆   ┆            ┆         ┆         ┆         │\n",
       "│            ┆ luation    ┆            ┆            ┆   ┆            ┆         ┆         ┆         │\n",
       "└────────────┴────────────┴────────────┴────────────┴───┴────────────┴─────────┴─────────┴─────────┘"
      ]
     },
     "execution_count": 136,
     "metadata": {},
     "output_type": "execute_result"
    }
   ],
   "source": [
    "X_df"
   ]
  },
  {
   "cell_type": "code",
   "execution_count": 140,
   "id": "685dff6a",
   "metadata": {},
   "outputs": [
    {
     "data": {
      "text/html": [
       "<div><style>\n",
       ".dataframe > thead > tr,\n",
       ".dataframe > tbody > tr {\n",
       "  text-align: right;\n",
       "  white-space: pre-wrap;\n",
       "}\n",
       "</style>\n",
       "<small>shape: (884_210, 10)</small><table border=\"1\" class=\"dataframe\"><thead><tr><th>id</th><th>date</th><th>event_name_1</th><th>event_type_1</th><th>event_name_2</th><th>event_type_2</th><th>snap_CA</th><th>snap_TX</th><th>snap_WI</th><th>sell_price</th></tr><tr><td>u32</td><td>datetime[μs]</td><td>u32</td><td>u32</td><td>u32</td><td>u32</td><td>i32</td><td>i32</td><td>i32</td><td>f32</td></tr></thead><tbody><tr><td>5063</td><td>2016-04-24 00:00:00</td><td>2003</td><td>2003</td><td>2003</td><td>2003</td><td>0</td><td>0</td><td>0</td><td>13.98</td></tr><tr><td>5063</td><td>2016-04-25 00:00:00</td><td>2003</td><td>2003</td><td>2003</td><td>2003</td><td>0</td><td>0</td><td>0</td><td>13.98</td></tr><tr><td>5063</td><td>2016-04-26 00:00:00</td><td>2003</td><td>2003</td><td>2003</td><td>2003</td><td>0</td><td>0</td><td>0</td><td>13.98</td></tr><tr><td>5063</td><td>2016-04-27 00:00:00</td><td>2003</td><td>2003</td><td>2003</td><td>2003</td><td>0</td><td>0</td><td>0</td><td>13.98</td></tr><tr><td>5063</td><td>2016-04-28 00:00:00</td><td>2003</td><td>2003</td><td>2003</td><td>2003</td><td>0</td><td>0</td><td>0</td><td>13.98</td></tr><tr><td>&hellip;</td><td>&hellip;</td><td>&hellip;</td><td>&hellip;</td><td>&hellip;</td><td>&hellip;</td><td>&hellip;</td><td>&hellip;</td><td>&hellip;</td><td>&hellip;</td></tr><tr><td>35565</td><td>2016-05-18 00:00:00</td><td>2003</td><td>2003</td><td>2003</td><td>2003</td><td>0</td><td>0</td><td>0</td><td>4.98</td></tr><tr><td>35565</td><td>2016-05-19 00:00:00</td><td>2003</td><td>2003</td><td>2003</td><td>2003</td><td>0</td><td>0</td><td>0</td><td>4.98</td></tr><tr><td>35565</td><td>2016-05-20 00:00:00</td><td>2003</td><td>2003</td><td>2003</td><td>2003</td><td>0</td><td>0</td><td>0</td><td>4.98</td></tr><tr><td>35565</td><td>2016-05-21 00:00:00</td><td>2003</td><td>2003</td><td>2003</td><td>2003</td><td>0</td><td>0</td><td>0</td><td>4.98</td></tr><tr><td>35565</td><td>2016-05-22 00:00:00</td><td>2003</td><td>2003</td><td>2003</td><td>2003</td><td>0</td><td>0</td><td>0</td><td>4.98</td></tr></tbody></table></div>"
      ],
      "text/plain": [
       "shape: (884_210, 10)\n",
       "┌───────┬──────────────┬──────────────┬─────────────┬───┬─────────┬─────────┬─────────┬────────────┐\n",
       "│ id    ┆ date         ┆ event_name_1 ┆ event_type_ ┆ … ┆ snap_CA ┆ snap_TX ┆ snap_WI ┆ sell_price │\n",
       "│ ---   ┆ ---          ┆ ---          ┆ 1           ┆   ┆ ---     ┆ ---     ┆ ---     ┆ ---        │\n",
       "│ u32   ┆ datetime[μs] ┆ u32          ┆ ---         ┆   ┆ i32     ┆ i32     ┆ i32     ┆ f32        │\n",
       "│       ┆              ┆              ┆ u32         ┆   ┆         ┆         ┆         ┆            │\n",
       "╞═══════╪══════════════╪══════════════╪═════════════╪═══╪═════════╪═════════╪═════════╪════════════╡\n",
       "│ 5063  ┆ 2016-04-24   ┆ 2003         ┆ 2003        ┆ … ┆ 0       ┆ 0       ┆ 0       ┆ 13.98      │\n",
       "│       ┆ 00:00:00     ┆              ┆             ┆   ┆         ┆         ┆         ┆            │\n",
       "│ 5063  ┆ 2016-04-25   ┆ 2003         ┆ 2003        ┆ … ┆ 0       ┆ 0       ┆ 0       ┆ 13.98      │\n",
       "│       ┆ 00:00:00     ┆              ┆             ┆   ┆         ┆         ┆         ┆            │\n",
       "│ 5063  ┆ 2016-04-26   ┆ 2003         ┆ 2003        ┆ … ┆ 0       ┆ 0       ┆ 0       ┆ 13.98      │\n",
       "│       ┆ 00:00:00     ┆              ┆             ┆   ┆         ┆         ┆         ┆            │\n",
       "│ 5063  ┆ 2016-04-27   ┆ 2003         ┆ 2003        ┆ … ┆ 0       ┆ 0       ┆ 0       ┆ 13.98      │\n",
       "│       ┆ 00:00:00     ┆              ┆             ┆   ┆         ┆         ┆         ┆            │\n",
       "│ 5063  ┆ 2016-04-28   ┆ 2003         ┆ 2003        ┆ … ┆ 0       ┆ 0       ┆ 0       ┆ 13.98      │\n",
       "│       ┆ 00:00:00     ┆              ┆             ┆   ┆         ┆         ┆         ┆            │\n",
       "│ …     ┆ …            ┆ …            ┆ …           ┆ … ┆ …       ┆ …       ┆ …       ┆ …          │\n",
       "│ 35565 ┆ 2016-05-18   ┆ 2003         ┆ 2003        ┆ … ┆ 0       ┆ 0       ┆ 0       ┆ 4.98       │\n",
       "│       ┆ 00:00:00     ┆              ┆             ┆   ┆         ┆         ┆         ┆            │\n",
       "│ 35565 ┆ 2016-05-19   ┆ 2003         ┆ 2003        ┆ … ┆ 0       ┆ 0       ┆ 0       ┆ 4.98       │\n",
       "│       ┆ 00:00:00     ┆              ┆             ┆   ┆         ┆         ┆         ┆            │\n",
       "│ 35565 ┆ 2016-05-20   ┆ 2003         ┆ 2003        ┆ … ┆ 0       ┆ 0       ┆ 0       ┆ 4.98       │\n",
       "│       ┆ 00:00:00     ┆              ┆             ┆   ┆         ┆         ┆         ┆            │\n",
       "│ 35565 ┆ 2016-05-21   ┆ 2003         ┆ 2003        ┆ … ┆ 0       ┆ 0       ┆ 0       ┆ 4.98       │\n",
       "│       ┆ 00:00:00     ┆              ┆             ┆   ┆         ┆         ┆         ┆            │\n",
       "│ 35565 ┆ 2016-05-22   ┆ 2003         ┆ 2003        ┆ … ┆ 0       ┆ 0       ┆ 0       ┆ 4.98       │\n",
       "│       ┆ 00:00:00     ┆              ┆             ┆   ┆         ┆         ┆         ┆            │\n",
       "└───────┴──────────────┴──────────────┴─────────────┴───┴─────────┴─────────┴─────────┴────────────┘"
      ]
     },
     "execution_count": 140,
     "metadata": {},
     "output_type": "execute_result"
    }
   ],
   "source": [
    "X_df"
   ]
  },
  {
   "cell_type": "code",
   "execution_count": 173,
   "id": "c4e6b104",
   "metadata": {},
   "outputs": [
    {
     "data": {
      "text/html": [
       "<div><style>\n",
       ".dataframe > thead > tr,\n",
       ".dataframe > tbody > tr {\n",
       "  text-align: right;\n",
       "  white-space: pre-wrap;\n",
       "}\n",
       "</style>\n",
       "<small>shape: (11_305_412, 17)</small><table border=\"1\" class=\"dataframe\"><thead><tr><th>row_idx</th><th>id</th><th>item_id</th><th>dept_id</th><th>cat_id</th><th>store_id</th><th>state_id</th><th>y</th><th>date</th><th>event_name_1</th><th>event_type_1</th><th>event_name_2</th><th>event_type_2</th><th>snap_CA</th><th>snap_TX</th><th>snap_WI</th><th>sell_price</th></tr><tr><td>u32</td><td>u32</td><td>u32</td><td>u32</td><td>u32</td><td>u32</td><td>u32</td><td>f32</td><td>datetime[μs]</td><td>u32</td><td>u32</td><td>u32</td><td>u32</td><td>i32</td><td>i32</td><td>i32</td><td>f32</td></tr></thead><tbody><tr><td>0</td><td>5063</td><td>2100</td><td>5158</td><td>5159</td><td>2004</td><td>5160</td><td>2.0</td><td>2015-04-19 00:00:00</td><td>2003</td><td>2003</td><td>2003</td><td>2003</td><td>0</td><td>0</td><td>0</td><td>13.98</td></tr><tr><td>1</td><td>5063</td><td>2100</td><td>5158</td><td>5159</td><td>2004</td><td>5160</td><td>0.0</td><td>2015-04-20 00:00:00</td><td>2003</td><td>2003</td><td>2003</td><td>2003</td><td>0</td><td>0</td><td>0</td><td>13.98</td></tr><tr><td>2</td><td>5063</td><td>2100</td><td>5158</td><td>5159</td><td>2004</td><td>5160</td><td>0.0</td><td>2015-04-21 00:00:00</td><td>2003</td><td>2003</td><td>2003</td><td>2003</td><td>0</td><td>0</td><td>0</td><td>13.98</td></tr><tr><td>3</td><td>5063</td><td>2100</td><td>5158</td><td>5159</td><td>2004</td><td>5160</td><td>0.0</td><td>2015-04-22 00:00:00</td><td>2003</td><td>2003</td><td>2003</td><td>2003</td><td>0</td><td>0</td><td>0</td><td>13.98</td></tr><tr><td>4</td><td>5063</td><td>2100</td><td>5158</td><td>5159</td><td>2004</td><td>5160</td><td>0.0</td><td>2015-04-23 00:00:00</td><td>2003</td><td>2003</td><td>2003</td><td>2003</td><td>0</td><td>0</td><td>0</td><td>13.98</td></tr><tr><td>&hellip;</td><td>&hellip;</td><td>&hellip;</td><td>&hellip;</td><td>&hellip;</td><td>&hellip;</td><td>&hellip;</td><td>&hellip;</td><td>&hellip;</td><td>&hellip;</td><td>&hellip;</td><td>&hellip;</td><td>&hellip;</td><td>&hellip;</td><td>&hellip;</td><td>&hellip;</td><td>&hellip;</td></tr><tr><td>11305407</td><td>35565</td><td>5000</td><td>7262</td><td>6691</td><td>5062</td><td>26311</td><td>1.0</td><td>2016-04-20 00:00:00</td><td>2003</td><td>2003</td><td>2003</td><td>2003</td><td>0</td><td>0</td><td>0</td><td>4.98</td></tr><tr><td>11305408</td><td>35565</td><td>5000</td><td>7262</td><td>6691</td><td>5062</td><td>26311</td><td>0.0</td><td>2016-04-21 00:00:00</td><td>2003</td><td>2003</td><td>2003</td><td>2003</td><td>0</td><td>0</td><td>0</td><td>4.98</td></tr><tr><td>11305409</td><td>35565</td><td>5000</td><td>7262</td><td>6691</td><td>5062</td><td>26311</td><td>0.0</td><td>2016-04-22 00:00:00</td><td>2003</td><td>2003</td><td>2003</td><td>2003</td><td>0</td><td>0</td><td>0</td><td>4.98</td></tr><tr><td>11305410</td><td>35565</td><td>5000</td><td>7262</td><td>6691</td><td>5062</td><td>26311</td><td>0.0</td><td>2016-04-23 00:00:00</td><td>2003</td><td>2003</td><td>2003</td><td>2003</td><td>0</td><td>0</td><td>0</td><td>4.98</td></tr><tr><td>11305411</td><td>35565</td><td>5000</td><td>7262</td><td>6691</td><td>5062</td><td>26311</td><td>1.0</td><td>2016-04-24 00:00:00</td><td>2003</td><td>2003</td><td>2003</td><td>2003</td><td>0</td><td>0</td><td>0</td><td>4.98</td></tr></tbody></table></div>"
      ],
      "text/plain": [
       "shape: (11_305_412, 17)\n",
       "┌──────────┬───────┬─────────┬─────────┬───┬─────────┬─────────┬─────────┬────────────┐\n",
       "│ row_idx  ┆ id    ┆ item_id ┆ dept_id ┆ … ┆ snap_CA ┆ snap_TX ┆ snap_WI ┆ sell_price │\n",
       "│ ---      ┆ ---   ┆ ---     ┆ ---     ┆   ┆ ---     ┆ ---     ┆ ---     ┆ ---        │\n",
       "│ u32      ┆ u32   ┆ u32     ┆ u32     ┆   ┆ i32     ┆ i32     ┆ i32     ┆ f32        │\n",
       "╞══════════╪═══════╪═════════╪═════════╪═══╪═════════╪═════════╪═════════╪════════════╡\n",
       "│ 0        ┆ 5063  ┆ 2100    ┆ 5158    ┆ … ┆ 0       ┆ 0       ┆ 0       ┆ 13.98      │\n",
       "│ 1        ┆ 5063  ┆ 2100    ┆ 5158    ┆ … ┆ 0       ┆ 0       ┆ 0       ┆ 13.98      │\n",
       "│ 2        ┆ 5063  ┆ 2100    ┆ 5158    ┆ … ┆ 0       ┆ 0       ┆ 0       ┆ 13.98      │\n",
       "│ 3        ┆ 5063  ┆ 2100    ┆ 5158    ┆ … ┆ 0       ┆ 0       ┆ 0       ┆ 13.98      │\n",
       "│ 4        ┆ 5063  ┆ 2100    ┆ 5158    ┆ … ┆ 0       ┆ 0       ┆ 0       ┆ 13.98      │\n",
       "│ …        ┆ …     ┆ …       ┆ …       ┆ … ┆ …       ┆ …       ┆ …       ┆ …          │\n",
       "│ 11305407 ┆ 35565 ┆ 5000    ┆ 7262    ┆ … ┆ 0       ┆ 0       ┆ 0       ┆ 4.98       │\n",
       "│ 11305408 ┆ 35565 ┆ 5000    ┆ 7262    ┆ … ┆ 0       ┆ 0       ┆ 0       ┆ 4.98       │\n",
       "│ 11305409 ┆ 35565 ┆ 5000    ┆ 7262    ┆ … ┆ 0       ┆ 0       ┆ 0       ┆ 4.98       │\n",
       "│ 11305410 ┆ 35565 ┆ 5000    ┆ 7262    ┆ … ┆ 0       ┆ 0       ┆ 0       ┆ 4.98       │\n",
       "│ 11305411 ┆ 35565 ┆ 5000    ┆ 7262    ┆ … ┆ 0       ┆ 0       ┆ 0       ┆ 4.98       │\n",
       "└──────────┴───────┴─────────┴─────────┴───┴─────────┴─────────┴─────────┴────────────┘"
      ]
     },
     "execution_count": 173,
     "metadata": {},
     "output_type": "execute_result"
    }
   ],
   "source": [
    "current_X"
   ]
  },
  {
   "cell_type": "code",
   "execution_count": 195,
   "id": "084f43aa",
   "metadata": {},
   "outputs": [],
   "source": [
    "current_date = forecast_start + pl.duration(days=h)\n"
   ]
  },
  {
   "cell_type": "code",
   "execution_count": 196,
   "id": "6359d8fa",
   "metadata": {},
   "outputs": [
    {
     "data": {
      "text/html": [
       "[([(2016-05-22 00:00:00 UTC.strict_cast(Datetime(Microseconds, None))) - (28d.alias(\"duration\"))]) + (27d.alias(\"duration\"))]"
      ],
      "text/plain": [
       "<Expr ['[([(2016-05-22 00:00:00 UTC.st…'] at 0x1940A25BAD0>"
      ]
     },
     "execution_count": 196,
     "metadata": {},
     "output_type": "execute_result"
    }
   ],
   "source": [
    "current_date"
   ]
  },
  {
   "cell_type": "code",
   "execution_count": 203,
   "id": "86c5d8cf",
   "metadata": {},
   "outputs": [
    {
     "data": {
      "text/plain": [
       "datetime.datetime(2016, 5, 22, 0, 0)"
      ]
     },
     "execution_count": 203,
     "metadata": {},
     "output_type": "execute_result"
    }
   ],
   "source": [
    "last_date_all"
   ]
  },
  {
   "cell_type": "code",
   "execution_count": 211,
   "id": "6b34d0ae",
   "metadata": {},
   "outputs": [
    {
     "name": "stderr",
     "output_type": "stream",
     "text": [
      "C:\\Users\\janli\\AppData\\Local\\Temp\\ipykernel_22260\\24762530.py:16: DeprecationWarning: `DataFrame.with_row_count` is deprecated; use `with_row_index` instead. Note that the default column name has changed from 'row_nr' to 'index'.\n",
      "  current_X = current_X.with_row_count(\"row_idx\")\n",
      "C:\\Users\\janli\\AppData\\Local\\Temp\\ipykernel_22260\\24762530.py:16: DeprecationWarning: `DataFrame.with_row_count` is deprecated; use `with_row_index` instead. Note that the default column name has changed from 'row_nr' to 'index'.\n",
      "  current_X = current_X.with_row_count(\"row_idx\")\n",
      "C:\\Users\\janli\\AppData\\Local\\Temp\\ipykernel_22260\\24762530.py:16: DeprecationWarning: `DataFrame.with_row_count` is deprecated; use `with_row_index` instead. Note that the default column name has changed from 'row_nr' to 'index'.\n",
      "  current_X = current_X.with_row_count(\"row_idx\")\n",
      "C:\\Users\\janli\\AppData\\Local\\Temp\\ipykernel_22260\\24762530.py:16: DeprecationWarning: `DataFrame.with_row_count` is deprecated; use `with_row_index` instead. Note that the default column name has changed from 'row_nr' to 'index'.\n",
      "  current_X = current_X.with_row_count(\"row_idx\")\n",
      "C:\\Users\\janli\\AppData\\Local\\Temp\\ipykernel_22260\\24762530.py:16: DeprecationWarning: `DataFrame.with_row_count` is deprecated; use `with_row_index` instead. Note that the default column name has changed from 'row_nr' to 'index'.\n",
      "  current_X = current_X.with_row_count(\"row_idx\")\n",
      "C:\\Users\\janli\\AppData\\Local\\Temp\\ipykernel_22260\\24762530.py:16: DeprecationWarning: `DataFrame.with_row_count` is deprecated; use `with_row_index` instead. Note that the default column name has changed from 'row_nr' to 'index'.\n",
      "  current_X = current_X.with_row_count(\"row_idx\")\n",
      "C:\\Users\\janli\\AppData\\Local\\Temp\\ipykernel_22260\\24762530.py:16: DeprecationWarning: `DataFrame.with_row_count` is deprecated; use `with_row_index` instead. Note that the default column name has changed from 'row_nr' to 'index'.\n",
      "  current_X = current_X.with_row_count(\"row_idx\")\n",
      "C:\\Users\\janli\\AppData\\Local\\Temp\\ipykernel_22260\\24762530.py:16: DeprecationWarning: `DataFrame.with_row_count` is deprecated; use `with_row_index` instead. Note that the default column name has changed from 'row_nr' to 'index'.\n",
      "  current_X = current_X.with_row_count(\"row_idx\")\n",
      "C:\\Users\\janli\\AppData\\Local\\Temp\\ipykernel_22260\\24762530.py:16: DeprecationWarning: `DataFrame.with_row_count` is deprecated; use `with_row_index` instead. Note that the default column name has changed from 'row_nr' to 'index'.\n",
      "  current_X = current_X.with_row_count(\"row_idx\")\n",
      "C:\\Users\\janli\\AppData\\Local\\Temp\\ipykernel_22260\\24762530.py:16: DeprecationWarning: `DataFrame.with_row_count` is deprecated; use `with_row_index` instead. Note that the default column name has changed from 'row_nr' to 'index'.\n",
      "  current_X = current_X.with_row_count(\"row_idx\")\n",
      "C:\\Users\\janli\\AppData\\Local\\Temp\\ipykernel_22260\\24762530.py:16: DeprecationWarning: `DataFrame.with_row_count` is deprecated; use `with_row_index` instead. Note that the default column name has changed from 'row_nr' to 'index'.\n",
      "  current_X = current_X.with_row_count(\"row_idx\")\n",
      "C:\\Users\\janli\\AppData\\Local\\Temp\\ipykernel_22260\\24762530.py:16: DeprecationWarning: `DataFrame.with_row_count` is deprecated; use `with_row_index` instead. Note that the default column name has changed from 'row_nr' to 'index'.\n",
      "  current_X = current_X.with_row_count(\"row_idx\")\n",
      "C:\\Users\\janli\\AppData\\Local\\Temp\\ipykernel_22260\\24762530.py:16: DeprecationWarning: `DataFrame.with_row_count` is deprecated; use `with_row_index` instead. Note that the default column name has changed from 'row_nr' to 'index'.\n",
      "  current_X = current_X.with_row_count(\"row_idx\")\n",
      "C:\\Users\\janli\\AppData\\Local\\Temp\\ipykernel_22260\\24762530.py:16: DeprecationWarning: `DataFrame.with_row_count` is deprecated; use `with_row_index` instead. Note that the default column name has changed from 'row_nr' to 'index'.\n",
      "  current_X = current_X.with_row_count(\"row_idx\")\n",
      "C:\\Users\\janli\\AppData\\Local\\Temp\\ipykernel_22260\\24762530.py:16: DeprecationWarning: `DataFrame.with_row_count` is deprecated; use `with_row_index` instead. Note that the default column name has changed from 'row_nr' to 'index'.\n",
      "  current_X = current_X.with_row_count(\"row_idx\")\n",
      "C:\\Users\\janli\\AppData\\Local\\Temp\\ipykernel_22260\\24762530.py:16: DeprecationWarning: `DataFrame.with_row_count` is deprecated; use `with_row_index` instead. Note that the default column name has changed from 'row_nr' to 'index'.\n",
      "  current_X = current_X.with_row_count(\"row_idx\")\n",
      "C:\\Users\\janli\\AppData\\Local\\Temp\\ipykernel_22260\\24762530.py:16: DeprecationWarning: `DataFrame.with_row_count` is deprecated; use `with_row_index` instead. Note that the default column name has changed from 'row_nr' to 'index'.\n",
      "  current_X = current_X.with_row_count(\"row_idx\")\n",
      "C:\\Users\\janli\\AppData\\Local\\Temp\\ipykernel_22260\\24762530.py:16: DeprecationWarning: `DataFrame.with_row_count` is deprecated; use `with_row_index` instead. Note that the default column name has changed from 'row_nr' to 'index'.\n",
      "  current_X = current_X.with_row_count(\"row_idx\")\n",
      "C:\\Users\\janli\\AppData\\Local\\Temp\\ipykernel_22260\\24762530.py:16: DeprecationWarning: `DataFrame.with_row_count` is deprecated; use `with_row_index` instead. Note that the default column name has changed from 'row_nr' to 'index'.\n",
      "  current_X = current_X.with_row_count(\"row_idx\")\n",
      "C:\\Users\\janli\\AppData\\Local\\Temp\\ipykernel_22260\\24762530.py:16: DeprecationWarning: `DataFrame.with_row_count` is deprecated; use `with_row_index` instead. Note that the default column name has changed from 'row_nr' to 'index'.\n",
      "  current_X = current_X.with_row_count(\"row_idx\")\n",
      "C:\\Users\\janli\\AppData\\Local\\Temp\\ipykernel_22260\\24762530.py:16: DeprecationWarning: `DataFrame.with_row_count` is deprecated; use `with_row_index` instead. Note that the default column name has changed from 'row_nr' to 'index'.\n",
      "  current_X = current_X.with_row_count(\"row_idx\")\n",
      "C:\\Users\\janli\\AppData\\Local\\Temp\\ipykernel_22260\\24762530.py:16: DeprecationWarning: `DataFrame.with_row_count` is deprecated; use `with_row_index` instead. Note that the default column name has changed from 'row_nr' to 'index'.\n",
      "  current_X = current_X.with_row_count(\"row_idx\")\n",
      "C:\\Users\\janli\\AppData\\Local\\Temp\\ipykernel_22260\\24762530.py:16: DeprecationWarning: `DataFrame.with_row_count` is deprecated; use `with_row_index` instead. Note that the default column name has changed from 'row_nr' to 'index'.\n",
      "  current_X = current_X.with_row_count(\"row_idx\")\n",
      "C:\\Users\\janli\\AppData\\Local\\Temp\\ipykernel_22260\\24762530.py:16: DeprecationWarning: `DataFrame.with_row_count` is deprecated; use `with_row_index` instead. Note that the default column name has changed from 'row_nr' to 'index'.\n",
      "  current_X = current_X.with_row_count(\"row_idx\")\n",
      "C:\\Users\\janli\\AppData\\Local\\Temp\\ipykernel_22260\\24762530.py:16: DeprecationWarning: `DataFrame.with_row_count` is deprecated; use `with_row_index` instead. Note that the default column name has changed from 'row_nr' to 'index'.\n",
      "  current_X = current_X.with_row_count(\"row_idx\")\n",
      "C:\\Users\\janli\\AppData\\Local\\Temp\\ipykernel_22260\\24762530.py:16: DeprecationWarning: `DataFrame.with_row_count` is deprecated; use `with_row_index` instead. Note that the default column name has changed from 'row_nr' to 'index'.\n",
      "  current_X = current_X.with_row_count(\"row_idx\")\n",
      "C:\\Users\\janli\\AppData\\Local\\Temp\\ipykernel_22260\\24762530.py:16: DeprecationWarning: `DataFrame.with_row_count` is deprecated; use `with_row_index` instead. Note that the default column name has changed from 'row_nr' to 'index'.\n",
      "  current_X = current_X.with_row_count(\"row_idx\")\n",
      "C:\\Users\\janli\\AppData\\Local\\Temp\\ipykernel_22260\\24762530.py:16: DeprecationWarning: `DataFrame.with_row_count` is deprecated; use `with_row_index` instead. Note that the default column name has changed from 'row_nr' to 'index'.\n",
      "  current_X = current_X.with_row_count(\"row_idx\")\n"
     ]
    }
   ],
   "source": [
    "from datetime import timedelta\n",
    "import numpy as np\n",
    "\n",
    "forecast_start = valid_start_date\n",
    "horizon = 28\n",
    "\n",
    "all_preds = []\n",
    "\n",
    "for h in range(horizon):\n",
    "    current_date = forecast_start + datetime.timedelta(days=h)\n",
    "\n",
    "    # Step 1: Historical data\n",
    "    current_X = df.filter(pl.col(\"date\") <= current_date).drop([\"d\", \"wm_yr_wk\"])\n",
    "\n",
    "    # Step 2: Add row number as index before preprocessing\n",
    "    current_X = current_X.with_row_count(\"row_idx\")\n",
    "    date_lookup = current_X.select([\"row_idx\", \"id\", \"date\"])\n",
    "\n",
    "    # Step 3: Preprocess (drop only wm_yr_wk, keep real date)\n",
    "    X_h_pl, _ = fcst.preprocess(\n",
    "        current_X,\n",
    "        id_col='id',\n",
    "        time_col='date',\n",
    "        target_col='y',\n",
    "        static_features=categoricals,\n",
    "        return_X_y=True,\n",
    "        as_numpy=False,\n",
    "    )\n",
    "\n",
    "    # Step 4: Merge to restore date after preprocessing\n",
    "    X_h_pl = X_h_pl.join(date_lookup, on=\"row_idx\", how=\"left\")\n",
    "\n",
    "    # Step 5: Filter only for current_date\n",
    "    X_today = X_h_pl.filter(pl.col(\"date\") == current_date)\n",
    "\n",
    "    ids = X_today[\"id\"].to_numpy()\n",
    "    X_np = X_today.drop([\"id\", \"row_idx\", \"date\"]).to_numpy().astype(np.float32)\n",
    "\n",
    "    # Step 6: Predict\n",
    "    y_pred_h = multi_model.estimators_[h].predict(X_np)\n",
    "\n",
    "    # Step 7: Store results\n",
    "    preds_df = pl.DataFrame({\n",
    "        \"id\": ids,\n",
    "        \"date\": [current_date] * len(ids),\n",
    "        \"y_pred\": y_pred_h\n",
    "    })\n",
    "\n",
    "    all_preds.append(preds_df)\n",
    "\n",
    "# Step 8: Concatenate all predictions\n",
    "final_preds = pl.concat(all_preds)\n"
   ]
  },
  {
   "cell_type": "code",
   "execution_count": 212,
   "id": "3ba4048f",
   "metadata": {},
   "outputs": [
    {
     "name": "stdout",
     "output_type": "stream",
     "text": [
      "Validation RMSE: 2.9999\n"
     ]
    },
    {
     "name": "stderr",
     "output_type": "stream",
     "text": [
      "c:\\Users\\janli\\AppData\\Local\\Programs\\Python\\Python312\\Lib\\site-packages\\sklearn\\metrics\\_regression.py:492: FutureWarning: 'squared' is deprecated in version 1.4 and will be removed in 1.6. To calculate the root mean squared error, use the function'root_mean_squared_error'.\n",
      "  warnings.warn(\n"
     ]
    }
   ],
   "source": [
    "from sklearn.metrics import mean_squared_error\n",
    "import numpy as np\n",
    "\n",
    "\n",
    "import datetime\n",
    "\n",
    "\n",
    "# Step 1: Prepare actual values\n",
    "actuals = valid_long.select([\"id\", \"date\", \"y\"])\n",
    "\n",
    "# Step 2: Join predictions with actuals\n",
    "merged = final_preds.join(actuals, on=[\"id\", \"date\"], how=\"inner\")\n",
    "\n",
    "# Step 3: Compute RMSE\n",
    "rmse = mean_squared_error(merged[\"y\"], merged[\"y_pred\"], squared=False)\n",
    "print(f\"Validation RMSE: {rmse:.4f}\")\n"
   ]
  }
 ],
 "metadata": {
  "kaggle": {
   "accelerator": "none",
   "dataSources": [
    {
     "databundleVersionId": 1236839,
     "sourceId": 18599,
     "sourceType": "competition"
    }
   ],
   "isGpuEnabled": false,
   "isInternetEnabled": true,
   "language": "python",
   "sourceType": "notebook"
  },
  "kernelspec": {
   "display_name": "Python 3",
   "language": "python",
   "name": "python3"
  },
  "language_info": {
   "codemirror_mode": {
    "name": "ipython",
    "version": 3
   },
   "file_extension": ".py",
   "mimetype": "text/x-python",
   "name": "python",
   "nbconvert_exporter": "python",
   "pygments_lexer": "ipython3",
   "version": "3.12.8"
  },
  "papermill": {
   "default_parameters": {},
   "duration": 261.454904,
   "end_time": "2024-12-06T20:08:34.427520",
   "environment_variables": {},
   "exception": null,
   "input_path": "__notebook__.ipynb",
   "output_path": "__notebook__.ipynb",
   "parameters": {},
   "start_time": "2024-12-06T20:04:12.972616",
   "version": "2.6.0"
  }
 },
 "nbformat": 4,
 "nbformat_minor": 5
}
