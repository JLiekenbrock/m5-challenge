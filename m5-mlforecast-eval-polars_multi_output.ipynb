{
 "cells": [
  {
   "cell_type": "markdown",
   "id": "fe8906be",
   "metadata": {
    "papermill": {
     "duration": 0.005587,
     "end_time": "2024-12-06T20:04:15.573071",
     "exception": false,
     "start_time": "2024-12-06T20:04:15.567484",
     "status": "completed"
    },
    "tags": []
   },
   "source": [
    "## Libraries"
   ]
  },
  {
   "cell_type": "code",
   "execution_count": 1,
   "id": "4fe43556",
   "metadata": {
    "execution": {
     "iopub.execute_input": "2024-12-06T20:04:15.584840Z",
     "iopub.status.busy": "2024-12-06T20:04:15.584383Z",
     "iopub.status.idle": "2024-12-06T20:04:27.847799Z",
     "shell.execute_reply": "2024-12-06T20:04:27.846407Z"
    },
    "papermill": {
     "duration": 12.272093,
     "end_time": "2024-12-06T20:04:27.850183",
     "exception": false,
     "start_time": "2024-12-06T20:04:15.578090",
     "status": "completed"
    },
    "tags": []
   },
   "outputs": [
    {
     "name": "stdout",
     "output_type": "stream",
     "text": [
      "Note: you may need to restart the kernel to use updated packages.\n"
     ]
    }
   ],
   "source": [
    "%pip install -qqq mlforecast"
   ]
  },
  {
   "cell_type": "code",
   "execution_count": 2,
   "id": "6934a123",
   "metadata": {
    "_cell_guid": "b1076dfc-b9ad-4769-8c92-a6c4dae69d19",
    "_uuid": "8f2839f25d086af736a60e9eeb907d3b93b6e0e5",
    "execution": {
     "iopub.execute_input": "2024-12-06T20:04:27.863731Z",
     "iopub.status.busy": "2024-12-06T20:04:27.863315Z",
     "iopub.status.idle": "2024-12-06T20:04:32.719066Z",
     "shell.execute_reply": "2024-12-06T20:04:32.718060Z"
    },
    "papermill": {
     "duration": 4.865822,
     "end_time": "2024-12-06T20:04:32.721355",
     "exception": false,
     "start_time": "2024-12-06T20:04:27.855533",
     "status": "completed"
    },
    "tags": []
   },
   "outputs": [],
   "source": [
    "from pathlib import Path\n",
    "\n",
    "import lightgbm as lgb\n",
    "import mlforecast\n",
    "import numpy as np\n",
    "import polars as pl\n",
    "from mlforecast import MLForecast\n",
    "from mlforecast.lag_transforms import ExpandingMean, RollingMean, SeasonalRollingMean"
   ]
  },
  {
   "cell_type": "code",
   "execution_count": 3,
   "id": "77c8f740",
   "metadata": {
    "execution": {
     "iopub.execute_input": "2024-12-06T20:04:32.733493Z",
     "iopub.status.busy": "2024-12-06T20:04:32.732914Z",
     "iopub.status.idle": "2024-12-06T20:04:32.740523Z",
     "shell.execute_reply": "2024-12-06T20:04:32.739509Z"
    },
    "papermill": {
     "duration": 0.0158,
     "end_time": "2024-12-06T20:04:32.742398",
     "exception": false,
     "start_time": "2024-12-06T20:04:32.726598",
     "status": "completed"
    },
    "tags": []
   },
   "outputs": [
    {
     "data": {
      "text/plain": [
       "'1.0.1'"
      ]
     },
     "execution_count": 3,
     "metadata": {},
     "output_type": "execute_result"
    }
   ],
   "source": [
    "mlforecast.__version__"
   ]
  },
  {
   "cell_type": "code",
   "execution_count": 4,
   "id": "bb4eb63f",
   "metadata": {
    "execution": {
     "iopub.execute_input": "2024-12-06T20:04:32.754861Z",
     "iopub.status.busy": "2024-12-06T20:04:32.754101Z",
     "iopub.status.idle": "2024-12-06T20:04:32.760271Z",
     "shell.execute_reply": "2024-12-06T20:04:32.759164Z"
    },
    "papermill": {
     "duration": 0.014607,
     "end_time": "2024-12-06T20:04:32.762294",
     "exception": false,
     "start_time": "2024-12-06T20:04:32.747687",
     "status": "completed"
    },
    "tags": []
   },
   "outputs": [],
   "source": [
    "pl.enable_string_cache()"
   ]
  },
  {
   "cell_type": "markdown",
   "id": "422da9d8",
   "metadata": {
    "papermill": {
     "duration": 0.005026,
     "end_time": "2024-12-06T20:04:32.772680",
     "exception": false,
     "start_time": "2024-12-06T20:04:32.767654",
     "status": "completed"
    },
    "tags": []
   },
   "source": [
    "## Data setup"
   ]
  },
  {
   "cell_type": "code",
   "execution_count": 5,
   "id": "13707c27",
   "metadata": {
    "execution": {
     "iopub.execute_input": "2024-12-06T20:04:32.784424Z",
     "iopub.status.busy": "2024-12-06T20:04:32.784085Z",
     "iopub.status.idle": "2024-12-06T20:04:32.788529Z",
     "shell.execute_reply": "2024-12-06T20:04:32.787601Z"
    },
    "papermill": {
     "duration": 0.012654,
     "end_time": "2024-12-06T20:04:32.790439",
     "exception": false,
     "start_time": "2024-12-06T20:04:32.777785",
     "status": "completed"
    },
    "tags": []
   },
   "outputs": [],
   "source": [
    "input_path = Path('m5-forecasting-accuracy/')"
   ]
  },
  {
   "cell_type": "markdown",
   "id": "6b536074",
   "metadata": {
    "papermill": {
     "duration": 0.004953,
     "end_time": "2024-12-06T20:04:32.800556",
     "exception": false,
     "start_time": "2024-12-06T20:04:32.795603",
     "status": "completed"
    },
    "tags": []
   },
   "source": [
    "### Calendar"
   ]
  },
  {
   "cell_type": "code",
   "execution_count": 6,
   "id": "f00821f1",
   "metadata": {
    "execution": {
     "iopub.execute_input": "2024-12-06T20:04:32.812351Z",
     "iopub.status.busy": "2024-12-06T20:04:32.811996Z",
     "iopub.status.idle": "2024-12-06T20:04:32.966739Z",
     "shell.execute_reply": "2024-12-06T20:04:32.965680Z"
    },
    "papermill": {
     "duration": 0.163596,
     "end_time": "2024-12-06T20:04:32.969205",
     "exception": false,
     "start_time": "2024-12-06T20:04:32.805609",
     "status": "completed"
    },
    "tags": []
   },
   "outputs": [],
   "source": [
    "cal_dtypes = {\n",
    "    'date': pl.Datetime,\n",
    "    'd': pl.Categorical,\n",
    "    'wm_yr_wk': pl.Int32,\n",
    "    'event_name_1': pl.Categorical,\n",
    "    'event_type_1': pl.Categorical,\n",
    "    'event_name_2': pl.Categorical,\n",
    "    'event_type_2': pl.Categorical,\n",
    "    'snap_CA': pl.Int32,\n",
    "    'snap_TX': pl.Int32,\n",
    "    'snap_WI': pl.Int32,\n",
    "}\n",
    "cal = pl.read_csv(input_path / 'calendar.csv', schema_overrides=cal_dtypes, columns=list(cal_dtypes.keys()))\n",
    "event_cols = [k for k in cal_dtypes if k.startswith('event')]\n",
    "cal = cal.with_columns(pl.col(event_cols).fill_null('nan'))"
   ]
  },
  {
   "cell_type": "markdown",
   "id": "30e219a5",
   "metadata": {
    "papermill": {
     "duration": 0.005214,
     "end_time": "2024-12-06T20:04:32.979965",
     "exception": false,
     "start_time": "2024-12-06T20:04:32.974751",
     "status": "completed"
    },
    "tags": []
   },
   "source": [
    "### Prices"
   ]
  },
  {
   "cell_type": "code",
   "execution_count": 7,
   "id": "6539181a",
   "metadata": {
    "execution": {
     "iopub.execute_input": "2024-12-06T20:04:32.992029Z",
     "iopub.status.busy": "2024-12-06T20:04:32.991649Z",
     "iopub.status.idle": "2024-12-06T20:04:35.972081Z",
     "shell.execute_reply": "2024-12-06T20:04:35.971000Z"
    },
    "papermill": {
     "duration": 2.989409,
     "end_time": "2024-12-06T20:04:35.974583",
     "exception": false,
     "start_time": "2024-12-06T20:04:32.985174",
     "status": "completed"
    },
    "tags": []
   },
   "outputs": [],
   "source": [
    "prices_dtypes = {\n",
    "    'store_id': pl.Categorical,\n",
    "    'item_id': pl.Categorical,\n",
    "    'wm_yr_wk': pl.Int32,\n",
    "    'sell_price': pl.Float32,\n",
    "}\n",
    "prices = pl.read_csv(input_path / 'sell_prices.csv', schema_overrides=prices_dtypes)"
   ]
  },
  {
   "cell_type": "markdown",
   "id": "c17d3ee9",
   "metadata": {
    "papermill": {
     "duration": 0.00495,
     "end_time": "2024-12-06T20:04:35.984899",
     "exception": false,
     "start_time": "2024-12-06T20:04:35.979949",
     "status": "completed"
    },
    "tags": []
   },
   "source": [
    "### Sales"
   ]
  },
  {
   "cell_type": "code",
   "execution_count": 8,
   "id": "11044b27",
   "metadata": {
    "execution": {
     "iopub.execute_input": "2024-12-06T20:04:35.997325Z",
     "iopub.status.busy": "2024-12-06T20:04:35.996542Z",
     "iopub.status.idle": "2024-12-06T20:04:38.032852Z",
     "shell.execute_reply": "2024-12-06T20:04:38.031742Z"
    },
    "papermill": {
     "duration": 2.045142,
     "end_time": "2024-12-06T20:04:38.035238",
     "exception": false,
     "start_time": "2024-12-06T20:04:35.990096",
     "status": "completed"
    },
    "tags": []
   },
   "outputs": [],
   "source": [
    "sales_dtypes = {\n",
    "    'id': pl.Categorical,\n",
    "    'item_id': pl.Categorical,\n",
    "    'dept_id': pl.Categorical,\n",
    "    'cat_id': pl.Categorical,\n",
    "    'store_id': pl.Categorical,\n",
    "    'state_id': pl.Categorical,\n",
    "    **{f'd_{i}': pl.Float32 for i in range(1942)}\n",
    "}\n",
    "sales = pl.read_csv(input_path / 'sales_train_evaluation.csv', schema_overrides=sales_dtypes)"
   ]
  },
  {
   "cell_type": "code",
   "execution_count": 9,
   "id": "5456e7e6",
   "metadata": {},
   "outputs": [
    {
     "name": "stderr",
     "output_type": "stream",
     "text": [
      "C:\\Users\\janli\\AppData\\Local\\Temp\\ipykernel_22260\\635532964.py:8: DeprecationWarning: `LazyFrame.melt` is deprecated; use `LazyFrame.unpivot` instead, with `index` instead of `id_vars` and `on` instead of `value_vars`\n",
      "  .melt(id_vars=id_vars, value_vars=value_vars, variable_name=\"d\", value_name=\"y\")\n"
     ]
    }
   ],
   "source": [
    "import polars as pl\n",
    "\n",
    "id_vars = ['id', 'item_id', 'dept_id', 'cat_id', 'store_id', 'state_id']\n",
    "value_vars = [col for col in sales.columns if col.startswith(\"d_\")]\n",
    "\n",
    "long = (\n",
    "    sales.lazy()\n",
    "    .melt(id_vars=id_vars, value_vars=value_vars, variable_name=\"d\", value_name=\"y\")\n",
    "    .collect()\n",
    ")\n"
   ]
  },
  {
   "cell_type": "code",
   "execution_count": 10,
   "id": "168c27ea",
   "metadata": {
    "execution": {
     "iopub.execute_input": "2024-12-06T20:05:53.222200Z",
     "iopub.status.busy": "2024-12-06T20:05:53.221774Z",
     "iopub.status.idle": "2024-12-06T20:06:30.768039Z",
     "shell.execute_reply": "2024-12-06T20:06:30.765045Z"
    },
    "papermill": {
     "duration": 37.59016,
     "end_time": "2024-12-06T20:06:30.805615",
     "exception": false,
     "start_time": "2024-12-06T20:05:53.215455",
     "status": "completed"
    },
    "tags": []
   },
   "outputs": [
    {
     "name": "stdout",
     "output_type": "stream",
     "text": [
      "59181090\n",
      "12159132\n",
      "CPU times: total: 22.8 s\n",
      "Wall time: 2.76 s\n"
     ]
    }
   ],
   "source": [
    "%%time\n",
    "print(long.shape[0])\n",
    "long = long.with_columns(pl.col('d').cast(pl.Categorical))\n",
    "long = long.join(cal, on=['d'])\n",
    "dates = sorted(long['date'].unique())\n",
    "long = long.sort(['id', 'date'])\n",
    "without_leading_zeros = pl.col('y').gt(0).cast(pl.Int64).cum_max().over('id').cast(pl.Boolean)\n",
    "above_min_date = pl.col('date') >= dates[-400]\n",
    "keep_mask = without_leading_zeros & above_min_date\n",
    "long = long.filter(keep_mask)\n",
    "print(long.shape[0])"
   ]
  },
  {
   "cell_type": "code",
   "execution_count": 11,
   "id": "b2b623ee",
   "metadata": {},
   "outputs": [],
   "source": [
    "long = long.join(prices, on=['store_id', 'item_id', 'wm_yr_wk'])\n"
   ]
  },
  {
   "cell_type": "code",
   "execution_count": 12,
   "id": "34964c27",
   "metadata": {
    "execution": {
     "iopub.execute_input": "2024-12-06T20:06:30.865796Z",
     "iopub.status.busy": "2024-12-06T20:06:30.862885Z",
     "iopub.status.idle": "2024-12-06T20:06:37.920933Z",
     "shell.execute_reply": "2024-12-06T20:06:37.916429Z"
    },
    "papermill": {
     "duration": 7.101334,
     "end_time": "2024-12-06T20:06:37.933310",
     "exception": false,
     "start_time": "2024-12-06T20:06:30.831976",
     "status": "completed"
    },
    "tags": []
   },
   "outputs": [
    {
     "name": "stderr",
     "output_type": "stream",
     "text": [
      "C:\\Users\\janli\\AppData\\Local\\Temp\\ipykernel_22260\\292423963.py:13: DeprecationWarning: `is_in` with a collection of the same datatype is ambiguous and deprecated.\n",
      "Please use `implode` to return to previous behavior.\n",
      "\n",
      "See https://github.com/pola-rs/polars/issues/22149 for more information.\n",
      "  future_prices = prices.filter(pl.col('wm_yr_wk').is_in(future_cal['wm_yr_wk'].unique()))\n"
     ]
    }
   ],
   "source": [
    "# Get max date from long (original train + prices merged)\n",
    "last_date_all = long['date'].max()\n",
    "valid_horizon = 28\n",
    "valid_start_date = last_date_all - pl.duration(days=valid_horizon)\n",
    "train_end = valid_start_date - pl.duration(days=valid_horizon)\n",
    "\n",
    "# Split long into train and validation (just like time-based CV)\n",
    "train_long = long.filter(pl.col(\"date\") < valid_start_date)\n",
    "valid_long = long.filter(pl.col(\"date\") >= valid_start_date)\n",
    "\n",
    "# Build calendar + prices (X_df) for the validation period only\n",
    "future_cal = cal.filter((pl.col('date') >= valid_start_date) & (pl.col('date') <= last_date_all))\n",
    "future_prices = prices.filter(pl.col('wm_yr_wk').is_in(future_cal['wm_yr_wk'].unique()))\n",
    "\n",
    "# Create IDs to match training IDs\n",
    "future_prices = future_prices.with_columns(\n",
    "    id = (pl.col('item_id') + '_' + pl.col('store_id') + '_evaluation')\n",
    ")\n",
    "\n",
    "X_df = future_prices.join(future_cal, on='wm_yr_wk')\n",
    "X_df = X_df.drop(['store_id', 'item_id', 'wm_yr_wk', 'd'])\n",
    "X_df = X_df.with_columns(pl.col('id').cast(pl.Categorical))\n"
   ]
  },
  {
   "cell_type": "code",
   "execution_count": 13,
   "id": "18ec41b5",
   "metadata": {},
   "outputs": [],
   "source": [
    "for h in range(0, 28 + 1):\n",
    "    train_long = train_long.with_columns(\n",
    "        pl.col('y').shift(-h).over('id').alias(f'y_t+{h}')\n",
    "    )"
   ]
  },
  {
   "cell_type": "code",
   "execution_count": 14,
   "id": "24caf8a3",
   "metadata": {},
   "outputs": [],
   "source": [
    "df_clean = train_long.drop_nulls()"
   ]
  },
  {
   "cell_type": "code",
   "execution_count": 15,
   "id": "6067514e",
   "metadata": {},
   "outputs": [],
   "source": [
    "df_clean = df_clean.with_columns(\n",
    "    pl.arange(0, df_clean.height).alias(\"row_number\")\n",
    ")"
   ]
  },
  {
   "cell_type": "code",
   "execution_count": 16,
   "id": "c5943d5b",
   "metadata": {},
   "outputs": [],
   "source": [
    "y_cols = [f'y_t+{h}' for h in range(0, 28 + 1)]\n",
    "X_train = df_clean.drop(y_cols + ['date', 'id'])\n",
    "y_train = df_clean"
   ]
  },
  {
   "cell_type": "markdown",
   "id": "375965fc",
   "metadata": {
    "papermill": {
     "duration": 0.029302,
     "end_time": "2024-12-06T20:06:37.990641",
     "exception": false,
     "start_time": "2024-12-06T20:06:37.961339",
     "status": "completed"
    },
    "tags": []
   },
   "source": [
    "## Training"
   ]
  },
  {
   "cell_type": "markdown",
   "id": "b2483cd0",
   "metadata": {
    "papermill": {
     "duration": 0.028604,
     "end_time": "2024-12-06T20:06:38.050060",
     "exception": false,
     "start_time": "2024-12-06T20:06:38.021456",
     "status": "completed"
    },
    "tags": []
   },
   "source": [
    "Since at the time of making this LightGBM can't handle polars dataframes with categorical features we'll build the features as numpy arrays as described [here](https://nixtla.github.io/mlforecast/docs/how-to-guides/training_with_numpy.html#preprocess-method)."
   ]
  },
  {
   "cell_type": "code",
   "execution_count": 17,
   "id": "8b83b7da",
   "metadata": {
    "execution": {
     "iopub.execute_input": "2024-12-06T20:06:38.117309Z",
     "iopub.status.busy": "2024-12-06T20:06:38.114925Z",
     "iopub.status.idle": "2024-12-06T20:06:38.147758Z",
     "shell.execute_reply": "2024-12-06T20:06:38.143678Z"
    },
    "papermill": {
     "duration": 0.071891,
     "end_time": "2024-12-06T20:06:38.152158",
     "exception": false,
     "start_time": "2024-12-06T20:06:38.080267",
     "status": "completed"
    },
    "tags": []
   },
   "outputs": [],
   "source": [
    "fcst = MLForecast(\n",
    "    models=[],\n",
    "    freq='1d',\n",
    "    lags=[7 * (i+1) for i in range(8)],\n",
    "    lag_transforms = {\n",
    "        1 :  [ExpandingMean()],\n",
    "        7 :  [RollingMean(7), RollingMean(14), RollingMean(28), SeasonalRollingMean(7, 4)],\n",
    "        14:  [RollingMean(7), RollingMean(14), RollingMean(28), SeasonalRollingMean(7, 4)],\n",
    "        28:  [RollingMean(7), RollingMean(14), RollingMean(28), SeasonalRollingMean(7, 4)],\n",
    "    },\n",
    "    date_features=['year', 'month', 'day', 'weekday', 'quarter', 'week'],    \n",
    "    num_threads=4,\n",
    ")"
   ]
  },
  {
   "cell_type": "code",
   "execution_count": 18,
   "id": "b4fcc5ae",
   "metadata": {},
   "outputs": [
    {
     "data": {
      "text/html": [
       "<div><style>\n",
       ".dataframe > thead > tr,\n",
       ".dataframe > tbody > tr {\n",
       "  text-align: right;\n",
       "  white-space: pre-wrap;\n",
       "}\n",
       "</style>\n",
       "<small>shape: (31, 2)</small><table border=\"1\" class=\"dataframe\"><thead><tr><th>event_name_1</th><th>count</th></tr><tr><td>cat</td><td>u32</td></tr></thead><tbody><tr><td>&quot;EidAlAdha&quot;</td><td>30404</td></tr><tr><td>&quot;Easter&quot;</td><td>30490</td></tr><tr><td>&quot;MartinLutherKingDay&quot;</td><td>30477</td></tr><tr><td>&quot;OrthodoxChristmas&quot;</td><td>30474</td></tr><tr><td>&quot;nan&quot;</td><td>11186101</td></tr><tr><td>&hellip;</td><td>&hellip;</td></tr><tr><td>&quot;Thanksgiving&quot;</td><td>30462</td></tr><tr><td>&quot;LentWeek2&quot;</td><td>30490</td></tr><tr><td>&quot;NBAFinalsEnd&quot;</td><td>30325</td></tr><tr><td>&quot;ColumbusDay&quot;</td><td>30429</td></tr><tr><td>&quot;MemorialDay&quot;</td><td>30105</td></tr></tbody></table></div>"
      ],
      "text/plain": [
       "shape: (31, 2)\n",
       "┌─────────────────────┬──────────┐\n",
       "│ event_name_1        ┆ count    │\n",
       "│ ---                 ┆ ---      │\n",
       "│ cat                 ┆ u32      │\n",
       "╞═════════════════════╪══════════╡\n",
       "│ EidAlAdha           ┆ 30404    │\n",
       "│ Easter              ┆ 30490    │\n",
       "│ MartinLutherKingDay ┆ 30477    │\n",
       "│ OrthodoxChristmas   ┆ 30474    │\n",
       "│ nan                 ┆ 11186101 │\n",
       "│ …                   ┆ …        │\n",
       "│ Thanksgiving        ┆ 30462    │\n",
       "│ LentWeek2           ┆ 30490    │\n",
       "│ NBAFinalsEnd        ┆ 30325    │\n",
       "│ ColumbusDay         ┆ 30429    │\n",
       "│ MemorialDay         ┆ 30105    │\n",
       "└─────────────────────┴──────────┘"
      ]
     },
     "execution_count": 18,
     "metadata": {},
     "output_type": "execute_result"
    }
   ],
   "source": [
    "long[\"event_name_1\"].value_counts()"
   ]
  },
  {
   "cell_type": "code",
   "execution_count": 50,
   "id": "ab3071dc",
   "metadata": {},
   "outputs": [],
   "source": [
    "def preprocess_multi_output(\n",
    "    fcst,\n",
    "    df,\n",
    "    target_col='y',\n",
    "    categoricals=None,\n",
    "    horizon=28\n",
    "):\n",
    "    \"\"\"\n",
    "    Extends mlforecast.preprocess to support multi-output (multi-horizon) targets.\n",
    "    \"\"\"\n",
    "    import polars as pl\n",
    "    import numpy as np\n",
    "\n",
    "    # Step 1: Run standard fcst.preprocess to get feature DataFrame\n",
    "    X_df = fcst.preprocess(\n",
    "        df,\n",
    "        id_col='id',\n",
    "        time_col='date',\n",
    "        target_col=target_col,\n",
    "        static_features=categoricals or [],\n",
    "        return_X_y=False,\n",
    "        as_numpy=False\n",
    "    )\n",
    "\n",
    "    # Step 2: Add shifted target columns for each horizon step\n",
    "    for h in range(1, horizon + 1):\n",
    "        X_df = X_df.with_columns(\n",
    "            pl.col(target_col).shift(-h).over('id').alias(f'y_t+{h}')\n",
    "        )\n",
    "\n",
    "    # Step 3: Drop rows with any missing targets\n",
    "    y_cols = [f'y_t+{i}' for i in range(1, horizon + 1)]\n",
    "    X_df = X_df.drop_nulls(subset=y_cols)\n",
    "\n",
    "    # Step 4: Prepare X and y\n",
    "    X = X_df.drop(['id', 'date', target_col] + y_cols).to_numpy()\n",
    "    y = X_df.select(y_cols).to_numpy()\n",
    "\n",
    "    return X, y\n"
   ]
  },
  {
   "cell_type": "code",
   "execution_count": 51,
   "id": "268cccc1",
   "metadata": {},
   "outputs": [],
   "source": [
    "X_train, y_train = preprocess_multi_output(\n",
    "    fcst=fcst,\n",
    "    df=train_long.drop([\"d\", \"wm_yr_wk\"]),\n",
    "    target_col='y',\n",
    "    categoricals=categoricals,\n",
    "    horizon=28\n",
    ")"
   ]
  },
  {
   "cell_type": "code",
   "execution_count": 53,
   "id": "546e60dc",
   "metadata": {},
   "outputs": [
    {
     "name": "stdout",
     "output_type": "stream",
     "text": [
      "CPU times: total: 31.2 s\n",
      "Wall time: 2.79 s\n"
     ]
    }
   ],
   "source": [
    "%%time\n",
    "categoricals = ['id', 'item_id', 'dept_id', 'cat_id', 'store_id', 'state_id']\n",
    "X_train, y = fcst.preprocess(\n",
    "    train_long.drop([\"d\",\"wm_yr_wk\"]),\n",
    "    id_col='id',\n",
    "    time_col='date',\n",
    "    target_col='y',\n",
    "    static_features=categoricals,\n",
    "    return_X_y=True,    \n",
    "    as_numpy=True,\n",
    ")"
   ]
  },
  {
   "cell_type": "code",
   "execution_count": 40,
   "id": "432f0064",
   "metadata": {
    "execution": {
     "iopub.execute_input": "2024-12-06T20:06:38.223125Z",
     "iopub.status.busy": "2024-12-06T20:06:38.219922Z",
     "iopub.status.idle": "2024-12-06T20:06:50.939566Z",
     "shell.execute_reply": "2024-12-06T20:06:50.938127Z"
    },
    "papermill": {
     "duration": 12.752824,
     "end_time": "2024-12-06T20:06:50.942085",
     "exception": false,
     "start_time": "2024-12-06T20:06:38.189261",
     "status": "completed"
    },
    "tags": []
   },
   "outputs": [
    {
     "name": "stdout",
     "output_type": "stream",
     "text": [
      "CPU times: total: 33.1 s\n",
      "Wall time: 2.69 s\n"
     ]
    }
   ],
   "source": [
    "%%time\n",
    "categoricals = ['id', 'item_id', 'dept_id', 'cat_id', 'store_id', 'state_id']\n",
    "X_train, y = fcst.preprocess(\n",
    "    train_long.drop([\"d\",\"wm_yr_wk\"]),\n",
    "    id_col='id',\n",
    "    time_col='date',\n",
    "    target_col='y',\n",
    "    static_features=categoricals,\n",
    "    return_X_y=True,    \n",
    "    as_numpy=True,\n",
    ")"
   ]
  },
  {
   "cell_type": "code",
   "execution_count": 41,
   "id": "480dc405",
   "metadata": {},
   "outputs": [
    {
     "data": {
      "text/plain": [
       "array([[5.0630e+03, 2.1000e+03, 5.1580e+03, ..., 7.0000e+00, 2.0000e+00,\n",
       "        2.4000e+01],\n",
       "       [5.0630e+03, 2.1000e+03, 5.1580e+03, ..., 1.0000e+00, 2.0000e+00,\n",
       "        2.5000e+01],\n",
       "       [5.0630e+03, 2.1000e+03, 5.1580e+03, ..., 2.0000e+00, 2.0000e+00,\n",
       "        2.5000e+01],\n",
       "       ...,\n",
       "       [3.5565e+04, 5.0000e+03, 7.2620e+03, ..., 4.0000e+00, 2.0000e+00,\n",
       "        1.6000e+01],\n",
       "       [3.5565e+04, 5.0000e+03, 7.2620e+03, ..., 5.0000e+00, 2.0000e+00,\n",
       "        1.6000e+01],\n",
       "       [3.5565e+04, 5.0000e+03, 7.2620e+03, ..., 6.0000e+00, 2.0000e+00,\n",
       "        1.6000e+01]])"
      ]
     },
     "execution_count": 41,
     "metadata": {},
     "output_type": "execute_result"
    }
   ],
   "source": [
    "X_train"
   ]
  },
  {
   "cell_type": "code",
   "execution_count": 31,
   "id": "dc9b3b39",
   "metadata": {},
   "outputs": [],
   "source": [
    "X_train = X_train.drop_nulls()"
   ]
  },
  {
   "cell_type": "code",
   "execution_count": 32,
   "id": "76923eae",
   "metadata": {},
   "outputs": [],
   "source": [
    "y_train = X_train.select(y_cols)\n",
    "X_train = X_train.drop(y_cols)\n"
   ]
  },
  {
   "cell_type": "code",
   "execution_count": 34,
   "id": "affe79ed",
   "metadata": {},
   "outputs": [],
   "source": [
    "from sklearn.preprocessing import LabelEncoder\n",
    "import polars as pl\n",
    "\n",
    "categoricals = ['id', 'item_id', 'dept_id', 'cat_id', 'store_id', 'state_id']\n",
    "df_encoded = X_train.clone()\n",
    "\n",
    "for col in categoricals:\n",
    "    le = LabelEncoder()\n",
    "    df_encoded = df_encoded.with_columns(\n",
    "        pl.Series(col, le.fit_transform(df_encoded[col].to_list()))\n",
    "    )\n"
   ]
  },
  {
   "cell_type": "code",
   "execution_count": 35,
   "id": "a9eafc00",
   "metadata": {},
   "outputs": [],
   "source": [
    "from sklearn.multioutput import MultiOutputRegressor\n",
    "from sklearn.base import clone\n",
    "from joblib import Parallel, delayed\n",
    "\n",
    "class MultiOutputLGBMRegressor(MultiOutputRegressor):\n",
    "    def __init__(self, estimator, n_jobs=None, feature_name=None, categorical_feature=None):\n",
    "        super().__init__(estimator, n_jobs=n_jobs)\n",
    "        self.feature_name = feature_name\n",
    "        self.categorical_feature = categorical_feature\n",
    "\n",
    "    def fit(self, X, Y, **fit_params):\n",
    "        if len(Y.shape) != 2:\n",
    "            raise ValueError(\"Y must be 2D for multi-output regression.\")\n",
    "        \n",
    "        self.estimators_ = Parallel(n_jobs=self.n_jobs)(\n",
    "            delayed(self._fit_single)(\n",
    "                i, X, Y[:, i]\n",
    "            ) for i in range(Y.shape[1])\n",
    "        )\n",
    "        return self\n",
    "\n",
    "    def _fit_single(self, i, X, y):\n",
    "        estimator = clone(self.estimator)\n",
    "        estimator.fit(\n",
    "            X, y,\n",
    "            feature_name=self.feature_name,\n",
    "            categorical_feature=self.categorical_feature\n",
    "        )\n",
    "        return estimator\n",
    "\n",
    "    def predict(self, X):\n",
    "        return super().predict(X)\n"
   ]
  },
  {
   "cell_type": "code",
   "execution_count": 39,
   "id": "c7d4863c",
   "metadata": {},
   "outputs": [
    {
     "ename": "ValueError",
     "evalue": "could not convert string to float: 'NBAFinalsEnd'",
     "output_type": "error",
     "traceback": [
      "\u001b[1;31m---------------------------------------------------------------------------\u001b[0m",
      "\u001b[1;31m_RemoteTraceback\u001b[0m                          Traceback (most recent call last)",
      "\u001b[1;31m_RemoteTraceback\u001b[0m: \n\"\"\"\nTraceback (most recent call last):\n  File \"c:\\Users\\janli\\AppData\\Local\\Programs\\Python\\Python312\\Lib\\site-packages\\joblib\\externals\\loky\\process_executor.py\", line 490, in _process_worker\n    r = call_item()\n        ^^^^^^^^^^^\n  File \"c:\\Users\\janli\\AppData\\Local\\Programs\\Python\\Python312\\Lib\\site-packages\\joblib\\externals\\loky\\process_executor.py\", line 291, in __call__\n    return self.fn(*self.args, **self.kwargs)\n           ^^^^^^^^^^^^^^^^^^^^^^^^^^^^^^^^^^\n  File \"c:\\Users\\janli\\AppData\\Local\\Programs\\Python\\Python312\\Lib\\site-packages\\joblib\\parallel.py\", line 607, in __call__\n    return [func(*args, **kwargs) for func, args, kwargs in self.items]\n            ^^^^^^^^^^^^^^^^^^^^^\n  File \"C:\\Users\\janli\\AppData\\Local\\Temp\\ipykernel_22260\\1674639609.py\", line 24, in _fit_single\n  File \"c:\\Users\\janli\\AppData\\Local\\Programs\\Python\\Python312\\Lib\\site-packages\\lightgbm\\sklearn.py\", line 1189, in fit\n    super().fit(\n  File \"c:\\Users\\janli\\AppData\\Local\\Programs\\Python\\Python312\\Lib\\site-packages\\lightgbm\\sklearn.py\", line 955, in fit\n    self._Booster = train(\n                    ^^^^^^\n  File \"c:\\Users\\janli\\AppData\\Local\\Programs\\Python\\Python312\\Lib\\site-packages\\lightgbm\\engine.py\", line 282, in train\n    booster = Booster(params=params, train_set=train_set)\n              ^^^^^^^^^^^^^^^^^^^^^^^^^^^^^^^^^^^^^^^^^^^\n  File \"c:\\Users\\janli\\AppData\\Local\\Programs\\Python\\Python312\\Lib\\site-packages\\lightgbm\\basic.py\", line 3637, in __init__\n    train_set.construct()\n  File \"c:\\Users\\janli\\AppData\\Local\\Programs\\Python\\Python312\\Lib\\site-packages\\lightgbm\\basic.py\", line 2576, in construct\n    self._lazy_init(\n  File \"c:\\Users\\janli\\AppData\\Local\\Programs\\Python\\Python312\\Lib\\site-packages\\lightgbm\\basic.py\", line 2168, in _lazy_init\n    self.__init_from_np2d(data, params_str, ref_dataset)\n  File \"c:\\Users\\janli\\AppData\\Local\\Programs\\Python\\Python312\\Lib\\site-packages\\lightgbm\\basic.py\", line 2300, in __init_from_np2d\n    data = np.asarray(mat.reshape(mat.size), dtype=np.float32)\n           ^^^^^^^^^^^^^^^^^^^^^^^^^^^^^^^^^^^^^^^^^^^^^^^^^^^\nValueError: could not convert string to float: 'NBAFinalsEnd'\n\"\"\"",
      "\nThe above exception was the direct cause of the following exception:\n",
      "\u001b[1;31mValueError\u001b[0m                                Traceback (most recent call last)",
      "File \u001b[1;32m<timed eval>:1\u001b[0m\n",
      "Cell \u001b[1;32mIn[35], line 15\u001b[0m, in \u001b[0;36mMultiOutputLGBMRegressor.fit\u001b[1;34m(self, X, Y, **fit_params)\u001b[0m\n\u001b[0;32m     12\u001b[0m \u001b[38;5;28;01mif\u001b[39;00m \u001b[38;5;28mlen\u001b[39m(Y\u001b[38;5;241m.\u001b[39mshape) \u001b[38;5;241m!=\u001b[39m \u001b[38;5;241m2\u001b[39m:\n\u001b[0;32m     13\u001b[0m     \u001b[38;5;28;01mraise\u001b[39;00m \u001b[38;5;167;01mValueError\u001b[39;00m(\u001b[38;5;124m\"\u001b[39m\u001b[38;5;124mY must be 2D for multi-output regression.\u001b[39m\u001b[38;5;124m\"\u001b[39m)\n\u001b[1;32m---> 15\u001b[0m \u001b[38;5;28mself\u001b[39m\u001b[38;5;241m.\u001b[39mestimators_ \u001b[38;5;241m=\u001b[39m \u001b[43mParallel\u001b[49m\u001b[43m(\u001b[49m\u001b[43mn_jobs\u001b[49m\u001b[38;5;241;43m=\u001b[39;49m\u001b[38;5;28;43mself\u001b[39;49m\u001b[38;5;241;43m.\u001b[39;49m\u001b[43mn_jobs\u001b[49m\u001b[43m)\u001b[49m\u001b[43m(\u001b[49m\n\u001b[0;32m     16\u001b[0m \u001b[43m    \u001b[49m\u001b[43mdelayed\u001b[49m\u001b[43m(\u001b[49m\u001b[38;5;28;43mself\u001b[39;49m\u001b[38;5;241;43m.\u001b[39;49m\u001b[43m_fit_single\u001b[49m\u001b[43m)\u001b[49m\u001b[43m(\u001b[49m\n\u001b[0;32m     17\u001b[0m \u001b[43m        \u001b[49m\u001b[43mi\u001b[49m\u001b[43m,\u001b[49m\u001b[43m \u001b[49m\u001b[43mX\u001b[49m\u001b[43m,\u001b[49m\u001b[43m \u001b[49m\u001b[43mY\u001b[49m\u001b[43m[\u001b[49m\u001b[43m:\u001b[49m\u001b[43m,\u001b[49m\u001b[43m \u001b[49m\u001b[43mi\u001b[49m\u001b[43m]\u001b[49m\n\u001b[0;32m     18\u001b[0m \u001b[43m    \u001b[49m\u001b[43m)\u001b[49m\u001b[43m \u001b[49m\u001b[38;5;28;43;01mfor\u001b[39;49;00m\u001b[43m \u001b[49m\u001b[43mi\u001b[49m\u001b[43m \u001b[49m\u001b[38;5;129;43;01min\u001b[39;49;00m\u001b[43m \u001b[49m\u001b[38;5;28;43mrange\u001b[39;49m\u001b[43m(\u001b[49m\u001b[43mY\u001b[49m\u001b[38;5;241;43m.\u001b[39;49m\u001b[43mshape\u001b[49m\u001b[43m[\u001b[49m\u001b[38;5;241;43m1\u001b[39;49m\u001b[43m]\u001b[49m\u001b[43m)\u001b[49m\n\u001b[0;32m     19\u001b[0m \u001b[43m\u001b[49m\u001b[43m)\u001b[49m\n\u001b[0;32m     20\u001b[0m \u001b[38;5;28;01mreturn\u001b[39;00m \u001b[38;5;28mself\u001b[39m\n",
      "File \u001b[1;32mc:\\Users\\janli\\AppData\\Local\\Programs\\Python\\Python312\\Lib\\site-packages\\joblib\\parallel.py:2072\u001b[0m, in \u001b[0;36mParallel.__call__\u001b[1;34m(self, iterable)\u001b[0m\n\u001b[0;32m   2066\u001b[0m \u001b[38;5;66;03m# The first item from the output is blank, but it makes the interpreter\u001b[39;00m\n\u001b[0;32m   2067\u001b[0m \u001b[38;5;66;03m# progress until it enters the Try/Except block of the generator and\u001b[39;00m\n\u001b[0;32m   2068\u001b[0m \u001b[38;5;66;03m# reaches the first `yield` statement. This starts the asynchronous\u001b[39;00m\n\u001b[0;32m   2069\u001b[0m \u001b[38;5;66;03m# dispatch of the tasks to the workers.\u001b[39;00m\n\u001b[0;32m   2070\u001b[0m \u001b[38;5;28mnext\u001b[39m(output)\n\u001b[1;32m-> 2072\u001b[0m \u001b[38;5;28;01mreturn\u001b[39;00m output \u001b[38;5;28;01mif\u001b[39;00m \u001b[38;5;28mself\u001b[39m\u001b[38;5;241m.\u001b[39mreturn_generator \u001b[38;5;28;01melse\u001b[39;00m \u001b[38;5;28;43mlist\u001b[39;49m\u001b[43m(\u001b[49m\u001b[43moutput\u001b[49m\u001b[43m)\u001b[49m\n",
      "File \u001b[1;32mc:\\Users\\janli\\AppData\\Local\\Programs\\Python\\Python312\\Lib\\site-packages\\joblib\\parallel.py:1682\u001b[0m, in \u001b[0;36mParallel._get_outputs\u001b[1;34m(self, iterator, pre_dispatch)\u001b[0m\n\u001b[0;32m   1679\u001b[0m     \u001b[38;5;28;01myield\u001b[39;00m\n\u001b[0;32m   1681\u001b[0m     \u001b[38;5;28;01mwith\u001b[39;00m \u001b[38;5;28mself\u001b[39m\u001b[38;5;241m.\u001b[39m_backend\u001b[38;5;241m.\u001b[39mretrieval_context():\n\u001b[1;32m-> 1682\u001b[0m         \u001b[38;5;28;01myield from\u001b[39;00m \u001b[38;5;28mself\u001b[39m\u001b[38;5;241m.\u001b[39m_retrieve()\n\u001b[0;32m   1684\u001b[0m \u001b[38;5;28;01mexcept\u001b[39;00m \u001b[38;5;167;01mGeneratorExit\u001b[39;00m:\n\u001b[0;32m   1685\u001b[0m     \u001b[38;5;66;03m# The generator has been garbage collected before being fully\u001b[39;00m\n\u001b[0;32m   1686\u001b[0m     \u001b[38;5;66;03m# consumed. This aborts the remaining tasks if possible and warn\u001b[39;00m\n\u001b[0;32m   1687\u001b[0m     \u001b[38;5;66;03m# the user if necessary.\u001b[39;00m\n\u001b[0;32m   1688\u001b[0m     \u001b[38;5;28mself\u001b[39m\u001b[38;5;241m.\u001b[39m_exception \u001b[38;5;241m=\u001b[39m \u001b[38;5;28;01mTrue\u001b[39;00m\n",
      "File \u001b[1;32mc:\\Users\\janli\\AppData\\Local\\Programs\\Python\\Python312\\Lib\\site-packages\\joblib\\parallel.py:1784\u001b[0m, in \u001b[0;36mParallel._retrieve\u001b[1;34m(self)\u001b[0m\n\u001b[0;32m   1778\u001b[0m \u001b[38;5;28;01mwhile\u001b[39;00m \u001b[38;5;28mself\u001b[39m\u001b[38;5;241m.\u001b[39m_wait_retrieval():\n\u001b[0;32m   1779\u001b[0m     \u001b[38;5;66;03m# If the callback thread of a worker has signaled that its task\u001b[39;00m\n\u001b[0;32m   1780\u001b[0m     \u001b[38;5;66;03m# triggered an exception, or if the retrieval loop has raised an\u001b[39;00m\n\u001b[0;32m   1781\u001b[0m     \u001b[38;5;66;03m# exception (e.g. `GeneratorExit`), exit the loop and surface the\u001b[39;00m\n\u001b[0;32m   1782\u001b[0m     \u001b[38;5;66;03m# worker traceback.\u001b[39;00m\n\u001b[0;32m   1783\u001b[0m     \u001b[38;5;28;01mif\u001b[39;00m \u001b[38;5;28mself\u001b[39m\u001b[38;5;241m.\u001b[39m_aborting:\n\u001b[1;32m-> 1784\u001b[0m         \u001b[38;5;28;43mself\u001b[39;49m\u001b[38;5;241;43m.\u001b[39;49m\u001b[43m_raise_error_fast\u001b[49m\u001b[43m(\u001b[49m\u001b[43m)\u001b[49m\n\u001b[0;32m   1785\u001b[0m         \u001b[38;5;28;01mbreak\u001b[39;00m\n\u001b[0;32m   1787\u001b[0m     nb_jobs \u001b[38;5;241m=\u001b[39m \u001b[38;5;28mlen\u001b[39m(\u001b[38;5;28mself\u001b[39m\u001b[38;5;241m.\u001b[39m_jobs)\n",
      "File \u001b[1;32mc:\\Users\\janli\\AppData\\Local\\Programs\\Python\\Python312\\Lib\\site-packages\\joblib\\parallel.py:1859\u001b[0m, in \u001b[0;36mParallel._raise_error_fast\u001b[1;34m(self)\u001b[0m\n\u001b[0;32m   1855\u001b[0m \u001b[38;5;66;03m# If this error job exists, immediately raise the error by\u001b[39;00m\n\u001b[0;32m   1856\u001b[0m \u001b[38;5;66;03m# calling get_result. This job might not exists if abort has been\u001b[39;00m\n\u001b[0;32m   1857\u001b[0m \u001b[38;5;66;03m# called directly or if the generator is gc'ed.\u001b[39;00m\n\u001b[0;32m   1858\u001b[0m \u001b[38;5;28;01mif\u001b[39;00m error_job \u001b[38;5;129;01mis\u001b[39;00m \u001b[38;5;129;01mnot\u001b[39;00m \u001b[38;5;28;01mNone\u001b[39;00m:\n\u001b[1;32m-> 1859\u001b[0m     \u001b[43merror_job\u001b[49m\u001b[38;5;241;43m.\u001b[39;49m\u001b[43mget_result\u001b[49m\u001b[43m(\u001b[49m\u001b[38;5;28;43mself\u001b[39;49m\u001b[38;5;241;43m.\u001b[39;49m\u001b[43mtimeout\u001b[49m\u001b[43m)\u001b[49m\n",
      "File \u001b[1;32mc:\\Users\\janli\\AppData\\Local\\Programs\\Python\\Python312\\Lib\\site-packages\\joblib\\parallel.py:758\u001b[0m, in \u001b[0;36mBatchCompletionCallBack.get_result\u001b[1;34m(self, timeout)\u001b[0m\n\u001b[0;32m    752\u001b[0m backend \u001b[38;5;241m=\u001b[39m \u001b[38;5;28mself\u001b[39m\u001b[38;5;241m.\u001b[39mparallel\u001b[38;5;241m.\u001b[39m_backend\n\u001b[0;32m    754\u001b[0m \u001b[38;5;28;01mif\u001b[39;00m backend\u001b[38;5;241m.\u001b[39msupports_retrieve_callback:\n\u001b[0;32m    755\u001b[0m     \u001b[38;5;66;03m# We assume that the result has already been retrieved by the\u001b[39;00m\n\u001b[0;32m    756\u001b[0m     \u001b[38;5;66;03m# callback thread, and is stored internally. It's just waiting to\u001b[39;00m\n\u001b[0;32m    757\u001b[0m     \u001b[38;5;66;03m# be returned.\u001b[39;00m\n\u001b[1;32m--> 758\u001b[0m     \u001b[38;5;28;01mreturn\u001b[39;00m \u001b[38;5;28;43mself\u001b[39;49m\u001b[38;5;241;43m.\u001b[39;49m\u001b[43m_return_or_raise\u001b[49m\u001b[43m(\u001b[49m\u001b[43m)\u001b[49m\n\u001b[0;32m    760\u001b[0m \u001b[38;5;66;03m# For other backends, the main thread needs to run the retrieval step.\u001b[39;00m\n\u001b[0;32m    761\u001b[0m \u001b[38;5;28;01mtry\u001b[39;00m:\n",
      "File \u001b[1;32mc:\\Users\\janli\\AppData\\Local\\Programs\\Python\\Python312\\Lib\\site-packages\\joblib\\parallel.py:773\u001b[0m, in \u001b[0;36mBatchCompletionCallBack._return_or_raise\u001b[1;34m(self)\u001b[0m\n\u001b[0;32m    771\u001b[0m \u001b[38;5;28;01mtry\u001b[39;00m:\n\u001b[0;32m    772\u001b[0m     \u001b[38;5;28;01mif\u001b[39;00m \u001b[38;5;28mself\u001b[39m\u001b[38;5;241m.\u001b[39mstatus \u001b[38;5;241m==\u001b[39m TASK_ERROR:\n\u001b[1;32m--> 773\u001b[0m         \u001b[38;5;28;01mraise\u001b[39;00m \u001b[38;5;28mself\u001b[39m\u001b[38;5;241m.\u001b[39m_result\n\u001b[0;32m    774\u001b[0m     \u001b[38;5;28;01mreturn\u001b[39;00m \u001b[38;5;28mself\u001b[39m\u001b[38;5;241m.\u001b[39m_result\n\u001b[0;32m    775\u001b[0m \u001b[38;5;28;01mfinally\u001b[39;00m:\n",
      "\u001b[1;31mValueError\u001b[0m: could not convert string to float: 'NBAFinalsEnd'"
     ]
    }
   ],
   "source": [
    "import lightgbm as lgb\n",
    "\n",
    "model_params = {\n",
    "    'verbose': -1,\n",
    "    'force_col_wise': True,\n",
    "    'num_leaves': 256,\n",
    "    'n_estimators': 50,\n",
    "}\n",
    "\n",
    "base_model = lgb.LGBMRegressor(**model_params)\n",
    "\n",
    "multi_model = MultiOutputLGBMRegressor(\n",
    "    estimator=base_model,\n",
    "    feature_name=fcst.ts.features_order_,\n",
    "    categorical_feature=categoricals,\n",
    "    n_jobs=-1\n",
    ")\n",
    "\n",
    "%time multi_model.fit(df_encoded, y_train)\n"
   ]
  },
  {
   "cell_type": "code",
   "execution_count": 105,
   "id": "b52502a8",
   "metadata": {},
   "outputs": [
    {
     "ename": "ValueError",
     "evalue": "could not convert string to float: 'HOBBIES_1_001_CA_1_evaluation'",
     "output_type": "error",
     "traceback": [
      "\u001b[1;31m---------------------------------------------------------------------------\u001b[0m",
      "\u001b[1;31mValueError\u001b[0m                                Traceback (most recent call last)",
      "File \u001b[1;32m<timed eval>:1\u001b[0m\n",
      "File \u001b[1;32m~\\AppData\\Local\\Packages\\PythonSoftwareFoundation.Python.3.11_qbz5n2kfra8p0\\LocalCache\\local-packages\\Python311\\site-packages\\sklearn\\base.py:1473\u001b[0m, in \u001b[0;36m_fit_context.<locals>.decorator.<locals>.wrapper\u001b[1;34m(estimator, *args, **kwargs)\u001b[0m\n\u001b[0;32m   1466\u001b[0m     estimator\u001b[38;5;241m.\u001b[39m_validate_params()\n\u001b[0;32m   1468\u001b[0m \u001b[38;5;28;01mwith\u001b[39;00m config_context(\n\u001b[0;32m   1469\u001b[0m     skip_parameter_validation\u001b[38;5;241m=\u001b[39m(\n\u001b[0;32m   1470\u001b[0m         prefer_skip_nested_validation \u001b[38;5;129;01mor\u001b[39;00m global_skip_validation\n\u001b[0;32m   1471\u001b[0m     )\n\u001b[0;32m   1472\u001b[0m ):\n\u001b[1;32m-> 1473\u001b[0m     \u001b[38;5;28;01mreturn\u001b[39;00m \u001b[43mfit_method\u001b[49m\u001b[43m(\u001b[49m\u001b[43mestimator\u001b[49m\u001b[43m,\u001b[49m\u001b[43m \u001b[49m\u001b[38;5;241;43m*\u001b[39;49m\u001b[43margs\u001b[49m\u001b[43m,\u001b[49m\u001b[43m \u001b[49m\u001b[38;5;241;43m*\u001b[39;49m\u001b[38;5;241;43m*\u001b[39;49m\u001b[43mkwargs\u001b[49m\u001b[43m)\u001b[49m\n",
      "File \u001b[1;32m~\\AppData\\Local\\Packages\\PythonSoftwareFoundation.Python.3.11_qbz5n2kfra8p0\\LocalCache\\local-packages\\Python311\\site-packages\\sklearn\\multioutput.py:278\u001b[0m, in \u001b[0;36m_MultiOutputEstimator.fit\u001b[1;34m(self, X, y, sample_weight, **fit_params)\u001b[0m\n\u001b[0;32m    275\u001b[0m     \u001b[38;5;28;01mif\u001b[39;00m sample_weight \u001b[38;5;129;01mis\u001b[39;00m \u001b[38;5;129;01mnot\u001b[39;00m \u001b[38;5;28;01mNone\u001b[39;00m:\n\u001b[0;32m    276\u001b[0m         routed_params\u001b[38;5;241m.\u001b[39mestimator\u001b[38;5;241m.\u001b[39mfit[\u001b[38;5;124m\"\u001b[39m\u001b[38;5;124msample_weight\u001b[39m\u001b[38;5;124m\"\u001b[39m] \u001b[38;5;241m=\u001b[39m sample_weight\n\u001b[1;32m--> 278\u001b[0m \u001b[38;5;28mself\u001b[39m\u001b[38;5;241m.\u001b[39mestimators_ \u001b[38;5;241m=\u001b[39m \u001b[43mParallel\u001b[49m\u001b[43m(\u001b[49m\u001b[43mn_jobs\u001b[49m\u001b[38;5;241;43m=\u001b[39;49m\u001b[38;5;28;43mself\u001b[39;49m\u001b[38;5;241;43m.\u001b[39;49m\u001b[43mn_jobs\u001b[49m\u001b[43m)\u001b[49m\u001b[43m(\u001b[49m\n\u001b[0;32m    279\u001b[0m \u001b[43m    \u001b[49m\u001b[43mdelayed\u001b[49m\u001b[43m(\u001b[49m\u001b[43m_fit_estimator\u001b[49m\u001b[43m)\u001b[49m\u001b[43m(\u001b[49m\n\u001b[0;32m    280\u001b[0m \u001b[43m        \u001b[49m\u001b[38;5;28;43mself\u001b[39;49m\u001b[38;5;241;43m.\u001b[39;49m\u001b[43mestimator\u001b[49m\u001b[43m,\u001b[49m\u001b[43m \u001b[49m\u001b[43mX\u001b[49m\u001b[43m,\u001b[49m\u001b[43m \u001b[49m\u001b[43my\u001b[49m\u001b[43m[\u001b[49m\u001b[43m:\u001b[49m\u001b[43m,\u001b[49m\u001b[43m \u001b[49m\u001b[43mi\u001b[49m\u001b[43m]\u001b[49m\u001b[43m,\u001b[49m\u001b[43m \u001b[49m\u001b[38;5;241;43m*\u001b[39;49m\u001b[38;5;241;43m*\u001b[39;49m\u001b[43mrouted_params\u001b[49m\u001b[38;5;241;43m.\u001b[39;49m\u001b[43mestimator\u001b[49m\u001b[38;5;241;43m.\u001b[39;49m\u001b[43mfit\u001b[49m\n\u001b[0;32m    281\u001b[0m \u001b[43m    \u001b[49m\u001b[43m)\u001b[49m\n\u001b[0;32m    282\u001b[0m \u001b[43m    \u001b[49m\u001b[38;5;28;43;01mfor\u001b[39;49;00m\u001b[43m \u001b[49m\u001b[43mi\u001b[49m\u001b[43m \u001b[49m\u001b[38;5;129;43;01min\u001b[39;49;00m\u001b[43m \u001b[49m\u001b[38;5;28;43mrange\u001b[39;49m\u001b[43m(\u001b[49m\u001b[43my\u001b[49m\u001b[38;5;241;43m.\u001b[39;49m\u001b[43mshape\u001b[49m\u001b[43m[\u001b[49m\u001b[38;5;241;43m1\u001b[39;49m\u001b[43m]\u001b[49m\u001b[43m)\u001b[49m\n\u001b[0;32m    283\u001b[0m \u001b[43m\u001b[49m\u001b[43m)\u001b[49m\n\u001b[0;32m    285\u001b[0m \u001b[38;5;28;01mif\u001b[39;00m \u001b[38;5;28mhasattr\u001b[39m(\u001b[38;5;28mself\u001b[39m\u001b[38;5;241m.\u001b[39mestimators_[\u001b[38;5;241m0\u001b[39m], \u001b[38;5;124m\"\u001b[39m\u001b[38;5;124mn_features_in_\u001b[39m\u001b[38;5;124m\"\u001b[39m):\n\u001b[0;32m    286\u001b[0m     \u001b[38;5;28mself\u001b[39m\u001b[38;5;241m.\u001b[39mn_features_in_ \u001b[38;5;241m=\u001b[39m \u001b[38;5;28mself\u001b[39m\u001b[38;5;241m.\u001b[39mestimators_[\u001b[38;5;241m0\u001b[39m]\u001b[38;5;241m.\u001b[39mn_features_in_\n",
      "File \u001b[1;32m~\\AppData\\Local\\Packages\\PythonSoftwareFoundation.Python.3.11_qbz5n2kfra8p0\\LocalCache\\local-packages\\Python311\\site-packages\\sklearn\\utils\\parallel.py:74\u001b[0m, in \u001b[0;36mParallel.__call__\u001b[1;34m(self, iterable)\u001b[0m\n\u001b[0;32m     69\u001b[0m config \u001b[38;5;241m=\u001b[39m get_config()\n\u001b[0;32m     70\u001b[0m iterable_with_config \u001b[38;5;241m=\u001b[39m (\n\u001b[0;32m     71\u001b[0m     (_with_config(delayed_func, config), args, kwargs)\n\u001b[0;32m     72\u001b[0m     \u001b[38;5;28;01mfor\u001b[39;00m delayed_func, args, kwargs \u001b[38;5;129;01min\u001b[39;00m iterable\n\u001b[0;32m     73\u001b[0m )\n\u001b[1;32m---> 74\u001b[0m \u001b[38;5;28;01mreturn\u001b[39;00m \u001b[38;5;28;43msuper\u001b[39;49m\u001b[43m(\u001b[49m\u001b[43m)\u001b[49m\u001b[38;5;241;43m.\u001b[39;49m\u001b[38;5;21;43m__call__\u001b[39;49m\u001b[43m(\u001b[49m\u001b[43miterable_with_config\u001b[49m\u001b[43m)\u001b[49m\n",
      "File \u001b[1;32m~\\AppData\\Local\\Packages\\PythonSoftwareFoundation.Python.3.11_qbz5n2kfra8p0\\LocalCache\\local-packages\\Python311\\site-packages\\joblib\\parallel.py:1918\u001b[0m, in \u001b[0;36mParallel.__call__\u001b[1;34m(self, iterable)\u001b[0m\n\u001b[0;32m   1916\u001b[0m     output \u001b[38;5;241m=\u001b[39m \u001b[38;5;28mself\u001b[39m\u001b[38;5;241m.\u001b[39m_get_sequential_output(iterable)\n\u001b[0;32m   1917\u001b[0m     \u001b[38;5;28mnext\u001b[39m(output)\n\u001b[1;32m-> 1918\u001b[0m     \u001b[38;5;28;01mreturn\u001b[39;00m output \u001b[38;5;28;01mif\u001b[39;00m \u001b[38;5;28mself\u001b[39m\u001b[38;5;241m.\u001b[39mreturn_generator \u001b[38;5;28;01melse\u001b[39;00m \u001b[38;5;28;43mlist\u001b[39;49m\u001b[43m(\u001b[49m\u001b[43moutput\u001b[49m\u001b[43m)\u001b[49m\n\u001b[0;32m   1920\u001b[0m \u001b[38;5;66;03m# Let's create an ID that uniquely identifies the current call. If the\u001b[39;00m\n\u001b[0;32m   1921\u001b[0m \u001b[38;5;66;03m# call is interrupted early and that the same instance is immediately\u001b[39;00m\n\u001b[0;32m   1922\u001b[0m \u001b[38;5;66;03m# re-used, this id will be used to prevent workers that were\u001b[39;00m\n\u001b[0;32m   1923\u001b[0m \u001b[38;5;66;03m# concurrently finalizing a task from the previous call to run the\u001b[39;00m\n\u001b[0;32m   1924\u001b[0m \u001b[38;5;66;03m# callback.\u001b[39;00m\n\u001b[0;32m   1925\u001b[0m \u001b[38;5;28;01mwith\u001b[39;00m \u001b[38;5;28mself\u001b[39m\u001b[38;5;241m.\u001b[39m_lock:\n",
      "File \u001b[1;32m~\\AppData\\Local\\Packages\\PythonSoftwareFoundation.Python.3.11_qbz5n2kfra8p0\\LocalCache\\local-packages\\Python311\\site-packages\\joblib\\parallel.py:1847\u001b[0m, in \u001b[0;36mParallel._get_sequential_output\u001b[1;34m(self, iterable)\u001b[0m\n\u001b[0;32m   1845\u001b[0m \u001b[38;5;28mself\u001b[39m\u001b[38;5;241m.\u001b[39mn_dispatched_batches \u001b[38;5;241m+\u001b[39m\u001b[38;5;241m=\u001b[39m \u001b[38;5;241m1\u001b[39m\n\u001b[0;32m   1846\u001b[0m \u001b[38;5;28mself\u001b[39m\u001b[38;5;241m.\u001b[39mn_dispatched_tasks \u001b[38;5;241m+\u001b[39m\u001b[38;5;241m=\u001b[39m \u001b[38;5;241m1\u001b[39m\n\u001b[1;32m-> 1847\u001b[0m res \u001b[38;5;241m=\u001b[39m \u001b[43mfunc\u001b[49m\u001b[43m(\u001b[49m\u001b[38;5;241;43m*\u001b[39;49m\u001b[43margs\u001b[49m\u001b[43m,\u001b[49m\u001b[43m \u001b[49m\u001b[38;5;241;43m*\u001b[39;49m\u001b[38;5;241;43m*\u001b[39;49m\u001b[43mkwargs\u001b[49m\u001b[43m)\u001b[49m\n\u001b[0;32m   1848\u001b[0m \u001b[38;5;28mself\u001b[39m\u001b[38;5;241m.\u001b[39mn_completed_tasks \u001b[38;5;241m+\u001b[39m\u001b[38;5;241m=\u001b[39m \u001b[38;5;241m1\u001b[39m\n\u001b[0;32m   1849\u001b[0m \u001b[38;5;28mself\u001b[39m\u001b[38;5;241m.\u001b[39mprint_progress()\n",
      "File \u001b[1;32m~\\AppData\\Local\\Packages\\PythonSoftwareFoundation.Python.3.11_qbz5n2kfra8p0\\LocalCache\\local-packages\\Python311\\site-packages\\sklearn\\utils\\parallel.py:136\u001b[0m, in \u001b[0;36m_FuncWrapper.__call__\u001b[1;34m(self, *args, **kwargs)\u001b[0m\n\u001b[0;32m    134\u001b[0m     config \u001b[38;5;241m=\u001b[39m {}\n\u001b[0;32m    135\u001b[0m \u001b[38;5;28;01mwith\u001b[39;00m config_context(\u001b[38;5;241m*\u001b[39m\u001b[38;5;241m*\u001b[39mconfig):\n\u001b[1;32m--> 136\u001b[0m     \u001b[38;5;28;01mreturn\u001b[39;00m \u001b[38;5;28;43mself\u001b[39;49m\u001b[38;5;241;43m.\u001b[39;49m\u001b[43mfunction\u001b[49m\u001b[43m(\u001b[49m\u001b[38;5;241;43m*\u001b[39;49m\u001b[43margs\u001b[49m\u001b[43m,\u001b[49m\u001b[43m \u001b[49m\u001b[38;5;241;43m*\u001b[39;49m\u001b[38;5;241;43m*\u001b[39;49m\u001b[43mkwargs\u001b[49m\u001b[43m)\u001b[49m\n",
      "File \u001b[1;32m~\\AppData\\Local\\Packages\\PythonSoftwareFoundation.Python.3.11_qbz5n2kfra8p0\\LocalCache\\local-packages\\Python311\\site-packages\\sklearn\\multioutput.py:67\u001b[0m, in \u001b[0;36m_fit_estimator\u001b[1;34m(estimator, X, y, sample_weight, **fit_params)\u001b[0m\n\u001b[0;32m     65\u001b[0m     estimator\u001b[38;5;241m.\u001b[39mfit(X, y, sample_weight\u001b[38;5;241m=\u001b[39msample_weight, \u001b[38;5;241m*\u001b[39m\u001b[38;5;241m*\u001b[39mfit_params)\n\u001b[0;32m     66\u001b[0m \u001b[38;5;28;01melse\u001b[39;00m:\n\u001b[1;32m---> 67\u001b[0m     \u001b[43mestimator\u001b[49m\u001b[38;5;241;43m.\u001b[39;49m\u001b[43mfit\u001b[49m\u001b[43m(\u001b[49m\u001b[43mX\u001b[49m\u001b[43m,\u001b[49m\u001b[43m \u001b[49m\u001b[43my\u001b[49m\u001b[43m,\u001b[49m\u001b[43m \u001b[49m\u001b[38;5;241;43m*\u001b[39;49m\u001b[38;5;241;43m*\u001b[39;49m\u001b[43mfit_params\u001b[49m\u001b[43m)\u001b[49m\n\u001b[0;32m     68\u001b[0m \u001b[38;5;28;01mreturn\u001b[39;00m estimator\n",
      "File \u001b[1;32m~\\AppData\\Local\\Packages\\PythonSoftwareFoundation.Python.3.11_qbz5n2kfra8p0\\LocalCache\\local-packages\\Python311\\site-packages\\lightgbm\\sklearn.py:1189\u001b[0m, in \u001b[0;36mLGBMRegressor.fit\u001b[1;34m(self, X, y, sample_weight, init_score, eval_set, eval_names, eval_sample_weight, eval_init_score, eval_metric, feature_name, categorical_feature, callbacks, init_model)\u001b[0m\n\u001b[0;32m   1172\u001b[0m \u001b[38;5;28;01mdef\u001b[39;00m \u001b[38;5;21mfit\u001b[39m(  \u001b[38;5;66;03m# type: ignore[override]\u001b[39;00m\n\u001b[0;32m   1173\u001b[0m     \u001b[38;5;28mself\u001b[39m,\n\u001b[0;32m   1174\u001b[0m     X: _LGBM_ScikitMatrixLike,\n\u001b[1;32m   (...)\u001b[0m\n\u001b[0;32m   1186\u001b[0m     init_model: Optional[Union[\u001b[38;5;28mstr\u001b[39m, Path, Booster, LGBMModel]] \u001b[38;5;241m=\u001b[39m \u001b[38;5;28;01mNone\u001b[39;00m,\n\u001b[0;32m   1187\u001b[0m ) \u001b[38;5;241m-\u001b[39m\u001b[38;5;241m>\u001b[39m \u001b[38;5;124m\"\u001b[39m\u001b[38;5;124mLGBMRegressor\u001b[39m\u001b[38;5;124m\"\u001b[39m:\n\u001b[0;32m   1188\u001b[0m \u001b[38;5;250m    \u001b[39m\u001b[38;5;124;03m\"\"\"Docstring is inherited from the LGBMModel.\"\"\"\u001b[39;00m\n\u001b[1;32m-> 1189\u001b[0m     \u001b[38;5;28;43msuper\u001b[39;49m\u001b[43m(\u001b[49m\u001b[43m)\u001b[49m\u001b[38;5;241;43m.\u001b[39;49m\u001b[43mfit\u001b[49m\u001b[43m(\u001b[49m\n\u001b[0;32m   1190\u001b[0m \u001b[43m        \u001b[49m\u001b[43mX\u001b[49m\u001b[43m,\u001b[49m\n\u001b[0;32m   1191\u001b[0m \u001b[43m        \u001b[49m\u001b[43my\u001b[49m\u001b[43m,\u001b[49m\n\u001b[0;32m   1192\u001b[0m \u001b[43m        \u001b[49m\u001b[43msample_weight\u001b[49m\u001b[38;5;241;43m=\u001b[39;49m\u001b[43msample_weight\u001b[49m\u001b[43m,\u001b[49m\n\u001b[0;32m   1193\u001b[0m \u001b[43m        \u001b[49m\u001b[43minit_score\u001b[49m\u001b[38;5;241;43m=\u001b[39;49m\u001b[43minit_score\u001b[49m\u001b[43m,\u001b[49m\n\u001b[0;32m   1194\u001b[0m \u001b[43m        \u001b[49m\u001b[43meval_set\u001b[49m\u001b[38;5;241;43m=\u001b[39;49m\u001b[43meval_set\u001b[49m\u001b[43m,\u001b[49m\n\u001b[0;32m   1195\u001b[0m \u001b[43m        \u001b[49m\u001b[43meval_names\u001b[49m\u001b[38;5;241;43m=\u001b[39;49m\u001b[43meval_names\u001b[49m\u001b[43m,\u001b[49m\n\u001b[0;32m   1196\u001b[0m \u001b[43m        \u001b[49m\u001b[43meval_sample_weight\u001b[49m\u001b[38;5;241;43m=\u001b[39;49m\u001b[43meval_sample_weight\u001b[49m\u001b[43m,\u001b[49m\n\u001b[0;32m   1197\u001b[0m \u001b[43m        \u001b[49m\u001b[43meval_init_score\u001b[49m\u001b[38;5;241;43m=\u001b[39;49m\u001b[43meval_init_score\u001b[49m\u001b[43m,\u001b[49m\n\u001b[0;32m   1198\u001b[0m \u001b[43m        \u001b[49m\u001b[43meval_metric\u001b[49m\u001b[38;5;241;43m=\u001b[39;49m\u001b[43meval_metric\u001b[49m\u001b[43m,\u001b[49m\n\u001b[0;32m   1199\u001b[0m \u001b[43m        \u001b[49m\u001b[43mfeature_name\u001b[49m\u001b[38;5;241;43m=\u001b[39;49m\u001b[43mfeature_name\u001b[49m\u001b[43m,\u001b[49m\n\u001b[0;32m   1200\u001b[0m \u001b[43m        \u001b[49m\u001b[43mcategorical_feature\u001b[49m\u001b[38;5;241;43m=\u001b[39;49m\u001b[43mcategorical_feature\u001b[49m\u001b[43m,\u001b[49m\n\u001b[0;32m   1201\u001b[0m \u001b[43m        \u001b[49m\u001b[43mcallbacks\u001b[49m\u001b[38;5;241;43m=\u001b[39;49m\u001b[43mcallbacks\u001b[49m\u001b[43m,\u001b[49m\n\u001b[0;32m   1202\u001b[0m \u001b[43m        \u001b[49m\u001b[43minit_model\u001b[49m\u001b[38;5;241;43m=\u001b[39;49m\u001b[43minit_model\u001b[49m\u001b[43m,\u001b[49m\n\u001b[0;32m   1203\u001b[0m \u001b[43m    \u001b[49m\u001b[43m)\u001b[49m\n\u001b[0;32m   1204\u001b[0m     \u001b[38;5;28;01mreturn\u001b[39;00m \u001b[38;5;28mself\u001b[39m\n",
      "File \u001b[1;32m~\\AppData\\Local\\Packages\\PythonSoftwareFoundation.Python.3.11_qbz5n2kfra8p0\\LocalCache\\local-packages\\Python311\\site-packages\\lightgbm\\sklearn.py:955\u001b[0m, in \u001b[0;36mLGBMModel.fit\u001b[1;34m(self, X, y, sample_weight, init_score, group, eval_set, eval_names, eval_sample_weight, eval_class_weight, eval_init_score, eval_group, eval_metric, feature_name, categorical_feature, callbacks, init_model)\u001b[0m\n\u001b[0;32m    952\u001b[0m evals_result: _EvalResultDict \u001b[38;5;241m=\u001b[39m {}\n\u001b[0;32m    953\u001b[0m callbacks\u001b[38;5;241m.\u001b[39mappend(record_evaluation(evals_result))\n\u001b[1;32m--> 955\u001b[0m \u001b[38;5;28mself\u001b[39m\u001b[38;5;241m.\u001b[39m_Booster \u001b[38;5;241m=\u001b[39m \u001b[43mtrain\u001b[49m\u001b[43m(\u001b[49m\n\u001b[0;32m    956\u001b[0m \u001b[43m    \u001b[49m\u001b[43mparams\u001b[49m\u001b[38;5;241;43m=\u001b[39;49m\u001b[43mparams\u001b[49m\u001b[43m,\u001b[49m\n\u001b[0;32m    957\u001b[0m \u001b[43m    \u001b[49m\u001b[43mtrain_set\u001b[49m\u001b[38;5;241;43m=\u001b[39;49m\u001b[43mtrain_set\u001b[49m\u001b[43m,\u001b[49m\n\u001b[0;32m    958\u001b[0m \u001b[43m    \u001b[49m\u001b[43mnum_boost_round\u001b[49m\u001b[38;5;241;43m=\u001b[39;49m\u001b[38;5;28;43mself\u001b[39;49m\u001b[38;5;241;43m.\u001b[39;49m\u001b[43mn_estimators\u001b[49m\u001b[43m,\u001b[49m\n\u001b[0;32m    959\u001b[0m \u001b[43m    \u001b[49m\u001b[43mvalid_sets\u001b[49m\u001b[38;5;241;43m=\u001b[39;49m\u001b[43mvalid_sets\u001b[49m\u001b[43m,\u001b[49m\n\u001b[0;32m    960\u001b[0m \u001b[43m    \u001b[49m\u001b[43mvalid_names\u001b[49m\u001b[38;5;241;43m=\u001b[39;49m\u001b[43meval_names\u001b[49m\u001b[43m,\u001b[49m\n\u001b[0;32m    961\u001b[0m \u001b[43m    \u001b[49m\u001b[43mfeval\u001b[49m\u001b[38;5;241;43m=\u001b[39;49m\u001b[43meval_metrics_callable\u001b[49m\u001b[43m,\u001b[49m\u001b[43m  \u001b[49m\u001b[38;5;66;43;03m# type: ignore[arg-type]\u001b[39;49;00m\n\u001b[0;32m    962\u001b[0m \u001b[43m    \u001b[49m\u001b[43minit_model\u001b[49m\u001b[38;5;241;43m=\u001b[39;49m\u001b[43minit_model\u001b[49m\u001b[43m,\u001b[49m\n\u001b[0;32m    963\u001b[0m \u001b[43m    \u001b[49m\u001b[43mcallbacks\u001b[49m\u001b[38;5;241;43m=\u001b[39;49m\u001b[43mcallbacks\u001b[49m\u001b[43m,\u001b[49m\n\u001b[0;32m    964\u001b[0m \u001b[43m\u001b[49m\u001b[43m)\u001b[49m\n\u001b[0;32m    966\u001b[0m \u001b[38;5;28mself\u001b[39m\u001b[38;5;241m.\u001b[39m_evals_result \u001b[38;5;241m=\u001b[39m evals_result\n\u001b[0;32m    967\u001b[0m \u001b[38;5;28mself\u001b[39m\u001b[38;5;241m.\u001b[39m_best_iteration \u001b[38;5;241m=\u001b[39m \u001b[38;5;28mself\u001b[39m\u001b[38;5;241m.\u001b[39m_Booster\u001b[38;5;241m.\u001b[39mbest_iteration\n",
      "File \u001b[1;32m~\\AppData\\Local\\Packages\\PythonSoftwareFoundation.Python.3.11_qbz5n2kfra8p0\\LocalCache\\local-packages\\Python311\\site-packages\\lightgbm\\engine.py:282\u001b[0m, in \u001b[0;36mtrain\u001b[1;34m(params, train_set, num_boost_round, valid_sets, valid_names, feval, init_model, feature_name, categorical_feature, keep_training_booster, callbacks)\u001b[0m\n\u001b[0;32m    280\u001b[0m \u001b[38;5;66;03m# construct booster\u001b[39;00m\n\u001b[0;32m    281\u001b[0m \u001b[38;5;28;01mtry\u001b[39;00m:\n\u001b[1;32m--> 282\u001b[0m     booster \u001b[38;5;241m=\u001b[39m \u001b[43mBooster\u001b[49m\u001b[43m(\u001b[49m\u001b[43mparams\u001b[49m\u001b[38;5;241;43m=\u001b[39;49m\u001b[43mparams\u001b[49m\u001b[43m,\u001b[49m\u001b[43m \u001b[49m\u001b[43mtrain_set\u001b[49m\u001b[38;5;241;43m=\u001b[39;49m\u001b[43mtrain_set\u001b[49m\u001b[43m)\u001b[49m\n\u001b[0;32m    283\u001b[0m     \u001b[38;5;28;01mif\u001b[39;00m is_valid_contain_train:\n\u001b[0;32m    284\u001b[0m         booster\u001b[38;5;241m.\u001b[39mset_train_data_name(train_data_name)\n",
      "File \u001b[1;32m~\\AppData\\Local\\Packages\\PythonSoftwareFoundation.Python.3.11_qbz5n2kfra8p0\\LocalCache\\local-packages\\Python311\\site-packages\\lightgbm\\basic.py:3637\u001b[0m, in \u001b[0;36mBooster.__init__\u001b[1;34m(self, params, train_set, model_file, model_str)\u001b[0m\n\u001b[0;32m   3630\u001b[0m     \u001b[38;5;28mself\u001b[39m\u001b[38;5;241m.\u001b[39mset_network(\n\u001b[0;32m   3631\u001b[0m         machines\u001b[38;5;241m=\u001b[39mmachines,\n\u001b[0;32m   3632\u001b[0m         local_listen_port\u001b[38;5;241m=\u001b[39mparams[\u001b[38;5;124m\"\u001b[39m\u001b[38;5;124mlocal_listen_port\u001b[39m\u001b[38;5;124m\"\u001b[39m],\n\u001b[0;32m   3633\u001b[0m         listen_time_out\u001b[38;5;241m=\u001b[39mparams\u001b[38;5;241m.\u001b[39mget(\u001b[38;5;124m\"\u001b[39m\u001b[38;5;124mtime_out\u001b[39m\u001b[38;5;124m\"\u001b[39m, \u001b[38;5;241m120\u001b[39m),\n\u001b[0;32m   3634\u001b[0m         num_machines\u001b[38;5;241m=\u001b[39mparams[\u001b[38;5;124m\"\u001b[39m\u001b[38;5;124mnum_machines\u001b[39m\u001b[38;5;124m\"\u001b[39m],\n\u001b[0;32m   3635\u001b[0m     )\n\u001b[0;32m   3636\u001b[0m \u001b[38;5;66;03m# construct booster object\u001b[39;00m\n\u001b[1;32m-> 3637\u001b[0m \u001b[43mtrain_set\u001b[49m\u001b[38;5;241;43m.\u001b[39;49m\u001b[43mconstruct\u001b[49m\u001b[43m(\u001b[49m\u001b[43m)\u001b[49m\n\u001b[0;32m   3638\u001b[0m \u001b[38;5;66;03m# copy the parameters from train_set\u001b[39;00m\n\u001b[0;32m   3639\u001b[0m params\u001b[38;5;241m.\u001b[39mupdate(train_set\u001b[38;5;241m.\u001b[39mget_params())\n",
      "File \u001b[1;32m~\\AppData\\Local\\Packages\\PythonSoftwareFoundation.Python.3.11_qbz5n2kfra8p0\\LocalCache\\local-packages\\Python311\\site-packages\\lightgbm\\basic.py:2576\u001b[0m, in \u001b[0;36mDataset.construct\u001b[1;34m(self)\u001b[0m\n\u001b[0;32m   2571\u001b[0m             \u001b[38;5;28mself\u001b[39m\u001b[38;5;241m.\u001b[39m_set_init_score_by_predictor(\n\u001b[0;32m   2572\u001b[0m                 predictor\u001b[38;5;241m=\u001b[39m\u001b[38;5;28mself\u001b[39m\u001b[38;5;241m.\u001b[39m_predictor, data\u001b[38;5;241m=\u001b[39m\u001b[38;5;28mself\u001b[39m\u001b[38;5;241m.\u001b[39mdata, used_indices\u001b[38;5;241m=\u001b[39mused_indices\n\u001b[0;32m   2573\u001b[0m             )\n\u001b[0;32m   2574\u001b[0m \u001b[38;5;28;01melse\u001b[39;00m:\n\u001b[0;32m   2575\u001b[0m     \u001b[38;5;66;03m# create train\u001b[39;00m\n\u001b[1;32m-> 2576\u001b[0m     \u001b[38;5;28;43mself\u001b[39;49m\u001b[38;5;241;43m.\u001b[39;49m\u001b[43m_lazy_init\u001b[49m\u001b[43m(\u001b[49m\n\u001b[0;32m   2577\u001b[0m \u001b[43m        \u001b[49m\u001b[43mdata\u001b[49m\u001b[38;5;241;43m=\u001b[39;49m\u001b[38;5;28;43mself\u001b[39;49m\u001b[38;5;241;43m.\u001b[39;49m\u001b[43mdata\u001b[49m\u001b[43m,\u001b[49m\n\u001b[0;32m   2578\u001b[0m \u001b[43m        \u001b[49m\u001b[43mlabel\u001b[49m\u001b[38;5;241;43m=\u001b[39;49m\u001b[38;5;28;43mself\u001b[39;49m\u001b[38;5;241;43m.\u001b[39;49m\u001b[43mlabel\u001b[49m\u001b[43m,\u001b[49m\n\u001b[0;32m   2579\u001b[0m \u001b[43m        \u001b[49m\u001b[43mreference\u001b[49m\u001b[38;5;241;43m=\u001b[39;49m\u001b[38;5;28;43;01mNone\u001b[39;49;00m\u001b[43m,\u001b[49m\n\u001b[0;32m   2580\u001b[0m \u001b[43m        \u001b[49m\u001b[43mweight\u001b[49m\u001b[38;5;241;43m=\u001b[39;49m\u001b[38;5;28;43mself\u001b[39;49m\u001b[38;5;241;43m.\u001b[39;49m\u001b[43mweight\u001b[49m\u001b[43m,\u001b[49m\n\u001b[0;32m   2581\u001b[0m \u001b[43m        \u001b[49m\u001b[43mgroup\u001b[49m\u001b[38;5;241;43m=\u001b[39;49m\u001b[38;5;28;43mself\u001b[39;49m\u001b[38;5;241;43m.\u001b[39;49m\u001b[43mgroup\u001b[49m\u001b[43m,\u001b[49m\n\u001b[0;32m   2582\u001b[0m \u001b[43m        \u001b[49m\u001b[43minit_score\u001b[49m\u001b[38;5;241;43m=\u001b[39;49m\u001b[38;5;28;43mself\u001b[39;49m\u001b[38;5;241;43m.\u001b[39;49m\u001b[43minit_score\u001b[49m\u001b[43m,\u001b[49m\n\u001b[0;32m   2583\u001b[0m \u001b[43m        \u001b[49m\u001b[43mpredictor\u001b[49m\u001b[38;5;241;43m=\u001b[39;49m\u001b[38;5;28;43mself\u001b[39;49m\u001b[38;5;241;43m.\u001b[39;49m\u001b[43m_predictor\u001b[49m\u001b[43m,\u001b[49m\n\u001b[0;32m   2584\u001b[0m \u001b[43m        \u001b[49m\u001b[43mfeature_name\u001b[49m\u001b[38;5;241;43m=\u001b[39;49m\u001b[38;5;28;43mself\u001b[39;49m\u001b[38;5;241;43m.\u001b[39;49m\u001b[43mfeature_name\u001b[49m\u001b[43m,\u001b[49m\n\u001b[0;32m   2585\u001b[0m \u001b[43m        \u001b[49m\u001b[43mcategorical_feature\u001b[49m\u001b[38;5;241;43m=\u001b[39;49m\u001b[38;5;28;43mself\u001b[39;49m\u001b[38;5;241;43m.\u001b[39;49m\u001b[43mcategorical_feature\u001b[49m\u001b[43m,\u001b[49m\n\u001b[0;32m   2586\u001b[0m \u001b[43m        \u001b[49m\u001b[43mparams\u001b[49m\u001b[38;5;241;43m=\u001b[39;49m\u001b[38;5;28;43mself\u001b[39;49m\u001b[38;5;241;43m.\u001b[39;49m\u001b[43mparams\u001b[49m\u001b[43m,\u001b[49m\n\u001b[0;32m   2587\u001b[0m \u001b[43m        \u001b[49m\u001b[43mposition\u001b[49m\u001b[38;5;241;43m=\u001b[39;49m\u001b[38;5;28;43mself\u001b[39;49m\u001b[38;5;241;43m.\u001b[39;49m\u001b[43mposition\u001b[49m\u001b[43m,\u001b[49m\n\u001b[0;32m   2588\u001b[0m \u001b[43m    \u001b[49m\u001b[43m)\u001b[49m\n\u001b[0;32m   2589\u001b[0m \u001b[38;5;28;01mif\u001b[39;00m \u001b[38;5;28mself\u001b[39m\u001b[38;5;241m.\u001b[39mfree_raw_data:\n\u001b[0;32m   2590\u001b[0m     \u001b[38;5;28mself\u001b[39m\u001b[38;5;241m.\u001b[39mdata \u001b[38;5;241m=\u001b[39m \u001b[38;5;28;01mNone\u001b[39;00m\n",
      "File \u001b[1;32m~\\AppData\\Local\\Packages\\PythonSoftwareFoundation.Python.3.11_qbz5n2kfra8p0\\LocalCache\\local-packages\\Python311\\site-packages\\lightgbm\\basic.py:2168\u001b[0m, in \u001b[0;36mDataset._lazy_init\u001b[1;34m(self, data, label, reference, weight, group, init_score, predictor, feature_name, categorical_feature, params, position)\u001b[0m\n\u001b[0;32m   2166\u001b[0m     \u001b[38;5;28mself\u001b[39m\u001b[38;5;241m.\u001b[39m__init_from_csc(data, params_str, ref_dataset)\n\u001b[0;32m   2167\u001b[0m \u001b[38;5;28;01melif\u001b[39;00m \u001b[38;5;28misinstance\u001b[39m(data, np\u001b[38;5;241m.\u001b[39mndarray):\n\u001b[1;32m-> 2168\u001b[0m     \u001b[38;5;28;43mself\u001b[39;49m\u001b[38;5;241;43m.\u001b[39;49m\u001b[43m__init_from_np2d\u001b[49m\u001b[43m(\u001b[49m\u001b[43mdata\u001b[49m\u001b[43m,\u001b[49m\u001b[43m \u001b[49m\u001b[43mparams_str\u001b[49m\u001b[43m,\u001b[49m\u001b[43m \u001b[49m\u001b[43mref_dataset\u001b[49m\u001b[43m)\u001b[49m\n\u001b[0;32m   2169\u001b[0m \u001b[38;5;28;01melif\u001b[39;00m _is_pyarrow_table(data):\n\u001b[0;32m   2170\u001b[0m     \u001b[38;5;28mself\u001b[39m\u001b[38;5;241m.\u001b[39m__init_from_pyarrow_table(data, params_str, ref_dataset)\n",
      "File \u001b[1;32m~\\AppData\\Local\\Packages\\PythonSoftwareFoundation.Python.3.11_qbz5n2kfra8p0\\LocalCache\\local-packages\\Python311\\site-packages\\lightgbm\\basic.py:2300\u001b[0m, in \u001b[0;36mDataset.__init_from_np2d\u001b[1;34m(self, mat, params_str, ref_dataset)\u001b[0m\n\u001b[0;32m   2298\u001b[0m     data \u001b[38;5;241m=\u001b[39m np\u001b[38;5;241m.\u001b[39masarray(mat\u001b[38;5;241m.\u001b[39mreshape(mat\u001b[38;5;241m.\u001b[39msize), dtype\u001b[38;5;241m=\u001b[39mmat\u001b[38;5;241m.\u001b[39mdtype)\n\u001b[0;32m   2299\u001b[0m \u001b[38;5;28;01melse\u001b[39;00m:  \u001b[38;5;66;03m# change non-float data to float data, need to copy\u001b[39;00m\n\u001b[1;32m-> 2300\u001b[0m     data \u001b[38;5;241m=\u001b[39m \u001b[43mnp\u001b[49m\u001b[38;5;241;43m.\u001b[39;49m\u001b[43masarray\u001b[49m\u001b[43m(\u001b[49m\u001b[43mmat\u001b[49m\u001b[38;5;241;43m.\u001b[39;49m\u001b[43mreshape\u001b[49m\u001b[43m(\u001b[49m\u001b[43mmat\u001b[49m\u001b[38;5;241;43m.\u001b[39;49m\u001b[43msize\u001b[49m\u001b[43m)\u001b[49m\u001b[43m,\u001b[49m\u001b[43m \u001b[49m\u001b[43mdtype\u001b[49m\u001b[38;5;241;43m=\u001b[39;49m\u001b[43mnp\u001b[49m\u001b[38;5;241;43m.\u001b[39;49m\u001b[43mfloat32\u001b[49m\u001b[43m)\u001b[49m\n\u001b[0;32m   2302\u001b[0m ptr_data, type_ptr_data, _ \u001b[38;5;241m=\u001b[39m _c_float_array(data)\n\u001b[0;32m   2303\u001b[0m _safe_call(\n\u001b[0;32m   2304\u001b[0m     _LIB\u001b[38;5;241m.\u001b[39mLGBM_DatasetCreateFromMat(\n\u001b[0;32m   2305\u001b[0m         ptr_data,\n\u001b[1;32m   (...)\u001b[0m\n\u001b[0;32m   2313\u001b[0m     )\n\u001b[0;32m   2314\u001b[0m )\n",
      "\u001b[1;31mValueError\u001b[0m: could not convert string to float: 'HOBBIES_1_001_CA_1_evaluation'"
     ]
    }
   ],
   "source": [
    "from sklearn.multioutput import MultiOutputRegressor\n",
    "import lightgbm as lgb\n",
    "\n",
    "model_params = {\n",
    "    'verbose': -1,\n",
    "    'force_col_wise': True,\n",
    "    'num_leaves': 256,\n",
    "    'n_estimators': 50,\n",
    "}\n",
    "\n",
    "base_model = lgb.LGBMRegressor(**model_params)\n",
    "\n",
    "multi_model = MultiOutputRegressor(base_model)\n",
    "\n",
    "# Just fit with X and y (no feature_name/categorical awareness)\n",
    "%time multi_model.fit(X_train, y_train)\n"
   ]
  },
  {
   "cell_type": "markdown",
   "id": "95969200",
   "metadata": {
    "papermill": {
     "duration": 0.005723,
     "end_time": "2024-12-06T20:06:50.953679",
     "exception": false,
     "start_time": "2024-12-06T20:06:50.947956",
     "status": "completed"
    },
    "tags": []
   },
   "source": [
    "We'll manually train the model here, which allows us to specify which features should be treated as categorical."
   ]
  },
  {
   "cell_type": "code",
   "execution_count": 215,
   "id": "719fb9cd",
   "metadata": {
    "execution": {
     "iopub.execute_input": "2024-12-06T20:06:50.966541Z",
     "iopub.status.busy": "2024-12-06T20:06:50.965646Z",
     "iopub.status.idle": "2024-12-06T20:08:26.402574Z",
     "shell.execute_reply": "2024-12-06T20:08:26.401560Z"
    },
    "papermill": {
     "duration": 95.451407,
     "end_time": "2024-12-06T20:08:26.410519",
     "exception": false,
     "start_time": "2024-12-06T20:06:50.959112",
     "status": "completed"
    },
    "tags": []
   },
   "outputs": [
    {
     "name": "stdout",
     "output_type": "stream",
     "text": [
      "CPU times: total: 4min 8s\n",
      "Wall time: 18.1 s\n"
     ]
    },
    {
     "data": {
      "text/html": [
       "<style>#sk-container-id-10 {\n",
       "  /* Definition of color scheme common for light and dark mode */\n",
       "  --sklearn-color-text: black;\n",
       "  --sklearn-color-line: gray;\n",
       "  /* Definition of color scheme for unfitted estimators */\n",
       "  --sklearn-color-unfitted-level-0: #fff5e6;\n",
       "  --sklearn-color-unfitted-level-1: #f6e4d2;\n",
       "  --sklearn-color-unfitted-level-2: #ffe0b3;\n",
       "  --sklearn-color-unfitted-level-3: chocolate;\n",
       "  /* Definition of color scheme for fitted estimators */\n",
       "  --sklearn-color-fitted-level-0: #f0f8ff;\n",
       "  --sklearn-color-fitted-level-1: #d4ebff;\n",
       "  --sklearn-color-fitted-level-2: #b3dbfd;\n",
       "  --sklearn-color-fitted-level-3: cornflowerblue;\n",
       "\n",
       "  /* Specific color for light theme */\n",
       "  --sklearn-color-text-on-default-background: var(--sg-text-color, var(--theme-code-foreground, var(--jp-content-font-color1, black)));\n",
       "  --sklearn-color-background: var(--sg-background-color, var(--theme-background, var(--jp-layout-color0, white)));\n",
       "  --sklearn-color-border-box: var(--sg-text-color, var(--theme-code-foreground, var(--jp-content-font-color1, black)));\n",
       "  --sklearn-color-icon: #696969;\n",
       "\n",
       "  @media (prefers-color-scheme: dark) {\n",
       "    /* Redefinition of color scheme for dark theme */\n",
       "    --sklearn-color-text-on-default-background: var(--sg-text-color, var(--theme-code-foreground, var(--jp-content-font-color1, white)));\n",
       "    --sklearn-color-background: var(--sg-background-color, var(--theme-background, var(--jp-layout-color0, #111)));\n",
       "    --sklearn-color-border-box: var(--sg-text-color, var(--theme-code-foreground, var(--jp-content-font-color1, white)));\n",
       "    --sklearn-color-icon: #878787;\n",
       "  }\n",
       "}\n",
       "\n",
       "#sk-container-id-10 {\n",
       "  color: var(--sklearn-color-text);\n",
       "}\n",
       "\n",
       "#sk-container-id-10 pre {\n",
       "  padding: 0;\n",
       "}\n",
       "\n",
       "#sk-container-id-10 input.sk-hidden--visually {\n",
       "  border: 0;\n",
       "  clip: rect(1px 1px 1px 1px);\n",
       "  clip: rect(1px, 1px, 1px, 1px);\n",
       "  height: 1px;\n",
       "  margin: -1px;\n",
       "  overflow: hidden;\n",
       "  padding: 0;\n",
       "  position: absolute;\n",
       "  width: 1px;\n",
       "}\n",
       "\n",
       "#sk-container-id-10 div.sk-dashed-wrapped {\n",
       "  border: 1px dashed var(--sklearn-color-line);\n",
       "  margin: 0 0.4em 0.5em 0.4em;\n",
       "  box-sizing: border-box;\n",
       "  padding-bottom: 0.4em;\n",
       "  background-color: var(--sklearn-color-background);\n",
       "}\n",
       "\n",
       "#sk-container-id-10 div.sk-container {\n",
       "  /* jupyter's `normalize.less` sets `[hidden] { display: none; }`\n",
       "     but bootstrap.min.css set `[hidden] { display: none !important; }`\n",
       "     so we also need the `!important` here to be able to override the\n",
       "     default hidden behavior on the sphinx rendered scikit-learn.org.\n",
       "     See: https://github.com/scikit-learn/scikit-learn/issues/21755 */\n",
       "  display: inline-block !important;\n",
       "  position: relative;\n",
       "}\n",
       "\n",
       "#sk-container-id-10 div.sk-text-repr-fallback {\n",
       "  display: none;\n",
       "}\n",
       "\n",
       "div.sk-parallel-item,\n",
       "div.sk-serial,\n",
       "div.sk-item {\n",
       "  /* draw centered vertical line to link estimators */\n",
       "  background-image: linear-gradient(var(--sklearn-color-text-on-default-background), var(--sklearn-color-text-on-default-background));\n",
       "  background-size: 2px 100%;\n",
       "  background-repeat: no-repeat;\n",
       "  background-position: center center;\n",
       "}\n",
       "\n",
       "/* Parallel-specific style estimator block */\n",
       "\n",
       "#sk-container-id-10 div.sk-parallel-item::after {\n",
       "  content: \"\";\n",
       "  width: 100%;\n",
       "  border-bottom: 2px solid var(--sklearn-color-text-on-default-background);\n",
       "  flex-grow: 1;\n",
       "}\n",
       "\n",
       "#sk-container-id-10 div.sk-parallel {\n",
       "  display: flex;\n",
       "  align-items: stretch;\n",
       "  justify-content: center;\n",
       "  background-color: var(--sklearn-color-background);\n",
       "  position: relative;\n",
       "}\n",
       "\n",
       "#sk-container-id-10 div.sk-parallel-item {\n",
       "  display: flex;\n",
       "  flex-direction: column;\n",
       "}\n",
       "\n",
       "#sk-container-id-10 div.sk-parallel-item:first-child::after {\n",
       "  align-self: flex-end;\n",
       "  width: 50%;\n",
       "}\n",
       "\n",
       "#sk-container-id-10 div.sk-parallel-item:last-child::after {\n",
       "  align-self: flex-start;\n",
       "  width: 50%;\n",
       "}\n",
       "\n",
       "#sk-container-id-10 div.sk-parallel-item:only-child::after {\n",
       "  width: 0;\n",
       "}\n",
       "\n",
       "/* Serial-specific style estimator block */\n",
       "\n",
       "#sk-container-id-10 div.sk-serial {\n",
       "  display: flex;\n",
       "  flex-direction: column;\n",
       "  align-items: center;\n",
       "  background-color: var(--sklearn-color-background);\n",
       "  padding-right: 1em;\n",
       "  padding-left: 1em;\n",
       "}\n",
       "\n",
       "\n",
       "/* Toggleable style: style used for estimator/Pipeline/ColumnTransformer box that is\n",
       "clickable and can be expanded/collapsed.\n",
       "- Pipeline and ColumnTransformer use this feature and define the default style\n",
       "- Estimators will overwrite some part of the style using the `sk-estimator` class\n",
       "*/\n",
       "\n",
       "/* Pipeline and ColumnTransformer style (default) */\n",
       "\n",
       "#sk-container-id-10 div.sk-toggleable {\n",
       "  /* Default theme specific background. It is overwritten whether we have a\n",
       "  specific estimator or a Pipeline/ColumnTransformer */\n",
       "  background-color: var(--sklearn-color-background);\n",
       "}\n",
       "\n",
       "/* Toggleable label */\n",
       "#sk-container-id-10 label.sk-toggleable__label {\n",
       "  cursor: pointer;\n",
       "  display: block;\n",
       "  width: 100%;\n",
       "  margin-bottom: 0;\n",
       "  padding: 0.5em;\n",
       "  box-sizing: border-box;\n",
       "  text-align: center;\n",
       "}\n",
       "\n",
       "#sk-container-id-10 label.sk-toggleable__label-arrow:before {\n",
       "  /* Arrow on the left of the label */\n",
       "  content: \"▸\";\n",
       "  float: left;\n",
       "  margin-right: 0.25em;\n",
       "  color: var(--sklearn-color-icon);\n",
       "}\n",
       "\n",
       "#sk-container-id-10 label.sk-toggleable__label-arrow:hover:before {\n",
       "  color: var(--sklearn-color-text);\n",
       "}\n",
       "\n",
       "/* Toggleable content - dropdown */\n",
       "\n",
       "#sk-container-id-10 div.sk-toggleable__content {\n",
       "  max-height: 0;\n",
       "  max-width: 0;\n",
       "  overflow: hidden;\n",
       "  text-align: left;\n",
       "  /* unfitted */\n",
       "  background-color: var(--sklearn-color-unfitted-level-0);\n",
       "}\n",
       "\n",
       "#sk-container-id-10 div.sk-toggleable__content.fitted {\n",
       "  /* fitted */\n",
       "  background-color: var(--sklearn-color-fitted-level-0);\n",
       "}\n",
       "\n",
       "#sk-container-id-10 div.sk-toggleable__content pre {\n",
       "  margin: 0.2em;\n",
       "  border-radius: 0.25em;\n",
       "  color: var(--sklearn-color-text);\n",
       "  /* unfitted */\n",
       "  background-color: var(--sklearn-color-unfitted-level-0);\n",
       "}\n",
       "\n",
       "#sk-container-id-10 div.sk-toggleable__content.fitted pre {\n",
       "  /* unfitted */\n",
       "  background-color: var(--sklearn-color-fitted-level-0);\n",
       "}\n",
       "\n",
       "#sk-container-id-10 input.sk-toggleable__control:checked~div.sk-toggleable__content {\n",
       "  /* Expand drop-down */\n",
       "  max-height: 200px;\n",
       "  max-width: 100%;\n",
       "  overflow: auto;\n",
       "}\n",
       "\n",
       "#sk-container-id-10 input.sk-toggleable__control:checked~label.sk-toggleable__label-arrow:before {\n",
       "  content: \"▾\";\n",
       "}\n",
       "\n",
       "/* Pipeline/ColumnTransformer-specific style */\n",
       "\n",
       "#sk-container-id-10 div.sk-label input.sk-toggleable__control:checked~label.sk-toggleable__label {\n",
       "  color: var(--sklearn-color-text);\n",
       "  background-color: var(--sklearn-color-unfitted-level-2);\n",
       "}\n",
       "\n",
       "#sk-container-id-10 div.sk-label.fitted input.sk-toggleable__control:checked~label.sk-toggleable__label {\n",
       "  background-color: var(--sklearn-color-fitted-level-2);\n",
       "}\n",
       "\n",
       "/* Estimator-specific style */\n",
       "\n",
       "/* Colorize estimator box */\n",
       "#sk-container-id-10 div.sk-estimator input.sk-toggleable__control:checked~label.sk-toggleable__label {\n",
       "  /* unfitted */\n",
       "  background-color: var(--sklearn-color-unfitted-level-2);\n",
       "}\n",
       "\n",
       "#sk-container-id-10 div.sk-estimator.fitted input.sk-toggleable__control:checked~label.sk-toggleable__label {\n",
       "  /* fitted */\n",
       "  background-color: var(--sklearn-color-fitted-level-2);\n",
       "}\n",
       "\n",
       "#sk-container-id-10 div.sk-label label.sk-toggleable__label,\n",
       "#sk-container-id-10 div.sk-label label {\n",
       "  /* The background is the default theme color */\n",
       "  color: var(--sklearn-color-text-on-default-background);\n",
       "}\n",
       "\n",
       "/* On hover, darken the color of the background */\n",
       "#sk-container-id-10 div.sk-label:hover label.sk-toggleable__label {\n",
       "  color: var(--sklearn-color-text);\n",
       "  background-color: var(--sklearn-color-unfitted-level-2);\n",
       "}\n",
       "\n",
       "/* Label box, darken color on hover, fitted */\n",
       "#sk-container-id-10 div.sk-label.fitted:hover label.sk-toggleable__label.fitted {\n",
       "  color: var(--sklearn-color-text);\n",
       "  background-color: var(--sklearn-color-fitted-level-2);\n",
       "}\n",
       "\n",
       "/* Estimator label */\n",
       "\n",
       "#sk-container-id-10 div.sk-label label {\n",
       "  font-family: monospace;\n",
       "  font-weight: bold;\n",
       "  display: inline-block;\n",
       "  line-height: 1.2em;\n",
       "}\n",
       "\n",
       "#sk-container-id-10 div.sk-label-container {\n",
       "  text-align: center;\n",
       "}\n",
       "\n",
       "/* Estimator-specific */\n",
       "#sk-container-id-10 div.sk-estimator {\n",
       "  font-family: monospace;\n",
       "  border: 1px dotted var(--sklearn-color-border-box);\n",
       "  border-radius: 0.25em;\n",
       "  box-sizing: border-box;\n",
       "  margin-bottom: 0.5em;\n",
       "  /* unfitted */\n",
       "  background-color: var(--sklearn-color-unfitted-level-0);\n",
       "}\n",
       "\n",
       "#sk-container-id-10 div.sk-estimator.fitted {\n",
       "  /* fitted */\n",
       "  background-color: var(--sklearn-color-fitted-level-0);\n",
       "}\n",
       "\n",
       "/* on hover */\n",
       "#sk-container-id-10 div.sk-estimator:hover {\n",
       "  /* unfitted */\n",
       "  background-color: var(--sklearn-color-unfitted-level-2);\n",
       "}\n",
       "\n",
       "#sk-container-id-10 div.sk-estimator.fitted:hover {\n",
       "  /* fitted */\n",
       "  background-color: var(--sklearn-color-fitted-level-2);\n",
       "}\n",
       "\n",
       "/* Specification for estimator info (e.g. \"i\" and \"?\") */\n",
       "\n",
       "/* Common style for \"i\" and \"?\" */\n",
       "\n",
       ".sk-estimator-doc-link,\n",
       "a:link.sk-estimator-doc-link,\n",
       "a:visited.sk-estimator-doc-link {\n",
       "  float: right;\n",
       "  font-size: smaller;\n",
       "  line-height: 1em;\n",
       "  font-family: monospace;\n",
       "  background-color: var(--sklearn-color-background);\n",
       "  border-radius: 1em;\n",
       "  height: 1em;\n",
       "  width: 1em;\n",
       "  text-decoration: none !important;\n",
       "  margin-left: 1ex;\n",
       "  /* unfitted */\n",
       "  border: var(--sklearn-color-unfitted-level-1) 1pt solid;\n",
       "  color: var(--sklearn-color-unfitted-level-1);\n",
       "}\n",
       "\n",
       ".sk-estimator-doc-link.fitted,\n",
       "a:link.sk-estimator-doc-link.fitted,\n",
       "a:visited.sk-estimator-doc-link.fitted {\n",
       "  /* fitted */\n",
       "  border: var(--sklearn-color-fitted-level-1) 1pt solid;\n",
       "  color: var(--sklearn-color-fitted-level-1);\n",
       "}\n",
       "\n",
       "/* On hover */\n",
       "div.sk-estimator:hover .sk-estimator-doc-link:hover,\n",
       ".sk-estimator-doc-link:hover,\n",
       "div.sk-label-container:hover .sk-estimator-doc-link:hover,\n",
       ".sk-estimator-doc-link:hover {\n",
       "  /* unfitted */\n",
       "  background-color: var(--sklearn-color-unfitted-level-3);\n",
       "  color: var(--sklearn-color-background);\n",
       "  text-decoration: none;\n",
       "}\n",
       "\n",
       "div.sk-estimator.fitted:hover .sk-estimator-doc-link.fitted:hover,\n",
       ".sk-estimator-doc-link.fitted:hover,\n",
       "div.sk-label-container:hover .sk-estimator-doc-link.fitted:hover,\n",
       ".sk-estimator-doc-link.fitted:hover {\n",
       "  /* fitted */\n",
       "  background-color: var(--sklearn-color-fitted-level-3);\n",
       "  color: var(--sklearn-color-background);\n",
       "  text-decoration: none;\n",
       "}\n",
       "\n",
       "/* Span, style for the box shown on hovering the info icon */\n",
       ".sk-estimator-doc-link span {\n",
       "  display: none;\n",
       "  z-index: 9999;\n",
       "  position: relative;\n",
       "  font-weight: normal;\n",
       "  right: .2ex;\n",
       "  padding: .5ex;\n",
       "  margin: .5ex;\n",
       "  width: min-content;\n",
       "  min-width: 20ex;\n",
       "  max-width: 50ex;\n",
       "  color: var(--sklearn-color-text);\n",
       "  box-shadow: 2pt 2pt 4pt #999;\n",
       "  /* unfitted */\n",
       "  background: var(--sklearn-color-unfitted-level-0);\n",
       "  border: .5pt solid var(--sklearn-color-unfitted-level-3);\n",
       "}\n",
       "\n",
       ".sk-estimator-doc-link.fitted span {\n",
       "  /* fitted */\n",
       "  background: var(--sklearn-color-fitted-level-0);\n",
       "  border: var(--sklearn-color-fitted-level-3);\n",
       "}\n",
       "\n",
       ".sk-estimator-doc-link:hover span {\n",
       "  display: block;\n",
       "}\n",
       "\n",
       "/* \"?\"-specific style due to the `<a>` HTML tag */\n",
       "\n",
       "#sk-container-id-10 a.estimator_doc_link {\n",
       "  float: right;\n",
       "  font-size: 1rem;\n",
       "  line-height: 1em;\n",
       "  font-family: monospace;\n",
       "  background-color: var(--sklearn-color-background);\n",
       "  border-radius: 1rem;\n",
       "  height: 1rem;\n",
       "  width: 1rem;\n",
       "  text-decoration: none;\n",
       "  /* unfitted */\n",
       "  color: var(--sklearn-color-unfitted-level-1);\n",
       "  border: var(--sklearn-color-unfitted-level-1) 1pt solid;\n",
       "}\n",
       "\n",
       "#sk-container-id-10 a.estimator_doc_link.fitted {\n",
       "  /* fitted */\n",
       "  border: var(--sklearn-color-fitted-level-1) 1pt solid;\n",
       "  color: var(--sklearn-color-fitted-level-1);\n",
       "}\n",
       "\n",
       "/* On hover */\n",
       "#sk-container-id-10 a.estimator_doc_link:hover {\n",
       "  /* unfitted */\n",
       "  background-color: var(--sklearn-color-unfitted-level-3);\n",
       "  color: var(--sklearn-color-background);\n",
       "  text-decoration: none;\n",
       "}\n",
       "\n",
       "#sk-container-id-10 a.estimator_doc_link.fitted:hover {\n",
       "  /* fitted */\n",
       "  background-color: var(--sklearn-color-fitted-level-3);\n",
       "}\n",
       "</style><div id=\"sk-container-id-10\" class=\"sk-top-container\"><div class=\"sk-text-repr-fallback\"><pre>LGBMRegressor(force_col_wise=True, n_estimators=50, num_leaves=256, verbose=-1)</pre><b>In a Jupyter environment, please rerun this cell to show the HTML representation or trust the notebook. <br />On GitHub, the HTML representation is unable to render, please try loading this page with nbviewer.org.</b></div><div class=\"sk-container\" hidden><div class=\"sk-item\"><div class=\"sk-estimator fitted sk-toggleable\"><input class=\"sk-toggleable__control sk-hidden--visually\" id=\"sk-estimator-id-10\" type=\"checkbox\" checked><label for=\"sk-estimator-id-10\" class=\"sk-toggleable__label fitted sk-toggleable__label-arrow fitted\">&nbsp;LGBMRegressor<span class=\"sk-estimator-doc-link fitted\">i<span>Fitted</span></span></label><div class=\"sk-toggleable__content fitted\"><pre>LGBMRegressor(force_col_wise=True, n_estimators=50, num_leaves=256, verbose=-1)</pre></div> </div></div></div></div>"
      ],
      "text/plain": [
       "LGBMRegressor(force_col_wise=True, n_estimators=50, num_leaves=256, verbose=-1)"
      ]
     },
     "execution_count": 215,
     "metadata": {},
     "output_type": "execute_result"
    }
   ],
   "source": [
    "model_params = {\n",
    "    'verbose': -1,\n",
    "    'force_col_wise': True,\n",
    "    'num_leaves': 256,\n",
    "    'n_estimators': 50,\n",
    "}\n",
    "model = lgb.LGBMRegressor(**model_params)\n",
    "%time model.fit(X, y, feature_name=fcst.ts.features_order_, categorical_feature=categoricals)"
   ]
  },
  {
   "cell_type": "code",
   "execution_count": 220,
   "id": "6722b246",
   "metadata": {},
   "outputs": [],
   "source": [
    "fcst.models_ = {'LGBMRegressor': model}"
   ]
  },
  {
   "cell_type": "code",
   "execution_count": 221,
   "id": "f902beed",
   "metadata": {},
   "outputs": [
    {
     "data": {
      "text/plain": [
       "['id',\n",
       " 'item_id',\n",
       " 'dept_id',\n",
       " 'cat_id',\n",
       " 'store_id',\n",
       " 'state_id',\n",
       " 'event_name_1',\n",
       " 'event_type_1',\n",
       " 'event_name_2',\n",
       " 'event_type_2',\n",
       " 'snap_CA',\n",
       " 'snap_TX',\n",
       " 'snap_WI',\n",
       " 'sell_price',\n",
       " 'lag7',\n",
       " 'lag14',\n",
       " 'lag21',\n",
       " 'lag28',\n",
       " 'lag35',\n",
       " 'lag42',\n",
       " 'lag49',\n",
       " 'lag56',\n",
       " 'expanding_mean_lag1',\n",
       " 'rolling_mean_lag7_window_size7',\n",
       " 'rolling_mean_lag7_window_size14',\n",
       " 'rolling_mean_lag7_window_size28',\n",
       " 'seasonal_rolling_mean_lag7_season_length7_window_size4',\n",
       " 'rolling_mean_lag14_window_size7',\n",
       " 'rolling_mean_lag14_window_size14',\n",
       " 'rolling_mean_lag14_window_size28',\n",
       " 'seasonal_rolling_mean_lag14_season_length7_window_size4',\n",
       " 'rolling_mean_lag28_window_size7',\n",
       " 'rolling_mean_lag28_window_size14',\n",
       " 'rolling_mean_lag28_window_size28',\n",
       " 'seasonal_rolling_mean_lag28_season_length7_window_size4',\n",
       " 'year',\n",
       " 'month',\n",
       " 'day',\n",
       " 'weekday',\n",
       " 'quarter',\n",
       " 'week']"
      ]
     },
     "execution_count": 221,
     "metadata": {},
     "output_type": "execute_result"
    }
   ],
   "source": [
    "fcst.models_[\"LGBMRegressor\"].feature_name_\n"
   ]
  },
  {
   "cell_type": "markdown",
   "id": "4a1dbd6d",
   "metadata": {
    "papermill": {
     "duration": 0.00526,
     "end_time": "2024-12-06T20:08:26.421291",
     "exception": false,
     "start_time": "2024-12-06T20:08:26.416031",
     "status": "completed"
    },
    "tags": []
   },
   "source": [
    "## Forecasting"
   ]
  },
  {
   "cell_type": "markdown",
   "id": "66c4f76c",
   "metadata": {
    "papermill": {
     "duration": 0.005924,
     "end_time": "2024-12-06T20:08:26.432908",
     "exception": false,
     "start_time": "2024-12-06T20:08:26.426984",
     "status": "completed"
    },
    "tags": []
   },
   "source": [
    "We now override the `models_` attribute to generate predictions, as described [here](https://nixtla.github.io/mlforecast/docs/how-to-guides/custom_training.html#custom-training)."
   ]
  },
  {
   "cell_type": "code",
   "execution_count": 161,
   "id": "57dc2066",
   "metadata": {},
   "outputs": [],
   "source": [
    "from datetime import datetime, timedelta\n"
   ]
  },
  {
   "cell_type": "code",
   "execution_count": 191,
   "id": "f045ea6e",
   "metadata": {},
   "outputs": [
    {
     "data": {
      "text/html": [
       "<div><style>\n",
       ".dataframe > thead > tr,\n",
       ".dataframe > tbody > tr {\n",
       "  text-align: right;\n",
       "  white-space: pre-wrap;\n",
       "}\n",
       "</style>\n",
       "<small>shape: (884_210, 11)</small><table border=\"1\" class=\"dataframe\"><thead><tr><th>id</th><th>date</th><th>y</th><th>event_name_1</th><th>event_type_1</th><th>event_name_2</th><th>event_type_2</th><th>snap_CA</th><th>snap_TX</th><th>snap_WI</th><th>sell_price</th></tr><tr><td>cat</td><td>datetime[μs]</td><td>f32</td><td>cat</td><td>cat</td><td>cat</td><td>cat</td><td>i32</td><td>i32</td><td>i32</td><td>f32</td></tr></thead><tbody><tr><td>&quot;HOBBIES_1_001_CA_1_evaluation&quot;</td><td>2016-04-26 00:00:00</td><td>0.0</td><td>&quot;nan&quot;</td><td>&quot;nan&quot;</td><td>&quot;nan&quot;</td><td>&quot;nan&quot;</td><td>0</td><td>0</td><td>0</td><td>8.38</td></tr><tr><td>&quot;HOBBIES_1_001_CA_1_evaluation&quot;</td><td>2016-04-27 00:00:00</td><td>0.0</td><td>&quot;nan&quot;</td><td>&quot;nan&quot;</td><td>&quot;nan&quot;</td><td>&quot;nan&quot;</td><td>0</td><td>0</td><td>0</td><td>8.38</td></tr><tr><td>&quot;HOBBIES_1_001_CA_1_evaluation&quot;</td><td>2016-04-28 00:00:00</td><td>2.0</td><td>&quot;nan&quot;</td><td>&quot;nan&quot;</td><td>&quot;nan&quot;</td><td>&quot;nan&quot;</td><td>0</td><td>0</td><td>0</td><td>8.38</td></tr><tr><td>&quot;HOBBIES_1_001_CA_1_evaluation&quot;</td><td>2016-04-29 00:00:00</td><td>0.0</td><td>&quot;nan&quot;</td><td>&quot;nan&quot;</td><td>&quot;nan&quot;</td><td>&quot;nan&quot;</td><td>0</td><td>0</td><td>0</td><td>8.38</td></tr><tr><td>&quot;HOBBIES_1_001_CA_1_evaluation&quot;</td><td>2016-04-30 00:00:00</td><td>3.0</td><td>&quot;Pesach End&quot;</td><td>&quot;Religious&quot;</td><td>&quot;nan&quot;</td><td>&quot;nan&quot;</td><td>0</td><td>0</td><td>0</td><td>8.38</td></tr><tr><td>&hellip;</td><td>&hellip;</td><td>&hellip;</td><td>&hellip;</td><td>&hellip;</td><td>&hellip;</td><td>&hellip;</td><td>&hellip;</td><td>&hellip;</td><td>&hellip;</td><td>&hellip;</td></tr><tr><td>&quot;FOODS_3_677_WI_3_evaluation&quot;</td><td>2016-05-20 00:00:00</td><td>0.0</td><td>&quot;nan&quot;</td><td>&quot;nan&quot;</td><td>&quot;nan&quot;</td><td>&quot;nan&quot;</td><td>0</td><td>0</td><td>0</td><td>3.98</td></tr><tr><td>&quot;FOODS_3_677_WI_3_evaluation&quot;</td><td>2016-05-21 00:00:00</td><td>0.0</td><td>&quot;nan&quot;</td><td>&quot;nan&quot;</td><td>&quot;nan&quot;</td><td>&quot;nan&quot;</td><td>0</td><td>0</td><td>0</td><td>3.98</td></tr><tr><td>&quot;FOODS_3_677_WI_3_evaluation&quot;</td><td>2016-05-22 00:00:00</td><td>1.0</td><td>&quot;nan&quot;</td><td>&quot;nan&quot;</td><td>&quot;nan&quot;</td><td>&quot;nan&quot;</td><td>0</td><td>0</td><td>0</td><td>3.98</td></tr><tr><td>&quot;FOODS_3_677_WI_3_evaluation&quot;</td><td>2016-05-23 00:00:00</td><td>null</td><td>null</td><td>null</td><td>null</td><td>null</td><td>null</td><td>null</td><td>null</td><td>null</td></tr><tr><td>&quot;FOODS_3_677_WI_3_evaluation&quot;</td><td>2016-05-24 00:00:00</td><td>null</td><td>null</td><td>null</td><td>null</td><td>null</td><td>null</td><td>null</td><td>null</td><td>null</td></tr></tbody></table></div>"
      ],
      "text/plain": [
       "shape: (884_210, 11)\n",
       "┌──────────────┬──────────────┬──────┬──────────────┬───┬─────────┬─────────┬─────────┬────────────┐\n",
       "│ id           ┆ date         ┆ y    ┆ event_name_1 ┆ … ┆ snap_CA ┆ snap_TX ┆ snap_WI ┆ sell_price │\n",
       "│ ---          ┆ ---          ┆ ---  ┆ ---          ┆   ┆ ---     ┆ ---     ┆ ---     ┆ ---        │\n",
       "│ cat          ┆ datetime[μs] ┆ f32  ┆ cat          ┆   ┆ i32     ┆ i32     ┆ i32     ┆ f32        │\n",
       "╞══════════════╪══════════════╪══════╪══════════════╪═══╪═════════╪═════════╪═════════╪════════════╡\n",
       "│ HOBBIES_1_00 ┆ 2016-04-26   ┆ 0.0  ┆ nan          ┆ … ┆ 0       ┆ 0       ┆ 0       ┆ 8.38       │\n",
       "│ 1_CA_1_evalu ┆ 00:00:00     ┆      ┆              ┆   ┆         ┆         ┆         ┆            │\n",
       "│ ation        ┆              ┆      ┆              ┆   ┆         ┆         ┆         ┆            │\n",
       "│ HOBBIES_1_00 ┆ 2016-04-27   ┆ 0.0  ┆ nan          ┆ … ┆ 0       ┆ 0       ┆ 0       ┆ 8.38       │\n",
       "│ 1_CA_1_evalu ┆ 00:00:00     ┆      ┆              ┆   ┆         ┆         ┆         ┆            │\n",
       "│ ation        ┆              ┆      ┆              ┆   ┆         ┆         ┆         ┆            │\n",
       "│ HOBBIES_1_00 ┆ 2016-04-28   ┆ 2.0  ┆ nan          ┆ … ┆ 0       ┆ 0       ┆ 0       ┆ 8.38       │\n",
       "│ 1_CA_1_evalu ┆ 00:00:00     ┆      ┆              ┆   ┆         ┆         ┆         ┆            │\n",
       "│ ation        ┆              ┆      ┆              ┆   ┆         ┆         ┆         ┆            │\n",
       "│ HOBBIES_1_00 ┆ 2016-04-29   ┆ 0.0  ┆ nan          ┆ … ┆ 0       ┆ 0       ┆ 0       ┆ 8.38       │\n",
       "│ 1_CA_1_evalu ┆ 00:00:00     ┆      ┆              ┆   ┆         ┆         ┆         ┆            │\n",
       "│ ation        ┆              ┆      ┆              ┆   ┆         ┆         ┆         ┆            │\n",
       "│ HOBBIES_1_00 ┆ 2016-04-30   ┆ 3.0  ┆ Pesach End   ┆ … ┆ 0       ┆ 0       ┆ 0       ┆ 8.38       │\n",
       "│ 1_CA_1_evalu ┆ 00:00:00     ┆      ┆              ┆   ┆         ┆         ┆         ┆            │\n",
       "│ ation        ┆              ┆      ┆              ┆   ┆         ┆         ┆         ┆            │\n",
       "│ …            ┆ …            ┆ …    ┆ …            ┆ … ┆ …       ┆ …       ┆ …       ┆ …          │\n",
       "│ FOODS_3_677_ ┆ 2016-05-20   ┆ 0.0  ┆ nan          ┆ … ┆ 0       ┆ 0       ┆ 0       ┆ 3.98       │\n",
       "│ WI_3_evaluat ┆ 00:00:00     ┆      ┆              ┆   ┆         ┆         ┆         ┆            │\n",
       "│ ion          ┆              ┆      ┆              ┆   ┆         ┆         ┆         ┆            │\n",
       "│ FOODS_3_677_ ┆ 2016-05-21   ┆ 0.0  ┆ nan          ┆ … ┆ 0       ┆ 0       ┆ 0       ┆ 3.98       │\n",
       "│ WI_3_evaluat ┆ 00:00:00     ┆      ┆              ┆   ┆         ┆         ┆         ┆            │\n",
       "│ ion          ┆              ┆      ┆              ┆   ┆         ┆         ┆         ┆            │\n",
       "│ FOODS_3_677_ ┆ 2016-05-22   ┆ 1.0  ┆ nan          ┆ … ┆ 0       ┆ 0       ┆ 0       ┆ 3.98       │\n",
       "│ WI_3_evaluat ┆ 00:00:00     ┆      ┆              ┆   ┆         ┆         ┆         ┆            │\n",
       "│ ion          ┆              ┆      ┆              ┆   ┆         ┆         ┆         ┆            │\n",
       "│ FOODS_3_677_ ┆ 2016-05-23   ┆ null ┆ null         ┆ … ┆ null    ┆ null    ┆ null    ┆ null       │\n",
       "│ WI_3_evaluat ┆ 00:00:00     ┆      ┆              ┆   ┆         ┆         ┆         ┆            │\n",
       "│ ion          ┆              ┆      ┆              ┆   ┆         ┆         ┆         ┆            │\n",
       "│ FOODS_3_677_ ┆ 2016-05-24   ┆ null ┆ null         ┆ … ┆ null    ┆ null    ┆ null    ┆ null       │\n",
       "│ WI_3_evaluat ┆ 00:00:00     ┆      ┆              ┆   ┆         ┆         ┆         ┆            │\n",
       "│ ion          ┆              ┆      ┆              ┆   ┆         ┆         ┆         ┆            │\n",
       "└──────────────┴──────────────┴──────┴──────────────┴───┴─────────┴─────────┴─────────┴────────────┘"
      ]
     },
     "execution_count": 191,
     "metadata": {},
     "output_type": "execute_result"
    }
   ],
   "source": [
    "X_df"
   ]
  },
  {
   "cell_type": "code",
   "execution_count": 232,
   "id": "3c8ef3b8",
   "metadata": {},
   "outputs": [
    {
     "data": {
      "text/html": [
       "<div><style>\n",
       ".dataframe > thead > tr,\n",
       ".dataframe > tbody > tr {\n",
       "  text-align: right;\n",
       "  white-space: pre-wrap;\n",
       "}\n",
       "</style>\n",
       "<small>shape: (853_720, 3)</small><table border=\"1\" class=\"dataframe\"><thead><tr><th>id</th><th>date</th><th>LGBMRegressor</th></tr><tr><td>cat</td><td>datetime[μs]</td><td>f64</td></tr></thead><tbody><tr><td>&quot;HOBBIES_1_001_CA_1_evaluation&quot;</td><td>2016-04-25 00:00:00</td><td>0.750019</td></tr><tr><td>&quot;HOBBIES_1_001_CA_1_evaluation&quot;</td><td>2016-04-26 00:00:00</td><td>0.763703</td></tr><tr><td>&quot;HOBBIES_1_001_CA_1_evaluation&quot;</td><td>2016-04-27 00:00:00</td><td>0.712938</td></tr><tr><td>&quot;HOBBIES_1_001_CA_1_evaluation&quot;</td><td>2016-04-28 00:00:00</td><td>0.825271</td></tr><tr><td>&quot;HOBBIES_1_001_CA_1_evaluation&quot;</td><td>2016-04-29 00:00:00</td><td>0.822125</td></tr><tr><td>&hellip;</td><td>&hellip;</td><td>&hellip;</td></tr><tr><td>&quot;FOODS_3_677_WI_3_evaluation&quot;</td><td>2016-05-18 00:00:00</td><td>0.235031</td></tr><tr><td>&quot;FOODS_3_677_WI_3_evaluation&quot;</td><td>2016-05-19 00:00:00</td><td>0.228713</td></tr><tr><td>&quot;FOODS_3_677_WI_3_evaluation&quot;</td><td>2016-05-20 00:00:00</td><td>0.260275</td></tr><tr><td>&quot;FOODS_3_677_WI_3_evaluation&quot;</td><td>2016-05-21 00:00:00</td><td>0.280479</td></tr><tr><td>&quot;FOODS_3_677_WI_3_evaluation&quot;</td><td>2016-05-22 00:00:00</td><td>0.283117</td></tr></tbody></table></div>"
      ],
      "text/plain": [
       "shape: (853_720, 3)\n",
       "┌───────────────────────────────┬─────────────────────┬───────────────┐\n",
       "│ id                            ┆ date                ┆ LGBMRegressor │\n",
       "│ ---                           ┆ ---                 ┆ ---           │\n",
       "│ cat                           ┆ datetime[μs]        ┆ f64           │\n",
       "╞═══════════════════════════════╪═════════════════════╪═══════════════╡\n",
       "│ HOBBIES_1_001_CA_1_evaluation ┆ 2016-04-25 00:00:00 ┆ 0.750019      │\n",
       "│ HOBBIES_1_001_CA_1_evaluation ┆ 2016-04-26 00:00:00 ┆ 0.763703      │\n",
       "│ HOBBIES_1_001_CA_1_evaluation ┆ 2016-04-27 00:00:00 ┆ 0.712938      │\n",
       "│ HOBBIES_1_001_CA_1_evaluation ┆ 2016-04-28 00:00:00 ┆ 0.825271      │\n",
       "│ HOBBIES_1_001_CA_1_evaluation ┆ 2016-04-29 00:00:00 ┆ 0.822125      │\n",
       "│ …                             ┆ …                   ┆ …             │\n",
       "│ FOODS_3_677_WI_3_evaluation   ┆ 2016-05-18 00:00:00 ┆ 0.235031      │\n",
       "│ FOODS_3_677_WI_3_evaluation   ┆ 2016-05-19 00:00:00 ┆ 0.228713      │\n",
       "│ FOODS_3_677_WI_3_evaluation   ┆ 2016-05-20 00:00:00 ┆ 0.260275      │\n",
       "│ FOODS_3_677_WI_3_evaluation   ┆ 2016-05-21 00:00:00 ┆ 0.280479      │\n",
       "│ FOODS_3_677_WI_3_evaluation   ┆ 2016-05-22 00:00:00 ┆ 0.283117      │\n",
       "└───────────────────────────────┴─────────────────────┴───────────────┘"
      ]
     },
     "execution_count": 232,
     "metadata": {},
     "output_type": "execute_result"
    }
   ],
   "source": [
    "X_df = valid_long.drop(['item_id', 'dept_id', 'cat_id', 'store_id', 'state_id'] + [\"y\", \"d\", \"wm_yr_wk\"])\n",
    "\n",
    "fcst.predict(h=28, X_df=X_df)"
   ]
  },
  {
   "cell_type": "code",
   "execution_count": 235,
   "id": "8846effb",
   "metadata": {},
   "outputs": [
    {
     "name": "stderr",
     "output_type": "stream",
     "text": [
      "C:\\Users\\janli\\AppData\\Local\\Packages\\PythonSoftwareFoundation.Python.3.11_qbz5n2kfra8p0\\LocalCache\\local-packages\\Python311\\site-packages\\mlforecast\\core.py:625: UserWarning: Found null values in event_name_1, event_type_1, event_name_2, event_type_2, snap_CA, snap_TX, snap_WI, sell_price.\n",
      "  warnings.warn(f'Found null values in {\", \".join(cols_with_nulls)}.')\n"
     ]
    },
    {
     "data": {
      "text/html": [
       "<div><style>\n",
       ".dataframe > thead > tr,\n",
       ".dataframe > tbody > tr {\n",
       "  text-align: right;\n",
       "  white-space: pre-wrap;\n",
       "}\n",
       "</style>\n",
       "<small>shape: (884_210, 3)</small><table border=\"1\" class=\"dataframe\"><thead><tr><th>id</th><th>date</th><th>LGBMRegressor</th></tr><tr><td>cat</td><td>datetime[μs]</td><td>f64</td></tr></thead><tbody><tr><td>&quot;HOBBIES_1_001_CA_1_evaluation&quot;</td><td>2016-04-25 00:00:00</td><td>0.750019</td></tr><tr><td>&quot;HOBBIES_1_001_CA_1_evaluation&quot;</td><td>2016-04-26 00:00:00</td><td>0.763703</td></tr><tr><td>&quot;HOBBIES_1_001_CA_1_evaluation&quot;</td><td>2016-04-27 00:00:00</td><td>0.712938</td></tr><tr><td>&quot;HOBBIES_1_001_CA_1_evaluation&quot;</td><td>2016-04-28 00:00:00</td><td>0.825271</td></tr><tr><td>&quot;HOBBIES_1_001_CA_1_evaluation&quot;</td><td>2016-04-29 00:00:00</td><td>0.822125</td></tr><tr><td>&hellip;</td><td>&hellip;</td><td>&hellip;</td></tr><tr><td>&quot;FOODS_3_677_WI_3_evaluation&quot;</td><td>2016-05-19 00:00:00</td><td>0.228713</td></tr><tr><td>&quot;FOODS_3_677_WI_3_evaluation&quot;</td><td>2016-05-20 00:00:00</td><td>0.260275</td></tr><tr><td>&quot;FOODS_3_677_WI_3_evaluation&quot;</td><td>2016-05-21 00:00:00</td><td>0.280479</td></tr><tr><td>&quot;FOODS_3_677_WI_3_evaluation&quot;</td><td>2016-05-22 00:00:00</td><td>0.283117</td></tr><tr><td>&quot;FOODS_3_677_WI_3_evaluation&quot;</td><td>2016-05-23 00:00:00</td><td>0.242762</td></tr></tbody></table></div>"
      ],
      "text/plain": [
       "shape: (884_210, 3)\n",
       "┌───────────────────────────────┬─────────────────────┬───────────────┐\n",
       "│ id                            ┆ date                ┆ LGBMRegressor │\n",
       "│ ---                           ┆ ---                 ┆ ---           │\n",
       "│ cat                           ┆ datetime[μs]        ┆ f64           │\n",
       "╞═══════════════════════════════╪═════════════════════╪═══════════════╡\n",
       "│ HOBBIES_1_001_CA_1_evaluation ┆ 2016-04-25 00:00:00 ┆ 0.750019      │\n",
       "│ HOBBIES_1_001_CA_1_evaluation ┆ 2016-04-26 00:00:00 ┆ 0.763703      │\n",
       "│ HOBBIES_1_001_CA_1_evaluation ┆ 2016-04-27 00:00:00 ┆ 0.712938      │\n",
       "│ HOBBIES_1_001_CA_1_evaluation ┆ 2016-04-28 00:00:00 ┆ 0.825271      │\n",
       "│ HOBBIES_1_001_CA_1_evaluation ┆ 2016-04-29 00:00:00 ┆ 0.822125      │\n",
       "│ …                             ┆ …                   ┆ …             │\n",
       "│ FOODS_3_677_WI_3_evaluation   ┆ 2016-05-19 00:00:00 ┆ 0.228713      │\n",
       "│ FOODS_3_677_WI_3_evaluation   ┆ 2016-05-20 00:00:00 ┆ 0.260275      │\n",
       "│ FOODS_3_677_WI_3_evaluation   ┆ 2016-05-21 00:00:00 ┆ 0.280479      │\n",
       "│ FOODS_3_677_WI_3_evaluation   ┆ 2016-05-22 00:00:00 ┆ 0.283117      │\n",
       "│ FOODS_3_677_WI_3_evaluation   ┆ 2016-05-23 00:00:00 ┆ 0.242762      │\n",
       "└───────────────────────────────┴─────────────────────┴───────────────┘"
      ]
     },
     "execution_count": 235,
     "metadata": {},
     "output_type": "execute_result"
    }
   ],
   "source": [
    "fcst.predict(h=29, X_df=X_df)"
   ]
  },
  {
   "cell_type": "code",
   "execution_count": 231,
   "id": "6b726392",
   "metadata": {},
   "outputs": [
    {
     "data": {
      "text/html": [
       "<div><style>\n",
       ".dataframe > thead > tr,\n",
       ".dataframe > tbody > tr {\n",
       "  text-align: right;\n",
       "  white-space: pre-wrap;\n",
       "}\n",
       "</style>\n",
       "<small>shape: (1, 10)</small><table border=\"1\" class=\"dataframe\"><thead><tr><th>id</th><th>date</th><th>event_name_1</th><th>event_type_1</th><th>event_name_2</th><th>event_type_2</th><th>snap_CA</th><th>snap_TX</th><th>snap_WI</th><th>sell_price</th></tr><tr><td>u32</td><td>u32</td><td>u32</td><td>u32</td><td>u32</td><td>u32</td><td>u32</td><td>u32</td><td>u32</td><td>u32</td></tr></thead><tbody><tr><td>0</td><td>0</td><td>0</td><td>0</td><td>0</td><td>0</td><td>0</td><td>0</td><td>0</td><td>0</td></tr></tbody></table></div>"
      ],
      "text/plain": [
       "shape: (1, 10)\n",
       "┌─────┬──────┬──────────────┬──────────────┬───┬─────────┬─────────┬─────────┬────────────┐\n",
       "│ id  ┆ date ┆ event_name_1 ┆ event_type_1 ┆ … ┆ snap_CA ┆ snap_TX ┆ snap_WI ┆ sell_price │\n",
       "│ --- ┆ ---  ┆ ---          ┆ ---          ┆   ┆ ---     ┆ ---     ┆ ---     ┆ ---        │\n",
       "│ u32 ┆ u32  ┆ u32          ┆ u32          ┆   ┆ u32     ┆ u32     ┆ u32     ┆ u32        │\n",
       "╞═════╪══════╪══════════════╪══════════════╪═══╪═════════╪═════════╪═════════╪════════════╡\n",
       "│ 0   ┆ 0    ┆ 0            ┆ 0            ┆ … ┆ 0       ┆ 0       ┆ 0       ┆ 0          │\n",
       "└─────┴──────┴──────────────┴──────────────┴───┴─────────┴─────────┴─────────┴────────────┘"
      ]
     },
     "execution_count": 231,
     "metadata": {},
     "output_type": "execute_result"
    }
   ],
   "source": [
    "static.null_count()"
   ]
  },
  {
   "cell_type": "code",
   "execution_count": 259,
   "id": "3728c659",
   "metadata": {},
   "outputs": [
    {
     "name": "stdout",
     "output_type": "stream",
     "text": [
      "2016-04-26 00:00:00\n",
      "RMSE: 2.1166683581\n"
     ]
    }
   ],
   "source": [
    "from datetime import timedelta\n",
    "import polars as pl\n",
    "\n",
    "offset = 1\n",
    "horizon = 28-offset\n",
    "forecast_start = valid_start_date + timedelta(days=offset)\n",
    "forecast_end = forecast_start + timedelta(days=horizon)\n",
    "\n",
    "extended_long = long.filter(pl.col(\"date\") <= forecast_start)\n",
    "\n",
    "_ = fcst.preprocess(\n",
    "    extended_long.drop([\"d\", \"wm_yr_wk\"]),\n",
    "    id_col=\"id\",\n",
    "    time_col=\"date\",\n",
    "    target_col=\"y\",\n",
    "    static_features=categoricals,\n",
    "    return_X_y=True,    \n",
    "    as_numpy=True,\n",
    ")\n",
    "\n",
    "X_df = fcst.make_future_dataframe(h=horizon)\n",
    "X_df = X_df.filter(pl.col(\"date\") >= forecast_start)\n",
    "\n",
    "print(min(fcst.make_future_dataframe(h=horizon)['date']))\n",
    "\n",
    "static = (\n",
    "    long\n",
    "    .filter(pl.col(\"date\") >= valid_start_date)\n",
    "    .drop(['item_id', 'dept_id', 'cat_id', 'store_id', 'state_id'] + [\"y\", \"d\", \"wm_yr_wk\"])\n",
    ")\n",
    "X_df = X_df.join(static, on=[\"id\", \"date\"], how=\"left\").drop()\n",
    "\n",
    "new_df = (\n",
    "    long.drop([\"d\", \"wm_yr_wk\"])\n",
    "        .filter((pl.col(\"date\") >= forecast_start) & (pl.col(\"date\") <= forecast_end))\n",
    ")\n",
    "\n",
    "fcst.models_ = {\"LGBMRegressor\": model}  # Only if not already set\n",
    "preds = fcst.predict(h=horizon, X_df=X_df)\n",
    "\n",
    "joined = preds.join(valid_long.select([\"date\", \"id\", \"y\"]), on=[\"id\", \"date\"], how=\"inner\")\n",
    "\n",
    "# 2. Compute squared error\n",
    "joined = joined.with_columns([\n",
    "    (pl.col(\"y\") - pl.col(\"LGBMRegressor\")).pow(2).alias(\"squared_error\")\n",
    "])\n",
    "\n",
    "# 3. Compute RMSE\n",
    "rmse = (joined[\"squared_error\"].mean()) ** 0.5\n",
    "\n",
    "print(f\"RMSE: {rmse:.10f}\")"
   ]
  },
  {
   "cell_type": "code",
   "execution_count": 239,
   "id": "27e3d5cb",
   "metadata": {},
   "outputs": [
    {
     "data": {
      "text/html": [
       "<div><style>\n",
       ".dataframe > thead > tr,\n",
       ".dataframe > tbody > tr {\n",
       "  text-align: right;\n",
       "  white-space: pre-wrap;\n",
       "}\n",
       "</style>\n",
       "<small>shape: (1, 10)</small><table border=\"1\" class=\"dataframe\"><thead><tr><th>id</th><th>date</th><th>event_name_1</th><th>event_type_1</th><th>event_name_2</th><th>event_type_2</th><th>snap_CA</th><th>snap_TX</th><th>snap_WI</th><th>sell_price</th></tr><tr><td>u32</td><td>u32</td><td>u32</td><td>u32</td><td>u32</td><td>u32</td><td>u32</td><td>u32</td><td>u32</td><td>u32</td></tr></thead><tbody><tr><td>0</td><td>0</td><td>30490</td><td>30490</td><td>30490</td><td>30490</td><td>30490</td><td>30490</td><td>30490</td><td>30490</td></tr></tbody></table></div>"
      ],
      "text/plain": [
       "shape: (1, 10)\n",
       "┌─────┬──────┬──────────────┬──────────────┬───┬─────────┬─────────┬─────────┬────────────┐\n",
       "│ id  ┆ date ┆ event_name_1 ┆ event_type_1 ┆ … ┆ snap_CA ┆ snap_TX ┆ snap_WI ┆ sell_price │\n",
       "│ --- ┆ ---  ┆ ---          ┆ ---          ┆   ┆ ---     ┆ ---     ┆ ---     ┆ ---        │\n",
       "│ u32 ┆ u32  ┆ u32          ┆ u32          ┆   ┆ u32     ┆ u32     ┆ u32     ┆ u32        │\n",
       "╞═════╪══════╪══════════════╪══════════════╪═══╪═════════╪═════════╪═════════╪════════════╡\n",
       "│ 0   ┆ 0    ┆ 30490        ┆ 30490        ┆ … ┆ 30490   ┆ 30490   ┆ 30490   ┆ 30490      │\n",
       "└─────┴──────┴──────────────┴──────────────┴───┴─────────┴─────────┴─────────┴────────────┘"
      ]
     },
     "execution_count": 239,
     "metadata": {},
     "output_type": "execute_result"
    }
   ],
   "source": [
    "X_df.null_count()"
   ]
  },
  {
   "cell_type": "code",
   "execution_count": 189,
   "id": "40bc9c2e",
   "metadata": {},
   "outputs": [
    {
     "data": {
      "text/html": [
       "<div><style>\n",
       ".dataframe > thead > tr,\n",
       ".dataframe > tbody > tr {\n",
       "  text-align: right;\n",
       "  white-space: pre-wrap;\n",
       "}\n",
       "</style>\n",
       "<small>shape: (884_210, 10)</small><table border=\"1\" class=\"dataframe\"><thead><tr><th>y</th><th>date</th><th>event_name_1</th><th>event_type_1</th><th>event_name_2</th><th>event_type_2</th><th>snap_CA</th><th>snap_TX</th><th>snap_WI</th><th>sell_price</th></tr><tr><td>f32</td><td>datetime[μs]</td><td>cat</td><td>cat</td><td>cat</td><td>cat</td><td>i32</td><td>i32</td><td>i32</td><td>f32</td></tr></thead><tbody><tr><td>1.0</td><td>2016-04-24 00:00:00</td><td>&quot;nan&quot;</td><td>&quot;nan&quot;</td><td>&quot;nan&quot;</td><td>&quot;nan&quot;</td><td>0</td><td>0</td><td>0</td><td>8.38</td></tr><tr><td>0.0</td><td>2016-04-25 00:00:00</td><td>&quot;nan&quot;</td><td>&quot;nan&quot;</td><td>&quot;nan&quot;</td><td>&quot;nan&quot;</td><td>0</td><td>0</td><td>0</td><td>8.38</td></tr><tr><td>0.0</td><td>2016-04-26 00:00:00</td><td>&quot;nan&quot;</td><td>&quot;nan&quot;</td><td>&quot;nan&quot;</td><td>&quot;nan&quot;</td><td>0</td><td>0</td><td>0</td><td>8.38</td></tr><tr><td>0.0</td><td>2016-04-27 00:00:00</td><td>&quot;nan&quot;</td><td>&quot;nan&quot;</td><td>&quot;nan&quot;</td><td>&quot;nan&quot;</td><td>0</td><td>0</td><td>0</td><td>8.38</td></tr><tr><td>2.0</td><td>2016-04-28 00:00:00</td><td>&quot;nan&quot;</td><td>&quot;nan&quot;</td><td>&quot;nan&quot;</td><td>&quot;nan&quot;</td><td>0</td><td>0</td><td>0</td><td>8.38</td></tr><tr><td>&hellip;</td><td>&hellip;</td><td>&hellip;</td><td>&hellip;</td><td>&hellip;</td><td>&hellip;</td><td>&hellip;</td><td>&hellip;</td><td>&hellip;</td><td>&hellip;</td></tr><tr><td>0.0</td><td>2016-05-18 00:00:00</td><td>&quot;nan&quot;</td><td>&quot;nan&quot;</td><td>&quot;nan&quot;</td><td>&quot;nan&quot;</td><td>0</td><td>0</td><td>0</td><td>3.98</td></tr><tr><td>0.0</td><td>2016-05-19 00:00:00</td><td>&quot;nan&quot;</td><td>&quot;nan&quot;</td><td>&quot;nan&quot;</td><td>&quot;nan&quot;</td><td>0</td><td>0</td><td>0</td><td>3.98</td></tr><tr><td>0.0</td><td>2016-05-20 00:00:00</td><td>&quot;nan&quot;</td><td>&quot;nan&quot;</td><td>&quot;nan&quot;</td><td>&quot;nan&quot;</td><td>0</td><td>0</td><td>0</td><td>3.98</td></tr><tr><td>0.0</td><td>2016-05-21 00:00:00</td><td>&quot;nan&quot;</td><td>&quot;nan&quot;</td><td>&quot;nan&quot;</td><td>&quot;nan&quot;</td><td>0</td><td>0</td><td>0</td><td>3.98</td></tr><tr><td>1.0</td><td>2016-05-22 00:00:00</td><td>&quot;nan&quot;</td><td>&quot;nan&quot;</td><td>&quot;nan&quot;</td><td>&quot;nan&quot;</td><td>0</td><td>0</td><td>0</td><td>3.98</td></tr></tbody></table></div>"
      ],
      "text/plain": [
       "shape: (884_210, 10)\n",
       "┌─────┬───────────────┬──────────────┬──────────────┬───┬─────────┬─────────┬─────────┬────────────┐\n",
       "│ y   ┆ date          ┆ event_name_1 ┆ event_type_1 ┆ … ┆ snap_CA ┆ snap_TX ┆ snap_WI ┆ sell_price │\n",
       "│ --- ┆ ---           ┆ ---          ┆ ---          ┆   ┆ ---     ┆ ---     ┆ ---     ┆ ---        │\n",
       "│ f32 ┆ datetime[μs]  ┆ cat          ┆ cat          ┆   ┆ i32     ┆ i32     ┆ i32     ┆ f32        │\n",
       "╞═════╪═══════════════╪══════════════╪══════════════╪═══╪═════════╪═════════╪═════════╪════════════╡\n",
       "│ 1.0 ┆ 2016-04-24    ┆ nan          ┆ nan          ┆ … ┆ 0       ┆ 0       ┆ 0       ┆ 8.38       │\n",
       "│     ┆ 00:00:00      ┆              ┆              ┆   ┆         ┆         ┆         ┆            │\n",
       "│ 0.0 ┆ 2016-04-25    ┆ nan          ┆ nan          ┆ … ┆ 0       ┆ 0       ┆ 0       ┆ 8.38       │\n",
       "│     ┆ 00:00:00      ┆              ┆              ┆   ┆         ┆         ┆         ┆            │\n",
       "│ 0.0 ┆ 2016-04-26    ┆ nan          ┆ nan          ┆ … ┆ 0       ┆ 0       ┆ 0       ┆ 8.38       │\n",
       "│     ┆ 00:00:00      ┆              ┆              ┆   ┆         ┆         ┆         ┆            │\n",
       "│ 0.0 ┆ 2016-04-27    ┆ nan          ┆ nan          ┆ … ┆ 0       ┆ 0       ┆ 0       ┆ 8.38       │\n",
       "│     ┆ 00:00:00      ┆              ┆              ┆   ┆         ┆         ┆         ┆            │\n",
       "│ 2.0 ┆ 2016-04-28    ┆ nan          ┆ nan          ┆ … ┆ 0       ┆ 0       ┆ 0       ┆ 8.38       │\n",
       "│     ┆ 00:00:00      ┆              ┆              ┆   ┆         ┆         ┆         ┆            │\n",
       "│ …   ┆ …             ┆ …            ┆ …            ┆ … ┆ …       ┆ …       ┆ …       ┆ …          │\n",
       "│ 0.0 ┆ 2016-05-18    ┆ nan          ┆ nan          ┆ … ┆ 0       ┆ 0       ┆ 0       ┆ 3.98       │\n",
       "│     ┆ 00:00:00      ┆              ┆              ┆   ┆         ┆         ┆         ┆            │\n",
       "│ 0.0 ┆ 2016-05-19    ┆ nan          ┆ nan          ┆ … ┆ 0       ┆ 0       ┆ 0       ┆ 3.98       │\n",
       "│     ┆ 00:00:00      ┆              ┆              ┆   ┆         ┆         ┆         ┆            │\n",
       "│ 0.0 ┆ 2016-05-20    ┆ nan          ┆ nan          ┆ … ┆ 0       ┆ 0       ┆ 0       ┆ 3.98       │\n",
       "│     ┆ 00:00:00      ┆              ┆              ┆   ┆         ┆         ┆         ┆            │\n",
       "│ 0.0 ┆ 2016-05-21    ┆ nan          ┆ nan          ┆ … ┆ 0       ┆ 0       ┆ 0       ┆ 3.98       │\n",
       "│     ┆ 00:00:00      ┆              ┆              ┆   ┆         ┆         ┆         ┆            │\n",
       "│ 1.0 ┆ 2016-05-22    ┆ nan          ┆ nan          ┆ … ┆ 0       ┆ 0       ┆ 0       ┆ 3.98       │\n",
       "│     ┆ 00:00:00      ┆              ┆              ┆   ┆         ┆         ┆         ┆            │\n",
       "└─────┴───────────────┴──────────────┴──────────────┴───┴─────────┴─────────┴─────────┴────────────┘"
      ]
     },
     "execution_count": 189,
     "metadata": {},
     "output_type": "execute_result"
    }
   ],
   "source": [
    "static"
   ]
  },
  {
   "cell_type": "code",
   "execution_count": 186,
   "id": "44646787",
   "metadata": {},
   "outputs": [
    {
     "data": {
      "text/html": [
       "<div><style>\n",
       ".dataframe > thead > tr,\n",
       ".dataframe > tbody > tr {\n",
       "  text-align: right;\n",
       "  white-space: pre-wrap;\n",
       "}\n",
       "</style>\n",
       "<small>shape: (884_210, 3)</small><table border=\"1\" class=\"dataframe\"><thead><tr><th>id</th><th>date</th><th>sell_price</th></tr><tr><td>cat</td><td>datetime[μs]</td><td>f32</td></tr></thead><tbody><tr><td>&quot;HOBBIES_1_001_CA_1_evaluation&quot;</td><td>2016-04-26 00:00:00</td><td>8.38</td></tr><tr><td>&quot;HOBBIES_1_001_CA_1_evaluation&quot;</td><td>2016-04-27 00:00:00</td><td>8.38</td></tr><tr><td>&quot;HOBBIES_1_001_CA_1_evaluation&quot;</td><td>2016-04-28 00:00:00</td><td>8.38</td></tr><tr><td>&quot;HOBBIES_1_001_CA_1_evaluation&quot;</td><td>2016-04-29 00:00:00</td><td>8.38</td></tr><tr><td>&quot;HOBBIES_1_001_CA_1_evaluation&quot;</td><td>2016-04-30 00:00:00</td><td>8.38</td></tr><tr><td>&hellip;</td><td>&hellip;</td><td>&hellip;</td></tr><tr><td>&quot;FOODS_3_677_WI_3_evaluation&quot;</td><td>2016-05-20 00:00:00</td><td>3.98</td></tr><tr><td>&quot;FOODS_3_677_WI_3_evaluation&quot;</td><td>2016-05-21 00:00:00</td><td>3.98</td></tr><tr><td>&quot;FOODS_3_677_WI_3_evaluation&quot;</td><td>2016-05-22 00:00:00</td><td>3.98</td></tr><tr><td>&quot;FOODS_3_677_WI_3_evaluation&quot;</td><td>2016-05-23 00:00:00</td><td>null</td></tr><tr><td>&quot;FOODS_3_677_WI_3_evaluation&quot;</td><td>2016-05-24 00:00:00</td><td>null</td></tr></tbody></table></div>"
      ],
      "text/plain": [
       "shape: (884_210, 3)\n",
       "┌───────────────────────────────┬─────────────────────┬────────────┐\n",
       "│ id                            ┆ date                ┆ sell_price │\n",
       "│ ---                           ┆ ---                 ┆ ---        │\n",
       "│ cat                           ┆ datetime[μs]        ┆ f32        │\n",
       "╞═══════════════════════════════╪═════════════════════╪════════════╡\n",
       "│ HOBBIES_1_001_CA_1_evaluation ┆ 2016-04-26 00:00:00 ┆ 8.38       │\n",
       "│ HOBBIES_1_001_CA_1_evaluation ┆ 2016-04-27 00:00:00 ┆ 8.38       │\n",
       "│ HOBBIES_1_001_CA_1_evaluation ┆ 2016-04-28 00:00:00 ┆ 8.38       │\n",
       "│ HOBBIES_1_001_CA_1_evaluation ┆ 2016-04-29 00:00:00 ┆ 8.38       │\n",
       "│ HOBBIES_1_001_CA_1_evaluation ┆ 2016-04-30 00:00:00 ┆ 8.38       │\n",
       "│ …                             ┆ …                   ┆ …          │\n",
       "│ FOODS_3_677_WI_3_evaluation   ┆ 2016-05-20 00:00:00 ┆ 3.98       │\n",
       "│ FOODS_3_677_WI_3_evaluation   ┆ 2016-05-21 00:00:00 ┆ 3.98       │\n",
       "│ FOODS_3_677_WI_3_evaluation   ┆ 2016-05-22 00:00:00 ┆ 3.98       │\n",
       "│ FOODS_3_677_WI_3_evaluation   ┆ 2016-05-23 00:00:00 ┆ null       │\n",
       "│ FOODS_3_677_WI_3_evaluation   ┆ 2016-05-24 00:00:00 ┆ null       │\n",
       "└───────────────────────────────┴─────────────────────┴────────────┘"
      ]
     },
     "execution_count": 186,
     "metadata": {},
     "output_type": "execute_result"
    }
   ],
   "source": [
    "X_df"
   ]
  },
  {
   "cell_type": "code",
   "execution_count": 174,
   "id": "92a4ad96",
   "metadata": {},
   "outputs": [
    {
     "name": "stdout",
     "output_type": "stream",
     "text": [
      "shape: (884_210, 2)\n",
      "┌───────────────────────────────┬─────────────────────┐\n",
      "│ id                            ┆ date                │\n",
      "│ ---                           ┆ ---                 │\n",
      "│ cat                           ┆ datetime[μs]        │\n",
      "╞═══════════════════════════════╪═════════════════════╡\n",
      "│ HOBBIES_1_001_CA_1_evaluation ┆ 2016-04-26 00:00:00 │\n",
      "│ HOBBIES_1_001_CA_1_evaluation ┆ 2016-04-27 00:00:00 │\n",
      "│ HOBBIES_1_001_CA_1_evaluation ┆ 2016-04-28 00:00:00 │\n",
      "│ HOBBIES_1_001_CA_1_evaluation ┆ 2016-04-29 00:00:00 │\n",
      "│ HOBBIES_1_001_CA_1_evaluation ┆ 2016-04-30 00:00:00 │\n",
      "│ …                             ┆ …                   │\n",
      "│ FOODS_3_677_WI_3_evaluation   ┆ 2016-05-20 00:00:00 │\n",
      "│ FOODS_3_677_WI_3_evaluation   ┆ 2016-05-21 00:00:00 │\n",
      "│ FOODS_3_677_WI_3_evaluation   ┆ 2016-05-22 00:00:00 │\n",
      "│ FOODS_3_677_WI_3_evaluation   ┆ 2016-05-23 00:00:00 │\n",
      "│ FOODS_3_677_WI_3_evaluation   ┆ 2016-05-24 00:00:00 │\n",
      "└───────────────────────────────┴─────────────────────┘\n"
     ]
    }
   ],
   "source": [
    "print(fcst.make_future_dataframe(h=horizon))\n"
   ]
  },
  {
   "cell_type": "code",
   "execution_count": 165,
   "id": "04465325",
   "metadata": {},
   "outputs": [
    {
     "name": "stdout",
     "output_type": "stream",
     "text": [
      "0\n"
     ]
    },
    {
     "ename": "ValueError",
     "evalue": "Found no exogenous features in `X_df`.",
     "output_type": "error",
     "traceback": [
      "\u001b[1;31m---------------------------------------------------------------------------\u001b[0m",
      "\u001b[1;31mValueError\u001b[0m                                Traceback (most recent call last)",
      "Cell \u001b[1;32mIn[165], line 45\u001b[0m\n\u001b[0;32m     43\u001b[0m \u001b[38;5;66;03m# Step 4: Predict\u001b[39;00m\n\u001b[0;32m     44\u001b[0m fcst\u001b[38;5;241m.\u001b[39mmodels_ \u001b[38;5;241m=\u001b[39m {\u001b[38;5;124m\"\u001b[39m\u001b[38;5;124mLGBMRegressor\u001b[39m\u001b[38;5;124m\"\u001b[39m: model}  \u001b[38;5;66;03m# if not already set\u001b[39;00m\n\u001b[1;32m---> 45\u001b[0m preds \u001b[38;5;241m=\u001b[39m \u001b[43mfcst\u001b[49m\u001b[38;5;241;43m.\u001b[39;49m\u001b[43mpredict\u001b[49m\u001b[43m(\u001b[49m\u001b[43mh\u001b[49m\u001b[38;5;241;43m=\u001b[39;49m\u001b[43mhorizon\u001b[49m\u001b[43m,\u001b[49m\u001b[43m \u001b[49m\u001b[43mX_df\u001b[49m\u001b[38;5;241;43m=\u001b[39;49m\u001b[43mX_df\u001b[49m\u001b[43m)\u001b[49m\n\u001b[0;32m     47\u001b[0m \u001b[38;5;66;03m# Optional: display or export preds\u001b[39;00m\n\u001b[0;32m     48\u001b[0m \u001b[38;5;28mprint\u001b[39m(preds\u001b[38;5;241m.\u001b[39mhead())\n",
      "File \u001b[1;32m~\\AppData\\Local\\Packages\\PythonSoftwareFoundation.Python.3.11_qbz5n2kfra8p0\\LocalCache\\local-packages\\Python311\\site-packages\\mlforecast\\forecast.py:738\u001b[0m, in \u001b[0;36mMLForecast.predict\u001b[1;34m(self, h, before_predict_callback, after_predict_callback, new_df, level, X_df, ids)\u001b[0m\n\u001b[0;32m    735\u001b[0m \u001b[38;5;28;01melse\u001b[39;00m:\n\u001b[0;32m    736\u001b[0m     ts \u001b[38;5;241m=\u001b[39m \u001b[38;5;28mself\u001b[39m\u001b[38;5;241m.\u001b[39mts\n\u001b[1;32m--> 738\u001b[0m forecasts \u001b[38;5;241m=\u001b[39m \u001b[43mts\u001b[49m\u001b[38;5;241;43m.\u001b[39;49m\u001b[43mpredict\u001b[49m\u001b[43m(\u001b[49m\n\u001b[0;32m    739\u001b[0m \u001b[43m    \u001b[49m\u001b[43mmodels\u001b[49m\u001b[38;5;241;43m=\u001b[39;49m\u001b[38;5;28;43mself\u001b[39;49m\u001b[38;5;241;43m.\u001b[39;49m\u001b[43mmodels_\u001b[49m\u001b[43m,\u001b[49m\n\u001b[0;32m    740\u001b[0m \u001b[43m    \u001b[49m\u001b[43mhorizon\u001b[49m\u001b[38;5;241;43m=\u001b[39;49m\u001b[43mh\u001b[49m\u001b[43m,\u001b[49m\n\u001b[0;32m    741\u001b[0m \u001b[43m    \u001b[49m\u001b[43mbefore_predict_callback\u001b[49m\u001b[38;5;241;43m=\u001b[39;49m\u001b[43mbefore_predict_callback\u001b[49m\u001b[43m,\u001b[49m\n\u001b[0;32m    742\u001b[0m \u001b[43m    \u001b[49m\u001b[43mafter_predict_callback\u001b[49m\u001b[38;5;241;43m=\u001b[39;49m\u001b[43mafter_predict_callback\u001b[49m\u001b[43m,\u001b[49m\n\u001b[0;32m    743\u001b[0m \u001b[43m    \u001b[49m\u001b[43mX_df\u001b[49m\u001b[38;5;241;43m=\u001b[39;49m\u001b[43mX_df\u001b[49m\u001b[43m,\u001b[49m\n\u001b[0;32m    744\u001b[0m \u001b[43m    \u001b[49m\u001b[43mids\u001b[49m\u001b[38;5;241;43m=\u001b[39;49m\u001b[43mids\u001b[49m\u001b[43m,\u001b[49m\n\u001b[0;32m    745\u001b[0m \u001b[43m\u001b[49m\u001b[43m)\u001b[49m\n\u001b[0;32m    746\u001b[0m \u001b[38;5;28;01mif\u001b[39;00m level \u001b[38;5;129;01mis\u001b[39;00m \u001b[38;5;129;01mnot\u001b[39;00m \u001b[38;5;28;01mNone\u001b[39;00m:\n\u001b[0;32m    747\u001b[0m     \u001b[38;5;28;01mif\u001b[39;00m \u001b[38;5;28mself\u001b[39m\u001b[38;5;241m.\u001b[39m_cs_df \u001b[38;5;129;01mis\u001b[39;00m \u001b[38;5;28;01mNone\u001b[39;00m:\n",
      "File \u001b[1;32m~\\AppData\\Local\\Packages\\PythonSoftwareFoundation.Python.3.11_qbz5n2kfra8p0\\LocalCache\\local-packages\\Python311\\site-packages\\mlforecast\\core.py:782\u001b[0m, in \u001b[0;36mTimeSeries.predict\u001b[1;34m(self, models, horizon, before_predict_callback, after_predict_callback, X_df, ids)\u001b[0m\n\u001b[0;32m    778\u001b[0m     \u001b[38;5;28;01mraise\u001b[39;00m \u001b[38;5;167;01mValueError\u001b[39;00m(\n\u001b[0;32m    779\u001b[0m         \u001b[38;5;124mf\u001b[39m\u001b[38;5;124m\"\u001b[39m\u001b[38;5;124mX_df must have \u001b[39m\u001b[38;5;124m'\u001b[39m\u001b[38;5;132;01m{\u001b[39;00m\u001b[38;5;28mself\u001b[39m\u001b[38;5;241m.\u001b[39mid_col\u001b[38;5;132;01m}\u001b[39;00m\u001b[38;5;124m'\u001b[39m\u001b[38;5;124m and \u001b[39m\u001b[38;5;124m'\u001b[39m\u001b[38;5;132;01m{\u001b[39;00m\u001b[38;5;28mself\u001b[39m\u001b[38;5;241m.\u001b[39mtime_col\u001b[38;5;132;01m}\u001b[39;00m\u001b[38;5;124m'\u001b[39m\u001b[38;5;124m columns.\u001b[39m\u001b[38;5;124m\"\u001b[39m\n\u001b[0;32m    780\u001b[0m     )\n\u001b[0;32m    781\u001b[0m \u001b[38;5;28;01mif\u001b[39;00m X_df\u001b[38;5;241m.\u001b[39mshape[\u001b[38;5;241m1\u001b[39m] \u001b[38;5;241m<\u001b[39m \u001b[38;5;241m3\u001b[39m:\n\u001b[1;32m--> 782\u001b[0m     \u001b[38;5;28;01mraise\u001b[39;00m \u001b[38;5;167;01mValueError\u001b[39;00m(\u001b[38;5;124m\"\u001b[39m\u001b[38;5;124mFound no exogenous features in `X_df`.\u001b[39m\u001b[38;5;124m\"\u001b[39m)\n\u001b[0;32m    783\u001b[0m statics \u001b[38;5;241m=\u001b[39m [c \u001b[38;5;28;01mfor\u001b[39;00m c \u001b[38;5;129;01min\u001b[39;00m \u001b[38;5;28mself\u001b[39m\u001b[38;5;241m.\u001b[39mstatic_features_\u001b[38;5;241m.\u001b[39mcolumns \u001b[38;5;28;01mif\u001b[39;00m c \u001b[38;5;241m!=\u001b[39m \u001b[38;5;28mself\u001b[39m\u001b[38;5;241m.\u001b[39mid_col]\n\u001b[0;32m    784\u001b[0m dynamics \u001b[38;5;241m=\u001b[39m [\n\u001b[0;32m    785\u001b[0m     c \u001b[38;5;28;01mfor\u001b[39;00m c \u001b[38;5;129;01min\u001b[39;00m X_df\u001b[38;5;241m.\u001b[39mcolumns \u001b[38;5;28;01mif\u001b[39;00m c \u001b[38;5;129;01mnot\u001b[39;00m \u001b[38;5;129;01min\u001b[39;00m [\u001b[38;5;28mself\u001b[39m\u001b[38;5;241m.\u001b[39mid_col, \u001b[38;5;28mself\u001b[39m\u001b[38;5;241m.\u001b[39mtime_col]\n\u001b[0;32m    786\u001b[0m ]\n",
      "\u001b[1;31mValueError\u001b[0m: Found no exogenous features in `X_df`."
     ]
    }
   ],
   "source": [
    "from datetime import timedelta\n",
    "import polars as pl\n",
    "\n",
    "# Define forecast horizon\n",
    "horizon = 29\n",
    "forecast_start = valid_start_date + timedelta(days=1)\n",
    "forecast_end = forecast_start + timedelta(days=horizon - 1)\n",
    "\n",
    "# Step 1: Generate valid X_df for future predictions\n",
    "X_df = fcst.make_future_dataframe(h=horizon)\n",
    "\n",
    "# Step 1b (optional): Add static features (if used in training)\n",
    "static_cols = [\"id\", \"item_id\", \"store_id\", \"state_id\", \"dept_id\", \"cat_id\"]\n",
    "static = long.select([\"date\",\"id\",\"sell_price\"])\n",
    "\n",
    "static = (\n",
    "    long\n",
    "    .filter(pl.col(\"date\") == valid_start_date)\n",
    "    .select([\"id\", \"sell_price\"])\n",
    "    .unique(\"id\")\n",
    ")\n",
    "X_df = X_df.join(static, on=\"id\", how=\"left\")\n",
    "\n",
    "X_df = fcst.make_future_dataframe(h=horizon)\n",
    "\n",
    "# Step 2: Create new_df with dynamic features for forecast window\n",
    "new_df = (\n",
    "    long.drop([\"d\", \"wm_yr_wk\"])\n",
    "        .filter((pl.col(\"date\") >= forecast_start) & (pl.col(\"date\") <= forecast_end))\n",
    ")\n",
    "\n",
    "print(len(fcst.get_missing_future(horizon, X_df)))\n",
    "\n",
    "# Step 3: Fill missing values for features used during training\n",
    "# You MUST include every column that was used during training\n",
    "new_df = new_df.with_columns([\n",
    "    pl.col(\"event_name_1\").fill_null(\"none\"),\n",
    "    pl.col(\"event_type_1\").fill_null(\"none\"),\n",
    "    pl.col(\"sell_price\").fill_null(0),  # Adjust as needed\n",
    "    # Add others if your model used more columns\n",
    "])\n",
    "\n",
    "# Step 4: Predict\n",
    "fcst.models_ = {\"LGBMRegressor\": model}  # if not already set\n",
    "preds = fcst.predict(h=horizon, X_df=X_df)\n",
    "\n",
    "# Optional: display or export preds\n",
    "print(preds.head())\n"
   ]
  },
  {
   "cell_type": "code",
   "execution_count": 138,
   "id": "1ac51fa5",
   "metadata": {},
   "outputs": [
    {
     "data": {
      "text/html": [
       "<div><style>\n",
       ".dataframe > thead > tr,\n",
       ".dataframe > tbody > tr {\n",
       "  text-align: right;\n",
       "  white-space: pre-wrap;\n",
       "}\n",
       "</style>\n",
       "<small>shape: (0, 2)</small><table border=\"1\" class=\"dataframe\"><thead><tr><th>id</th><th>date</th></tr><tr><td>cat</td><td>datetime[μs]</td></tr></thead><tbody></tbody></table></div>"
      ],
      "text/plain": [
       "shape: (0, 2)\n",
       "┌─────┬──────────────┐\n",
       "│ id  ┆ date         │\n",
       "│ --- ┆ ---          │\n",
       "│ cat ┆ datetime[μs] │\n",
       "╞═════╪══════════════╡\n",
       "└─────┴──────────────┘"
      ]
     },
     "execution_count": 138,
     "metadata": {},
     "output_type": "execute_result"
    }
   ],
   "source": [
    "fcst.get_missing_future(29, X_df)"
   ]
  },
  {
   "cell_type": "code",
   "execution_count": 137,
   "id": "f19820f4",
   "metadata": {},
   "outputs": [
    {
     "ename": "ValueError",
     "evalue": "Found missing inputs in X_df. It should have one row per id and time for the complete forecasting horizon.\nYou can get the expected structure by running `MLForecast.make_future_dataframe(h)` or get the missing combinatins in your current `X_df` by running `MLForecast.get_missing_future(h, X_df)`.",
     "output_type": "error",
     "traceback": [
      "\u001b[1;31m---------------------------------------------------------------------------\u001b[0m",
      "\u001b[1;31mValueError\u001b[0m                                Traceback (most recent call last)",
      "File \u001b[1;32m<timed exec>:1\u001b[0m\n",
      "File \u001b[1;32m~\\AppData\\Local\\Packages\\PythonSoftwareFoundation.Python.3.11_qbz5n2kfra8p0\\LocalCache\\local-packages\\Python311\\site-packages\\mlforecast\\forecast.py:738\u001b[0m, in \u001b[0;36mMLForecast.predict\u001b[1;34m(self, h, before_predict_callback, after_predict_callback, new_df, level, X_df, ids)\u001b[0m\n\u001b[0;32m    735\u001b[0m \u001b[38;5;28;01melse\u001b[39;00m:\n\u001b[0;32m    736\u001b[0m     ts \u001b[38;5;241m=\u001b[39m \u001b[38;5;28mself\u001b[39m\u001b[38;5;241m.\u001b[39mts\n\u001b[1;32m--> 738\u001b[0m forecasts \u001b[38;5;241m=\u001b[39m \u001b[43mts\u001b[49m\u001b[38;5;241;43m.\u001b[39;49m\u001b[43mpredict\u001b[49m\u001b[43m(\u001b[49m\n\u001b[0;32m    739\u001b[0m \u001b[43m    \u001b[49m\u001b[43mmodels\u001b[49m\u001b[38;5;241;43m=\u001b[39;49m\u001b[38;5;28;43mself\u001b[39;49m\u001b[38;5;241;43m.\u001b[39;49m\u001b[43mmodels_\u001b[49m\u001b[43m,\u001b[49m\n\u001b[0;32m    740\u001b[0m \u001b[43m    \u001b[49m\u001b[43mhorizon\u001b[49m\u001b[38;5;241;43m=\u001b[39;49m\u001b[43mh\u001b[49m\u001b[43m,\u001b[49m\n\u001b[0;32m    741\u001b[0m \u001b[43m    \u001b[49m\u001b[43mbefore_predict_callback\u001b[49m\u001b[38;5;241;43m=\u001b[39;49m\u001b[43mbefore_predict_callback\u001b[49m\u001b[43m,\u001b[49m\n\u001b[0;32m    742\u001b[0m \u001b[43m    \u001b[49m\u001b[43mafter_predict_callback\u001b[49m\u001b[38;5;241;43m=\u001b[39;49m\u001b[43mafter_predict_callback\u001b[49m\u001b[43m,\u001b[49m\n\u001b[0;32m    743\u001b[0m \u001b[43m    \u001b[49m\u001b[43mX_df\u001b[49m\u001b[38;5;241;43m=\u001b[39;49m\u001b[43mX_df\u001b[49m\u001b[43m,\u001b[49m\n\u001b[0;32m    744\u001b[0m \u001b[43m    \u001b[49m\u001b[43mids\u001b[49m\u001b[38;5;241;43m=\u001b[39;49m\u001b[43mids\u001b[49m\u001b[43m,\u001b[49m\n\u001b[0;32m    745\u001b[0m \u001b[43m\u001b[49m\u001b[43m)\u001b[49m\n\u001b[0;32m    746\u001b[0m \u001b[38;5;28;01mif\u001b[39;00m level \u001b[38;5;129;01mis\u001b[39;00m \u001b[38;5;129;01mnot\u001b[39;00m \u001b[38;5;28;01mNone\u001b[39;00m:\n\u001b[0;32m    747\u001b[0m     \u001b[38;5;28;01mif\u001b[39;00m \u001b[38;5;28mself\u001b[39m\u001b[38;5;241m.\u001b[39m_cs_df \u001b[38;5;129;01mis\u001b[39;00m \u001b[38;5;28;01mNone\u001b[39;00m:\n",
      "File \u001b[1;32m~\\AppData\\Local\\Packages\\PythonSoftwareFoundation.Python.3.11_qbz5n2kfra8p0\\LocalCache\\local-packages\\Python311\\site-packages\\mlforecast\\core.py:813\u001b[0m, in \u001b[0;36mTimeSeries.predict\u001b[1;34m(self, models, horizon, before_predict_callback, after_predict_callback, X_df, ids)\u001b[0m\n\u001b[0;32m    806\u001b[0m \u001b[38;5;28;01mif\u001b[39;00m X_df\u001b[38;5;241m.\u001b[39mshape[\u001b[38;5;241m0\u001b[39m] \u001b[38;5;241m!=\u001b[39m \u001b[38;5;28mlen\u001b[39m(\u001b[38;5;28mself\u001b[39m\u001b[38;5;241m.\u001b[39muids) \u001b[38;5;241m*\u001b[39m horizon:\n\u001b[0;32m    807\u001b[0m     msg \u001b[38;5;241m=\u001b[39m (\n\u001b[0;32m    808\u001b[0m         \u001b[38;5;124m\"\u001b[39m\u001b[38;5;124mFound missing inputs in X_df. \u001b[39m\u001b[38;5;124m\"\u001b[39m\n\u001b[0;32m    809\u001b[0m         \u001b[38;5;124m\"\u001b[39m\u001b[38;5;124mIt should have one row per id and time for the complete forecasting horizon.\u001b[39m\u001b[38;5;130;01m\\n\u001b[39;00m\u001b[38;5;124m\"\u001b[39m\n\u001b[0;32m    810\u001b[0m         \u001b[38;5;124m\"\u001b[39m\u001b[38;5;124mYou can get the expected structure by running `MLForecast.make_future_dataframe(h)` \u001b[39m\u001b[38;5;124m\"\u001b[39m\n\u001b[0;32m    811\u001b[0m         \u001b[38;5;124m\"\u001b[39m\u001b[38;5;124mor get the missing combinatins in your current `X_df` by running `MLForecast.get_missing_future(h, X_df)`.\u001b[39m\u001b[38;5;124m\"\u001b[39m\n\u001b[0;32m    812\u001b[0m     )\n\u001b[1;32m--> 813\u001b[0m     \u001b[38;5;28;01mraise\u001b[39;00m \u001b[38;5;167;01mValueError\u001b[39;00m(msg)\n\u001b[0;32m    814\u001b[0m drop_cols \u001b[38;5;241m=\u001b[39m [\u001b[38;5;28mself\u001b[39m\u001b[38;5;241m.\u001b[39mid_col, \u001b[38;5;28mself\u001b[39m\u001b[38;5;241m.\u001b[39mtime_col, \u001b[38;5;124m\"\u001b[39m\u001b[38;5;124m_start\u001b[39m\u001b[38;5;124m\"\u001b[39m, \u001b[38;5;124m\"\u001b[39m\u001b[38;5;124m_end\u001b[39m\u001b[38;5;124m\"\u001b[39m]\n\u001b[0;32m    815\u001b[0m X_df \u001b[38;5;241m=\u001b[39m ufp\u001b[38;5;241m.\u001b[39msort(X_df, [\u001b[38;5;28mself\u001b[39m\u001b[38;5;241m.\u001b[39mid_col, \u001b[38;5;28mself\u001b[39m\u001b[38;5;241m.\u001b[39mtime_col])\n",
      "\u001b[1;31mValueError\u001b[0m: Found missing inputs in X_df. It should have one row per id and time for the complete forecasting horizon.\nYou can get the expected structure by running `MLForecast.make_future_dataframe(h)` or get the missing combinatins in your current `X_df` by running `MLForecast.get_missing_future(h, X_df)`."
     ]
    }
   ],
   "source": [
    "X_df = long.drop([\"d\",\"wm_yr_wk\",\"item_id\",\"store_id\",\"state_id\",\"dept_id\",\"cat_id\",\"y\"])\n",
    "\n",
    "new = long.drop([\"d\",\"wm_yr_wk\" ]).filter(pl.col('date') <= valid_start_date + timedelta(days=1))\n",
    "\n",
    "fcst.models_ = {'LGBMRegressor': model}\n",
    "%time preds = fcst.predict(h=29, new_df=new,X_df=X_df )\n"
   ]
  },
  {
   "cell_type": "code",
   "execution_count": 19,
   "id": "0d072aeb",
   "metadata": {},
   "outputs": [
    {
     "ename": "NameError",
     "evalue": "name 'preds' is not defined",
     "output_type": "error",
     "traceback": [
      "\u001b[1;31m---------------------------------------------------------------------------\u001b[0m",
      "\u001b[1;31mNameError\u001b[0m                                 Traceback (most recent call last)",
      "Cell \u001b[1;32mIn[19], line 1\u001b[0m\n\u001b[1;32m----> 1\u001b[0m \u001b[43mpreds\u001b[49m\u001b[38;5;241m.\u001b[39mjoin(valid_long[\u001b[38;5;124m\"\u001b[39m\u001b[38;5;124mid\u001b[39m\u001b[38;5;124m\"\u001b[39m,\u001b[38;5;124m\"\u001b[39m\u001b[38;5;124mdate\u001b[39m\u001b[38;5;124m\"\u001b[39m,\u001b[38;5;124m\"\u001b[39m\u001b[38;5;124my\u001b[39m\u001b[38;5;124m\"\u001b[39m],how\u001b[38;5;241m=\u001b[39m\u001b[38;5;124m\"\u001b[39m\u001b[38;5;124minner\u001b[39m\u001b[38;5;124m\"\u001b[39m,on\u001b[38;5;241m=\u001b[39m[\u001b[38;5;124m\"\u001b[39m\u001b[38;5;124mid\u001b[39m\u001b[38;5;124m\"\u001b[39m,\u001b[38;5;124m\"\u001b[39m\u001b[38;5;124mdate\u001b[39m\u001b[38;5;124m\"\u001b[39m])\n",
      "\u001b[1;31mNameError\u001b[0m: name 'preds' is not defined"
     ]
    }
   ],
   "source": [
    "preds.join(valid_long[\"id\",\"date\",\"y\"],how=\"inner\",on=[\"id\",\"date\"])"
   ]
  },
  {
   "cell_type": "code",
   "execution_count": null,
   "id": "36ccedda",
   "metadata": {},
   "outputs": [
    {
     "data": {
      "text/html": [
       "<div><style>\n",
       ".dataframe > thead > tr,\n",
       ".dataframe > tbody > tr {\n",
       "  text-align: right;\n",
       "  white-space: pre-wrap;\n",
       "}\n",
       "</style>\n",
       "<small>shape: (853_720, 3)</small><table border=\"1\" class=\"dataframe\"><thead><tr><th>id</th><th>date</th><th>LGBMRegressor</th></tr><tr><td>cat</td><td>datetime[μs]</td><td>f64</td></tr></thead><tbody><tr><td>&quot;HOBBIES_1_001_CA_1_evaluation&quot;</td><td>2016-04-24 00:00:00</td><td>1.004026</td></tr><tr><td>&quot;HOBBIES_1_001_CA_1_evaluation&quot;</td><td>2016-04-25 00:00:00</td><td>0.725626</td></tr><tr><td>&quot;HOBBIES_1_001_CA_1_evaluation&quot;</td><td>2016-04-26 00:00:00</td><td>0.733981</td></tr><tr><td>&quot;HOBBIES_1_001_CA_1_evaluation&quot;</td><td>2016-04-27 00:00:00</td><td>0.694137</td></tr><tr><td>&quot;HOBBIES_1_001_CA_1_evaluation&quot;</td><td>2016-04-28 00:00:00</td><td>0.857808</td></tr><tr><td>&hellip;</td><td>&hellip;</td><td>&hellip;</td></tr><tr><td>&quot;FOODS_3_583_WI_3_evaluation&quot;</td><td>2016-05-17 00:00:00</td><td>0.841036</td></tr><tr><td>&quot;FOODS_3_583_WI_3_evaluation&quot;</td><td>2016-05-18 00:00:00</td><td>0.908861</td></tr><tr><td>&quot;FOODS_3_583_WI_3_evaluation&quot;</td><td>2016-05-19 00:00:00</td><td>0.835177</td></tr><tr><td>&quot;FOODS_3_583_WI_3_evaluation&quot;</td><td>2016-05-20 00:00:00</td><td>0.890161</td></tr><tr><td>&quot;FOODS_3_583_WI_3_evaluation&quot;</td><td>2016-05-21 00:00:00</td><td>1.206769</td></tr></tbody></table></div>"
      ],
      "text/plain": [
       "shape: (853_720, 3)\n",
       "┌───────────────────────────────┬─────────────────────┬───────────────┐\n",
       "│ id                            ┆ date                ┆ LGBMRegressor │\n",
       "│ ---                           ┆ ---                 ┆ ---           │\n",
       "│ cat                           ┆ datetime[μs]        ┆ f64           │\n",
       "╞═══════════════════════════════╪═════════════════════╪═══════════════╡\n",
       "│ HOBBIES_1_001_CA_1_evaluation ┆ 2016-04-24 00:00:00 ┆ 1.004026      │\n",
       "│ HOBBIES_1_001_CA_1_evaluation ┆ 2016-04-25 00:00:00 ┆ 0.725626      │\n",
       "│ HOBBIES_1_001_CA_1_evaluation ┆ 2016-04-26 00:00:00 ┆ 0.733981      │\n",
       "│ HOBBIES_1_001_CA_1_evaluation ┆ 2016-04-27 00:00:00 ┆ 0.694137      │\n",
       "│ HOBBIES_1_001_CA_1_evaluation ┆ 2016-04-28 00:00:00 ┆ 0.857808      │\n",
       "│ …                             ┆ …                   ┆ …             │\n",
       "│ FOODS_3_583_WI_3_evaluation   ┆ 2016-05-17 00:00:00 ┆ 0.841036      │\n",
       "│ FOODS_3_583_WI_3_evaluation   ┆ 2016-05-18 00:00:00 ┆ 0.908861      │\n",
       "│ FOODS_3_583_WI_3_evaluation   ┆ 2016-05-19 00:00:00 ┆ 0.835177      │\n",
       "│ FOODS_3_583_WI_3_evaluation   ┆ 2016-05-20 00:00:00 ┆ 0.890161      │\n",
       "│ FOODS_3_583_WI_3_evaluation   ┆ 2016-05-21 00:00:00 ┆ 1.206769      │\n",
       "└───────────────────────────────┴─────────────────────┴───────────────┘"
      ]
     },
     "execution_count": 55,
     "metadata": {},
     "output_type": "execute_result"
    }
   ],
   "source": [
    "preds.join(eval_long)"
   ]
  },
  {
   "cell_type": "code",
   "execution_count": null,
   "id": "5696cf2a",
   "metadata": {},
   "outputs": [
    {
     "name": "stdout",
     "output_type": "stream",
     "text": [
      "shape: (121_960, 3)\n",
      "┌───────────────────────────────┬────────┬───────────────┐\n",
      "│ unique_id                     ┆ metric ┆ LGBMRegressor │\n",
      "│ ---                           ┆ ---    ┆ ---           │\n",
      "│ cat                           ┆ str    ┆ f64           │\n",
      "╞═══════════════════════════════╪════════╪═══════════════╡\n",
      "│ HOBBIES_1_001_CA_1_evaluation ┆ rmse   ┆ 1.365652      │\n",
      "│ HOBBIES_1_002_CA_1_evaluation ┆ rmse   ┆ 0.506787      │\n",
      "│ HOBBIES_1_003_CA_1_evaluation ┆ rmse   ┆ 0.933877      │\n",
      "│ HOBBIES_1_004_CA_1_evaluation ┆ rmse   ┆ 1.562539      │\n",
      "│ HOBBIES_1_005_CA_1_evaluation ┆ rmse   ┆ 1.217481      │\n",
      "│ …                             ┆ …      ┆ …             │\n",
      "│ FOODS_3_579_WI_3_evaluation   ┆ mape   ┆ 0.681225      │\n",
      "│ FOODS_3_580_WI_3_evaluation   ┆ mape   ┆ 0.794133      │\n",
      "│ FOODS_3_581_WI_3_evaluation   ┆ mape   ┆ 0.672644      │\n",
      "│ FOODS_3_582_WI_3_evaluation   ┆ mape   ┆ 0.608619      │\n",
      "│ FOODS_3_583_WI_3_evaluation   ┆ mape   ┆ 0.232426      │\n",
      "└───────────────────────────────┴────────┴───────────────┘\n"
     ]
    }
   ],
   "source": [
    "from utilsforecast.evaluation import evaluate\n",
    "from utilsforecast.losses import mse, mae, rmse, mape\n",
    "\n",
    "# Join predictions and ground truth\n",
    "df_eval = preds.join(\n",
    "    valid_long.select([\"id\", \"date\", \"y\"]),\n",
    "    how=\"inner\",\n",
    "    on=[\"id\", \"date\"]\n",
    ").rename({\"id\": \"unique_id\",\"date\":\"ds\"})  # required by utilsforecast\n",
    "\n",
    "# Evaluate using Nixtla's metrics\n",
    "metrics = evaluate(\n",
    "    df_eval,\n",
    "    metrics=[rmse, mae, mse, mape]\n",
    ")\n",
    "\n",
    "print(metrics)\n"
   ]
  },
  {
   "cell_type": "code",
   "execution_count": null,
   "id": "4f5421c9",
   "metadata": {},
   "outputs": [
    {
     "data": {
      "text/html": [
       "<div><style>\n",
       ".dataframe > thead > tr,\n",
       ".dataframe > tbody > tr {\n",
       "  text-align: right;\n",
       "  white-space: pre-wrap;\n",
       "}\n",
       "</style>\n",
       "<small>shape: (4, 6)</small><table border=\"1\" class=\"dataframe\"><thead><tr><th>metric</th><th>mean</th><th>std</th><th>min</th><th>max</th><th>median</th></tr><tr><td>str</td><td>f64</td><td>f64</td><td>f64</td><td>f64</td><td>f64</td></tr></thead><tbody><tr><td>&quot;mse&quot;</td><td>4.444617</td><td>26.503637</td><td>0.016103</td><td>1565.380037</td><td>0.834652</td></tr><tr><td>&quot;mape&quot;</td><td>0.603382</td><td>0.242278</td><td>0.036308</td><td>17.283863</td><td>0.588092</td></tr><tr><td>&quot;mae&quot;</td><td>1.045478</td><td>1.249883</td><td>0.124908</td><td>30.777167</td><td>0.722405</td></tr><tr><td>&quot;rmse&quot;</td><td>1.344253</td><td>1.624095</td><td>0.1269</td><td>39.564884</td><td>0.913593</td></tr></tbody></table></div>"
      ],
      "text/plain": [
       "shape: (4, 6)\n",
       "┌────────┬──────────┬───────────┬──────────┬─────────────┬──────────┐\n",
       "│ metric ┆ mean     ┆ std       ┆ min      ┆ max         ┆ median   │\n",
       "│ ---    ┆ ---      ┆ ---       ┆ ---      ┆ ---         ┆ ---      │\n",
       "│ str    ┆ f64      ┆ f64       ┆ f64      ┆ f64         ┆ f64      │\n",
       "╞════════╪══════════╪═══════════╪══════════╪═════════════╪══════════╡\n",
       "│ mse    ┆ 4.444617 ┆ 26.503637 ┆ 0.016103 ┆ 1565.380037 ┆ 0.834652 │\n",
       "│ mape   ┆ 0.603382 ┆ 0.242278  ┆ 0.036308 ┆ 17.283863   ┆ 0.588092 │\n",
       "│ mae    ┆ 1.045478 ┆ 1.249883  ┆ 0.124908 ┆ 30.777167   ┆ 0.722405 │\n",
       "│ rmse   ┆ 1.344253 ┆ 1.624095  ┆ 0.1269   ┆ 39.564884   ┆ 0.913593 │\n",
       "└────────┴──────────┴───────────┴──────────┴─────────────┴──────────┘"
      ]
     },
     "execution_count": 71,
     "metadata": {},
     "output_type": "execute_result"
    }
   ],
   "source": [
    "metrics.group_by(\"metric\").agg([\n",
    "    pl.col(\"LGBMRegressor\").mean().alias(\"mean\"),\n",
    "    pl.col(\"LGBMRegressor\").std().alias(\"std\"),\n",
    "    pl.col(\"LGBMRegressor\").min().alias(\"min\"),\n",
    "    pl.col(\"LGBMRegressor\").max().alias(\"max\"),\n",
    "    pl.col(\"LGBMRegressor\").median().alias(\"median\"),\n",
    "])\n"
   ]
  },
  {
   "cell_type": "code",
   "execution_count": null,
   "id": "5fbc4a47",
   "metadata": {},
   "outputs": [
    {
     "data": {
      "text/html": [
       "<div><style>\n",
       ".dataframe > thead > tr,\n",
       ".dataframe > tbody > tr {\n",
       "  text-align: right;\n",
       "  white-space: pre-wrap;\n",
       "}\n",
       "</style>\n",
       "<small>shape: (853_720, 4)</small><table border=\"1\" class=\"dataframe\"><thead><tr><th>unique_id</th><th>date</th><th>LGBMRegressor</th><th>y</th></tr><tr><td>cat</td><td>datetime[μs]</td><td>f64</td><td>f32</td></tr></thead><tbody><tr><td>&quot;HOBBIES_1_001_CA_1_evaluation&quot;</td><td>2016-04-24 00:00:00</td><td>1.004026</td><td>1.0</td></tr><tr><td>&quot;HOBBIES_1_001_CA_1_evaluation&quot;</td><td>2016-04-25 00:00:00</td><td>0.725626</td><td>0.0</td></tr><tr><td>&quot;HOBBIES_1_001_CA_1_evaluation&quot;</td><td>2016-04-26 00:00:00</td><td>0.733981</td><td>0.0</td></tr><tr><td>&quot;HOBBIES_1_001_CA_1_evaluation&quot;</td><td>2016-04-27 00:00:00</td><td>0.694137</td><td>0.0</td></tr><tr><td>&quot;HOBBIES_1_001_CA_1_evaluation&quot;</td><td>2016-04-28 00:00:00</td><td>0.857808</td><td>2.0</td></tr><tr><td>&hellip;</td><td>&hellip;</td><td>&hellip;</td><td>&hellip;</td></tr><tr><td>&quot;FOODS_3_583_WI_3_evaluation&quot;</td><td>2016-05-17 00:00:00</td><td>0.841036</td><td>0.0</td></tr><tr><td>&quot;FOODS_3_583_WI_3_evaluation&quot;</td><td>2016-05-18 00:00:00</td><td>0.908861</td><td>0.0</td></tr><tr><td>&quot;FOODS_3_583_WI_3_evaluation&quot;</td><td>2016-05-19 00:00:00</td><td>0.835177</td><td>1.0</td></tr><tr><td>&quot;FOODS_3_583_WI_3_evaluation&quot;</td><td>2016-05-20 00:00:00</td><td>0.890161</td><td>2.0</td></tr><tr><td>&quot;FOODS_3_583_WI_3_evaluation&quot;</td><td>2016-05-21 00:00:00</td><td>1.206769</td><td>1.0</td></tr></tbody></table></div>"
      ],
      "text/plain": [
       "shape: (853_720, 4)\n",
       "┌───────────────────────────────┬─────────────────────┬───────────────┬─────┐\n",
       "│ unique_id                     ┆ date                ┆ LGBMRegressor ┆ y   │\n",
       "│ ---                           ┆ ---                 ┆ ---           ┆ --- │\n",
       "│ cat                           ┆ datetime[μs]        ┆ f64           ┆ f32 │\n",
       "╞═══════════════════════════════╪═════════════════════╪═══════════════╪═════╡\n",
       "│ HOBBIES_1_001_CA_1_evaluation ┆ 2016-04-24 00:00:00 ┆ 1.004026      ┆ 1.0 │\n",
       "│ HOBBIES_1_001_CA_1_evaluation ┆ 2016-04-25 00:00:00 ┆ 0.725626      ┆ 0.0 │\n",
       "│ HOBBIES_1_001_CA_1_evaluation ┆ 2016-04-26 00:00:00 ┆ 0.733981      ┆ 0.0 │\n",
       "│ HOBBIES_1_001_CA_1_evaluation ┆ 2016-04-27 00:00:00 ┆ 0.694137      ┆ 0.0 │\n",
       "│ HOBBIES_1_001_CA_1_evaluation ┆ 2016-04-28 00:00:00 ┆ 0.857808      ┆ 2.0 │\n",
       "│ …                             ┆ …                   ┆ …             ┆ …   │\n",
       "│ FOODS_3_583_WI_3_evaluation   ┆ 2016-05-17 00:00:00 ┆ 0.841036      ┆ 0.0 │\n",
       "│ FOODS_3_583_WI_3_evaluation   ┆ 2016-05-18 00:00:00 ┆ 0.908861      ┆ 0.0 │\n",
       "│ FOODS_3_583_WI_3_evaluation   ┆ 2016-05-19 00:00:00 ┆ 0.835177      ┆ 1.0 │\n",
       "│ FOODS_3_583_WI_3_evaluation   ┆ 2016-05-20 00:00:00 ┆ 0.890161      ┆ 2.0 │\n",
       "│ FOODS_3_583_WI_3_evaluation   ┆ 2016-05-21 00:00:00 ┆ 1.206769      ┆ 1.0 │\n",
       "└───────────────────────────────┴─────────────────────┴───────────────┴─────┘"
      ]
     },
     "execution_count": 62,
     "metadata": {},
     "output_type": "execute_result"
    }
   ],
   "source": [
    "df_eval"
   ]
  },
  {
   "cell_type": "code",
   "execution_count": null,
   "id": "ccb6d58b",
   "metadata": {},
   "outputs": [
    {
     "data": {
      "text/plain": [
       "2.1082259474118947"
      ]
     },
     "execution_count": 51,
     "metadata": {},
     "output_type": "execute_result"
    }
   ],
   "source": [
    "rmse"
   ]
  },
  {
   "cell_type": "markdown",
   "id": "2d67e7f9",
   "metadata": {
    "papermill": {
     "duration": 0.005556,
     "end_time": "2024-12-06T20:08:32.645951",
     "exception": false,
     "start_time": "2024-12-06T20:08:32.640395",
     "status": "completed"
    },
    "tags": []
   },
   "source": [
    "## Submission"
   ]
  },
  {
   "cell_type": "code",
   "execution_count": null,
   "id": "91aa69ae",
   "metadata": {
    "execution": {
     "iopub.execute_input": "2024-12-06T20:08:32.659035Z",
     "iopub.status.busy": "2024-12-06T20:08:32.658635Z",
     "iopub.status.idle": "2024-12-06T20:08:32.873346Z",
     "shell.execute_reply": "2024-12-06T20:08:32.872286Z"
    },
    "papermill": {
     "duration": 0.224214,
     "end_time": "2024-12-06T20:08:32.875848",
     "exception": false,
     "start_time": "2024-12-06T20:08:32.651634",
     "status": "completed"
    },
    "tags": []
   },
   "outputs": [
    {
     "data": {
      "text/html": [
       "<div><style>\n",
       ".dataframe > thead > tr,\n",
       ".dataframe > tbody > tr {\n",
       "  text-align: right;\n",
       "  white-space: pre-wrap;\n",
       "}\n",
       "</style>\n",
       "<small>shape: (30_490, 29)</small><table border=\"1\" class=\"dataframe\"><thead><tr><th>id</th><th>F1</th><th>F2</th><th>F3</th><th>F4</th><th>F5</th><th>F6</th><th>F7</th><th>F8</th><th>F9</th><th>F10</th><th>F11</th><th>F12</th><th>F13</th><th>F14</th><th>F15</th><th>F16</th><th>F17</th><th>F18</th><th>F19</th><th>F20</th><th>F21</th><th>F22</th><th>F23</th><th>F24</th><th>F25</th><th>F26</th><th>F27</th><th>F28</th></tr><tr><td>str</td><td>f64</td><td>f64</td><td>f64</td><td>f64</td><td>f64</td><td>f64</td><td>f64</td><td>f64</td><td>f64</td><td>f64</td><td>f64</td><td>f64</td><td>f64</td><td>f64</td><td>f64</td><td>f64</td><td>f64</td><td>f64</td><td>f64</td><td>f64</td><td>f64</td><td>f64</td><td>f64</td><td>f64</td><td>f64</td><td>f64</td><td>f64</td><td>f64</td></tr></thead><tbody><tr><td>&quot;HOBBIES_1_001_CA_1_evaluation&quot;</td><td>0.833897</td><td>0.840057</td><td>0.797003</td><td>0.981697</td><td>1.001909</td><td>1.354826</td><td>1.353887</td><td>0.81619</td><td>0.921808</td><td>0.951556</td><td>0.967182</td><td>1.01913</td><td>1.361474</td><td>1.169812</td><td>0.863993</td><td>0.881578</td><td>0.860041</td><td>0.922818</td><td>0.996496</td><td>1.349537</td><td>1.227884</td><td>0.80713</td><td>0.778652</td><td>0.80238</td><td>0.89425</td><td>0.927711</td><td>1.159154</td><td>1.094949</td></tr><tr><td>&quot;HOBBIES_1_002_CA_1_evaluation&quot;</td><td>0.301608</td><td>0.337076</td><td>0.30109</td><td>0.29595</td><td>0.351041</td><td>0.404711</td><td>0.380121</td><td>0.224811</td><td>0.2927</td><td>0.307221</td><td>0.290396</td><td>0.361029</td><td>0.403829</td><td>0.398394</td><td>0.328379</td><td>0.325858</td><td>0.296514</td><td>0.300414</td><td>0.358873</td><td>0.405415</td><td>0.415314</td><td>0.328379</td><td>0.321958</td><td>0.3319</td><td>0.328</td><td>0.377666</td><td>0.433479</td><td>0.392115</td></tr><tr><td>&quot;HOBBIES_1_003_CA_1_evaluation&quot;</td><td>0.525617</td><td>0.507423</td><td>0.523173</td><td>0.575457</td><td>0.773517</td><td>0.806967</td><td>0.852567</td><td>0.534406</td><td>0.596685</td><td>0.653209</td><td>0.601299</td><td>0.727181</td><td>0.842056</td><td>0.906656</td><td>0.570054</td><td>0.582903</td><td>0.600682</td><td>0.627493</td><td>0.716215</td><td>0.792254</td><td>0.843897</td><td>0.553248</td><td>0.562246</td><td>0.550727</td><td>0.592842</td><td>0.717597</td><td>0.769499</td><td>0.806967</td></tr><tr><td>&quot;HOBBIES_1_004_CA_1_evaluation&quot;</td><td>1.669314</td><td>1.408619</td><td>1.46908</td><td>1.55035</td><td>1.562228</td><td>2.026032</td><td>2.472441</td><td>1.166942</td><td>1.599797</td><td>1.691126</td><td>1.662757</td><td>1.92003</td><td>2.279371</td><td>2.510155</td><td>1.762801</td><td>1.578394</td><td>1.597008</td><td>1.621594</td><td>1.846485</td><td>2.145817</td><td>2.458724</td><td>1.855348</td><td>1.596231</td><td>1.636001</td><td>1.588729</td><td>1.724641</td><td>2.110413</td><td>2.31892</td></tr><tr><td>&quot;HOBBIES_1_005_CA_1_evaluation&quot;</td><td>1.243967</td><td>1.175488</td><td>1.119334</td><td>1.101344</td><td>1.186044</td><td>1.419581</td><td>1.408517</td><td>0.953076</td><td>1.022751</td><td>1.09324</td><td>1.108721</td><td>1.256097</td><td>1.40743</td><td>1.544462</td><td>1.133089</td><td>1.114874</td><td>1.114592</td><td>1.161211</td><td>1.190928</td><td>1.363148</td><td>1.458089</td><td>1.107447</td><td>1.066974</td><td>1.027533</td><td>1.004561</td><td>1.1528</td><td>1.285675</td><td>1.333709</td></tr><tr><td>&hellip;</td><td>&hellip;</td><td>&hellip;</td><td>&hellip;</td><td>&hellip;</td><td>&hellip;</td><td>&hellip;</td><td>&hellip;</td><td>&hellip;</td><td>&hellip;</td><td>&hellip;</td><td>&hellip;</td><td>&hellip;</td><td>&hellip;</td><td>&hellip;</td><td>&hellip;</td><td>&hellip;</td><td>&hellip;</td><td>&hellip;</td><td>&hellip;</td><td>&hellip;</td><td>&hellip;</td><td>&hellip;</td><td>&hellip;</td><td>&hellip;</td><td>&hellip;</td><td>&hellip;</td><td>&hellip;</td><td>&hellip;</td></tr><tr><td>&quot;FOODS_3_579_WI_3_evaluation&quot;</td><td>0.240898</td><td>0.256534</td><td>0.23278</td><td>0.215711</td><td>0.227391</td><td>0.241789</td><td>0.241789</td><td>0.159824</td><td>0.215166</td><td>0.257338</td><td>0.242633</td><td>0.303502</td><td>0.266146</td><td>0.34995</td><td>0.328606</td><td>0.250371</td><td>0.230068</td><td>0.308539</td><td>0.289797</td><td>0.349088</td><td>0.349088</td><td>0.298956</td><td>0.271631</td><td>0.292644</td><td>0.242351</td><td>0.246009</td><td>0.264338</td><td>0.258524</td></tr><tr><td>&quot;FOODS_3_580_WI_3_evaluation&quot;</td><td>6.80407</td><td>5.391587</td><td>4.988874</td><td>5.805819</td><td>5.531085</td><td>6.623079</td><td>9.018246</td><td>6.10223</td><td>4.628618</td><td>9.278724</td><td>11.11929</td><td>9.949909</td><td>8.079201</td><td>13.477679</td><td>10.683496</td><td>8.373447</td><td>9.313737</td><td>11.042063</td><td>6.592893</td><td>12.691774</td><td>10.939248</td><td>7.593142</td><td>9.59427</td><td>10.841804</td><td>5.633552</td><td>6.039898</td><td>7.073972</td><td>7.313361</td></tr><tr><td>&quot;FOODS_3_581_WI_3_evaluation&quot;</td><td>0.220488</td><td>0.20723</td><td>0.20723</td><td>0.21237</td><td>0.230425</td><td>0.238449</td><td>0.205814</td><td>0.135448</td><td>0.185589</td><td>0.265597</td><td>0.234152</td><td>0.300215</td><td>0.257665</td><td>0.341469</td><td>0.308196</td><td>0.248857</td><td>0.237482</td><td>0.283318</td><td>0.268566</td><td>0.340607</td><td>0.324712</td><td>0.290475</td><td>0.254222</td><td>0.300058</td><td>0.217975</td><td>0.253423</td><td>0.255857</td><td>0.234148</td></tr><tr><td>&quot;FOODS_3_582_WI_3_evaluation&quot;</td><td>2.700242</td><td>2.632899</td><td>2.294907</td><td>2.426135</td><td>2.789663</td><td>3.302588</td><td>3.811948</td><td>2.499263</td><td>2.589231</td><td>2.481936</td><td>2.678291</td><td>3.274891</td><td>3.226891</td><td>4.092828</td><td>2.964795</td><td>2.805928</td><td>2.488012</td><td>2.94113</td><td>2.928715</td><td>3.645687</td><td>4.292225</td><td>2.639021</td><td>2.853514</td><td>2.595108</td><td>2.54386</td><td>2.783921</td><td>3.286068</td><td>3.22004</td></tr><tr><td>&quot;FOODS_3_583_WI_3_evaluation&quot;</td><td>0.809582</td><td>0.771522</td><td>0.70519</td><td>0.766134</td><td>0.817113</td><td>1.122014</td><td>0.979396</td><td>0.634659</td><td>0.807945</td><td>0.809682</td><td>0.76196</td><td>0.908326</td><td>1.055229</td><td>1.051092</td><td>0.843787</td><td>0.81084</td><td>0.783452</td><td>0.817468</td><td>0.833272</td><td>1.033565</td><td>1.070656</td><td>0.823623</td><td>0.793227</td><td>0.816018</td><td>0.75809</td><td>0.831252</td><td>1.009186</td><td>0.930999</td></tr></tbody></table></div>"
      ],
      "text/plain": [
       "shape: (30_490, 29)\n",
       "┌─────────────────┬──────────┬──────────┬──────────┬───┬──────────┬──────────┬──────────┬──────────┐\n",
       "│ id              ┆ F1       ┆ F2       ┆ F3       ┆ … ┆ F25      ┆ F26      ┆ F27      ┆ F28      │\n",
       "│ ---             ┆ ---      ┆ ---      ┆ ---      ┆   ┆ ---      ┆ ---      ┆ ---      ┆ ---      │\n",
       "│ str             ┆ f64      ┆ f64      ┆ f64      ┆   ┆ f64      ┆ f64      ┆ f64      ┆ f64      │\n",
       "╞═════════════════╪══════════╪══════════╪══════════╪═══╪══════════╪══════════╪══════════╪══════════╡\n",
       "│ HOBBIES_1_001_C ┆ 0.833897 ┆ 0.840057 ┆ 0.797003 ┆ … ┆ 0.89425  ┆ 0.927711 ┆ 1.159154 ┆ 1.094949 │\n",
       "│ A_1_evaluation  ┆          ┆          ┆          ┆   ┆          ┆          ┆          ┆          │\n",
       "│ HOBBIES_1_002_C ┆ 0.301608 ┆ 0.337076 ┆ 0.30109  ┆ … ┆ 0.328    ┆ 0.377666 ┆ 0.433479 ┆ 0.392115 │\n",
       "│ A_1_evaluation  ┆          ┆          ┆          ┆   ┆          ┆          ┆          ┆          │\n",
       "│ HOBBIES_1_003_C ┆ 0.525617 ┆ 0.507423 ┆ 0.523173 ┆ … ┆ 0.592842 ┆ 0.717597 ┆ 0.769499 ┆ 0.806967 │\n",
       "│ A_1_evaluation  ┆          ┆          ┆          ┆   ┆          ┆          ┆          ┆          │\n",
       "│ HOBBIES_1_004_C ┆ 1.669314 ┆ 1.408619 ┆ 1.46908  ┆ … ┆ 1.588729 ┆ 1.724641 ┆ 2.110413 ┆ 2.31892  │\n",
       "│ A_1_evaluation  ┆          ┆          ┆          ┆   ┆          ┆          ┆          ┆          │\n",
       "│ HOBBIES_1_005_C ┆ 1.243967 ┆ 1.175488 ┆ 1.119334 ┆ … ┆ 1.004561 ┆ 1.1528   ┆ 1.285675 ┆ 1.333709 │\n",
       "│ A_1_evaluation  ┆          ┆          ┆          ┆   ┆          ┆          ┆          ┆          │\n",
       "│ …               ┆ …        ┆ …        ┆ …        ┆ … ┆ …        ┆ …        ┆ …        ┆ …        │\n",
       "│ FOODS_3_579_WI_ ┆ 0.240898 ┆ 0.256534 ┆ 0.23278  ┆ … ┆ 0.242351 ┆ 0.246009 ┆ 0.264338 ┆ 0.258524 │\n",
       "│ 3_evaluation    ┆          ┆          ┆          ┆   ┆          ┆          ┆          ┆          │\n",
       "│ FOODS_3_580_WI_ ┆ 6.80407  ┆ 5.391587 ┆ 4.988874 ┆ … ┆ 5.633552 ┆ 6.039898 ┆ 7.073972 ┆ 7.313361 │\n",
       "│ 3_evaluation    ┆          ┆          ┆          ┆   ┆          ┆          ┆          ┆          │\n",
       "│ FOODS_3_581_WI_ ┆ 0.220488 ┆ 0.20723  ┆ 0.20723  ┆ … ┆ 0.217975 ┆ 0.253423 ┆ 0.255857 ┆ 0.234148 │\n",
       "│ 3_evaluation    ┆          ┆          ┆          ┆   ┆          ┆          ┆          ┆          │\n",
       "│ FOODS_3_582_WI_ ┆ 2.700242 ┆ 2.632899 ┆ 2.294907 ┆ … ┆ 2.54386  ┆ 2.783921 ┆ 3.286068 ┆ 3.22004  │\n",
       "│ 3_evaluation    ┆          ┆          ┆          ┆   ┆          ┆          ┆          ┆          │\n",
       "│ FOODS_3_583_WI_ ┆ 0.809582 ┆ 0.771522 ┆ 0.70519  ┆ … ┆ 0.75809  ┆ 0.831252 ┆ 1.009186 ┆ 0.930999 │\n",
       "│ 3_evaluation    ┆          ┆          ┆          ┆   ┆          ┆          ┆          ┆          │\n",
       "└─────────────────┴──────────┴──────────┴──────────┴───┴──────────┴──────────┴──────────┴──────────┘"
      ]
     },
     "execution_count": 16,
     "metadata": {},
     "output_type": "execute_result"
    }
   ],
   "source": [
    "wide = preds.pivot(values='LGBMRegressor', index='id', on='date')\n",
    "wide.columns = ['id'] + [f'F{i+1}' for i in range(28)]\n",
    "wide = wide.with_columns(pl.col('id').cast(pl.Utf8))\n",
    "wide"
   ]
  },
  {
   "cell_type": "code",
   "execution_count": null,
   "id": "e499d9f1",
   "metadata": {
    "execution": {
     "iopub.execute_input": "2024-12-06T20:08:32.889351Z",
     "iopub.status.busy": "2024-12-06T20:08:32.888993Z",
     "iopub.status.idle": "2024-12-06T20:08:32.994627Z",
     "shell.execute_reply": "2024-12-06T20:08:32.993802Z"
    },
    "papermill": {
     "duration": 0.115299,
     "end_time": "2024-12-06T20:08:32.997019",
     "exception": false,
     "start_time": "2024-12-06T20:08:32.881720",
     "status": "completed"
    },
    "tags": []
   },
   "outputs": [],
   "source": [
    "subm = pl.concat([wide, wide.with_columns(pl.col('id').str.replace('evaluation', 'validation'))])\n",
    "subm.write_csv('submission.csv')"
   ]
  }
 ],
 "metadata": {
  "kaggle": {
   "accelerator": "none",
   "dataSources": [
    {
     "databundleVersionId": 1236839,
     "sourceId": 18599,
     "sourceType": "competition"
    }
   ],
   "isGpuEnabled": false,
   "isInternetEnabled": true,
   "language": "python",
   "sourceType": "notebook"
  },
  "kernelspec": {
   "display_name": "Python 3",
   "language": "python",
   "name": "python3"
  },
  "language_info": {
   "codemirror_mode": {
    "name": "ipython",
    "version": 3
   },
   "file_extension": ".py",
   "mimetype": "text/x-python",
   "name": "python",
   "nbconvert_exporter": "python",
   "pygments_lexer": "ipython3",
   "version": "3.12.8"
  },
  "papermill": {
   "default_parameters": {},
   "duration": 261.454904,
   "end_time": "2024-12-06T20:08:34.427520",
   "environment_variables": {},
   "exception": null,
   "input_path": "__notebook__.ipynb",
   "output_path": "__notebook__.ipynb",
   "parameters": {},
   "start_time": "2024-12-06T20:04:12.972616",
   "version": "2.6.0"
  }
 },
 "nbformat": 4,
 "nbformat_minor": 5
}
